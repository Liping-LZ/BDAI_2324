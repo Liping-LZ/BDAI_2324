{
  "nbformat": 4,
  "nbformat_minor": 0,
  "metadata": {
    "colab": {
      "provenance": [],
      "collapsed_sections": [
        "gVgwDnoMgFIR",
        "tPM4RliKEVAz",
        "FzBiAzz2WLl6",
        "XYPzHEZvW03_",
        "7LqfESsLNIRN",
        "-d55Ot4KMOZW",
        "LYte7zP_MOZW",
        "3_1TWQGoMOZX",
        "-kQmi8XKPJn8",
        "3GIU9_S0Skz3",
        "Dc9Nymo3Skz4",
        "IyiB5VNRPu6a",
        "E-SvNy6DPu6b",
        "7ohKnNHhP-SD",
        "-CZKNNw8P-SE",
        "KPWT3F2DP-SF",
        "Tp6bd6zaR1mL",
        "0k3NPjlKR1mM",
        "lqidj4Z7SYkn",
        "4hd-ZxdbSYko",
        "8rLBkUsWQJPe",
        "NhEd1gzrQJPh",
        "bVAKmJ5PQJPh",
        "Dgkh5E5DQJPh",
        "V1CgIUdIQJPh",
        "si1NyLbXQJPi",
        "QuMeaVR1QJPi",
        "q-EvKbgARO5j",
        "PF5VUYHlRO5k",
        "3NfKYecsRO5k",
        "0tfnJip-RO5k",
        "JdApuBFuPYfN",
        "nYSfeNoGPYfO",
        "KAwAe21aPYfO",
        "KXCiqKDMPYfO",
        "Ix7iT_pcPYfO",
        "lo55ijlTPYfO"
      ],
      "authorship_tag": "ABX9TyNpBvK4A6r37WRg6a2tu3U/",
      "include_colab_link": true
    },
    "kernelspec": {
      "name": "python3",
      "display_name": "Python 3"
    },
    "language_info": {
      "name": "python"
    }
  },
  "cells": [
    {
      "cell_type": "markdown",
      "metadata": {
        "id": "view-in-github",
        "colab_type": "text"
      },
      "source": [
        "<a href=\"https://colab.research.google.com/github/Liping-LZ/BDAI_2324/blob/main/Python%20Basics/Python_bootcamp.ipynb\" target=\"_parent\"><img src=\"https://colab.research.google.com/assets/colab-badge.svg\" alt=\"Open In Colab\"/></a>"
      ]
    },
    {
      "cell_type": "markdown",
      "source": [
        "# **Welcome**"
      ],
      "metadata": {
        "id": "cd1Iph0_v-IC"
      }
    },
    {
      "cell_type": "markdown",
      "source": [
        "## **Welcome to the Python Bootcamp!**\n",
        "\n",
        "This course is for beginners. Python is a useful skill with many job opportunities. Work hard here to benefit your studies and career.\n",
        "\n",
        "\n",
        "\n",
        "## Why you need to do or not to do this?\n",
        "\n",
        "Just be aware that this tutorial is extra guidance provided to you and this is not compulsory learning material that is required by the upcoming module, that say, no credits for this work. It is all up to your choice upon how you will use this guide.\n",
        "\n",
        "Since we might be using Python in the module to deal with big data processing and big data analytics, I think it is good opportunity for you to have some initial understanding of python coding. However, in the class, you will be given template coding scripts and you will be given full guidance to run the codes even if you do not have the time to complete this bootcamp. It might be easier for you to understand things quicker if you know some Python basics. If you have already learned Python in your previous study or work, then it is not necessary to do this bootcamp since this bootcamp only covers the basics of Python. We will cover further topic (i.e. forecasting, prediction) in class and you will know how to realise different analytics techniques with Python. Please note that Python might not be the only tool to use in the class. We might be introducing the use of Matlab and Excel in class. Also, we will be using Tableau for data visualisation.\n",
        "\n",
        "\n",
        "## Before you start, here are some suggestions for you:\n",
        "\n",
        "\n",
        "### Getting Help\n",
        "\n",
        "If you face problems:\n",
        "\n",
        "*   **Use teams space and contact the tutors**: I will set up a Teams channel for everyone and you can ask your questions in the Teams room. It helps everyone learn and save time.\n",
        "\n",
        "*   **Online Resources**: Use these for self-study and problem-solving:\n",
        "    1. Python Documentation\n",
        "    2. W3Schools\n",
        "    3. Stack Overflow\n",
        "    4. Google's Python Class\n",
        "    5. Microsoft's Python Class\n",
        "\n",
        "*   **Warwick Library's Python Books:** The library has many digital Python books. I suggest:\n",
        "    1. Python Crash Course by Eric Matthes\n",
        "    2. Automate the Boring Stuff with Python by Al Sweigart\n",
        "    3. Think Python by Allen B. Downey\n",
        "\n",
        "These tools will help you succeed in this course and your studies.\n",
        "\n",
        "### Using AI for Study\n",
        "\n",
        "AI can help you learn programming. But use it wisely. AI can give hints and explain hard ideas. Tools like ChatGPT give instant feedback. But don't just copy AI's code. Try to understand it. Use AI to clarify and learn, not just for answers. This will help you become a better programmer.\n",
        "\n",
        "\n",
        "### Good Luck!\n",
        "As you start with Python, I wish you success. Learning takes time. If you've tried the tools mentioned above and still need assistance, please reach out to me via email at liping.zheng.1@warwick.ac.uk. You can also contact my colleague Leonardo at leonardo.alves-dias@warwick.ac.uk. We will be teaching big data modules together and he should be able to help while I am not available to answer your questions."
      ],
      "metadata": {
        "id": "PbZZajuwZng3"
      }
    },
    {
      "cell_type": "markdown",
      "source": [
        "## **Setting Up Your Programming Environment**\n",
        "\n",
        "A programming environment is a space where you write, test, and run your code. Think of it as a workshop where you have all the tools you need to build and test your projects.\n",
        "\n",
        "### Local vs. Online Environments\n",
        "You have two main choices:\n",
        "\n",
        "**Local Environment:** This is set up on your own computer. You'll need to install some software.\n",
        "\n",
        "**Online Environment:** This is hosted on the web. No installations needed. Just open a browser, go to a website, and start coding.\n",
        "\n",
        "\n",
        "### Python Files vs. Python Notebooks\n",
        "\n",
        "You may use two types of Python files:\n",
        "\n",
        "**Python File (.py)**: This is a standard file where you write Python code. It's like a text document but for Python scripts.\n",
        "\n",
        "**Python Notebook (.ipynb)**: This is an interactive document where you can mix text, code, and outputs. It's great for experiments, data analysis, and teaching.\n",
        "\n",
        "\n",
        "### What we will be using in this bootcamp\n",
        "\n",
        "In this bootcamp, we will be using **online environment (Google Colab)** since it is easy to access and not require any complex installation. And we will be using Python notebook since Colab basically is a hosted Jupyter Notebook service that requires no setup to use and provides free access to computing resources, including GPUs and TPUs.\n",
        "\n",
        "In Google Colab, you are writing your codes in notebook, but you are able to download your codes into either tyeps of file (.py or .ipynb). Just click \"File\" on the menu and then move to \"Download\" in the drop-down menu and you should see two options - \"Download .ipynb\" and \"Download .py\". And then you can choose what you want. If you are running your codes through Terminal in your local machine, .py file is usually recommended. Also, if you are building web apps in Python, .py file is also recommended. In most of cases, you can use notebook file directly for coding and saving file.\n",
        "\n",
        "\n",
        "### If you want to run locally, here is the guidance:\n",
        "\n",
        "\n",
        "\n",
        "1.    **Option 1: Installing Anaconda and Python and use Jupyter Notebook**\n",
        "      \n",
        "      We are recommending installl Python through Anaconda distribution. This will simplify the package management and deployment. The distribution includes data-science packages suitable for Windows, Linux, and macOS. This will make it much easier to install and use python and other add-ons.\n",
        "      \n",
        "      Firstly, visit https://www.anaconda.com/download from your browser of choice. The correct version for your operating system (Windows or Mac or Linux) can be selected (if this does not happen automatically) by clicking on the appropriate logo at the top of the page. Irrespective of your operation system, you are suggested to choose graphical installer. For Windows, select the appropriate bit-type for your machine (usually 64-bits), and for Mac select the appropriate one depending on whether you are using Macbook with Intel processor or with Apple silicon (introduced in 2021 or later).\n",
        "      \n",
        "      Once it is downloaded, run the downloaded executable file to start installing. Follow the on-screen instructions and accept the default settings.Once the installation is complete, launch Anaconda Navigator from the Start menu.Here we recommend you use Jupyter Notebook to start coding. Once the Anaconda Navigator is launched, you should be able to see \"Jupyter Notebook\" on the menu. Simply click \"Launch\", you will see a kernel window (terminal window) starts first and then a browser window where you will be able to create folder and file to edit and run codes.\n",
        "\n",
        "      With Anaconda, you can also access other text editor or IDE to edit and run your codes. For example, you can also use VSCode, or PyCharm or Spyder, up to your choice.\n",
        "      \n",
        "\n",
        "2.    **Option 2: Installing Python independently**\n",
        "\n",
        "      1) Go to Python's official website. Download the latest version.\n",
        "\n",
        "      2) Run the installer and follow the prompts.\n",
        "\n",
        "      3) Using a Text Editor with Python\n",
        "      \n",
        "      While installing Python provides you with the essential tools to run and execute scripts, it's highly recommended to use a text editor alongside it.\n",
        "\n",
        "      A text editor is a software application that allows you to write and edit plain text files. Unlike word processors, text editors don't add formatting to text, making them ideal for coding. They often come with features like syntax highlighting, line numbering, and auto-completion, which can significantly enhance your coding experience and efficiency.\n",
        "\n",
        "      Microsoft VSCode (https://code.visualstudio.com/) is one of the recommendations that you can go for. It's free and lightweight. But it has many extensions. You can add tools for almost any coding task. Plus, it works with Python notebooks, making it a viable option for students on either specialism.\n",
        "\n",
        "      You can also use Sublime Text (https://www.sublimetext.com/), which is very easy to use and very lightweight.\n",
        "      \n",
        "### Conclusion\n",
        "\n",
        "In this bootcamp, we will be using Google Colab since it is using cloud resources and not limited by the device you are used and you are not required to go through python installing. If you insist using local environment but somehow cannot get it work, please free to contact me via email at liping.zheng.1@warwick.ac.uk\n",
        "\n",
        "Setting up your environment is the first step in your coding journey. Whether you choose local or online, the key is to find a space where you can comfortably write and test your code.\n",
        "\n",
        "Happy coding!"
      ],
      "metadata": {
        "id": "gVgwDnoMgFIR"
      }
    },
    {
      "cell_type": "markdown",
      "source": [
        "## **Python Learning Materials**\n",
        "\n",
        "Here you'll find a variety of learning material tailored to help you learn effectively. Using mainly interactive Python notebooks, which allow hands-on practice and immediate feedback, making them an excellent way to understand and remember Python concepts.\n",
        "\n",
        "\n",
        "Additionally, recommended reading and videos are available to clarify complex topics, providing you with a well-rounded understanding.\n",
        "\n",
        "\n",
        "There are code exercises to test your skills. Try your best to solve them independently (but you can search on internet if you are not sure about specific syntax or method in python) and then you can check the solutions. Don't give up quickly and just check the solutions in the first place. Find the weak parts and then you can further improve your understanding and skills.\n",
        "\n",
        "\n",
        "These materials are designed for clear understanding, particularly if English is not your first language. Engage with them at your own pace, and enjoy your learning journey!"
      ],
      "metadata": {
        "id": "tPM4RliKEVAz"
      }
    },
    {
      "cell_type": "markdown",
      "source": [
        "# **Intro to Google Colaboratory**<img alt=\"Colaboratory logo\" height=\"45px\" src=\"/img/colab_favicon.ico\" align=\"left\" hspace=\"10px\" vspace=\"0px\">\n",
        "\n",
        "\n",
        "Colaboratory is a free Jupyter notebook environment that requires no setup and runs entirely in the cloud.\n",
        "\n",
        "With Colaboratory you can write and execute code, save and share your analyses, and access powerful computing resources, all for free from your browser."
      ],
      "metadata": {
        "id": "VKV7ObbjUn1N"
      }
    },
    {
      "cell_type": "code",
      "metadata": {
        "id": "oHTd7xQrt-BW",
        "outputId": "1d01d732-05fe-43cb-9ac0-1b045911546c",
        "colab": {
          "base_uri": "https://localhost:8080/",
          "height": 421
        }
      },
      "source": [
        "#@title Introducing Colaboratory { display-mode: \"form\" }\n",
        "#@markdown This 3-minute video gives an overview of the key features of Colaboratory:\n",
        "from IPython.display import YouTubeVideo\n",
        "YouTubeVideo('inN8seMm7UI', width=600, height=400)"
      ],
      "execution_count": null,
      "outputs": [
        {
          "output_type": "execute_result",
          "data": {
            "text/html": [
              "\n",
              "        <iframe\n",
              "            width=\"600\"\n",
              "            height=\"400\"\n",
              "            src=\"https://www.youtube.com/embed/inN8seMm7UI\"\n",
              "            frameborder=\"0\"\n",
              "            allowfullscreen\n",
              "        ></iframe>\n",
              "        "
            ],
            "text/plain": [
              "<IPython.lib.display.YouTubeVideo at 0x7f9917abc7b8>"
            ],
            "image/jpeg": "[encoded data removed]"
          },
          "metadata": {
            "tags": []
          },
          "execution_count": 5
        }
      ]
    },
    {
      "cell_type": "markdown",
      "source": [
        "## About Colab Computing Resources\n",
        "\n",
        "The most powerful feature of google colab is the ability to use cloud GPU for free. Like the other desktop environment you can also access most of the bash command with a ! added in the front of the command.\n",
        "\n",
        "At first turn on the GPU from Runtime->Change Runtime Type->Hardware Acceleration\n",
        "\n",
        "The entire colab runs in a cloud VM.\n",
        "\n",
        "The GPU details can be accessed by !nvidia-smi."
      ],
      "metadata": {
        "id": "FzBiAzz2WLl6"
      }
    },
    {
      "cell_type": "markdown",
      "metadata": {
        "id": "4pA2fSmgwMxr"
      },
      "source": [
        "## Getting Started\n",
        "\n",
        "The document you are reading is a  [Jupyter notebook](https://jupyter.org/), hosted in Colaboratory. It is not a static page, but an interactive environment that lets you write and execute code in Python and other languages.\n",
        "\n",
        "For example, here is a **code cell** with a short Python script that computes a value, stores it in a variable, and prints the result:"
      ]
    },
    {
      "cell_type": "code",
      "metadata": {
        "id": "zB0Ue-JuwPIM",
        "outputId": "696c4bb8-02fa-4e45-e68d-2f0c274181ec",
        "colab": {
          "base_uri": "https://localhost:8080/",
          "height": 35
        }
      },
      "source": [
        "seconds_in_a_day = 24 * 60 * 60\n",
        "seconds_in_a_day"
      ],
      "execution_count": null,
      "outputs": [
        {
          "output_type": "execute_result",
          "data": {
            "text/plain": [
              "86400"
            ]
          },
          "metadata": {
            "tags": []
          },
          "execution_count": 96
        }
      ]
    },
    {
      "cell_type": "code",
      "metadata": {
        "id": "MDfdEdl7Ylg6",
        "colab": {
          "base_uri": "https://localhost:8080/",
          "height": 35
        },
        "outputId": "cbf06a07-6faa-4366-ef56-004c79c6a7e3"
      },
      "source": [
        "var = 1\n",
        "name = 'NTU'\n",
        "print(name)"
      ],
      "execution_count": null,
      "outputs": [
        {
          "output_type": "stream",
          "text": [
            "NTU\n"
          ],
          "name": "stdout"
        }
      ]
    },
    {
      "cell_type": "markdown",
      "metadata": {
        "id": "SsH659SayfJ4"
      },
      "source": [
        "To execute the code in the above cell, select it with a click and then either press the play button to the left of the code, or use the keyboard shortcut \"Command/Ctrl+Enter\".\n",
        "\n",
        "All cells modify the same global state, so variables that you define by executing a cell can be used in other cells:"
      ]
    },
    {
      "cell_type": "code",
      "metadata": {
        "id": "bviL6WmpwUk6",
        "outputId": "e18e51db-aaf1-4695-f380-5057bd39e00d",
        "colab": {
          "base_uri": "https://localhost:8080/",
          "height": 35
        }
      },
      "source": [
        "seconds_in_a_week = 7 * seconds_in_a_day\n",
        "seconds_in_a_week"
      ],
      "execution_count": null,
      "outputs": [
        {
          "output_type": "execute_result",
          "data": {
            "text/plain": [
              "604800"
            ]
          },
          "metadata": {
            "tags": []
          },
          "execution_count": 102
        }
      ]
    },
    {
      "cell_type": "markdown",
      "metadata": {
        "id": "7sC1fIAAyisY"
      },
      "source": [
        "For more information about working with Colaboratory notebooks, see [Overview of Colaboratory](/notebooks/basic_features_overview.ipynb).\n"
      ]
    },
    {
      "cell_type": "markdown",
      "source": [
        "## Important learning resources\n",
        "\n",
        "Learn how to make the most of Python, Jupyter, Colaboratory, and related tools with these resources:\n",
        "\n",
        "### Working with Notebooks in Colaboratory\n",
        "- [Overview of Colaboratory](/notebooks/basic_features_overview.ipynb)  \n",
        "- [Guide to Markdown](/notebooks/markdown_guide.ipynb)\n",
        "- [Importing libraries and installing dependencies](/notebooks/snippets/importing_libraries.ipynb)\n",
        "- [Saving and loading notebooks in GitHub](https://colab.research.google.com/github/googlecolab/colabtools/blob/master/notebooks/colab-github-demo.ipynb)\n",
        "\n",
        "### Working with Data\n",
        "- [Loading data: Drive, Sheets, and Google Cloud Storage](/notebooks/io.ipynb)"
      ],
      "metadata": {
        "id": "XYPzHEZvW03_"
      }
    },
    {
      "cell_type": "markdown",
      "source": [
        "# **01 Writing your first program**"
      ],
      "metadata": {
        "id": "-NdNbMZXwZKd"
      }
    },
    {
      "cell_type": "markdown",
      "source": [
        "## Welcome to Python Programming\n",
        "\n",
        "Python is a powerful, readable programming language. It is simple and clear, making it perfect for beginners."
      ],
      "metadata": {
        "id": "7LqfESsLNIRN"
      }
    },
    {
      "cell_type": "markdown",
      "metadata": {
        "id": "-d55Ot4KMOZW"
      },
      "source": [
        "## Python Programming Language\n",
        "\n",
        "Python is a **high-level**, **interpreted** language. High-level means it is easy to read and write. Interpreted means that you can run the code as soon as you write it, which is great for learning."
      ]
    },
    {
      "cell_type": "markdown",
      "metadata": {
        "id": "MTFSPF_zMOZW"
      },
      "source": [
        "## Python's Simple Syntax\n",
        "\n",
        "The syntax in Python is straightforward and often resembles English language. For example, to display text, we use the `print()` function."
      ]
    },
    {
      "cell_type": "markdown",
      "metadata": {
        "id": "LYte7zP_MOZW"
      },
      "source": [
        "### What is the `print()` function?\n",
        "\n",
        "The `print()` function in Python shows the text or numbers on the screen. It is how we can send messages to someone using the program."
      ]
    },
    {
      "cell_type": "markdown",
      "metadata": {
        "id": "3_1TWQGoMOZX"
      },
      "source": [
        "### Parenthesis around the text\n",
        "\n",
        "We use parenthesis `()` to tell Python we want to use the `print()` function. Inside the parenthesis, we put the text we want to show."
      ]
    },
    {
      "cell_type": "markdown",
      "metadata": {
        "id": "xi2UT5HCMOZX"
      },
      "source": [
        "## Quotation Marks (String Data Type)\n",
        "\n",
        "Text in Python is called a **string**. We put our text inside quotation marks so Python knows where the text begins and ends. We can use single `'` or double `\"` quotation marks.\n",
        "\n",
        "Here is an example:"
      ]
    },
    {
      "cell_type": "code",
      "execution_count": null,
      "metadata": {
        "id": "NFFmAJTzMOZX",
        "colab": {
          "base_uri": "https://localhost:8080/"
        },
        "outputId": "b3b2c4a7-566b-47b2-ae9f-7d667a5dfaa8"
      },
      "outputs": [
        {
          "output_type": "stream",
          "name": "stdout",
          "text": [
            "Welcome to the Python Bootcamp!\n"
          ]
        }
      ],
      "source": [
        "# Example of using print function\n",
        "print(\"Welcome to the Python Bootcamp!\")"
      ]
    },
    {
      "cell_type": "markdown",
      "metadata": {
        "id": "eYtBtw0GMOZY"
      },
      "source": [
        "In this example, \"Welcome to the Python Bootcamp!\" is a string. Python prints it to the screen exactly."
      ]
    },
    {
      "cell_type": "markdown",
      "metadata": {
        "id": "tdZLXrbfMOZY"
      },
      "source": [
        "### Printing numbers without quotation marks\n",
        "\n",
        "When we are dealing with numbers and we want to print them out, we do not need to use quotation marks. Python recognises numbers without them."
      ]
    },
    {
      "cell_type": "code",
      "execution_count": null,
      "metadata": {
        "id": "FxNEvr7RMOZY",
        "colab": {
          "base_uri": "https://localhost:8080/"
        },
        "outputId": "ea24d63c-3278-4293-98fa-7f198871a16e"
      },
      "outputs": [
        {
          "output_type": "stream",
          "name": "stdout",
          "text": [
            "123\n"
          ]
        }
      ],
      "source": [
        "# Example of printing numbers without quotation marks\n",
        "print(123)"
      ]
    },
    {
      "cell_type": "markdown",
      "metadata": {
        "id": "0DOhoda3MOZY"
      },
      "source": [
        "Let's try it. Write your first Python line below:"
      ]
    },
    {
      "cell_type": "code",
      "execution_count": null,
      "metadata": {
        "id": "1NtXgzcOMOZZ",
        "colab": {
          "base_uri": "https://localhost:8080/"
        },
        "outputId": "a5b3a430-9ba9-4df8-ed46-4f6cc203a365"
      },
      "outputs": [
        {
          "output_type": "stream",
          "name": "stdout",
          "text": [
            "Your text here\n"
          ]
        }
      ],
      "source": [
        "# Write your print statement below\n",
        "print(\"Your text here\")"
      ]
    },
    {
      "cell_type": "markdown",
      "metadata": {
        "id": "r95cEwBDMOZZ"
      },
      "source": [
        "Replace `\"Your text here\"` with any text you want to see printed. Remember to keep the text inside the quotation marks!\n",
        "\n",
        "Now, you can run the code to see your message!"
      ]
    },
    {
      "cell_type": "markdown",
      "metadata": {
        "id": "CAcnvKCcMOZZ"
      },
      "source": [
        "Congratulations! You've just written your first Python command."
      ]
    },
    {
      "cell_type": "markdown",
      "metadata": {
        "id": "3NfnZR9PMOZZ"
      },
      "source": [
        "## Python Comments\n",
        "\n",
        "**Comments** are lines that Python doesn't run; they start with `#` and explain code. We'll use them to guide you throughout the bootcamp."
      ]
    },
    {
      "cell_type": "code",
      "execution_count": null,
      "metadata": {
        "id": "FAG5b3cnMOZZ",
        "colab": {
          "base_uri": "https://localhost:8080/"
        },
        "outputId": "a6067100-e34e-4535-f54c-4806c8543925"
      },
      "outputs": [
        {
          "output_type": "stream",
          "name": "stdout",
          "text": [
            "Hello, World!\n"
          ]
        }
      ],
      "source": [
        "# This is a comment to help understand the code below\n",
        "print(\"Hello, World!\")  # Comments can also be inline like this"
      ]
    },
    {
      "cell_type": "markdown",
      "source": [
        "# **02 Inputs and Outputs**"
      ],
      "metadata": {
        "id": "P0rWGazcxFQe"
      }
    },
    {
      "cell_type": "markdown",
      "metadata": {
        "id": "0wXKPOFmPJn7"
      },
      "source": [
        "## What are Inputs and Outputs?\n",
        "\n",
        "In simple terms:\n",
        "\n",
        "- An **Input** is information received by the program.\n",
        "- An **Output** is information provided by the program.\n",
        "\n",
        "Inputs can come from different sources like the user (through a keyboard), a file, a sensor, a network, or another program.\n",
        "\n",
        "Outputs are the responses from a program. It could be text on the screen, saving a file, or sending data over the internet."
      ]
    },
    {
      "cell_type": "markdown",
      "metadata": {
        "id": "-kQmi8XKPJn8"
      },
      "source": [
        "### Input from devices\n",
        "\n",
        "Inputs can also come from various devices connected to the computer:\n",
        "\n",
        "- **Mouse**: Clicks and movements.\n",
        "- **Keyboard**: Typing and key presses.\n",
        "- **Microphone**: Sound and voice commands.\n",
        "- **Camera**: Images and video feed.\n",
        "- **Sensors**: Measurements like temperature, light, or movement.\n",
        "- **Network**: Data from the internet or other computers.\n",
        "\n",
        "For each type of device, Python uses special **libraries** or **modules** to interact with them."
      ]
    },
    {
      "cell_type": "markdown",
      "metadata": {
        "id": "liCFJm6VPJn8"
      },
      "source": [
        "## The `print()` Function\n",
        "One common way to produce output in Python is by using the already familiar `print()` function. It displays the specified message to the screen.\n",
        "\n",
        "For example:"
      ]
    },
    {
      "cell_type": "code",
      "execution_count": null,
      "metadata": {
        "id": "eDJSFEx6PJn9",
        "colab": {
          "base_uri": "https://localhost:8080/"
        },
        "outputId": "64146e47-9617-44d1-efea-260214758cda"
      },
      "outputs": [
        {
          "output_type": "stream",
          "name": "stdout",
          "text": [
            "Hello, World!\n"
          ]
        }
      ],
      "source": [
        "print(\"Hello, World!\")"
      ]
    },
    {
      "cell_type": "markdown",
      "metadata": {
        "id": "wQkJexxoPJn9"
      },
      "source": [
        "## The `input()` Function\n",
        "\n",
        "Python has a `built-in function` called `input()` that allows us to take user input. This function pauses our program and waits for the user to type something. Once the user presses Enter, the function **returns** what was typed as a string.\n",
        "\n",
        "For example:"
      ]
    },
    {
      "cell_type": "code",
      "execution_count": null,
      "metadata": {
        "id": "s6yF1QXNPJn-",
        "colab": {
          "base_uri": "https://localhost:8080/"
        },
        "outputId": "2c4ad954-0590-4f8a-e837-66784dae9e00"
      },
      "outputs": [
        {
          "output_type": "stream",
          "name": "stdout",
          "text": [
            "1\n",
            "1\n"
          ]
        }
      ],
      "source": [
        "repeat = input() # run the code and type in anything you like inside the box and then click \"enter\" in your keyboard\n",
        "print(repeat)"
      ]
    },
    {
      "cell_type": "markdown",
      "metadata": {
        "id": "1xUMTrMhPJn-"
      },
      "source": [
        "This code will recieve an input from the user and then output what the user entered."
      ]
    },
    {
      "cell_type": "markdown",
      "metadata": {
        "id": "VNOE_JEcPJn-"
      },
      "source": [
        "### Points to remember about the `input()` function\n",
        "\n",
        "- The `input()` function always returns a string, even if the user enters numbers.\n",
        "- To use the input as a number, you need to convert it using functions like `int()` or `float()`.\n",
        "- You can provide a prompt string inside the parentheses of `input()` to display a message to the user.\n",
        "\n",
        "Here's an example that takes a number as input and multiplies it by 2:"
      ]
    },
    {
      "cell_type": "code",
      "execution_count": null,
      "metadata": {
        "id": "YpkPPDtmPJn-",
        "colab": {
          "base_uri": "https://localhost:8080/"
        },
        "outputId": "ae6552cd-9ceb-48ba-8713-6da956881bb2"
      },
      "outputs": [
        {
          "output_type": "stream",
          "name": "stdout",
          "text": [
            "Enter a number: 3\n",
            "6\n"
          ]
        }
      ],
      "source": [
        "number = input(\"Enter a number: \") # run the code and type in a number inside the box and then click \"enter\" in your keyboard\n",
        "result = int(number) * 2\n",
        "print(result)"
      ]
    },
    {
      "cell_type": "markdown",
      "source": [
        "# **03 Variables**"
      ],
      "metadata": {
        "id": "8OEaKDWewgQT"
      }
    },
    {
      "cell_type": "markdown",
      "metadata": {
        "id": "yT87wefpNnsk"
      },
      "source": [
        "## Variables in Programming\n",
        "\n",
        "**Variables** in programming are similar to containers that store data. Computers use them to remember values or information. Think of a variable as a box where you can keep something for use later. This box is stored in the computer's **memory**.\n",
        "\n",
        "Here is a simple example:"
      ]
    },
    {
      "cell_type": "code",
      "execution_count": null,
      "metadata": {
        "id": "IcLqi2JvNnsl"
      },
      "outputs": [],
      "source": [
        "greeting = \"Hello, students!\""
      ]
    },
    {
      "cell_type": "markdown",
      "metadata": {
        "id": "Rn29_FBsNnsm"
      },
      "source": [
        "In this line, `greeting` is the variable that now stores the string `\"Hello, students!\"`."
      ]
    },
    {
      "cell_type": "markdown",
      "metadata": {
        "id": "ldQwQKWHNnsm"
      },
      "source": [
        "## How to Create a Variable\n",
        "\n",
        "To create a variable, we just need to choose a name for it and then assign a value to it."
      ]
    },
    {
      "cell_type": "markdown",
      "metadata": {
        "id": "6Pu3Tt_pNnsm"
      },
      "source": [
        "## The Syntax of a Variable\n",
        "\n",
        "The format to write a variable is:\n",
        "\n",
        "`variable_name = value`\n",
        "\n",
        "Here `variable_name` is the name we give to the variable, the `=` is known as the **assignment operator**, and `value` is the information we want to store.\n",
        "\n",
        "For example:"
      ]
    },
    {
      "cell_type": "code",
      "execution_count": null,
      "metadata": {
        "id": "8566hflPNnsm"
      },
      "outputs": [],
      "source": [
        "age = 28"
      ]
    },
    {
      "cell_type": "markdown",
      "metadata": {
        "id": "OUMHqnqWNnsm"
      },
      "source": [
        "## Importance of Variable Names\n",
        "\n",
        "Although the computer doesn't care about how we name our variables, humans do. Code is often read by humans, so it's important to choose variable names that are clear, concise, and descriptive. This helps others understand what your code is doing.\n",
        "\n",
        "For instance:"
      ]
    },
    {
      "cell_type": "code",
      "execution_count": null,
      "metadata": {
        "id": "drZIsHY3Nnsm"
      },
      "outputs": [],
      "source": [
        "user_age = 28  # Good\n",
        "u = 28         # Not descriptive"
      ]
    },
    {
      "cell_type": "markdown",
      "metadata": {
        "id": "wx-AbmNCNnsm"
      },
      "source": [
        "Choosing good variable names is part of writing clean and maintainable code. It's a habit worth developing from the start."
      ]
    },
    {
      "cell_type": "markdown",
      "metadata": {
        "id": "qBJqc6dSNnsn"
      },
      "source": [
        "## Accessing Variables\n",
        "\n",
        "A variable is created by assigning it a value, the variable can be accessed or **called** by simply typing its name. When a variable is called, Python will replace the variable name with the value it holds.\n",
        "\n",
        "Here is a simple example:"
      ]
    },
    {
      "cell_type": "code",
      "execution_count": null,
      "metadata": {
        "id": "Y3TgdCttNnsn",
        "colab": {
          "base_uri": "https://localhost:8080/"
        },
        "outputId": "4ff59091-2b2a-46cf-b0ae-9ce18339f158"
      },
      "outputs": [
        {
          "output_type": "stream",
          "name": "stdout",
          "text": [
            "Alice\n"
          ]
        }
      ],
      "source": [
        "# Create a variable\n",
        "user_name = \"Alice\"\n",
        "\n",
        "# Access the variable\n",
        "print(user_name)"
      ]
    },
    {
      "cell_type": "markdown",
      "metadata": {
        "id": "aqFQkqJJNnsn"
      },
      "source": [
        "When Python runs `print(user_name)`, it sees that `user_name` is a variable holding the value `\"Alice\"`. It then prints out `Alice`."
      ]
    },
    {
      "cell_type": "markdown",
      "metadata": {
        "id": "CNubbl1RNnsn"
      },
      "source": [
        "## Reassigning Variables\n",
        "\n",
        "Variables can change their values. This is called reassigning.\n",
        "\n",
        "See below:"
      ]
    },
    {
      "cell_type": "code",
      "execution_count": null,
      "metadata": {
        "id": "V4LhMO_KNnsn",
        "colab": {
          "base_uri": "https://localhost:8080/"
        },
        "outputId": "ed9f9087-0a60-43b3-e084-9092e37ffe8c"
      },
      "outputs": [
        {
          "output_type": "stream",
          "name": "stdout",
          "text": [
            "Bob\n"
          ]
        }
      ],
      "source": [
        "name = \"Alice\"\n",
        "name = \"Bob\" # Now the value of name has changed from 'Alice' to 'Bob'\n",
        "print(name) # Outputs: Bob"
      ]
    },
    {
      "cell_type": "markdown",
      "metadata": {
        "id": "5qYs12HSNnsn"
      },
      "source": [
        "## Multiple Assignment\n",
        "\n",
        "Python allows assigning multiple variables in a single line.\n",
        "\n",
        "Here is a simple example:"
      ]
    },
    {
      "cell_type": "code",
      "execution_count": null,
      "metadata": {
        "id": "41IrGVglNnsn",
        "colab": {
          "base_uri": "https://localhost:8080/"
        },
        "outputId": "8cfc9679-86df-47f1-8e35-40e69c620cc6"
      },
      "outputs": [
        {
          "output_type": "stream",
          "name": "stdout",
          "text": [
            "Charlie\n",
            "18\n",
            "Canada\n"
          ]
        }
      ],
      "source": [
        "name, age, location = \"Charlie\", 18, \"Canada\"\n",
        "\n",
        "print(name) # Outputs: Charlie\n",
        "print(age) # Outputs: 18\n",
        "print(location) # Outputs: Canada"
      ]
    },
    {
      "cell_type": "markdown",
      "metadata": {
        "id": "PqCKBRQmNnsn"
      },
      "source": [
        "If we need to assign the same value to multiple variables we can do this by:"
      ]
    },
    {
      "cell_type": "code",
      "execution_count": null,
      "metadata": {
        "id": "S9Mu02z3Nnsn",
        "colab": {
          "base_uri": "https://localhost:8080/"
        },
        "outputId": "2d016db8-a653-470b-e805-0a86fcfbf562"
      },
      "outputs": [
        {
          "output_type": "stream",
          "name": "stdout",
          "text": [
            "England\n",
            "England\n",
            "England\n"
          ]
        }
      ],
      "source": [
        "# Assigning the same value to multiple variables\n",
        "alice_location = bob_location = carol_location = \"England\"\n",
        "\n",
        "print(alice_location)\n",
        "print(bob_location)\n",
        "print(carol_location)\n"
      ]
    },
    {
      "cell_type": "markdown",
      "metadata": {
        "id": "7Kg01sOgNnso"
      },
      "source": [
        "It's important to know that after assignment, the variables are independant of each other, any change made to one of the variables will have no affect on the others.\n"
      ]
    },
    {
      "cell_type": "markdown",
      "metadata": {
        "id": "V9XRBs-oNnso"
      },
      "source": [
        "## Constants\n",
        "\n",
        "In programming, a constant is a special type of variable whose value should not be changed. Unlike other programming languages, Python doesn't have an actual constant data type, but it's a convention to use uppercase letters to signify that a variable should be treated as a constant and not be changed."
      ]
    },
    {
      "cell_type": "code",
      "execution_count": null,
      "metadata": {
        "id": "52VCgrOdNnso"
      },
      "outputs": [],
      "source": [
        "# Using uppercase variable names to indiate it is a constant and should not be changed\n",
        "MAX_CONNECTIONS = 10000\n",
        "PI = 3.14159"
      ]
    },
    {
      "cell_type": "markdown",
      "metadata": {
        "id": "VrbEk-PoNnso"
      },
      "source": [
        "## Case Sensitivity in Python\n",
        "\n",
        "Python is case-sensitive, which means that variable names with different casing are considered different variables.\n",
        "\n",
        "For example:"
      ]
    },
    {
      "cell_type": "code",
      "execution_count": null,
      "metadata": {
        "id": "RJ7EE5cfNnso",
        "colab": {
          "base_uri": "https://localhost:8080/"
        },
        "outputId": "1945da86-67c8-49e6-c979-c4c12b89a928"
      },
      "outputs": [
        {
          "output_type": "stream",
          "name": "stdout",
          "text": [
            "5\n",
            "10\n"
          ]
        }
      ],
      "source": [
        "# Case Sensitivity in Python\n",
        "a = 5\n",
        "A = 10\n",
        "\n",
        "print(a)  # Output: 5\n",
        "print(A)  # Output: 10"
      ]
    },
    {
      "cell_type": "markdown",
      "metadata": {
        "id": "FGEmZrGTNnso"
      },
      "source": [
        "In the code above, `a` and `A` are different variables. Changing the value of `a` does not affect `A` and vice versa."
      ]
    },
    {
      "cell_type": "markdown",
      "metadata": {
        "id": "awgsa6mFNnso"
      },
      "source": [
        "## Naming Conventions in Python for Variables\n",
        "\n",
        "### Allowed Names:\n",
        "\n",
        "- Can start with letters (a-z, A-Z) or underscore (_)\n",
        "- Followed by letters, numbers, or underscores\n",
        "\n",
        "### Not Allowed:\n",
        "\n",
        "- Starting with numbers\n",
        "- Containing spaces\n",
        "- Using special symbols like @, #, $, etc.\n",
        "- Using reserved words like `if`, `else`, etc.\n",
        "\n",
        "### Recommended Conventions:\n",
        "\n",
        "- Use lowercase for variable names: `age`, `username`\n",
        "- If a name has multiple words, separate them using underscores: `first_name`, `last_name` this is called to as **snake_case**.\n",
        "- Avoid using just one letter, unless it's common practice for specific operations."
      ]
    },
    {
      "cell_type": "markdown",
      "source": [
        "# **04 Strings**\n",
        "\n",
        "Text is a fundamental part of the data we interact with daily. In Python, we manage text using a data type called a string. As you learn programming, it is essential that you understand how to work with strings."
      ],
      "metadata": {
        "id": "UVCYgRXTw7Jo"
      }
    },
    {
      "cell_type": "markdown",
      "metadata": {
        "id": "w58BL7GROE62"
      },
      "source": [
        "## String Data Type (Recap)\n",
        "\n",
        "Strings are enclosed in quotation marks. We can use either single (`'`) or double (`\"`) quotes, but they must match at the beginning and end of the string.\n",
        "\n",
        "For example:"
      ]
    },
    {
      "cell_type": "code",
      "execution_count": null,
      "metadata": {
        "id": "ZjmXT80xOE62",
        "colab": {
          "base_uri": "https://localhost:8080/"
        },
        "outputId": "5d296fd3-cb1b-4f7b-d5e5-79812a13b438"
      },
      "outputs": [
        {
          "output_type": "stream",
          "name": "stdout",
          "text": [
            "Hello, World!\n",
            "Goodbye, World!\n"
          ]
        }
      ],
      "source": [
        "# A string with double quotes\n",
        "greeting = \"Hello, World!\"\n",
        "\n",
        "# A string with single quotes\n",
        "farewell = 'Goodbye, World!'\n",
        "\n",
        "print(greeting)  # Outputs: Hello, World!\n",
        "print(farewell)  # Outputs: Goodbye, World!"
      ]
    },
    {
      "cell_type": "markdown",
      "metadata": {
        "id": "bDT8It9zOE63"
      },
      "source": [
        "If we start a string with a double quote, we must also end it with a double quote. The same rule applies to single quotes.\n",
        "\n",
        "Failure to do so will result in a `SyntaxError`.\n",
        "\n",
        "If our string contains one type of quote, we can use the other type to enclose the string.\n",
        "\n",
        "Here is a simple example:"
      ]
    },
    {
      "cell_type": "code",
      "execution_count": null,
      "metadata": {
        "id": "SnFNKytGOE63",
        "colab": {
          "base_uri": "https://localhost:8080/"
        },
        "outputId": "994c896b-48c9-4787-9a73-33528f5feff1"
      },
      "outputs": [
        {
          "output_type": "stream",
          "name": "stdout",
          "text": [
            "The moon is beautiful, isn't it?\n",
            "She responded, \"I can die happy.\"\n"
          ]
        }
      ],
      "source": [
        "print(\"The moon is beautiful, isn't it?\") # Using double quotes as string contains '\n",
        "print('She responded, \"I can die happy.\"') # Using single quotes as string contains \""
      ]
    },
    {
      "cell_type": "markdown",
      "metadata": {
        "id": "lPG-JOuLOE63"
      },
      "source": [
        "### Escape characters\n",
        "\n",
        "**Escape characters** let us include special characters in strings that would otherwise be impossible to include.\n",
        "\n",
        "To use an escape character, we precede it with a backslash (`\\`) followed by the character we want to escape.\n",
        "\n",
        "Here are some common escape characters you may use:\n",
        "\n",
        "| Escape Character | Description                  |\n",
        "|------------------|------------------------------|\n",
        "| `\\\\`             | Backslash                    |\n",
        "| `\\'`             | Single quote                 |\n",
        "| `\\\"`             | Double quote                 |\n",
        "| `\\n`             | New line                     |\n",
        "| `\\t`             | Horizontal tab               |\n",
        "\n",
        "We can rewrite the previous code using escape characters:"
      ]
    },
    {
      "cell_type": "code",
      "execution_count": null,
      "metadata": {
        "id": "YUC1BOZMOE63",
        "colab": {
          "base_uri": "https://localhost:8080/"
        },
        "outputId": "2c3b1933-1c54-4890-962f-f1ee3f645090"
      },
      "outputs": [
        {
          "output_type": "stream",
          "name": "stdout",
          "text": [
            "The moon is beautiful, isn't it?\n",
            "She responded, \"I can die happy.\"\n"
          ]
        }
      ],
      "source": [
        "print('The moon is beautiful, isn\\'t it?') # Able to use ' inside a string enclosed in ''\n",
        "print(\"She responded, \\\"I can die happy.\\\"\") # Able to use \" inside a string enclosed in \"\""
      ]
    },
    {
      "cell_type": "markdown",
      "metadata": {
        "id": "oNMyeFooOE64"
      },
      "source": [
        "### Raw strings\n",
        "\n",
        "By prefixing a string with `r` or `R`, we create a **raw string**, which tells Python to ignore all escape characters.\n",
        "\n",
        "Raw strings in Python are particularly useful for handling file paths and directories because they treat backslashes (`\\`) as literal characters. This is especially handy in file paths where the backslash is commonly used (Windows OS).\n",
        "\n",
        "For example:"
      ]
    },
    {
      "cell_type": "code",
      "execution_count": null,
      "metadata": {
        "id": "p8i_8dNgOE64"
      },
      "outputs": [],
      "source": [
        "# Normal string\n",
        "path = \"C:\\\\Users\\\\Username\\\\Documents\\\\File.txt\""
      ]
    },
    {
      "cell_type": "code",
      "execution_count": null,
      "metadata": {
        "id": "FSH_6UfJOE64"
      },
      "outputs": [],
      "source": [
        "# Raw string\n",
        "path = r\"C:\\Users\\Username\\Documents\\File.txt\""
      ]
    },
    {
      "cell_type": "markdown",
      "metadata": {
        "id": "ZmlDv8IyOE64"
      },
      "source": [
        "## String Concatenation\n",
        "\n",
        "**Concatenation** is a fancy word for joining things together. In Python, we can concatenate strings, which means to join them end-to-end to make a new string.\n",
        "\n",
        "For example:"
      ]
    },
    {
      "cell_type": "code",
      "execution_count": null,
      "metadata": {
        "id": "-l9-8R-dOE64",
        "colab": {
          "base_uri": "https://localhost:8080/"
        },
        "outputId": "8a725d18-dc80-4055-9aed-d333a9aa2d5a"
      },
      "outputs": [
        {
          "output_type": "stream",
          "name": "stdout",
          "text": [
            "Hello, Alice\n"
          ]
        }
      ],
      "source": [
        "# Joining two strings together.\n",
        "greeting = \"Hello, \"\n",
        "name = \"Alice\"\n",
        "welcome_message = greeting + name\n",
        "print(welcome_message) # Outputs: Hello, Alice"
      ]
    },
    {
      "cell_type": "markdown",
      "metadata": {
        "id": "N219GPygOE64"
      },
      "source": [
        "We can also \"multiply\" strings, which repeats the string a given number of times.\n",
        "\n",
        "For example:"
      ]
    },
    {
      "cell_type": "code",
      "execution_count": null,
      "metadata": {
        "id": "55SPQaD7OE64",
        "colab": {
          "base_uri": "https://localhost:8080/"
        },
        "outputId": "60211927-d149-4511-a3ff-94b8630883e5"
      },
      "outputs": [
        {
          "output_type": "stream",
          "name": "stdout",
          "text": [
            "Muhahahahaha\n"
          ]
        }
      ],
      "source": [
        "print(\"Mu\" + \"ha\" * 5)"
      ]
    },
    {
      "cell_type": "markdown",
      "metadata": {
        "id": "KoAxDv_cOE65"
      },
      "source": [
        "### Points to remember when concatenating strings\n",
        "\n",
        "String concatenation might seem straightforward, but here are some important tips to remember:\n",
        "\n",
        "1. **Matching Types**: Only strings can be concatenated with other strings directly. If you try to concatenate a number with a string, you will get an error.\n",
        "2. **Converting Numbers**: If you need to concatenate a number with a string, convert the number to a string first using the `str()` function. For example:\n",
        "\n"
      ]
    },
    {
      "cell_type": "code",
      "execution_count": null,
      "metadata": {
        "id": "-pmEV7h8OE65",
        "colab": {
          "base_uri": "https://localhost:8080/"
        },
        "outputId": "6f59a725-5116-4f95-ef5b-27cedb79ae82"
      },
      "outputs": [
        {
          "output_type": "stream",
          "name": "stdout",
          "text": [
            "Bob is 30\n"
          ]
        }
      ],
      "source": [
        "# Convert number to string before concatenation\n",
        "age = 30\n",
        "string_with_number = \"Bob is \" + str(age)\n",
        "print(string_with_number)"
      ]
    },
    {
      "cell_type": "markdown",
      "metadata": {
        "id": "xu_i-3GwOE65"
      },
      "source": [
        "3. **Whitespace**: Python does not automatically add spaces between concatenated strings, so you need to include them yourself."
      ]
    },
    {
      "cell_type": "code",
      "execution_count": null,
      "metadata": {
        "id": "RH72Q0UrOE65",
        "colab": {
          "base_uri": "https://localhost:8080/"
        },
        "outputId": "a522d76b-09ab-4885-8176-3d88b7a33611"
      },
      "outputs": [
        {
          "output_type": "stream",
          "name": "stdout",
          "text": [
            "John Doe\n"
          ]
        }
      ],
      "source": [
        "first_name = \"John\"\n",
        "last_name = \"Doe\"\n",
        "full_name = first_name + \" \" + last_name # Include a space for readability\n",
        "print(full_name) # Outputs: John Doe\n"
      ]
    },
    {
      "cell_type": "markdown",
      "source": [
        "## String Methods\n",
        "\n",
        "Python has a set of built-in methods that you can use on strings."
      ],
      "metadata": {
        "id": "zvki_erTgZu9"
      }
    },
    {
      "cell_type": "markdown",
      "source": [
        "1) The upper() method returns the string in upper case:"
      ],
      "metadata": {
        "id": "DTM6phTFgjW0"
      }
    },
    {
      "cell_type": "code",
      "source": [
        "a = \"Hello, World!\"\n",
        "print(a.upper())"
      ],
      "metadata": {
        "colab": {
          "base_uri": "https://localhost:8080/"
        },
        "id": "AMvna9PDgmei",
        "outputId": "c8a34840-5664-44bb-82bb-e4f864b7f850"
      },
      "execution_count": null,
      "outputs": [
        {
          "output_type": "stream",
          "name": "stdout",
          "text": [
            "HELLO, WORLD!\n"
          ]
        }
      ]
    },
    {
      "cell_type": "markdown",
      "source": [
        "2) The lower() method returns the string in lower case:"
      ],
      "metadata": {
        "id": "oJlGTMb0gsbF"
      }
    },
    {
      "cell_type": "code",
      "source": [
        "b = \"Hello, World!\"\n",
        "print(b.lower())"
      ],
      "metadata": {
        "colab": {
          "base_uri": "https://localhost:8080/"
        },
        "id": "esWDBzFagzd-",
        "outputId": "7aabd874-2b7d-4075-85a8-ced63082e0c7"
      },
      "execution_count": null,
      "outputs": [
        {
          "output_type": "stream",
          "name": "stdout",
          "text": [
            "hello, world!\n"
          ]
        }
      ]
    },
    {
      "cell_type": "markdown",
      "source": [
        "3) The strip() method removes any whitespace from the beginning or the end:"
      ],
      "metadata": {
        "id": "qp6O8LU2g9PF"
      }
    },
    {
      "cell_type": "code",
      "source": [
        "c = \"Hello, World!  \"\n",
        "print(c.strip())"
      ],
      "metadata": {
        "colab": {
          "base_uri": "https://localhost:8080/"
        },
        "id": "3S6ZvQmVg-UV",
        "outputId": "42df613f-7c6a-4511-d8e1-4dee350c76f3"
      },
      "execution_count": null,
      "outputs": [
        {
          "output_type": "stream",
          "name": "stdout",
          "text": [
            "Hello, World!\n"
          ]
        }
      ]
    },
    {
      "cell_type": "markdown",
      "source": [
        "4) The replace() method replaces a string with another string:"
      ],
      "metadata": {
        "id": "CN5mxNdshLGB"
      }
    },
    {
      "cell_type": "code",
      "source": [
        "d = \"Hello, World!\"\n",
        "print(d.replace(\"H\",\"J\")) # replace letter H to letter J"
      ],
      "metadata": {
        "colab": {
          "base_uri": "https://localhost:8080/"
        },
        "id": "QVowG4A_hMjl",
        "outputId": "08f6c735-be96-45c9-fbbc-2cd1ef2bc467"
      },
      "execution_count": null,
      "outputs": [
        {
          "output_type": "stream",
          "name": "stdout",
          "text": [
            "Jello, World!\n"
          ]
        }
      ]
    },
    {
      "cell_type": "markdown",
      "source": [
        "5) The split() method returns a list where the text between the specified separator becomes the list items:"
      ],
      "metadata": {
        "id": "VI6tyck8hY1q"
      }
    },
    {
      "cell_type": "code",
      "source": [
        "e = \"Hello, World!\"\n",
        "print(e.split(\",\")) # split the string by separator \",\""
      ],
      "metadata": {
        "colab": {
          "base_uri": "https://localhost:8080/"
        },
        "id": "9_jF_HrghdfH",
        "outputId": "1e90bb08-cf16-4cd7-fae2-e5a803e1baa0"
      },
      "execution_count": null,
      "outputs": [
        {
          "output_type": "stream",
          "name": "stdout",
          "text": [
            "['Hello', ' World!']\n"
          ]
        }
      ]
    },
    {
      "cell_type": "markdown",
      "source": [
        "6) The count() to count the occurence of a character in string"
      ],
      "metadata": {
        "id": "aKP-IdbHii1-"
      }
    },
    {
      "cell_type": "code",
      "source": [
        "f = \"Hello, World!\"\n",
        "print(f.count('o')) # count how many \"o\" in string f"
      ],
      "metadata": {
        "colab": {
          "base_uri": "https://localhost:8080/"
        },
        "id": "w2K_LrEqkPG6",
        "outputId": "3e0d8342-ae34-4a23-d0f8-3a9794998cf7"
      },
      "execution_count": null,
      "outputs": [
        {
          "output_type": "stream",
          "name": "stdout",
          "text": [
            "2\n"
          ]
        }
      ]
    },
    {
      "cell_type": "markdown",
      "source": [
        "# **05 String Formatting**"
      ],
      "metadata": {
        "id": "ldDsUFx-Ywrw"
      }
    },
    {
      "cell_type": "markdown",
      "metadata": {
        "id": "3GIU9_S0Skz3"
      },
      "source": [
        "## What is String Formatting?\n",
        "\n",
        "String formatting is the process of inserting variables into a string. Instead of adding strings together to create a message, we place placeholders inside the string and fill them with variable values."
      ]
    },
    {
      "cell_type": "markdown",
      "metadata": {
        "id": "Dc9Nymo3Skz4"
      },
      "source": [
        "## Why Format Strings?\n",
        "\n",
        "Formatting is important because it lets us create dynamic and easy-to-read messages. It's cleaner than concatenation (joining strings together with `+`) and more powerful, allowing for complex substitutions and formatting options."
      ]
    },
    {
      "cell_type": "markdown",
      "metadata": {
        "id": "sygzZzlwSkz4"
      },
      "source": [
        "## The `.format()` Method\n",
        "\n",
        "The `.format()` method inserts the values of variables into a string. We use curly braces `{}` as placeholders where we want each variable to go."
      ]
    },
    {
      "cell_type": "code",
      "execution_count": null,
      "metadata": {
        "id": "CS5uB1TsSkz4",
        "colab": {
          "base_uri": "https://localhost:8080/"
        },
        "outputId": "34369571-33a2-42d1-fc03-d10a10a4f82c"
      },
      "outputs": [
        {
          "output_type": "stream",
          "name": "stdout",
          "text": [
            "Re:Zero is my second favourite light novel series.\n"
          ]
        }
      ],
      "source": [
        "series = \"Re:Zero\"\n",
        "medium = \"light novel\"\n",
        "\n",
        "message = \"{} is my second favourite {} series.\"\n",
        "print(message.format(series, medium))"
      ]
    },
    {
      "cell_type": "markdown",
      "metadata": {
        "id": "HWZ8csUSSkz5"
      },
      "source": [
        "Each `{}` gets replaced by the corresponding value passed in the `.format()` method, in order."
      ]
    },
    {
      "cell_type": "markdown",
      "metadata": {
        "id": "tcgdFU5xSkz5"
      },
      "source": [
        "### Using Index Numbers\n",
        "\n",
        "We can also use index numbers inside the curly braces to refer to the position of the variables we want to insert."
      ]
    },
    {
      "cell_type": "code",
      "execution_count": null,
      "metadata": {
        "id": "rqHFdyjASkz5",
        "colab": {
          "base_uri": "https://localhost:8080/"
        },
        "outputId": "98789584-0066-4f5f-bb9e-f1db2e43d849"
      },
      "outputs": [
        {
          "output_type": "stream",
          "name": "stdout",
          "text": [
            "The moon is bright. The moon is beautiful, isn't it?\n"
          ]
        }
      ],
      "source": [
        "message = \"The {0} is {1}. The {0} is {2}, isn't it?\"\n",
        "print(message.format(\"moon\", \"bright\", \"beautiful\"))"
      ]
    },
    {
      "cell_type": "markdown",
      "metadata": {
        "id": "1H-JfloLSkz5"
      },
      "source": [
        "### Formatting with Different Data Types\n",
        "\n",
        "String formatting is not limited to strings. We can insert any data type into a string, including numbers, booleans, and even objects. When we do this, Python converts them to strings implicitly."
      ]
    },
    {
      "cell_type": "markdown",
      "metadata": {
        "id": "htyrhoCfSkz5"
      },
      "source": [
        "#### Formatting Numbers\n",
        "\n",
        "We can format numeric values like integers and floats within a string."
      ]
    },
    {
      "cell_type": "code",
      "execution_count": null,
      "metadata": {
        "id": "B9403XeASkz5",
        "colab": {
          "base_uri": "https://localhost:8080/"
        },
        "outputId": "47d91033-b72b-4ba9-ef1c-4a1186affe6a"
      },
      "outputs": [
        {
          "output_type": "stream",
          "name": "stdout",
          "text": [
            "Age: 28, Height: 190.5cm\n"
          ]
        }
      ],
      "source": [
        "age = 28\n",
        "height = 190.5\n",
        "info = \"Age: {}, Height: {}cm\"\n",
        "print(info.format(age, height))"
      ]
    },
    {
      "cell_type": "markdown",
      "metadata": {
        "id": "WMJlTJ4FSkz6"
      },
      "source": [
        "#### Formatting Booleans\n",
        "\n",
        "Boolean values (True and False) can also be formatted as strings."
      ]
    },
    {
      "cell_type": "code",
      "execution_count": null,
      "metadata": {
        "id": "s0LB_ZYbSkz6",
        "colab": {
          "base_uri": "https://localhost:8080/"
        },
        "outputId": "7dfb6282-2621-489c-c6a1-bdffd155f057"
      },
      "outputs": [
        {
          "output_type": "stream",
          "name": "stdout",
          "text": [
            "Staff? True\n"
          ]
        }
      ],
      "source": [
        "is_staff = True\n",
        "status = \"Staff? {}\"\n",
        "print(status.format(is_staff))"
      ]
    },
    {
      "cell_type": "markdown",
      "metadata": {
        "id": "KsqSWyhwSkz6"
      },
      "source": [
        "## f-strings\n",
        "\n",
        "F-strings, introduced in Python 3.6, allow you to embed expressions inside string literals using curly braces. To use an f-string, simply place `f` before the opening quotation mark of your string.\n",
        "\n",
        "\n"
      ]
    },
    {
      "cell_type": "code",
      "execution_count": null,
      "metadata": {
        "id": "tIWOUJNzSkz6",
        "colab": {
          "base_uri": "https://localhost:8080/"
        },
        "outputId": "68acd35b-494f-487d-ad97-9a19874cf914"
      },
      "outputs": [
        {
          "output_type": "stream",
          "name": "stdout",
          "text": [
            "Enter name: liping\n",
            "Hi, liping! Are you enjoying learning Python?\n"
          ]
        }
      ],
      "source": [
        "name = input(\"Enter name: \")\n",
        "activity = \"learning Python\"\n",
        "message = f\"Hi, {name}! Are you enjoying {activity}?\"\n",
        "print(message)"
      ]
    },
    {
      "cell_type": "markdown",
      "metadata": {
        "id": "_QBk_F1mSkz6"
      },
      "source": [
        "### Including Expressions\n",
        "\n",
        "With f-strings, we can include whole expressions that get evaluated at runtime."
      ]
    },
    {
      "cell_type": "code",
      "execution_count": null,
      "metadata": {
        "id": "mRn-veoRSkz6",
        "colab": {
          "base_uri": "https://localhost:8080/"
        },
        "outputId": "0a5e6380-551f-472f-f9f3-cd0cad352d2b"
      },
      "outputs": [
        {
          "output_type": "stream",
          "name": "stdout",
          "text": [
            "You've been coding for 240 minutes.\n"
          ]
        }
      ],
      "source": [
        "hours = 4\n",
        "report = f\"You've been coding for {hours * 60} minutes.\"\n",
        "print(report)\n"
      ]
    },
    {
      "cell_type": "markdown",
      "metadata": {
        "id": "AyrG1w4-Skz6"
      },
      "source": [
        "We can also perform calculations or call functions directly:"
      ]
    },
    {
      "cell_type": "code",
      "execution_count": null,
      "metadata": {
        "id": "7xRb-wbeSkz6",
        "colab": {
          "base_uri": "https://localhost:8080/"
        },
        "outputId": "e8d9a29f-cebe-4e62-ef3f-0544ea297c4a"
      },
      "outputs": [
        {
          "output_type": "stream",
          "name": "stdout",
          "text": [
            "Enter your name: liping\n",
            "Hello, liping!\n"
          ]
        }
      ],
      "source": [
        "print(f\"Hello, {input('Enter your name: ')}!\")"
      ]
    },
    {
      "cell_type": "markdown",
      "source": [
        "# **06 Numbers**\n",
        "\n",
        "Python can handle various types of numbers, but as beginners, we will focus on two basic kinds:\n",
        "\n",
        "- **Integers**: Whole numbers that can be positive or negative. Examples include `-1`, `0`, `42`.\n",
        "- **Floating Points (Floats)**: Numbers with a decimal point, and like integers, they can also be positive or negative. Examples include `-3.14`, `0.0`, `2.7182`."
      ],
      "metadata": {
        "id": "pekgnPr9xBov"
      }
    },
    {
      "cell_type": "markdown",
      "metadata": {
        "id": "lrYfYujJOi2W"
      },
      "source": [
        "## Numbers vs. Strings\n",
        "\n",
        "Remember, numbers do not have quotation marks around them. When you use quotation marks, Python treats the content as text, which is known as a string."
      ]
    },
    {
      "cell_type": "code",
      "execution_count": null,
      "metadata": {
        "id": "ws2X-07aOi2W",
        "colab": {
          "base_uri": "https://localhost:8080/"
        },
        "outputId": "1fd7e028-c9cf-4ccd-d23f-8941cd419302"
      },
      "outputs": [
        {
          "output_type": "stream",
          "name": "stdout",
          "text": [
            "123\n",
            "123\n"
          ]
        }
      ],
      "source": [
        "# Number without quotation marks\n",
        "print(123)  # This will be treated as an number (integer)\n",
        "\n",
        "# Text with quotation marks\n",
        "print(\"123\")  # This will be treated as text (string)\n"
      ]
    },
    {
      "cell_type": "markdown",
      "metadata": {
        "id": "-OuPQ3WKOi2X"
      },
      "source": [
        "## Numbers in Variables\n",
        "\n",
        "Just as with printing, when we store numbers in variables, we do not use quotation marks."
      ]
    },
    {
      "cell_type": "code",
      "execution_count": null,
      "metadata": {
        "id": "4tpMVzdoOi2X",
        "colab": {
          "base_uri": "https://localhost:8080/"
        },
        "outputId": "17bee784-5627-4ce8-a56e-0a23ce218151"
      },
      "outputs": [
        {
          "output_type": "stream",
          "name": "stdout",
          "text": [
            "30\n",
            "-4.5\n"
          ]
        }
      ],
      "source": [
        "# Storing a positive integer\n",
        "quantity = 30\n",
        "\n",
        "# Storing a negative float\n",
        "temperature = -4.5\n",
        "\n",
        "# Printing variables\n",
        "print(quantity)\n",
        "print(temperature)"
      ]
    },
    {
      "cell_type": "markdown",
      "metadata": {
        "id": "B_6id8AMOi2Y"
      },
      "source": [
        "## Basic Arithmetic Operations\n",
        "\n",
        "Python supports several arithmetic operations.\n",
        "\n",
        "Here are the basics:\n",
        "\n",
        "| Operator | Name              | Description                                   |\n",
        "|----------|-------------------|-----------------------------------------------|\n",
        "| `+`      | Addition          | Adds two operands.                            |\n",
        "| `-`      | Subtraction       | Subtracts the right operand from the left.    |\n",
        "| `*`      | Multiplication    | Multiplies two operands.                      |\n",
        "| `/`      | Division          | Divides the left operand by the right.        |\n",
        "| `%`      | Modulus           | Divides left operand by the right and returns the remainder. |\n",
        "| `**`     | Exponentiation    | Raises the left operand to the power of the right. |\n",
        "| `//`     | Floor division    | Divides and returns the largest integer result that is less than or equal to the actual result. |\n"
      ]
    },
    {
      "cell_type": "code",
      "execution_count": null,
      "metadata": {
        "id": "vN_MvjhAOi2Y",
        "colab": {
          "base_uri": "https://localhost:8080/"
        },
        "outputId": "550c076b-08d5-4bf8-c22d-e1cc9f0e6ea4"
      },
      "outputs": [
        {
          "output_type": "stream",
          "name": "stdout",
          "text": [
            "5\n"
          ]
        }
      ],
      "source": [
        "# Addition\n",
        "print(3 + 2)  # Outputs: 5"
      ]
    },
    {
      "cell_type": "code",
      "execution_count": null,
      "metadata": {
        "id": "M_1AwveDOi2Y",
        "colab": {
          "base_uri": "https://localhost:8080/"
        },
        "outputId": "751ca630-10a1-4180-9e1a-735f2b8a3be6"
      },
      "outputs": [
        {
          "output_type": "stream",
          "name": "stdout",
          "text": [
            "1\n"
          ]
        }
      ],
      "source": [
        "# Subtraction\n",
        "print(3 - 2) # Outputs: 1"
      ]
    },
    {
      "cell_type": "code",
      "execution_count": null,
      "metadata": {
        "id": "Crphre_xOi2Y",
        "colab": {
          "base_uri": "https://localhost:8080/"
        },
        "outputId": "98807e6e-6ffc-476a-d916-c43cdfbb55f0"
      },
      "outputs": [
        {
          "output_type": "stream",
          "name": "stdout",
          "text": [
            "6\n"
          ]
        }
      ],
      "source": [
        "# Multiplication\n",
        "print(3 * 2) # Outputs: 6"
      ]
    },
    {
      "cell_type": "code",
      "execution_count": null,
      "metadata": {
        "id": "CgPTLz5QOi2Y"
      },
      "outputs": [],
      "source": [
        "# Division\n",
        "print(4 / 2) # Outputs: 2.0"
      ]
    },
    {
      "cell_type": "code",
      "execution_count": null,
      "metadata": {
        "id": "h9CJR6BtOi2Y",
        "colab": {
          "base_uri": "https://localhost:8080/"
        },
        "outputId": "de5e10dc-1fae-4244-f9b7-9971df470d0f"
      },
      "outputs": [
        {
          "output_type": "stream",
          "name": "stdout",
          "text": [
            "1\n"
          ]
        }
      ],
      "source": [
        "# Modulus\n",
        "print(5 % 2) # Outputs: 1"
      ]
    },
    {
      "cell_type": "code",
      "execution_count": null,
      "metadata": {
        "id": "APKDKDR-Oi2Y",
        "colab": {
          "base_uri": "https://localhost:8080/"
        },
        "outputId": "a8933b18-d23a-43b8-f3dc-696ba3e65f3d"
      },
      "outputs": [
        {
          "output_type": "stream",
          "name": "stdout",
          "text": [
            "9\n"
          ]
        }
      ],
      "source": [
        "# Exponentiation\n",
        "print(3 ** 2)  # Outputs: 9"
      ]
    },
    {
      "cell_type": "code",
      "execution_count": null,
      "metadata": {
        "id": "dnX2oNA6Oi2Z",
        "colab": {
          "base_uri": "https://localhost:8080/"
        },
        "outputId": "ddb35cde-0228-4a0f-af29-ff724dccb40c"
      },
      "outputs": [
        {
          "output_type": "stream",
          "name": "stdout",
          "text": [
            "2\n"
          ]
        }
      ],
      "source": [
        "# Floor division\n",
        "print(5 // 2)  # Outputs: 2"
      ]
    },
    {
      "cell_type": "markdown",
      "metadata": {
        "id": "G3ju5Xv4Oi2Z"
      },
      "source": [
        "Understanding basic math operations is highly beneficial throughout your Python journey, as it enables you to tackle tasks such as:\n",
        "- Finding averages or sums from data.\n",
        "- Measuring sizes or areas in simulations.\n",
        "- Comparing values to make decisions.\n",
        "- Handling money, tax, and interest.\n",
        "- Working with dates and times."
      ]
    },
    {
      "cell_type": "markdown",
      "metadata": {
        "id": "zVy1ZHgDOi2Z"
      },
      "source": [
        "## Storing Results of Operations in Variables\n",
        "\n",
        "In Python, we can perform operations like addition, subtraction, multiplication, and division. The result of these operations can be stored in variables for future use.\n",
        "\n",
        "Here is a simple example:"
      ]
    },
    {
      "cell_type": "code",
      "execution_count": null,
      "metadata": {
        "id": "5r6pCSNvOi2Z",
        "colab": {
          "base_uri": "https://localhost:8080/"
        },
        "outputId": "f99b585c-75f9-4cc5-c607-d94ccecc3c48"
      },
      "outputs": [
        {
          "output_type": "stream",
          "name": "stdout",
          "text": [
            "15\n"
          ]
        }
      ],
      "source": [
        "# Perform an addition and store the result\n",
        "sum = 10 + 5\n",
        "print(sum) # Outputs: 15"
      ]
    },
    {
      "cell_type": "markdown",
      "metadata": {
        "id": "GMIq_LkYOi2Z"
      },
      "source": [
        "## Order of Operations\n",
        "\n",
        "Just like in standard math, Python follows a specific order when evaluating arithmetic expressions. This is often remembered by the acronym PEMDAS or similar:\n",
        "\n",
        "- **P**arentheses: `( )`\n",
        "- **E**xponents: `**`\n",
        "- **M**ultiplication and **D**ivision: `*`, `/`, `%`, and `//` (from left to right)\n",
        "- **A**ddition and **S**ubtraction: `+` and `-` (from left to right)\n",
        "\n",
        "Let's demonstrate using an example where we're coding a video game that calculates the player's score by adding the number of kills to the time they've been alive and then tripling this sum.\n",
        "\n",
        "Here is the code:"
      ]
    },
    {
      "cell_type": "code",
      "execution_count": null,
      "metadata": {
        "id": "RDSgsFptOi2Z",
        "colab": {
          "base_uri": "https://localhost:8080/"
        },
        "outputId": "daded384-6b64-42ab-f439-d48114bbe885"
      },
      "outputs": [
        {
          "output_type": "stream",
          "name": "stdout",
          "text": [
            "240\n"
          ]
        }
      ],
      "source": [
        "kills = 20\n",
        "time = 60\n",
        "final_score = (kills + time) * 3\n",
        "print(final_score) # Correct: Outputs 240"
      ]
    },
    {
      "cell_type": "markdown",
      "metadata": {
        "id": "FN9hVyI0Oi2Z"
      },
      "source": [
        "Without brackets, multiplication has precedence over addition, leading to an incorrect score.\n",
        "\n",
        "See below:"
      ]
    },
    {
      "cell_type": "code",
      "execution_count": null,
      "metadata": {
        "id": "rmj8dV4zOi2Z",
        "colab": {
          "base_uri": "https://localhost:8080/"
        },
        "outputId": "e0559674-9317-46f9-de16-51ba46ab9406"
      },
      "outputs": [
        {
          "output_type": "stream",
          "name": "stdout",
          "text": [
            "200\n"
          ]
        }
      ],
      "source": [
        "kills = 20\n",
        "time = 60\n",
        "final_score = kills + time * 3\n",
        "print(final_score)  # Incorrect: Outputs 200\n"
      ]
    },
    {
      "cell_type": "markdown",
      "metadata": {
        "id": "3q-8WIl8Oi2Z"
      },
      "source": [
        "## Different Behaviors with Different Data Types\n",
        "\n",
        "In Python, the plus (`+`) operator works differently depending on the data type of the objects we are using.\n",
        "\n",
        "- With **strings**, + concatenates them.\n",
        "- With **numbers**, + adds them.\n",
        "\n",
        "Remember, anything inside quotation marks in Python is treated as a string. This means we can't perform mathematical operations on them like we would with numbers."
      ]
    },
    {
      "cell_type": "code",
      "execution_count": null,
      "metadata": {
        "id": "BNGthz6nOi2Z",
        "colab": {
          "base_uri": "https://localhost:8080/"
        },
        "outputId": "32ea3117-86b8-4c3b-85b3-91cfdf2f54dc"
      },
      "outputs": [
        {
          "output_type": "stream",
          "name": "stdout",
          "text": [
            "777\n"
          ]
        }
      ],
      "source": [
        "# This is string concatenation, not addition.\n",
        "string_numbers = \"7\" + \"7\" + \"7\"\n",
        "print(string_numbers)  # Outputs: 777\n"
      ]
    },
    {
      "cell_type": "markdown",
      "metadata": {
        "id": "pIsk2LEeOi2Z"
      },
      "source": [
        "Understanding how Python treats different data types will help you avoid errors and make your programming journey smoother."
      ]
    },
    {
      "cell_type": "markdown",
      "source": [
        "# **07 Data Types**"
      ],
      "metadata": {
        "id": "Uktob88o1VH0"
      }
    },
    {
      "cell_type": "markdown",
      "metadata": {
        "id": "IyiB5VNRPu6a"
      },
      "source": [
        "## Data Types (Recap)\n",
        "\n",
        "In Python, every value has a data type. A data type is like a category for data that tells Python what kind of value we are working with. The data types we have already covered include:\n",
        "\n",
        "- **int**: for whole numbers, like `1`, `100`, or `-5`.\n",
        "- **float**: for decimal or floating-point numbers, like `3.14` or `-0.001`.\n",
        "- **str**: for text, known as strings, like `\"hello\"` or `\"data\"`."
      ]
    },
    {
      "cell_type": "markdown",
      "metadata": {
        "id": "E-SvNy6DPu6b"
      },
      "source": [
        "## Why Data Types are Important\n",
        "\n",
        "Data types are important because they:\n",
        "\n",
        "1. Help Python understand what you want to do with the data.\n",
        "2. Ensure operations on data are done correctly.\n",
        "3. **Avoid data loss** – for example, not losing the decimal part in calculations.\n",
        "4. **Prevent data corruption** – like mixing text with numbers unintentionally."
      ]
    },
    {
      "cell_type": "markdown",
      "metadata": {
        "id": "rTZHswkPPu6b"
      },
      "source": [
        "## Checking Data Types in Python\n",
        "\n",
        "### The `type()` function\n",
        "\n",
        "To find out the data type of a value in Python, we use the `type()` function. Here’s how it works:"
      ]
    },
    {
      "cell_type": "code",
      "execution_count": null,
      "metadata": {
        "id": "6AfT-eGKPu6b",
        "colab": {
          "base_uri": "https://localhost:8080/"
        },
        "outputId": "9f471c32-9329-4343-f2c6-c582555dd624"
      },
      "outputs": [
        {
          "output_type": "stream",
          "name": "stdout",
          "text": [
            "<class 'int'>\n",
            "<class 'float'>\n",
            "<class 'str'>\n"
          ]
        }
      ],
      "source": [
        "# Checking the type of 10, which is an integer.\n",
        "print(type(10))  # Output: <class 'int'>\n",
        "\n",
        "# Checking the type of 10.5, which is a float.\n",
        "print(type(10.5))  # Output: <class 'float'>\n",
        "\n",
        "# Checking the type of \"Python\", which is a string.\n",
        "print(type(\"Python\"))  # Output: <class 'str'>"
      ]
    },
    {
      "cell_type": "markdown",
      "metadata": {
        "id": "JlpZzfXkPu6c"
      },
      "source": [
        "## Data Conversion in Python\n",
        "\n",
        "When we collect data, it may not always be in the format we need. For example, numbers might come as text, or we might need to display numbers in a message. Python makes it easy for us to convert data from one type to another."
      ]
    },
    {
      "cell_type": "markdown",
      "metadata": {
        "id": "TCXc_FvcPu6c"
      },
      "source": [
        "### The `input()` function\n",
        "\n",
        "As we already know, when we use the `input()` function to collect data from a user, Python treats the input as a string, even if the user enters numbers.\n",
        "\n",
        "See below:"
      ]
    },
    {
      "cell_type": "code",
      "execution_count": null,
      "metadata": {
        "id": "Sk6zW4pQPu6d",
        "colab": {
          "base_uri": "https://localhost:8080/"
        },
        "outputId": "61dc547e-593f-49df-817d-809990278c19"
      },
      "outputs": [
        {
          "output_type": "stream",
          "name": "stdout",
          "text": [
            "Enter your age: 27\n",
            "<class 'str'>\n"
          ]
        }
      ],
      "source": [
        "# Collecting input from the user\n",
        "user_age = input(\"Enter your age: \")\n",
        "print(type(user_age))  # Output: <class 'str'>"
      ]
    },
    {
      "cell_type": "markdown",
      "metadata": {
        "id": "7rC4aX9oPu6d"
      },
      "source": [
        "Even if the user types `28` for example, `user_age` will be a string `\"28\"`, not a number."
      ]
    },
    {
      "cell_type": "markdown",
      "metadata": {
        "id": "L4nqV8naPu6d"
      },
      "source": [
        "## Converting Data Types\n",
        "\n",
        "Sometimes we need to convert the data from one type to another—this is known as type conversion."
      ]
    },
    {
      "cell_type": "markdown",
      "metadata": {
        "id": "rc7Urxf6Pu6d"
      },
      "source": [
        "### Converting strings to integers with `int()`\n",
        "\n",
        "If we have a number in a string and we need to do math with it, we'll need to convert it to an integer using the built-in `int()` function.\n",
        "\n",
        "Heres an example:"
      ]
    },
    {
      "cell_type": "code",
      "execution_count": null,
      "metadata": {
        "id": "fj_XBALJPu6d",
        "colab": {
          "base_uri": "https://localhost:8080/"
        },
        "outputId": "67cbce27-a147-4012-a3a2-9238f0610c91"
      },
      "outputs": [
        {
          "output_type": "stream",
          "name": "stdout",
          "text": [
            "<class 'str'>\n",
            "<class 'int'>\n"
          ]
        }
      ],
      "source": [
        "age = \"28\"  # age is a string\n",
        "print(type(age))  # Output: <class 'str'>\n",
        "age = int(age)  # Now age is an integer\n",
        "print(type(age))  # Output: <class 'int'>"
      ]
    },
    {
      "cell_type": "markdown",
      "metadata": {
        "id": "Q04muYNrPu6d"
      },
      "source": [
        "### Converting strings to floats with `float()`\n",
        "\n",
        "For decimal numbers in a string, use `float()` to convert them into a float.\n"
      ]
    },
    {
      "cell_type": "code",
      "execution_count": null,
      "metadata": {
        "id": "WuMFxqdvPu6d",
        "colab": {
          "base_uri": "https://localhost:8080/"
        },
        "outputId": "b1dc665f-3bad-4d29-a414-464aae8cd95c"
      },
      "outputs": [
        {
          "output_type": "stream",
          "name": "stdout",
          "text": [
            "<class 'float'>\n"
          ]
        }
      ],
      "source": [
        "height = \"1.75\"  # height is a string\n",
        "height = float(height)  # Now height is a float\n",
        "print(type(height))  # Output: <class 'float'>"
      ]
    },
    {
      "cell_type": "markdown",
      "metadata": {
        "id": "caktv-PlPu6d"
      },
      "source": [
        "### Converting numeric types to strings with `str()`\n",
        "\n",
        "When you need to combine numbers with text, convert the number to a string.\n"
      ]
    },
    {
      "cell_type": "code",
      "execution_count": null,
      "metadata": {
        "id": "EDSP9QelPu6d",
        "colab": {
          "base_uri": "https://localhost:8080/"
        },
        "outputId": "c7fca873-b3b3-450e-c399-03ddf6cc0e2d"
      },
      "outputs": [
        {
          "output_type": "stream",
          "name": "stdout",
          "text": [
            "You are 28 years old.\n"
          ]
        }
      ],
      "source": [
        "age = 28  # age is an integer\n",
        "age = str(age)  # Now age is a string\n",
        "message = \"You are \" + age + \" years old.\"\n",
        "print(message)  # Output: \"You are 28 years old.\""
      ]
    },
    {
      "cell_type": "markdown",
      "metadata": {
        "id": "EuVfGEuNPu6d"
      },
      "source": [
        "### Explicit conversion\n",
        "\n",
        "**Explicit conversion** is when you deliberately convert data from one type to another, as we did above with `int()`, `float()`, and `str()`."
      ]
    },
    {
      "cell_type": "markdown",
      "metadata": {
        "id": "wxl0D4fWPu6d"
      },
      "source": [
        "### Implicit conversion\n",
        "\n",
        "Python sometimes converts data types on its own. This is **implicit conversion**. If you recall back to the numbers notebook, when you divide two integers in Python, the result is a float (even if the numbers divide evenly).\n",
        "\n",
        "Here is an example of implicit conversion:\n"
      ]
    },
    {
      "cell_type": "code",
      "execution_count": null,
      "metadata": {
        "id": "Yp5sgJMuPu6e",
        "colab": {
          "base_uri": "https://localhost:8080/"
        },
        "outputId": "20c0a52f-97cc-4072-ecde-63780953d388"
      },
      "outputs": [
        {
          "output_type": "stream",
          "name": "stdout",
          "text": [
            "2.5\n",
            "<class 'float'>\n"
          ]
        }
      ],
      "source": [
        "# Dividing two integers\n",
        "result = 10 / 4\n",
        "print(result)  # Output: 2.5\n",
        "\n",
        "# Now, let's check the data type of the result\n",
        "print(type(result))  # Output: <class 'float'>"
      ]
    },
    {
      "cell_type": "markdown",
      "metadata": {
        "id": "gBxjdNv7Pu6e"
      },
      "source": [
        "Python does this to avoid losing any data from the division, by turning the result into a float we are able to preserve the precision of the division.\n",
        "\n",
        "See below what happens if we explicitly state we want the result to be an integer:"
      ]
    },
    {
      "cell_type": "code",
      "execution_count": null,
      "metadata": {
        "id": "IzF-0ocGPu6e",
        "colab": {
          "base_uri": "https://localhost:8080/"
        },
        "outputId": "3e0a4d0c-2b72-4b21-8a03-48dbb37b3a17"
      },
      "outputs": [
        {
          "output_type": "stream",
          "name": "stdout",
          "text": [
            "2\n",
            "<class 'int'>\n"
          ]
        }
      ],
      "source": [
        "# Dividing two integers\n",
        "result = int(10 / 4)\n",
        "print(result)  # Output: 2\n",
        "\n",
        "# Now, let's check the data type of the result\n",
        "print(type(result))  # Output: <class 'int'>"
      ]
    },
    {
      "cell_type": "markdown",
      "metadata": {
        "id": "mpvBIPA2Pu6e"
      },
      "source": [
        "### Using data type conversions to avoid bugs\n",
        "\n",
        "Data type conversion is essential to avoid bugs. For example, we can't directly add a string and an integer or float. Python needs us to tell it explicitly to treat the string as a number if that's what we intend."
      ]
    },
    {
      "cell_type": "markdown",
      "metadata": {
        "id": "qJ3gyAg7Pu6e"
      },
      "source": [
        "## Data Type and Mathematical Operations"
      ]
    },
    {
      "cell_type": "markdown",
      "metadata": {
        "id": "lgyMQvSOPu6e"
      },
      "source": [
        "### Working with integers and floats\n",
        "\n",
        "As we already know by now, in Python, an integer is a whole number without a decimal point, like `3` or `-8`. A float is a number that has a decimal point, like `2.5` or `-0.01`.\n",
        "\n",
        "When we do a math operation between an integer and a float, Python automatically gives you a float as the result. This happens because a float can represent a wider range of numbers (including decimals) than an integer.\n",
        "\n",
        "Here is an example:"
      ]
    },
    {
      "cell_type": "code",
      "execution_count": null,
      "metadata": {
        "id": "PRVPaPpZPu6e",
        "colab": {
          "base_uri": "https://localhost:8080/"
        },
        "outputId": "34e7a2d0-f5ea-40f5-c4c4-7c751b45a18e"
      },
      "outputs": [
        {
          "output_type": "stream",
          "name": "stdout",
          "text": [
            "13.5\n"
          ]
        }
      ],
      "source": [
        "# An integer\n",
        "integer_number = 10\n",
        "\n",
        "# A float\n",
        "float_number = 3.5\n",
        "\n",
        "# The result of adding an integer and float will be a float\n",
        "result = integer_number + float_number\n",
        "print(result)  # Output: 13.5"
      ]
    },
    {
      "cell_type": "markdown",
      "metadata": {
        "id": "T-CAq1DcPu6e"
      },
      "source": [
        "### Converting user input for calculations\n",
        "\n",
        "When we get input from a user using `input()`, it's always a string. If we want to use it in calculations, we need to convert it to an integer or float first.\n",
        "\n",
        "For example, if we expect the user to input a whole number, we can convert their input into an integer using `int()`.\n",
        "\n",
        "See below:\n",
        "\n",
        "#### Example 1"
      ]
    },
    {
      "cell_type": "code",
      "execution_count": null,
      "metadata": {
        "id": "kSqdQxVDPu6e",
        "colab": {
          "base_uri": "https://localhost:8080/"
        },
        "outputId": "0cbb94a5-2997-47eb-86d4-c4c2a3e312c2"
      },
      "outputs": [
        {
          "output_type": "stream",
          "name": "stdout",
          "text": [
            "Enter a whole number: 10\n",
            "15\n"
          ]
        }
      ],
      "source": [
        "# Getting user input\n",
        "user_input = input(\"Enter a whole number: \")\n",
        "\n",
        "# Converting the input to an integer\n",
        "integer_input = int(user_input)\n",
        "\n",
        "# Now you can use it in math operations as an integer\n",
        "result = integer_input + 5\n",
        "print(result)"
      ]
    },
    {
      "cell_type": "markdown",
      "metadata": {
        "id": "yje6pU74Pu6e"
      },
      "source": [
        "#### Example 2"
      ]
    },
    {
      "cell_type": "code",
      "execution_count": null,
      "metadata": {
        "id": "ygl-7ZpKPu6f",
        "colab": {
          "base_uri": "https://localhost:8080/"
        },
        "outputId": "3cec8e63-6064-411c-dcbb-12fa7e0dce82"
      },
      "outputs": [
        {
          "output_type": "stream",
          "name": "stdout",
          "text": [
            "Enter a whole number: 22\n",
            "27\n"
          ]
        }
      ],
      "source": [
        "# Getting user input\n",
        "user_input = int(input(\"Enter a whole number: \")) # Explicitly converting the input to an integer.\n",
        "\n",
        "result = user_input + 5\n",
        "print(result)"
      ]
    },
    {
      "cell_type": "markdown",
      "metadata": {
        "id": "lh7URHEIPu6f"
      },
      "source": [
        "In the first example, we initially keep the input as a string. We then change it to an integer in a separate step. This method is handy if we need to perform some validation or manipulation to the input before using it as an integer.\n",
        "\n",
        "In the second example, we immediately change the input to an integer. This method is best if we need to use the input as a integer right away."
      ]
    },
    {
      "cell_type": "markdown",
      "source": [
        "# **08 Booleans**"
      ],
      "metadata": {
        "id": "Yvs3RAgtYDKC"
      }
    },
    {
      "cell_type": "markdown",
      "metadata": {
        "id": "7ohKnNHhP-SD"
      },
      "source": [
        "## Introduction to Comparison Operators\n",
        "\n",
        "**Comparison operators** are symbols that tell Python to compare two values. They check how one value relates to another. The result of this comparison is a **Boolean** value, which can be either `True` or `False`.\n",
        "\n",
        "Here are the main comparison operators in Python:\n",
        "\n",
        "| Operator | Name                     | Description                                                                                           |\n",
        "|----------|--------------------------|-------------------------------------------------------------------------------------------------------|\n",
        "| ==       | Equal                    | This operator checks if a value is equivalent to another value.         |\n",
        "| !=       | Not equal                | This operator checks if a value is not equivalent to another value.                                   |\n",
        "| >        | Greater than             | This operator checks if a value is greater than another value.                                        |\n",
        "| <        | Less than                | This operator checks if a value is less than another value.                                           |\n",
        "| >=       | Greater than or equal to | This operator checks if a value is greater than or equal to another value.                            |\n",
        "| <=       | Less than or equal to    | This operator checks if a value is less than or equal to another value.  |"
      ]
    },
    {
      "cell_type": "markdown",
      "metadata": {
        "id": "-CZKNNw8P-SE"
      },
      "source": [
        "## The Role of Comparison Operators in Programming\n",
        "\n",
        "Comparison operators are fundamental in programming because they allow the program to make decisions. For example, you can check if one number is bigger than another, or if two strings of text are the same. Based on the result, the program can do different things."
      ]
    },
    {
      "cell_type": "markdown",
      "metadata": {
        "id": "CwPtnVtMP-SE"
      },
      "source": [
        "## Understanding the Boolean Data Type\n",
        "\n",
        "A Boolean is a data type that can only be `True` or `False`.\n",
        "\n",
        "Here is how you might see Booleans from comparison operators:"
      ]
    },
    {
      "cell_type": "code",
      "execution_count": null,
      "metadata": {
        "id": "SDeMQ1-SP-SE",
        "colab": {
          "base_uri": "https://localhost:8080/"
        },
        "outputId": "a75e5452-d2d9-44f7-d78f-117fd93fdb96"
      },
      "outputs": [
        {
          "output_type": "stream",
          "name": "stdout",
          "text": [
            "False\n",
            "True\n",
            "False\n",
            "True\n",
            "False\n",
            "True\n"
          ]
        }
      ],
      "source": [
        "print(5 == 10) # Outputs: False\n",
        "print(5 != 10 ) # Outputs: True\n",
        "print(5 > 10) # Outputs: False\n",
        "print(5 < 10) # Outputs: True\n",
        "print(5 >= 10) # Outputs: False\n",
        "print(5 <= 5) # Outputs True"
      ]
    },
    {
      "cell_type": "markdown",
      "metadata": {
        "id": "M7HQt9ELP-SF"
      },
      "source": [
        "#### Points to remember:\n",
        "\n",
        "- Use comparison operators to compare values.\n",
        "- The result of a comparison is always a Boolean: True or False.\n",
        "- Booleans are essential for decision-making in programming.\n",
        "- In programming, a statement or expression that evaluates to either `True` or `False` is referred to as a condition.\n"
      ]
    },
    {
      "cell_type": "markdown",
      "metadata": {
        "id": "KPWT3F2DP-SF"
      },
      "source": [
        "## Logical Operators in Python\n",
        "\n",
        "**Logical operators** are a simple yet powerful tool in programming that allow us to combine multiple conditions together."
      ]
    },
    {
      "cell_type": "markdown",
      "metadata": {
        "id": "79UarYc0P-SF"
      },
      "source": [
        "## The Role of Logical Operations in Programming\n",
        "\n",
        "Sometimes in programming, we need to check more than one condition before deciding what action to take. Logical operators let us do this by combining two or more conditions.\n",
        "\n",
        "Logical operators are like the conjunctions \"and\" and \"or\" in English. They help us join conditions to make more complex decisions. The result of a logical operation is a Boolean value, `True` or `False`."
      ]
    },
    {
      "cell_type": "markdown",
      "metadata": {
        "id": "cKliC1VpP-SF"
      },
      "source": [
        "### The `and` operator\n",
        "\n",
        "The `and` operator checks if **both** conditions are `True`. If they are, it returns `True`. If even **one** condition is `False`, it returns `False`.\n",
        "\n",
        "Here is an example of a logical `and` operation:"
      ]
    },
    {
      "cell_type": "code",
      "execution_count": null,
      "metadata": {
        "id": "-PNW9r4NP-SF",
        "colab": {
          "base_uri": "https://localhost:8080/"
        },
        "outputId": "a29b402b-4095-4e68-e08b-749c49e83351"
      },
      "outputs": [
        {
          "output_type": "stream",
          "name": "stdout",
          "text": [
            "True\n",
            "False\n"
          ]
        }
      ],
      "source": [
        "# Both conditions are true\n",
        "print(True and True)  # Output: True\n",
        "\n",
        "# One condition is false\n",
        "print(True and False)  # Output: False"
      ]
    },
    {
      "cell_type": "markdown",
      "metadata": {
        "id": "9QiXKlL-P-SF"
      },
      "source": [
        "### The `or` operator\n",
        "\n",
        "The `or` operator checks if **at least one** of the conditions is `True`. If at least one condition is `True`, it returns `True`. It only returns `False` if **both** conditions are `False`.\n",
        "\n",
        "Here is an example of a logical `or` operation:"
      ]
    },
    {
      "cell_type": "code",
      "execution_count": null,
      "metadata": {
        "id": "y6LwzsUjP-SG",
        "colab": {
          "base_uri": "https://localhost:8080/"
        },
        "outputId": "2deac628-4108-4577-d2b6-76acc6eb8159"
      },
      "outputs": [
        {
          "output_type": "stream",
          "name": "stdout",
          "text": [
            "True\n",
            "False\n"
          ]
        }
      ],
      "source": [
        "# One condition is true\n",
        "print(True or False)  # Output: True\n",
        "\n",
        "# Both conditions are false\n",
        "print(False or False)  # Output: False"
      ]
    },
    {
      "cell_type": "markdown",
      "metadata": {
        "id": "g7inC1T8P-SG"
      },
      "source": [
        "In these examples, you can see how combining conditions with logical operators allows us to make more complex decisions."
      ]
    },
    {
      "cell_type": "markdown",
      "metadata": {
        "id": "s6dlFLgfP-SG"
      },
      "source": [
        "#### Points to remember:\n",
        "\n",
        "- Logical operations help to make decisions based on multiple conditions.\n",
        "- The `and` operator returns `True` only if **all** conditions are `True`.\n",
        "- The `or` operator returns `True` if **at least one** condition is `True`.\n",
        "- The result of logical operations is always a Boolean: `True` or `False`."
      ]
    },
    {
      "cell_type": "markdown",
      "metadata": {
        "id": "oZRxJRpZP-SG"
      },
      "source": [
        "## Combining Comparison and Logical Operators\n",
        "\n",
        "We can use comparison operators in conjuction with logical operators."
      ]
    },
    {
      "cell_type": "code",
      "execution_count": null,
      "metadata": {
        "id": "Z01Xu5LMP-SG",
        "colab": {
          "base_uri": "https://localhost:8080/"
        },
        "outputId": "6e145bab-6c29-4db6-ec75-4bfc57d6a3d2"
      },
      "outputs": [
        {
          "output_type": "stream",
          "name": "stdout",
          "text": [
            "True\n",
            "False\n",
            "True\n",
            "False\n"
          ]
        }
      ],
      "source": [
        "# Both conditions are true\n",
        "print((10 > 5) and (8 < 15))  # Output: True\n",
        "\n",
        "# One condition is false\n",
        "print((10 > 5) and (8 > 15))  # Output: False\n",
        "\n",
        "# One condition is true\n",
        "print((10 > 5) or (8 > 15))  # Output: True\n",
        "\n",
        "# Both conditions are false\n",
        "print((10 < 5) or (8 > 15))  # Output: False"
      ]
    },
    {
      "cell_type": "markdown",
      "metadata": {
        "id": "YXxqVtwZP-SG"
      },
      "source": [
        "### Using parentheses for clarity and order of operations\n",
        "\n",
        "Similarly to performing complex artihmetic operations, we can use parentheses `()` to make complex expressions clearer and to control the order in which operations are performed.\n",
        "\n",
        "For example:\n"
      ]
    },
    {
      "cell_type": "code",
      "execution_count": null,
      "metadata": {
        "id": "CgJpfu3hP-SG",
        "colab": {
          "base_uri": "https://localhost:8080/"
        },
        "outputId": "64127597-8a33-4a7f-d22b-4d0417004cfc"
      },
      "outputs": [
        {
          "output_type": "stream",
          "name": "stdout",
          "text": [
            "True\n",
            "True\n"
          ]
        }
      ],
      "source": [
        "# Without parentheses\n",
        "print(5 > 3 and 7 < 2 or 4 == 4)  # This might be confusing.\n",
        "\n",
        "# With parentheses for clarity\n",
        "print((5 > 3 and 7 < 2) or (4 == 4))  # Much clearer!"
      ]
    },
    {
      "cell_type": "markdown",
      "metadata": {
        "id": "F__tQofmP-SG"
      },
      "source": [
        "### Case Sensitivity\n",
        "\n",
        "In Python, the Boolean values for true and false are `True` and `False`, with uppercase 'T' and 'F'. Similarly, logical operators such as `and` and `or` are all lowercase. It is crucial to use the correct case because Python is case-sensitive, which means it treats uppercase and lowercase letters as different."
      ]
    },
    {
      "cell_type": "markdown",
      "metadata": {
        "id": "SXscsR2dP-SG"
      },
      "source": [
        "## Storing Boolean Values in Variables\n",
        "\n",
        "We can store the result of a comparison or logical operation in a variable. This can make our code cleaner and easier to understand.\n",
        "\n",
        "For example:"
      ]
    },
    {
      "cell_type": "code",
      "execution_count": null,
      "metadata": {
        "id": "M0DmM2zTP-SG",
        "colab": {
          "base_uri": "https://localhost:8080/"
        },
        "outputId": "0136a0d6-7661-42bb-cfe6-182a37bc0a05"
      },
      "outputs": [
        {
          "output_type": "stream",
          "name": "stdout",
          "text": [
            "False\n",
            "False\n"
          ]
        }
      ],
      "source": [
        "# Storing a comparison operation in a variable\n",
        "age = 28\n",
        "is_teen = age >= 13 and age <= 19\n",
        "print(is_teen)  # Output: False because 28 is not between 13 and 19\n",
        "\n",
        "# Storing a logical operation in a variable\n",
        "has_permission = True\n",
        "is_open = False\n",
        "can_enter = has_permission and is_open\n",
        "print(can_enter)  # Output: False because is_open is False"
      ]
    },
    {
      "cell_type": "markdown",
      "metadata": {
        "id": "dDGLr_MmP-SG"
      },
      "source": [
        "In these examples, `is_teen` and `can_enter` store the results of their respective logical operations, which we can use later in your code."
      ]
    },
    {
      "cell_type": "markdown",
      "source": [
        "# **09 Lists**"
      ],
      "metadata": {
        "id": "fof29XYiYjhb"
      }
    },
    {
      "cell_type": "markdown",
      "metadata": {
        "id": "3tjQCZC3RjGz"
      },
      "source": [
        "In Python, a **list** is an **ordered** collection of items that can be **changed**.\n",
        "\n",
        "Here's how we can create one:"
      ]
    },
    {
      "cell_type": "code",
      "execution_count": null,
      "metadata": {
        "id": "EMS5I0ubRjG2"
      },
      "outputs": [],
      "source": [
        "my_list = [1, \"hello\", 3.14]"
      ]
    },
    {
      "cell_type": "markdown",
      "metadata": {
        "id": "6GhvnuCMRjG3"
      },
      "source": [
        "- Lists are written with square brackets `[]`.\n",
        "- Each item in the list is separated by a comma `,`.\n",
        "- Lists can have items of any data type.\n",
        "- Items in a list are kept in order."
      ]
    },
    {
      "cell_type": "markdown",
      "metadata": {
        "id": "dR8rEJyoRjG3"
      },
      "source": [
        "## Indexing\n",
        "\n",
        "An **index** is like an address for each item in our list. It tells us where each item lives. In Python, indexing **starts** from 0. The first item has index 0, the second item has index 1, and so on."
      ]
    },
    {
      "cell_type": "markdown",
      "metadata": {
        "id": "I9qqOTobRjG3"
      },
      "source": [
        "### Accessing list elements\n",
        "\n",
        "We can get any item we want from our list if we know its index.\n",
        "\n",
        "For example:"
      ]
    },
    {
      "cell_type": "code",
      "execution_count": null,
      "metadata": {
        "id": "jQyybhGSRjG3",
        "colab": {
          "base_uri": "https://localhost:8080/"
        },
        "outputId": "4e8cacde-6e88-4d7c-c087-3b56b0a01484"
      },
      "outputs": [
        {
          "output_type": "stream",
          "name": "stdout",
          "text": [
            "banana\n"
          ]
        }
      ],
      "source": [
        "my_list = [\"apple\", \"banana\", \"cherry\"]\n",
        "print(my_list[1])"
      ]
    },
    {
      "cell_type": "markdown",
      "metadata": {
        "id": "s6DZG6Y1RjG3"
      },
      "source": [
        "This will show `banana` because `\"banana\"` is at index `1`."
      ]
    },
    {
      "cell_type": "markdown",
      "metadata": {
        "id": "Ao53my6IRjG3"
      },
      "source": [
        "### Lists are mutable\n",
        "\n",
        "**Mutable** means we can change the list after we create it. We can change the items, add new items, or remove items.\n",
        "\n",
        "Here's how we change an item:"
      ]
    },
    {
      "cell_type": "code",
      "execution_count": null,
      "metadata": {
        "id": "X_G6E4s5RjG4",
        "colab": {
          "base_uri": "https://localhost:8080/"
        },
        "outputId": "9300965b-1e90-4d88-9f3f-8fe439f6901b"
      },
      "outputs": [
        {
          "output_type": "stream",
          "name": "stdout",
          "text": [
            "['apple', 'orange', 'cherry']\n"
          ]
        }
      ],
      "source": [
        "my_list = [\"apple\", \"banana\", \"cherry\"]\n",
        "my_list[1] = \"orange\"\n",
        "print(my_list)"
      ]
    },
    {
      "cell_type": "markdown",
      "metadata": {
        "id": "EyUGjuB6RjG4"
      },
      "source": [
        "Now, the list is `[\"apple\", \"orange\", \"cherry\"]`."
      ]
    },
    {
      "cell_type": "markdown",
      "metadata": {
        "id": "A-8VpfePRjG4"
      },
      "source": [
        "### Indexing with strings\n",
        "\n",
        "Strings are similar to lists in that they are an ordered sequence of characters instead of items, therefore each character has an index."
      ]
    },
    {
      "cell_type": "code",
      "execution_count": null,
      "metadata": {
        "id": "L0PwLT1hRjG4",
        "colab": {
          "base_uri": "https://localhost:8080/"
        },
        "outputId": "66b561b0-2839-41d8-c63e-a5283176cc1f"
      },
      "outputs": [
        {
          "output_type": "stream",
          "name": "stdout",
          "text": [
            "e\n"
          ]
        }
      ],
      "source": [
        "greeting = \"Hello, World!\"\n",
        "print(greeting[1])"
      ]
    },
    {
      "cell_type": "markdown",
      "metadata": {
        "id": "-RZ8TQzTRjG4"
      },
      "source": [
        "This will print `e` because it's at index 1 in the string `\"Hello, World!\"`.\n",
        "\n",
        "Unlike lists, strings are **immutable**. We cannot change them once they are created.\n",
        "\n",
        "Here's what happens if we try to change a string:"
      ]
    },
    {
      "cell_type": "code",
      "execution_count": null,
      "metadata": {
        "id": "amn_mf-qRjG4",
        "colab": {
          "base_uri": "https://localhost:8080/",
          "height": 214
        },
        "outputId": "8a5d583b-c684-4052-fdfd-283a5095fd99"
      },
      "outputs": [
        {
          "output_type": "error",
          "ename": "TypeError",
          "evalue": "'str' object does not support item assignment",
          "traceback": [
            "\u001b[0;31m---------------------------------------------------------------------------\u001b[0m",
            "\u001b[0;31mTypeError\u001b[0m                                 Traceback (most recent call last)",
            "\u001b[0;32m<ipython-input-78-cbaf2e8e4777>\u001b[0m in \u001b[0;36m<cell line: 2>\u001b[0;34m()\u001b[0m\n\u001b[1;32m      1\u001b[0m \u001b[0mgreeting\u001b[0m \u001b[0;34m=\u001b[0m \u001b[0;34m\"Hello, World!\"\u001b[0m\u001b[0;34m\u001b[0m\u001b[0;34m\u001b[0m\u001b[0m\n\u001b[0;32m----> 2\u001b[0;31m \u001b[0mgreeting\u001b[0m\u001b[0;34m[\u001b[0m\u001b[0;36m1\u001b[0m\u001b[0;34m]\u001b[0m \u001b[0;34m=\u001b[0m \u001b[0;34m\"a\"\u001b[0m\u001b[0;34m\u001b[0m\u001b[0;34m\u001b[0m\u001b[0m\n\u001b[0m\u001b[1;32m      3\u001b[0m \u001b[0mprint\u001b[0m\u001b[0;34m(\u001b[0m\u001b[0mgreeting\u001b[0m\u001b[0;34m)\u001b[0m\u001b[0;34m\u001b[0m\u001b[0;34m\u001b[0m\u001b[0m\n",
            "\u001b[0;31mTypeError\u001b[0m: 'str' object does not support item assignment"
          ]
        }
      ],
      "source": [
        "greeting = \"Hello, World!\"\n",
        "greeting[1] = \"a\"\n",
        "print(greeting)"
      ]
    },
    {
      "cell_type": "markdown",
      "metadata": {
        "id": "WJ1YqVsTRjG4"
      },
      "source": [
        "## Slicing\n",
        "\n",
        "Slicing is taking a section of our list or string, similar to cutting a piece of cake from the whole. To do this, we need to tell Python where to start cutting and where to stop.\n",
        "\n",
        "The basic syntax for slicing is:\n",
        "\n",
        "`list[start:stop]`\n",
        "\n",
        "- **start** is the index where the slice starts.\n",
        "- **stop** is the index where the slice ends, but this item will not be included in the slice.\n",
        "- The **`:`** (colon) is what separates the start and stop indices.\n",
        "\n",
        "Here's an example:"
      ]
    },
    {
      "cell_type": "code",
      "execution_count": null,
      "metadata": {
        "id": "9BO90GAwRjG4",
        "colab": {
          "base_uri": "https://localhost:8080/"
        },
        "outputId": "9d6b6ff8-7194-4309-c765-48fa5d61792c"
      },
      "outputs": [
        {
          "output_type": "stream",
          "name": "stdout",
          "text": [
            "[1, 2, 3]\n"
          ]
        }
      ],
      "source": [
        "numbers = [0, 1, 2, 3, 4, 5]\n",
        "slice_of_numbers = numbers[1:4]\n",
        "print(slice_of_numbers)"
      ]
    },
    {
      "cell_type": "markdown",
      "metadata": {
        "id": "yCRQsoKXRjG4"
      },
      "source": [
        "This slice will give us `[1, 2, 3]`. Remember that:\n",
        "- The start index is included (`1` is at index 1).\n",
        "- The stop index is not included (`4` is at index 4, but it's not in the slice)."
      ]
    },
    {
      "cell_type": "markdown",
      "metadata": {
        "id": "A5Kelj9rRjG5"
      },
      "source": [
        "### Shorthand slicing syntax\n",
        "\n",
        "When slicing in Python, we can omit either the start or stop indexes and Python will assume that we mean to start from the beginning or slice to the end of the sequence, respectively.\n",
        "\n",
        "#### Omitting the start index\n",
        "\n",
        "When we omit the start index, the slice will start from the beginning of the list or string.\n",
        "\n",
        "For example:"
      ]
    },
    {
      "cell_type": "code",
      "execution_count": null,
      "metadata": {
        "id": "us-5l4jQRjG5",
        "colab": {
          "base_uri": "https://localhost:8080/"
        },
        "outputId": "9abd04a3-e60e-4a92-99d4-2e385206261d"
      },
      "outputs": [
        {
          "output_type": "stream",
          "name": "stdout",
          "text": [
            "[0, 1, 2, 3, 4]\n"
          ]
        }
      ],
      "source": [
        "numbers = [0, 1, 2, 3, 4, 5, 6, 7, 8, 9]\n",
        "first_five = numbers[:5]  # [0, 1, 2, 3, 4]\n",
        "print(first_five)"
      ]
    },
    {
      "cell_type": "markdown",
      "metadata": {
        "id": "KFy6STRGRjG5"
      },
      "source": [
        "#### Omitting the stop index\n",
        "\n",
        "When we omit the stop index, the slice will go all the way to the end of the list or string.\n",
        "\n",
        "For example:"
      ]
    },
    {
      "cell_type": "code",
      "execution_count": null,
      "metadata": {
        "id": "YfXFoThxRjG5",
        "colab": {
          "base_uri": "https://localhost:8080/"
        },
        "outputId": "9a75eb29-df07-4dca-d767-550f49028ca3"
      },
      "outputs": [
        {
          "output_type": "stream",
          "name": "stdout",
          "text": [
            "[5, 6, 7, 8, 9]\n"
          ]
        }
      ],
      "source": [
        "numbers = [0, 1, 2, 3, 4, 5, 6, 7, 8, 9]\n",
        "last_five = numbers[5:]  # [5, 6, 7, 8, 9]\n",
        "print(last_five)"
      ]
    },
    {
      "cell_type": "markdown",
      "metadata": {
        "id": "NjqjRkeuRjG5"
      },
      "source": [
        "### Omitting both\n",
        "\n",
        "Omitting both start and stop indexes will effectively make a copy of the list or string.\n",
        "\n",
        "See below:"
      ]
    },
    {
      "cell_type": "code",
      "execution_count": null,
      "metadata": {
        "id": "0BgDaeLfRjG5",
        "colab": {
          "base_uri": "https://localhost:8080/"
        },
        "outputId": "750bdac1-6b8a-4248-d8a5-8c7c601fde8f"
      },
      "outputs": [
        {
          "output_type": "stream",
          "name": "stdout",
          "text": [
            "[0, 1, 2, 3, 4, 5, 6, 7, 8, 9]\n"
          ]
        }
      ],
      "source": [
        "numbers = [0, 1, 2, 3, 4, 5, 6, 7, 8, 9]\n",
        "copy_numbers = numbers[:] # [0, 1, 2, 3, 4, 5, 6, 7, 8, 9]\n",
        "print(copy_numbers)"
      ]
    },
    {
      "cell_type": "markdown",
      "metadata": {
        "id": "g909sF-4RjG5"
      },
      "source": [
        "Slicing works on both lists and strings.\n",
        "\n",
        "Here's an example of slicing a string:"
      ]
    },
    {
      "cell_type": "code",
      "execution_count": null,
      "metadata": {
        "id": "dOriESXURjG5",
        "colab": {
          "base_uri": "https://localhost:8080/"
        },
        "outputId": "88de182d-2ef2-4ae4-9318-a7505eae8ddd"
      },
      "outputs": [
        {
          "output_type": "stream",
          "name": "stdout",
          "text": [
            "yth\n"
          ]
        }
      ],
      "source": [
        "word = \"Python\"\n",
        "slice_of_word = word[1:4]\n",
        "print(slice_of_word)"
      ]
    },
    {
      "cell_type": "markdown",
      "metadata": {
        "id": "qEUHUE77RjG5"
      },
      "source": [
        "You may have noticed that when we slice a list or a string, the result is always of the same type. When we slice a string, we get a new string as the result. Similarly, when we slice a list, the result is a new list."
      ]
    },
    {
      "cell_type": "markdown",
      "metadata": {
        "id": "H7BuJ_1PRjG5"
      },
      "source": [
        "## Advanced Slicing\n",
        "\n",
        "Slicing in Python is not just limited to selecting a continuous segment from start to stop. It can be much more nuanced with the use of **negative indexes** and **steps**, which provide greater flexibility in selecting a range of elements."
      ]
    },
    {
      "cell_type": "markdown",
      "metadata": {
        "id": "JDaTITqURjG5"
      },
      "source": [
        "### Negative indexing\n",
        "\n",
        "Python allows negative indexing for its sequences. The index of -1 refers to the last item, -2 to the second last item and so on.\n",
        "\n",
        "For example:"
      ]
    },
    {
      "cell_type": "code",
      "execution_count": null,
      "metadata": {
        "id": "PUnerHWQRjG5",
        "colab": {
          "base_uri": "https://localhost:8080/"
        },
        "outputId": "eae00089-febe-415b-bc13-55a82fa05c06"
      },
      "outputs": [
        {
          "output_type": "stream",
          "name": "stdout",
          "text": [
            "5\n"
          ]
        }
      ],
      "source": [
        "numbers = [0, 1, 2, 3, 4, 5]\n",
        "print(numbers[-1])"
      ]
    },
    {
      "cell_type": "markdown",
      "metadata": {
        "id": "PCer26MkRjG6"
      },
      "source": [
        "### Combining positive and negative indexing\n",
        "\n",
        "We can mix positive and negative indexes while slicing. This can be useful for slicing off the ends of a list or string.\n",
        "\n",
        "Here's an example:"
      ]
    },
    {
      "cell_type": "code",
      "execution_count": null,
      "metadata": {
        "id": "9XUz_G3TRjG6",
        "colab": {
          "base_uri": "https://localhost:8080/"
        },
        "outputId": "f6257ec9-4213-4253-8319-39b33793d855"
      },
      "outputs": [
        {
          "output_type": "stream",
          "name": "stdout",
          "text": [
            "cdef\n"
          ]
        }
      ],
      "source": [
        "my_string = \"abcdefgh\"\n",
        "middle_slice = my_string[2:-2]  # 'cdef' (from 3rd to the second last character (not included))\n",
        "print(middle_slice)"
      ]
    },
    {
      "cell_type": "markdown",
      "metadata": {
        "id": "7BrEIoLwRjG6"
      },
      "source": [
        "### Step in slicing\n",
        "\n",
        "The slice syntax includes a third parameter, called **step**, which allows us to take every nth-item within a start:stop range.\n",
        "\n",
        "See below:"
      ]
    },
    {
      "cell_type": "code",
      "execution_count": null,
      "metadata": {
        "id": "04S6uO8LRjG6",
        "colab": {
          "base_uri": "https://localhost:8080/"
        },
        "outputId": "e016603a-e743-4d1e-8bd0-6bc8dd3d78b2"
      },
      "outputs": [
        {
          "output_type": "stream",
          "name": "stdout",
          "text": [
            "[0, 2, 4, 6, 8]\n",
            "[1, 3, 5, 7, 9]\n"
          ]
        }
      ],
      "source": [
        "numbers= [0, 1, 2, 3, 4, 5, 6, 7, 8, 9]\n",
        "even_numbers = numbers[::2]  # [0, 2, 4, 6, 8]\n",
        "odd_numbers = numbers[1::2]  # [1, 3, 5, 7, 9]\n",
        "print(even_numbers)\n",
        "print(odd_numbers)"
      ]
    },
    {
      "cell_type": "markdown",
      "metadata": {
        "id": "5jMPjwxORjG6"
      },
      "source": [
        "The step value can also be negative, which means that we can traverse the list or string backwards.\n",
        "\n",
        "For example:"
      ]
    },
    {
      "cell_type": "code",
      "execution_count": null,
      "metadata": {
        "id": "bZy7SRtMRjG6",
        "colab": {
          "base_uri": "https://localhost:8080/"
        },
        "outputId": "1ca4ad0d-5a17-46a7-db57-d0d3813f82d4"
      },
      "outputs": [
        {
          "output_type": "stream",
          "name": "stdout",
          "text": [
            "[9, 7, 5, 3, 1]\n"
          ]
        }
      ],
      "source": [
        "numbers= [0, 1, 2, 3, 4, 5, 6, 7, 8, 9]\n",
        "reverse_odds = numbers[-1::-2]  # [9, 7, 5, 3, 1]\n",
        "print(reverse_odds)"
      ]
    },
    {
      "cell_type": "markdown",
      "source": [
        "## Edit lists\n",
        "\n",
        "Sometimes, we would like to make changes to the existing lists. For example, we want to change the items or remove items or add items. There are different functions to do these."
      ],
      "metadata": {
        "id": "TQThSHtlbVmt"
      }
    },
    {
      "cell_type": "markdown",
      "source": [
        "### Change list items\n",
        "\n",
        "We can change the value of a specific item by refering to the index number of the item in the list. For example:"
      ],
      "metadata": {
        "id": "5-Fy_ddrbojk"
      }
    },
    {
      "cell_type": "code",
      "source": [
        "fruits = ['apple','banana','pear']\n",
        "fruits[1] = 'strawberry' # here we aim to change the second item 'banna' to strawberry\n",
        "print(fruits)"
      ],
      "metadata": {
        "colab": {
          "base_uri": "https://localhost:8080/"
        },
        "id": "4tEkc7BZb2_A",
        "outputId": "55425b84-814c-409c-8b86-92fd4f9c9334"
      },
      "execution_count": null,
      "outputs": [
        {
          "output_type": "stream",
          "name": "stdout",
          "text": [
            "['apple', 'strawberry', 'pear']\n"
          ]
        }
      ]
    },
    {
      "cell_type": "markdown",
      "source": [
        "### Add list items\n",
        "\n",
        "We can also add new items to an existing list."
      ],
      "metadata": {
        "id": "0IhB4e5Zcbd-"
      }
    },
    {
      "cell_type": "markdown",
      "source": [
        "1) To add an item to the end of the list, use the append() method:"
      ],
      "metadata": {
        "id": "aBfdOyeScl_W"
      }
    },
    {
      "cell_type": "code",
      "source": [
        "fruits_1 = ['apple','banana','pear']\n",
        "fruits_1.append('strawberry') # here we add strawberry to the end of the list\n",
        "print(fruits_1)"
      ],
      "metadata": {
        "colab": {
          "base_uri": "https://localhost:8080/"
        },
        "id": "cQ7apWk5cYlV",
        "outputId": "6a62bfe5-4196-4950-aaab-5ebfcf10ffa5"
      },
      "execution_count": null,
      "outputs": [
        {
          "output_type": "stream",
          "name": "stdout",
          "text": [
            "['apple', 'banana', 'pear', 'strawberry']\n"
          ]
        }
      ]
    },
    {
      "cell_type": "markdown",
      "source": [
        "2) To add an item at the specified index, use the insert() method:\n"
      ],
      "metadata": {
        "id": "UWa5sNyEcyQ_"
      }
    },
    {
      "cell_type": "code",
      "source": [
        "fruits_2 = ['apple','banana','pear']\n",
        "fruits_2.insert(1, 'strawberry') # here we add strawberry to index 1 (the second place)\n",
        "print(fruits_2)"
      ],
      "metadata": {
        "colab": {
          "base_uri": "https://localhost:8080/"
        },
        "id": "gWmWp5AKc1ih",
        "outputId": "0cb9fecd-4895-476b-82e6-7f2040ab0de1"
      },
      "execution_count": null,
      "outputs": [
        {
          "output_type": "stream",
          "name": "stdout",
          "text": [
            "['apple', 'strawberry', 'banana', 'pear']\n"
          ]
        }
      ]
    },
    {
      "cell_type": "markdown",
      "source": [
        "### Remove list items\n",
        "\n",
        "We can also easily remove any item in the list as we wish."
      ],
      "metadata": {
        "id": "itw7Ba44dRuC"
      }
    },
    {
      "cell_type": "markdown",
      "source": [
        "1) Use the remove() method to remove the specified item:"
      ],
      "metadata": {
        "id": "ku3EZ_dYdcFV"
      }
    },
    {
      "cell_type": "code",
      "source": [
        "fruits_3 = ['apple','banana','pear']\n",
        "fruits_3.remove('banana') # here we want to remove banana\n",
        "print(fruits_3)"
      ],
      "metadata": {
        "colab": {
          "base_uri": "https://localhost:8080/"
        },
        "id": "HULZCe-8dZCy",
        "outputId": "20368dfb-4f78-44e3-a062-0a29db461d47"
      },
      "execution_count": null,
      "outputs": [
        {
          "output_type": "stream",
          "name": "stdout",
          "text": [
            "['apple', 'pear']\n"
          ]
        }
      ]
    },
    {
      "cell_type": "markdown",
      "source": [
        "2) Use the pop() method removes the specified index, (or the last item if index is not specified):"
      ],
      "metadata": {
        "id": "KKquqLUIdrZ7"
      }
    },
    {
      "cell_type": "code",
      "source": [
        "fruits_4 = ['apple','banana','pear']\n",
        "fruits_4.pop(1) # here we want to remove banana (index 1)\n",
        "print(fruits_4)"
      ],
      "metadata": {
        "colab": {
          "base_uri": "https://localhost:8080/"
        },
        "id": "ODAWhvwOd2QW",
        "outputId": "e1720312-90a3-4cf5-e0c1-9616b0a112c4"
      },
      "execution_count": null,
      "outputs": [
        {
          "output_type": "stream",
          "name": "stdout",
          "text": [
            "['apple', 'pear']\n"
          ]
        }
      ]
    },
    {
      "cell_type": "markdown",
      "source": [
        "## List length\n",
        "\n",
        "We can use len() to check the the number of items in the list."
      ],
      "metadata": {
        "id": "KGBPYuWDeotj"
      }
    },
    {
      "cell_type": "code",
      "source": [
        "example = [1,2,3,4,5]\n",
        "print(len(example))"
      ],
      "metadata": {
        "colab": {
          "base_uri": "https://localhost:8080/"
        },
        "id": "ZC4vrbUrey2N",
        "outputId": "f4214be9-997a-41f3-9a22-ae70143e6845"
      },
      "execution_count": null,
      "outputs": [
        {
          "output_type": "stream",
          "name": "stdout",
          "text": [
            "5\n"
          ]
        }
      ]
    },
    {
      "cell_type": "markdown",
      "source": [
        "# **10 Dictionaries**"
      ],
      "metadata": {
        "id": "z4KIRRNEYneE"
      }
    },
    {
      "cell_type": "markdown",
      "metadata": {
        "id": "Tp6bd6zaR1mL"
      },
      "source": [
        "## What is a Dictionary?\n",
        "\n",
        "In Python, a dictionary is a collection of items stored as **key-value pairs**. Imagine a real-life dictionary, which has a word (the **key**) and its definition (the **value**). Python's dictionaries work similarly: each key points to a value, much like a word points to its definition."
      ]
    },
    {
      "cell_type": "markdown",
      "metadata": {
        "id": "CzMi0E1FR1mL"
      },
      "source": [
        "## Why Use Dictionaries?\n",
        "\n",
        "Dictionaries are used for storing data values in an organised way. They are incredibly useful when you need a logical association between a key:value pair.\n",
        "\n",
        "For example, in an e-commerce setting, a dictionary can be used to store customer details, with keys like \"customer_id\" and values containing their information."
      ]
    },
    {
      "cell_type": "markdown",
      "metadata": {
        "id": "0k3NPjlKR1mM"
      },
      "source": [
        "### Some things to know about dictionaries\n",
        "\n",
        "Dictionaries:\n",
        "\n",
        "- **Are ordered**: As of Python 3.7, dictionaries are ordered collections, which means items have a defined order that will not change.\n",
        "\n",
        "- **Are mutable**: You can change, add, and remove items after the dictionary has been created.\n",
        "\n",
        "- **Do not allow duplicates**: Dictionaries cannot have two items with the same key."
      ]
    },
    {
      "cell_type": "markdown",
      "metadata": {
        "id": "xtvHKPF_R1mM"
      },
      "source": [
        "## Dictionary Syntax\n",
        "\n",
        "A dictionary in Python is defined within curly braces `{}`, with series of key:value pairs separated by commas.\n",
        "\n",
        "For example:"
      ]
    },
    {
      "cell_type": "code",
      "execution_count": null,
      "metadata": {
        "id": "UjhpdNRKR1mM",
        "colab": {
          "base_uri": "https://localhost:8080/"
        },
        "outputId": "49d27840-62b4-42ce-ca92-650abb427a42"
      },
      "outputs": [
        {
          "output_type": "stream",
          "name": "stdout",
          "text": [
            "{'brand': 'Apple', 'model': 'iPhone 13', 'year': 2021}\n"
          ]
        }
      ],
      "source": [
        "my_dict = {\"brand\": \"Apple\", \"model\": \"iPhone 13\", \"year\": 2021}\n",
        "print(my_dict)"
      ]
    },
    {
      "cell_type": "markdown",
      "metadata": {
        "id": "6UD-ki-PR1mN"
      },
      "source": [
        "For more complex dictionaries with many items, we often structure them over several lines for better readability, not in a single line.\n",
        "\n",
        "For example:"
      ]
    },
    {
      "cell_type": "code",
      "execution_count": null,
      "metadata": {
        "id": "yFAOqRXzR1mN"
      },
      "outputs": [],
      "source": [
        "favourite_light_novel = {\n",
        "    \"Title\": \"Re:ZERO -Starting Life in Another World-\",\n",
        "    \"Author\": \"Tappei Nagatsuki\",\n",
        "    \"Description\": \"\"\"The only ability Subaru Natsuki gets when he's summoned to another world is time travel via his own death. But to save her, he'll die as many times as it takes.\"\"\",\n",
        "    \"Genres\": [\n",
        "        \"Light Novel\",\n",
        "        \"Fantasy\",\n",
        "        \"Fiction\",\n",
        "        \"Young Adult\",\n",
        "        \"Magic\",\n",
        "        \"Adventure\",\n",
        "        \"Time Travel\",\n",
        "    ],\n",
        "}"
      ]
    },
    {
      "cell_type": "markdown",
      "metadata": {
        "id": "66T-zvV0R1mN"
      },
      "source": [
        "### Keys and values in dictionaries\n",
        "\n",
        "If you look at the two examples above, you may notice that the values in a dictionary can be of any data type and can differ from each other.\n",
        "\n",
        "It is also important to be aware that the keys must be of an immutable data type such as strings, numbers, or tuples."
      ]
    },
    {
      "cell_type": "markdown",
      "metadata": {
        "id": "O9OFDLtrR1mN"
      },
      "source": [
        "## Accessing Items in a Dictionary\n",
        "\n",
        "To access the value associated with a specific key in a dictionary, we use the key inside square brackets or with the `.get()` method."
      ]
    },
    {
      "cell_type": "markdown",
      "metadata": {
        "id": "JtnAfe_2R1mN"
      },
      "source": [
        "### Accessing with square brackets"
      ]
    },
    {
      "cell_type": "code",
      "execution_count": null,
      "metadata": {
        "id": "SeThTOWJR1mN",
        "colab": {
          "base_uri": "https://localhost:8080/"
        },
        "outputId": "34718d64-ee9a-4bb6-d384-3d45b87d3d87"
      },
      "outputs": [
        {
          "output_type": "stream",
          "name": "stdout",
          "text": [
            "iPhone 13\n"
          ]
        }
      ],
      "source": [
        "my_dict = {\"brand\": \"Apple\", \"model\": \"iPhone 13\", \"year\": 2021}\n",
        "model = my_dict[\"model\"]\n",
        "print(model)"
      ]
    },
    {
      "cell_type": "markdown",
      "metadata": {
        "id": "ZsNdtJyhR1mN"
      },
      "source": [
        "Like when we try to access an index in a list that does not exist, if we try to access a key that does not exist, Python will raise a `KeyError`."
      ]
    },
    {
      "cell_type": "markdown",
      "metadata": {
        "id": "OphN_gv0R1mO"
      },
      "source": [
        "### Accessing with the `.get()` method\n",
        "\n",
        "The `.get()` method provides a convenient way of accessing the value without the risk of an error if the key does not exist. It returns `None` instead of `KeyError`, or we can specify a default value.\n"
      ]
    },
    {
      "cell_type": "code",
      "execution_count": null,
      "metadata": {
        "id": "Myt2CFwYR1mO",
        "colab": {
          "base_uri": "https://localhost:8080/"
        },
        "outputId": "b9ab391e-584e-4460-9fc8-5393ed663ee1"
      },
      "outputs": [
        {
          "output_type": "stream",
          "name": "stdout",
          "text": [
            "2021\n",
            "Unknown colour\n"
          ]
        }
      ],
      "source": [
        "my_dict = {\"brand\": \"Apple\", \"model\": \"iPhone 13\", \"year\": 2021}\n",
        "\n",
        "release_year = my_dict.get(\"year\", \"Unknown year\")\n",
        "print(release_year)\n",
        "\n",
        "colour = my_dict.get(\"colour\", \"Unknown colour\")\n",
        "print(colour)"
      ]
    },
    {
      "cell_type": "markdown",
      "metadata": {
        "id": "qVdYZfUBR1mO"
      },
      "source": [
        "Using the `.get()` method is a safer option when we are not sure if the key exists in the dictionary."
      ]
    },
    {
      "cell_type": "markdown",
      "metadata": {
        "id": "xzE4lolBR1mO"
      },
      "source": [
        "### Checking if key exists\n",
        "\n",
        "Before accessing a key, we might want to check if it exists in the dictionary:"
      ]
    },
    {
      "cell_type": "code",
      "execution_count": null,
      "metadata": {
        "id": "fTNYIKuzR1mO",
        "colab": {
          "base_uri": "https://localhost:8080/"
        },
        "outputId": "d26a828c-81ee-4e02-925e-2c2774af05c1"
      },
      "outputs": [
        {
          "output_type": "stream",
          "name": "stdout",
          "text": [
            "The key 'colour' does not exist.\n"
          ]
        }
      ],
      "source": [
        "my_dict = {\"brand\": \"Apple\", \"model\": \"iPhone 13\", \"year\": 2021}\n",
        "\n",
        "if \"colour\" in my_dict:\n",
        "    print(my_dict[\"colour\"])\n",
        "else:\n",
        "    print(\"The key 'colour' does not exist.\")"
      ]
    },
    {
      "cell_type": "markdown",
      "metadata": {
        "id": "pubLNjzJR1mO"
      },
      "source": [
        "By accessing dictionary items correctly, you ensure that your program does not encounter unexpected interruptions and handles missing data gracefully."
      ]
    },
    {
      "cell_type": "markdown",
      "metadata": {
        "id": "pvcVmCV_R1mO"
      },
      "source": [
        "## Adding Items to a Dictionary\n",
        "\n",
        "We can add items to a dictionary by using a new key and assigning a value to it."
      ]
    },
    {
      "cell_type": "code",
      "execution_count": null,
      "metadata": {
        "id": "dlq2fefhR1mO",
        "colab": {
          "base_uri": "https://localhost:8080/"
        },
        "outputId": "4a1c3e4b-ca72-4c5f-d881-ef00def92b07"
      },
      "outputs": [
        {
          "output_type": "stream",
          "name": "stdout",
          "text": [
            "{'brand': 'Apple', 'model': 'iPhone 13', 'year': 2021, 'colour': 'green'}\n"
          ]
        }
      ],
      "source": [
        "my_dict = {\"brand\": \"Apple\", \"model\": \"iPhone 13\", \"year\": 2021}\n",
        "my_dict[\"colour\"] = \"green\"\n",
        "print(my_dict)"
      ]
    },
    {
      "cell_type": "markdown",
      "metadata": {
        "id": "_zLe90acR1mO"
      },
      "source": [
        "## Modifying Items in a Dictionary\n",
        "\n",
        "To change the value associated with a specific key, we just assign a new value to that key."
      ]
    },
    {
      "cell_type": "code",
      "execution_count": null,
      "metadata": {
        "id": "wM6jX6IER1mO",
        "colab": {
          "base_uri": "https://localhost:8080/"
        },
        "outputId": "10003274-e754-4508-bd31-74d51d5c8153"
      },
      "outputs": [
        {
          "output_type": "stream",
          "name": "stdout",
          "text": [
            "{'brand': 'Apple', 'model': 'iPhone 13', 'year': 2021, 'colour': 'green'}\n",
            "{'brand': 'Apple', 'model': 'iPhone 13', 'year': 2021, 'colour': 'black'}\n"
          ]
        }
      ],
      "source": [
        "my_dict = {\"brand\": \"Apple\", \"model\": \"iPhone 13\", \"year\": 2021, \"colour\": \"green\"}\n",
        "print(my_dict)\n",
        "\n",
        "my_dict[\"colour\"] = \"black\"\n",
        "print(my_dict)"
      ]
    },
    {
      "cell_type": "markdown",
      "metadata": {
        "id": "11SUP9iaR1mO"
      },
      "source": [
        "## Deleting Items in a Dictionary\n",
        "\n",
        "You can remove items using the `del` statement or the `.pop()` method."
      ]
    },
    {
      "cell_type": "code",
      "execution_count": null,
      "metadata": {
        "id": "9G-5373pR1mO",
        "colab": {
          "base_uri": "https://localhost:8080/"
        },
        "outputId": "8318eb76-22ed-4ee0-cd6d-f29e3a8f9a1b"
      },
      "outputs": [
        {
          "output_type": "stream",
          "name": "stdout",
          "text": [
            "{'brand': 'Apple', 'model': 'iPhone 13', 'year': 2021}\n",
            "{'brand': 'Apple', 'year': 2021}\n",
            "iPhone 13\n"
          ]
        }
      ],
      "source": [
        "my_dict = {\"brand\": \"Apple\", \"model\": \"iPhone 13\", \"year\": 2021, \"colour\": \"green\"}\n",
        "\n",
        "del my_dict[\"colour\"]  # Removes the item with key 'colour'\n",
        "print(my_dict)\n",
        "\n",
        "model = my_dict.pop(\"model\")  # Removes 'model' and gets its value\n",
        "print(my_dict)\n",
        "print(model)"
      ]
    },
    {
      "cell_type": "markdown",
      "metadata": {
        "id": "jyy_X2odR1mO"
      },
      "source": [
        "## Iterating Through a Dictionary\n",
        "\n",
        "You can iterate through a dictionary using a `for` loop (we will learn more about loop in section 12). By default, when you loop through a dictionary, you are given the keys one by one.\n"
      ]
    },
    {
      "cell_type": "code",
      "execution_count": null,
      "metadata": {
        "id": "tQG2oPG2R1mO",
        "colab": {
          "base_uri": "https://localhost:8080/"
        },
        "outputId": "469e7add-bbe1-463d-f397-d253908ae450"
      },
      "outputs": [
        {
          "output_type": "stream",
          "name": "stdout",
          "text": [
            "brand\n",
            "model\n",
            "year\n",
            "colour\n"
          ]
        }
      ],
      "source": [
        "my_dict = {\"brand\": \"Apple\", \"model\": \"iPhone 13\", \"year\": 2021, \"colour\": \"green\"}\n",
        "\n",
        "for key in my_dict: # this means \"since key in my_dict, then...\"\n",
        "    print(key)"
      ]
    },
    {
      "cell_type": "markdown",
      "source": [
        "You can use `.keys()` method to return the keys, and then use list() to convert all the keys into list."
      ],
      "metadata": {
        "id": "jpTnyXYwfwg2"
      }
    },
    {
      "cell_type": "code",
      "source": [
        "my_dict = {\"brand\": \"Apple\", \"model\": \"iPhone 13\", \"year\": 2021, \"colour\": \"green\"}\n",
        "\n",
        "list(my_dict.keys())"
      ],
      "metadata": {
        "colab": {
          "base_uri": "https://localhost:8080/"
        },
        "id": "q2z7glZsfagG",
        "outputId": "607bc528-e303-414d-a2c7-7bc7422f5d08"
      },
      "execution_count": null,
      "outputs": [
        {
          "output_type": "execute_result",
          "data": {
            "text/plain": [
              "['brand', 'model', 'year', 'colour']"
            ]
          },
          "metadata": {},
          "execution_count": 3
        }
      ]
    },
    {
      "cell_type": "markdown",
      "metadata": {
        "id": "G-UaR5yKR1mP"
      },
      "source": [
        "### Iterating through values\n",
        "\n",
        "The `.values()` method is used to return the values of a dictionary."
      ]
    },
    {
      "cell_type": "code",
      "execution_count": null,
      "metadata": {
        "id": "sdft44D9R1mP",
        "colab": {
          "base_uri": "https://localhost:8080/"
        },
        "outputId": "721b81c4-39fb-497b-a4bf-65e179d33442"
      },
      "outputs": [
        {
          "output_type": "stream",
          "name": "stdout",
          "text": [
            "Apple\n",
            "iPhone 13\n",
            "2021\n",
            "green\n"
          ]
        }
      ],
      "source": [
        "my_dict = {\"brand\": \"Apple\", \"model\": \"iPhone 13\", \"year\": 2021, \"colour\": \"green\"}\n",
        "\n",
        "for value in my_dict.values():\n",
        "    print(value)"
      ]
    },
    {
      "cell_type": "markdown",
      "source": [
        "Or as above, get all the values and then convert them into list"
      ],
      "metadata": {
        "id": "0ql2EC8igKbA"
      }
    },
    {
      "cell_type": "code",
      "source": [
        "my_dict = {\"brand\": \"Apple\", \"model\": \"iPhone 13\", \"year\": 2021, \"colour\": \"green\"}\n",
        "\n",
        "list(my_dict.values())"
      ],
      "metadata": {
        "colab": {
          "base_uri": "https://localhost:8080/"
        },
        "id": "mk-NTJYGgIva",
        "outputId": "8707697b-4e83-4c7c-d0d8-ef7b8d4d9b71"
      },
      "execution_count": null,
      "outputs": [
        {
          "output_type": "execute_result",
          "data": {
            "text/plain": [
              "['Apple', 'iPhone 13', 2021, 'green']"
            ]
          },
          "metadata": {},
          "execution_count": 4
        }
      ]
    },
    {
      "cell_type": "markdown",
      "metadata": {
        "id": "TDi0cIsKR1mP"
      },
      "source": [
        "### Iterating through key-value pairs\n",
        "\n",
        "To iterate through the item (both keys and values), we can use the `.items()` method."
      ]
    },
    {
      "cell_type": "code",
      "execution_count": null,
      "metadata": {
        "id": "fuyDCtjoR1mP",
        "colab": {
          "base_uri": "https://localhost:8080/"
        },
        "outputId": "29fc5655-b441-451c-dd08-5d1cb54aa8cc"
      },
      "outputs": [
        {
          "output_type": "stream",
          "name": "stdout",
          "text": [
            "('brand', 'Apple')\n",
            "('model', 'iPhone 13')\n",
            "('year', 2021)\n",
            "('colour', 'green')\n"
          ]
        }
      ],
      "source": [
        "my_dict = {\"brand\": \"Apple\", \"model\": \"iPhone 13\", \"year\": 2021, \"colour\": \"green\"}\n",
        "\n",
        "for item in my_dict.items():\n",
        "    print(item)"
      ]
    },
    {
      "cell_type": "code",
      "execution_count": null,
      "metadata": {
        "id": "m_lrxEs0R1mP",
        "colab": {
          "base_uri": "https://localhost:8080/"
        },
        "outputId": "c0fedec0-dafc-4f94-da60-ea7dc7746591"
      },
      "outputs": [
        {
          "output_type": "stream",
          "name": "stdout",
          "text": [
            "brand Apple\n",
            "model iPhone 13\n",
            "year 2021\n",
            "colour green\n"
          ]
        }
      ],
      "source": [
        "my_dict = {\"brand\": \"Apple\", \"model\": \"iPhone 13\", \"year\": 2021, \"colour\": \"green\"}\n",
        "\n",
        "for key, value in my_dict.items():\n",
        "    print(key, value)"
      ]
    },
    {
      "cell_type": "code",
      "source": [
        "my_dict = {\"brand\": \"Apple\", \"model\": \"iPhone 13\", \"year\": 2021, \"colour\": \"green\"}\n",
        "list(my_dict.items())"
      ],
      "metadata": {
        "colab": {
          "base_uri": "https://localhost:8080/"
        },
        "id": "h3Tpz6ZmgZe6",
        "outputId": "39260e87-2b5c-4858-865f-79aa20412e2c"
      },
      "execution_count": null,
      "outputs": [
        {
          "output_type": "execute_result",
          "data": {
            "text/plain": [
              "[('brand', 'Apple'),\n",
              " ('model', 'iPhone 13'),\n",
              " ('year', 2021),\n",
              " ('colour', 'green')]"
            ]
          },
          "metadata": {},
          "execution_count": 7
        }
      ]
    },
    {
      "cell_type": "markdown",
      "source": [
        "# **11 Tuples and Sets**"
      ],
      "metadata": {
        "id": "9EkHCltlYr49"
      }
    },
    {
      "cell_type": "markdown",
      "metadata": {
        "id": "lqidj4Z7SYkn"
      },
      "source": [
        "## What is a Tuple?\n",
        "\n",
        "A tuple is an **ordered** and **unchangeable** collection of items. Tuples are similar to lists, but the key difference is that tuples are immutable. This means that once a tuple is created, the items in it cannot be changed."
      ]
    },
    {
      "cell_type": "markdown",
      "metadata": {
        "id": "4hd-ZxdbSYko"
      },
      "source": [
        "## Why Use Tuples?\n",
        "\n",
        "Tuples are used when we have a collection of items that we want to keep together and unmodified throughout the life of a program. They can be faster than lists and protect your data against accidental change."
      ]
    },
    {
      "cell_type": "markdown",
      "metadata": {
        "id": "XWiiZrhbSYko"
      },
      "source": [
        "## Tuple Syntax\n",
        "\n",
        "A tuple is created by placing all the items inside parentheses `()`, separated by commas."
      ]
    },
    {
      "cell_type": "code",
      "execution_count": null,
      "metadata": {
        "id": "6rnHITshSYko",
        "colab": {
          "base_uri": "https://localhost:8080/"
        },
        "outputId": "33614d4e-15d3-40f8-cfe6-03b60de082f7"
      },
      "outputs": [
        {
          "output_type": "stream",
          "name": "stdout",
          "text": [
            "(1, 2, 3)\n"
          ]
        }
      ],
      "source": [
        "my_tuple = (1, 2, 3)\n",
        "print(my_tuple)"
      ]
    },
    {
      "cell_type": "markdown",
      "metadata": {
        "id": "be4u4OBVSYkp"
      },
      "source": [
        "If we wish to store a single element in a tuple, we need to include a comma after the item, even though there is only one value."
      ]
    },
    {
      "cell_type": "code",
      "execution_count": null,
      "metadata": {
        "id": "hOfzukMESYkp",
        "colab": {
          "base_uri": "https://localhost:8080/"
        },
        "outputId": "2f2b8423-81d3-4e07-94d4-7e924423c744"
      },
      "outputs": [
        {
          "output_type": "stream",
          "name": "stdout",
          "text": [
            "<class 'int'>\n",
            "<class 'tuple'>\n"
          ]
        }
      ],
      "source": [
        "my_tuple = (1)\n",
        "print(type(my_tuple)) # Outputs: <class 'int'>\n",
        "\n",
        "my_tuple = (1,)\n",
        "print(type(my_tuple)) # Outputs: <class 'tuple'>"
      ]
    },
    {
      "cell_type": "markdown",
      "source": [
        "## Unpack Tuple\n",
        "\n",
        "When we create a tuple, we normally assign values to it. This is called \"packing\" a tuple. We are also allowed to extract the values back into variables. This is called \"unpacking\"."
      ],
      "metadata": {
        "id": "wzUaQmDxosf0"
      }
    },
    {
      "cell_type": "code",
      "source": [
        "my_tuple_2 = (4, 5, 6)\n",
        "(number_1, number_2, number_3) = my_tuple_2\n",
        "\n",
        "print(number_1)\n",
        "print(number_2)\n",
        "print(number_3)"
      ],
      "metadata": {
        "colab": {
          "base_uri": "https://localhost:8080/"
        },
        "id": "SHQGuqX4o7PK",
        "outputId": "d7f9274b-afc3-4346-a0f3-99c6fe99de79"
      },
      "execution_count": null,
      "outputs": [
        {
          "output_type": "stream",
          "name": "stdout",
          "text": [
            "4\n",
            "5\n",
            "6\n"
          ]
        }
      ]
    },
    {
      "cell_type": "markdown",
      "metadata": {
        "id": "TND5Br8-SYkp"
      },
      "source": [
        "## Accessing Tuple Elements by Index\n",
        "\n",
        "Tuples, being ordered collections, allow us to access their elements using their index, just like we would with a list or a string. Each element in the tuple has a specific position assigned to it, starting from 0 for the first element."
      ]
    },
    {
      "cell_type": "code",
      "execution_count": null,
      "metadata": {
        "id": "-kSM_J8BSYkp",
        "colab": {
          "base_uri": "https://localhost:8080/"
        },
        "outputId": "0f4de777-47b9-4633-e61c-5fee674df351"
      },
      "outputs": [
        {
          "output_type": "stream",
          "name": "stdout",
          "text": [
            "red\n",
            "blue\n",
            "('pink', 'green', 'orange')\n"
          ]
        }
      ],
      "source": [
        "colours = (\"red\", \"yellow\", \"pink\", \"green\", \"orange\", \"purple\", \"blue\")\n",
        "\n",
        "first_colour = colours[0]\n",
        "last_colour = colours[-1]\n",
        "middle_colours = colours[2:5]\n",
        "\n",
        "print(first_colour)\n",
        "print(last_colour)\n",
        "print(middle_colours)"
      ]
    },
    {
      "cell_type": "markdown",
      "metadata": {
        "id": "z3a-3myoSYkq"
      },
      "source": [
        "## What is a Set?\n",
        "\n",
        "A set is an **unordered** collection of **unique** elements. Sets are useful when you need to ensure that there are no duplicates and when the order is not important."
      ]
    },
    {
      "cell_type": "code",
      "execution_count": null,
      "metadata": {
        "id": "BZfeqBzGSYkq",
        "colab": {
          "base_uri": "https://localhost:8080/"
        },
        "outputId": "d8c26bce-e00f-4494-b04b-810a2a642f68"
      },
      "outputs": [
        {
          "output_type": "stream",
          "name": "stdout",
          "text": [
            "{'pink', 'red', 'purple', 'green', 'orange', 'blue', 'yellow'}\n"
          ]
        }
      ],
      "source": [
        "my_set = {\"red\", \"yellow\", \"pink\", \"green\", \"orange\", \"purple\", \"blue\"}\n",
        "print(my_set) # Check the ordering of the output."
      ]
    },
    {
      "cell_type": "markdown",
      "metadata": {
        "id": "H46_OKRSSYkq"
      },
      "source": [
        "## Using Sets to Remove Duplicates from a List\n",
        "\n",
        "One common use of a set in Python is to remove duplicate elements from a list. Since sets cannot have duplicate values, converting a list to a set automatically removes any repeated items."
      ]
    },
    {
      "cell_type": "code",
      "execution_count": null,
      "metadata": {
        "id": "9UEeETM2SYkq",
        "colab": {
          "base_uri": "https://localhost:8080/"
        },
        "outputId": "ba9f22f0-ff14-4234-e30e-0323597b9afa"
      },
      "outputs": [
        {
          "output_type": "stream",
          "name": "stdout",
          "text": [
            "[1, 2, 3, 4]\n"
          ]
        }
      ],
      "source": [
        "my_list = [1, 2, 2, 3, 3, 3, 4, 4, 4, 4]\n",
        "unique_values = set(my_list)\n",
        "unique_list = list(unique_values)\n",
        "\n",
        "print(unique_list)"
      ]
    },
    {
      "cell_type": "markdown",
      "source": [
        "## Join Sets\n",
        "\n",
        "You can use the union() method that returns a new set containing all items from both sets, or the update() method that inserts all the items from one set into another:\n"
      ],
      "metadata": {
        "id": "buH9j7_LmC7F"
      }
    },
    {
      "cell_type": "code",
      "source": [
        "set1 = {\"a\", \"b\" , \"c\"}\n",
        "set2 = {1, 2, 3}\n",
        "\n",
        "set3 = ,\n",
        "print(set3)"
      ],
      "metadata": {
        "colab": {
          "base_uri": "https://localhost:8080/"
        },
        "id": "4t_MHJUqmMZm",
        "outputId": "76fcfa60-b364-47d3-aeca-a3bb236dd482"
      },
      "execution_count": null,
      "outputs": [
        {
          "output_type": "stream",
          "name": "stdout",
          "text": [
            "{1, 2, 3, 'a', 'b', 'c'}\n"
          ]
        }
      ]
    },
    {
      "cell_type": "code",
      "source": [
        "set1 = {\"a\", \"b\" , \"c\"}\n",
        "set2 = {1, 2, 3}\n",
        "\n",
        "set1.update(set2)\n",
        "print(set1)"
      ],
      "metadata": {
        "colab": {
          "base_uri": "https://localhost:8080/"
        },
        "id": "O0dtdDkOmf8U",
        "outputId": "1fd3597f-3c52-460c-c02d-989cf4b3d96c"
      },
      "execution_count": null,
      "outputs": [
        {
          "output_type": "stream",
          "name": "stdout",
          "text": [
            "{1, 2, 3, 'a', 'b', 'c'}\n"
          ]
        }
      ]
    },
    {
      "cell_type": "markdown",
      "source": [
        "Both union() and update() will exclude any duplicate items."
      ],
      "metadata": {
        "id": "gy1mtPtemo9c"
      }
    },
    {
      "cell_type": "code",
      "source": [
        "set4 = {\"a\", \"b\" , \"c\", 1}\n",
        "set5 = {1, 2, 3}\n",
        "\n",
        "set4.update(set5)\n",
        "print(set4)"
      ],
      "metadata": {
        "colab": {
          "base_uri": "https://localhost:8080/"
        },
        "id": "sQzhd5aqmpul",
        "outputId": "68fd7171-ce0b-492c-99bc-4a21d29657fd"
      },
      "execution_count": null,
      "outputs": [
        {
          "output_type": "stream",
          "name": "stdout",
          "text": [
            "{1, 2, 3, 'a', 'b', 'c'}\n"
          ]
        }
      ]
    },
    {
      "cell_type": "markdown",
      "source": [
        "## Some useful Set Methods\n",
        "\n",
        "Python has a set of built-in methods that you can use on sets."
      ],
      "metadata": {
        "id": "GGc3dLyWm6ux"
      }
    },
    {
      "cell_type": "markdown",
      "source": [
        "The difference() method returns a set containing the difference between two or more sets"
      ],
      "metadata": {
        "id": "JL2smu4qnDeb"
      }
    },
    {
      "cell_type": "code",
      "source": [
        "x = {\"a\", \"b\" , \"c\", 1}\n",
        "y = {1, 2, 3}\n",
        "\n",
        "z = x.difference(y) # Return a set that contains the items that only exist in set x, and not in set y\n",
        "\n",
        "print(z)"
      ],
      "metadata": {
        "colab": {
          "base_uri": "https://localhost:8080/"
        },
        "id": "a7tRiYP4nN5l",
        "outputId": "9f52d3a1-81fd-40ed-c5de-608c88f1f498"
      },
      "execution_count": null,
      "outputs": [
        {
          "output_type": "stream",
          "name": "stdout",
          "text": [
            "{'b', 'c', 'a'}\n"
          ]
        }
      ]
    },
    {
      "cell_type": "code",
      "source": [
        "x = {\"a\", \"b\" , \"c\", 1}\n",
        "y = {1, 2, 3}\n",
        "\n",
        "z = y.difference(x) # Reverse the above example. Return a set that contains the items that only exist in set y, and not in set x\n",
        "\n",
        "print(z)"
      ],
      "metadata": {
        "id": "itWGrILkoDKW"
      },
      "execution_count": null,
      "outputs": []
    },
    {
      "cell_type": "markdown",
      "source": [
        "The intersection() method returns a set that contains the similarity between two or more sets"
      ],
      "metadata": {
        "id": "dgGUB7zKoT45"
      }
    },
    {
      "cell_type": "code",
      "source": [
        "x = {\"apple\", \"banana\", \"cherry\"}\n",
        "y = {\"google\", \"microsoft\", \"apple\"}\n",
        "\n",
        "z = x.intersection(y)\n",
        "\n",
        "print(z)"
      ],
      "metadata": {
        "colab": {
          "base_uri": "https://localhost:8080/"
        },
        "id": "HoRlRNSZoV0A",
        "outputId": "63ccc462-24f1-463b-bb4e-69b52499637e"
      },
      "execution_count": null,
      "outputs": [
        {
          "output_type": "stream",
          "name": "stdout",
          "text": [
            "{'apple'}\n"
          ]
        }
      ]
    },
    {
      "cell_type": "markdown",
      "source": [
        "# **Exercise #1**\n",
        "\n",
        "Here are some exercise to check your understanding of the above sections. Please try your best to solve the problems. Once you finish, you can check the link to see the solutions."
      ],
      "metadata": {
        "id": "x6aVmD-4YlIY"
      }
    },
    {
      "cell_type": "markdown",
      "source": [
        "1) Calculate the area of a circle with a radius of 7.5. Use the formula area=πr^2, where r is the radius of the circle."
      ],
      "metadata": {
        "id": "dyxIxxXaZBYe"
      }
    },
    {
      "cell_type": "code",
      "source": [],
      "metadata": {
        "id": "cbsB82odZPU6"
      },
      "execution_count": null,
      "outputs": []
    },
    {
      "cell_type": "markdown",
      "source": [
        "2) Given the string \"Python is awesome\", write a Python program to:\n",
        "\n",
        "Print this string in uppercase.\n",
        "\n",
        "Replace \"awesome\" with \"great\".\n",
        "\n",
        "Print the number of occurrences of the letter 's' in this string."
      ],
      "metadata": {
        "id": "h3CT-hljZP5q"
      }
    },
    {
      "cell_type": "code",
      "source": [],
      "metadata": {
        "id": "aAjIXXDCZYrh"
      },
      "execution_count": null,
      "outputs": []
    },
    {
      "cell_type": "markdown",
      "source": [
        "3) Given the list numbers = [10, 20, 30, 40, 50], write a Python program to:\n",
        "\n",
        "\n",
        "Add the number 60 to the end of the list.\n",
        "\n",
        "Insert the number 25 between 20 and 30.\n",
        "\n",
        "Remove the number 40 from the list.\n",
        "\n",
        "Print the sum of all numbers in the updated list."
      ],
      "metadata": {
        "id": "N1JsPg9mZch7"
      }
    },
    {
      "cell_type": "code",
      "source": [],
      "metadata": {
        "id": "iPeuAHf1Zi2f"
      },
      "execution_count": null,
      "outputs": []
    },
    {
      "cell_type": "markdown",
      "source": [
        "4) Given the dictionary student = {\"name\": \"Emma\", \"class\": \"9th\", \"marks\": 75}, write a Python program to:\n",
        "\n",
        "Add a new key-value pair \"gender\": \"Female\".\n",
        "\n",
        "Update the marks to 85.\n",
        "\n",
        "Print all keys in the dictionary.\n",
        "\n",
        "Print all values in the dictionary."
      ],
      "metadata": {
        "id": "huhDoPa5ZvPg"
      }
    },
    {
      "cell_type": "code",
      "source": [],
      "metadata": {
        "id": "etg7CkJXZu3D"
      },
      "execution_count": null,
      "outputs": []
    },
    {
      "cell_type": "markdown",
      "source": [
        "5) Given the tuple info = (\"John\", \"Doe\", 30), write a Python program to:\n",
        "\n",
        "Unpack this tuple into variables first_name, last_name, and age.\n",
        "Print these variables."
      ],
      "metadata": {
        "id": "GXC7UC_0ZjOM"
      }
    },
    {
      "cell_type": "code",
      "source": [],
      "metadata": {
        "id": "T3ATLuspZ2BP"
      },
      "execution_count": null,
      "outputs": []
    },
    {
      "cell_type": "markdown",
      "source": [
        "6) Given two sets set1 = {1, 2, 3, 4, 5} and set2 = {4, 5, 6, 7, 8}, write a Python program to:\n",
        "\n",
        "Print the union of these two sets.\n",
        "\n",
        "Print the intersection of these two sets.\n",
        "\n",
        "Find the set difference of set1 minus set2."
      ],
      "metadata": {
        "id": "oq063ZxlZ2lb"
      }
    },
    {
      "cell_type": "code",
      "source": [],
      "metadata": {
        "id": "Lew1cLGAgxB2"
      },
      "execution_count": null,
      "outputs": []
    },
    {
      "cell_type": "markdown",
      "source": [
        "[Click the link to check the solutions!](https://colab.research.google.com/drive/1VdbLgwSrifeigCVSpbqjuv_-x7fTIRdi?usp=sharing)"
      ],
      "metadata": {
        "id": "FJrbDU94gxU0"
      }
    },
    {
      "cell_type": "markdown",
      "source": [
        "# **12 Loops**"
      ],
      "metadata": {
        "id": "NWWwEJ5QYIKo"
      }
    },
    {
      "cell_type": "markdown",
      "metadata": {
        "id": "Y9qJFkoxQJPc"
      },
      "source": [
        "## Flow Control in Python\n",
        "\n",
        "Flow control in programming is about deciding what should happen when your code runs.\n",
        "\n",
        "There are three main types of flow control:\n",
        "\n",
        "1. **Sequencing**: This is the default mode (which we are familiar with) where instructions are executed one after the other, in order.\n",
        "2. **Iteration**: This means repeating some code over and over again, which is often called a loop. (We mentioned this in section 10 when we are iterating through keys and values in a dictionary)\n",
        "3. **Selection**: This is when we use conditions to decide which pieces of code to execute, also known as conditional execution.\n",
        "\n",
        "In the real world of programming, we rarely use sequencing, iteration, and selection in isolation. Instead, most computer programs combine these three techniques to perform complex tasks.\n",
        "\n",
        "Just like in a complex machine where different parts perform different functions, in programming, different flow control techniques serve different purposes. By combining them, we can handle more complicated tasks and solve complex problems."
      ]
    },
    {
      "cell_type": "markdown",
      "metadata": {
        "id": "8rLBkUsWQJPe"
      },
      "source": [
        "### Why is Flow Control Important?\n",
        "\n",
        "**Decision Making**: Flow control allows programs to make decisions, letting them choose different courses of action based on user input, the value of variables, or other conditions.\n",
        "\n",
        "**Dynamic Behavior**: It enables the creation of responsive programs that can adjust their behavior based on the circumstances they encounter.\n",
        "\n",
        "**Efficiency**: Instead of performing unnecessary operations, a program can decide to skip certain sections of code, making it more efficient."
      ]
    },
    {
      "cell_type": "markdown",
      "metadata": {
        "id": "3Aqz3BBeQJPf"
      },
      "source": [
        "## Iterating with `for` Loops\n",
        "\n",
        "A `for` loop in Python lets you repeat a block of code multiple times. This is called **iterating**.\n",
        "\n",
        "Here's how a basic `for` loop looks in Python:"
      ]
    },
    {
      "cell_type": "code",
      "execution_count": null,
      "metadata": {
        "id": "XhDMH7o2QJPf",
        "colab": {
          "base_uri": "https://localhost:8080/"
        },
        "outputId": "d7a0352c-38de-4a47-bfc8-a72f6e52512b"
      },
      "outputs": [
        {
          "output_type": "stream",
          "name": "stdout",
          "text": [
            "Hello, World!\n",
            "Hello, World!\n",
            "Hello, World!\n",
            "Hello, World!\n",
            "Hello, World!\n"
          ]
        }
      ],
      "source": [
        "for i in range(5):\n",
        "    print(\"Hello, World!\")"
      ]
    },
    {
      "cell_type": "markdown",
      "metadata": {
        "id": "BmQ40uBTQJPg"
      },
      "source": [
        "In this loop, the `print()` statement will be executed 5 times.\n",
        "\n",
        "Here is a breakdown of the `for` loop:\n",
        "\n",
        "- **`for`**: A keyword that starts the loop.\n",
        "- **`i`**: The iteration variable that changes with each loop iteration.\n",
        "- **`range(5)`**: A function that gives a sequence of numbers (from 0 to 4 in this case) for the loop to iterate over.\n",
        "- **`:`**: Indicates the start of the code block.\n",
        "- **`print(\"Hello, World!\")`**: The block of code to repeat; notice it's indented."
      ]
    },
    {
      "cell_type": "markdown",
      "metadata": {
        "id": "tJ3fMmsMQJPg"
      },
      "source": [
        "### Importance of Indentation\n",
        "\n",
        "ndentation is essential in Python, especially with loops and conditional blocks. It tells Python which lines of code belong to the loop and which do not.\n",
        "\n",
        "When you write a `for` loop, every line of code that should be executed as part of the loop must be indented **uniformly**. This means each line should start with the same number of spaces or a tab.\n",
        "\n",
        "Here's the correct way to use indentation with a for loop:"
      ]
    },
    {
      "cell_type": "code",
      "execution_count": null,
      "metadata": {
        "id": "WFn3AdxTQJPg",
        "colab": {
          "base_uri": "https://localhost:8080/"
        },
        "outputId": "6d2accf0-697b-4fa0-f93d-ac557e7e37fc"
      },
      "outputs": [
        {
          "output_type": "stream",
          "name": "stdout",
          "text": [
            "This is inside the loop.\n",
            "This will also repeat in the loop.\n",
            "This is inside the loop.\n",
            "This will also repeat in the loop.\n",
            "This is inside the loop.\n",
            "This will also repeat in the loop.\n",
            "This is inside the loop.\n",
            "This will also repeat in the loop.\n",
            "This is inside the loop.\n",
            "This will also repeat in the loop.\n",
            "This is outside the loop.\n"
          ]
        }
      ],
      "source": [
        "for i in range(5):\n",
        "    print(\"This is inside the loop.\")\n",
        "    print(\"This will also repeat in the loop.\")\n",
        "\n",
        "print(\"This is outside the loop.\")"
      ]
    },
    {
      "cell_type": "markdown",
      "metadata": {
        "id": "nwc6ixBFQJPg"
      },
      "source": [
        "In this example, the two `print()` statements inside the loop will be repeated 5 times. The last `print()` statement is not indented, so it's not part of the loop and will only execute once after the loop finishes."
      ]
    },
    {
      "cell_type": "markdown",
      "metadata": {
        "id": "mtutK4q2QJPg"
      },
      "source": [
        "#### Incorrect indentation\n",
        "\n",
        "Incorrect indentation leads to errors or unexpected behavior in your code.\n",
        "\n",
        "Here's an example of what not to do:"
      ]
    },
    {
      "cell_type": "code",
      "execution_count": null,
      "metadata": {
        "id": "omhnziQ_QJPg",
        "colab": {
          "base_uri": "https://localhost:8080/",
          "height": 143
        },
        "outputId": "fe5e96fa-ec9b-4451-f16c-bef5d4792049"
      },
      "outputs": [
        {
          "output_type": "error",
          "ename": "IndentationError",
          "evalue": "expected an indented block after 'for' statement on line 1 (<ipython-input-140-242f78e3ced4>, line 2)",
          "traceback": [
            "\u001b[0;36m  File \u001b[0;32m\"<ipython-input-140-242f78e3ced4>\"\u001b[0;36m, line \u001b[0;32m2\u001b[0m\n\u001b[0;31m    print(\"This will cause an error because it is not indented.\")\u001b[0m\n\u001b[0m    ^\u001b[0m\n\u001b[0;31mIndentationError\u001b[0m\u001b[0;31m:\u001b[0m expected an indented block after 'for' statement on line 1\n"
          ]
        }
      ],
      "source": [
        "for i in range(5):\n",
        "print(\"This will cause an error because it is not indented.\")"
      ]
    },
    {
      "cell_type": "markdown",
      "metadata": {
        "id": "kFM6dwZyQJPg"
      },
      "source": [
        "Running this code will cause Python to stop and raise an `IndentationError`, telling you that it expected an indented block."
      ]
    },
    {
      "cell_type": "markdown",
      "metadata": {
        "id": "NhEd1gzrQJPh"
      },
      "source": [
        "#### The role of the colon\n",
        "\n",
        "The colon `:` at the end of the `for` statement (and many other statements in Python) signals the start of the indented block of code that forms the loop body (in this case)."
      ]
    },
    {
      "cell_type": "markdown",
      "metadata": {
        "id": "bVAKmJ5PQJPh"
      },
      "source": [
        "#### Indentation best practices\n",
        "\n",
        "- Use 4 spaces for indentation, which is the Python standard.\n",
        "- Be consistent with the use of spaces or tabs for indentation.\n",
        "- All lines of code within the same block should have the same indentation."
      ]
    },
    {
      "cell_type": "markdown",
      "metadata": {
        "id": "tV2IlFsrQJPh"
      },
      "source": [
        "### Empty Code Blocks\n",
        "\n",
        "In Python, indented code blocks following structures like `for` loops **cannot** be empty. If we try to leave a block empty, Python will give us an `IndentationError`.\n",
        "\n",
        "If we do not have code ready for the block, we can use the `pass` keyword. The `pass` keyword is a placeholder that allows us to handle these empty blocks without error. It lets Python know that the block is intentionally left empty, avoiding an error and allowing our program to run smoothly.\n",
        "\n",
        "Here's how we can use `pass` in a `for` loop:"
      ]
    },
    {
      "cell_type": "code",
      "execution_count": null,
      "metadata": {
        "id": "HYCoZhO6QJPh"
      },
      "outputs": [],
      "source": [
        "for i in range(5):\n",
        "    # Suppose we're not sure what to do here yet\n",
        "    pass"
      ]
    },
    {
      "cell_type": "markdown",
      "metadata": {
        "id": "zBV_uButQJPh"
      },
      "source": [
        "## Iterating with `while` Loops\n",
        "\n",
        "A `while` loop in Python allow us to execute a block of code repeatedly as long as a condition is `True`. Unlike `for` loops, `while` loops are used when the number of iterations is not known before starting the loop."
      ]
    },
    {
      "cell_type": "markdown",
      "metadata": {
        "id": "scfqtLbCQJPh"
      },
      "source": [
        "### Using While Loops for Unknown Iteration Counts\n",
        "\n",
        "Sometimes we do not know in advance how many times we need to iterate. For instance, asking a user for input until they provide a valid response.\n",
        "\n",
        "Here's a basic example of a `while` loop:"
      ]
    },
    {
      "cell_type": "code",
      "execution_count": null,
      "metadata": {
        "id": "1eqEfQCyQJPh",
        "colab": {
          "base_uri": "https://localhost:8080/"
        },
        "outputId": "8d494ab5-bbbe-4bce-cad3-7c51d1a2e876"
      },
      "outputs": [
        {
          "output_type": "stream",
          "name": "stdout",
          "text": [
            "Counter is 0\n",
            "Counter is 1\n",
            "Counter is 2\n",
            "Counter is 3\n",
            "Counter is 4\n"
          ]
        }
      ],
      "source": [
        "counter = 0\n",
        "while counter < 5:\n",
        "    print(\"Counter is\", counter)\n",
        "    counter += 1  # This is important!"
      ]
    },
    {
      "cell_type": "markdown",
      "metadata": {
        "id": "pVHhAfDYQJPh"
      },
      "source": [
        "In this example, the loop will run as long as `counter` is less than `5`. The amount of iterations the `while` loop performs depends on the value of `counter`.\n",
        "\n"
      ]
    },
    {
      "cell_type": "markdown",
      "metadata": {
        "id": "FOz8sNSmQJPh"
      },
      "source": [
        "### `while` Loop Syntax\n",
        "\n",
        "The basic structure of a `while` loop includes the `while` keyword, a condition that's checked before each iteration, and a `:` followed by an indented block of code to execute."
      ]
    },
    {
      "cell_type": "code",
      "execution_count": null,
      "metadata": {
        "id": "0Rw4zUXcQJPh",
        "colab": {
          "base_uri": "https://localhost:8080/"
        },
        "outputId": "c6d010cb-f469-4dc8-d9f1-045ff8e60968"
      },
      "outputs": [
        {
          "output_type": "stream",
          "name": "stdout",
          "text": [
            "Ticket sold!\n",
            "Ticket sold!\n",
            "Ticket sold!\n",
            "Ticket sold!\n",
            "Ticket sold!\n",
            "Ticket sold!\n",
            "Ticket sold!\n",
            "Ticket sold!\n",
            "Ticket sold!\n",
            "Ticket sold!\n",
            "Tickets sold out.\n"
          ]
        }
      ],
      "source": [
        "tickets = 10\n",
        "\n",
        "while tickets > 0:\n",
        "    print(\"Ticket sold!\")\n",
        "    tickets -= 1\n",
        "print(\"Tickets sold out.\")"
      ]
    },
    {
      "cell_type": "markdown",
      "metadata": {
        "id": "8MjcOZBPQJPh"
      },
      "source": [
        "### Infinite Loops\n",
        "\n",
        "If the condition in a `while` loop never becomes `False`, the loop will run forever, creating what's known as an **infinite loop**. To avoid this, we must ensure that the condition is updated during the iteration and that it will eventually be `False`."
      ]
    },
    {
      "cell_type": "markdown",
      "metadata": {
        "id": "Dgkh5E5DQJPh"
      },
      "source": [
        "#### Counters in `while` loops\n",
        "\n",
        "Counters are a common way to track the number of iterations and to eventually stop the loop. In our example, `counter += 1` increments the counter by `1` in each iteration."
      ]
    },
    {
      "cell_type": "markdown",
      "metadata": {
        "id": "V1CgIUdIQJPh"
      },
      "source": [
        "#### Avoiding infinite loops\n",
        "To avoid infinite loops:\n",
        "\n",
        "- Make sure the loop has a condition that can become `False`.\n",
        "- If using a counter, ensure it is incremented or decremented correctly.\n",
        "- Test your loop with different conditions to ensure it stops as expected."
      ]
    },
    {
      "cell_type": "markdown",
      "metadata": {
        "id": "VRj_upo1QJPi"
      },
      "source": [
        "## Iteration Wrap Up"
      ]
    },
    {
      "cell_type": "markdown",
      "metadata": {
        "id": "si1NyLbXQJPi"
      },
      "source": [
        "### After the Loop\n",
        "\n",
        "Once a loop has completed its execution, the flow of the program returns to sequencing and continues to the next line of code that follows the loop block. It's important to understand what happens once a loop is done because you might need to perform actions based on the work done by the loop."
      ]
    },
    {
      "cell_type": "markdown",
      "metadata": {
        "id": "QuMeaVR1QJPi"
      },
      "source": [
        "## `for` vs `while` Loops\n",
        "\n",
        "To choose between a `for` loop and a `while` loop, consider the following:\n",
        "\n",
        "- Use a `for` loop when:\n",
        "    - You know exactly how many times you need to iterate.\n",
        "\n",
        "- Use a `while` loop when:\n",
        "    - The number of iterations is not known in advance.\n",
        "    - You need the loop to stop based on a condition.\n",
        "\n",
        "We will introduce more uses for the `for` and `while` loops when we explore more concepts."
      ]
    },
    {
      "cell_type": "markdown",
      "source": [
        "# **13 Conditional Statements**"
      ],
      "metadata": {
        "id": "upCdB-yfYP1e"
      }
    },
    {
      "cell_type": "markdown",
      "metadata": {
        "id": "Jjc0cPnNRO5f"
      },
      "source": [
        "**Conditional statements** are fundamental constructs in programming that allow our programs to make decisions based on certain conditions or criteria. They help in altering the flow of execution by branching out into different parts of code based on some conditions."
      ]
    },
    {
      "cell_type": "markdown",
      "metadata": {
        "id": "egUPxDgbRO5h"
      },
      "source": [
        "## Directing Program Flow with Conditional Statements"
      ]
    },
    {
      "cell_type": "markdown",
      "metadata": {
        "id": "2Wed0K7RRO5i"
      },
      "source": [
        "Normally, a Python program is executed from top to bottom (**Sequencing**). However, when conditionals come into play, the linear flow of execution can be altered. Based on whether a condition is `True` or `False`, different parts of the code might get executed (**Selection**), and some parts might get skipped altogether."
      ]
    },
    {
      "cell_type": "markdown",
      "metadata": {
        "id": "L623mlJGRO5i"
      },
      "source": [
        "## The `if` Statement\n",
        "\n",
        "The `if` statement is used to test a specific condition. If the condition is `True`, the code block under the `if` statement will be executed.\n",
        "\n",
        "For example:"
      ]
    },
    {
      "cell_type": "code",
      "execution_count": null,
      "metadata": {
        "id": "IAuqdybRRO5i"
      },
      "outputs": [],
      "source": [
        "age = 28\n",
        "\n",
        "if age >= 18:\n",
        "    print(\"Adult Ticket\")"
      ]
    },
    {
      "cell_type": "code",
      "execution_count": null,
      "metadata": {
        "id": "zNWlh_eJRO5j"
      },
      "outputs": [],
      "source": [
        "age = 14\n",
        "\n",
        "if age >= 18:\n",
        "    print(\"Adult Ticket\")"
      ]
    },
    {
      "cell_type": "markdown",
      "metadata": {
        "id": "R3LguNX5RO5j"
      },
      "source": [
        "## The `else` Statement\n",
        "\n",
        "The `else` statement is used to capture all cases where the preceding `if` condition is `False`. It doesn't have a condition; it simply catches everything that the `if` didn't.\n",
        "\n",
        "Here's an example of our previous code incorporating an `else` block:"
      ]
    },
    {
      "cell_type": "code",
      "execution_count": null,
      "metadata": {
        "id": "k2N1PfrmRO5j"
      },
      "outputs": [],
      "source": [
        "age = 14\n",
        "\n",
        "if age >= 18:\n",
        "    print(\"Adult Ticket\")\n",
        "else:\n",
        "    print(\"Child Ticket\")"
      ]
    },
    {
      "cell_type": "markdown",
      "metadata": {
        "id": "q-EvKbgARO5j"
      },
      "source": [
        "## The `elif` Statement\n",
        "\n",
        "The `elif` (else-if) statement is used when we want to test multiple conditions, and it comes after an `if` and before an `else`. Allowing for more than two possible paths of execution."
      ]
    },
    {
      "cell_type": "code",
      "execution_count": null,
      "metadata": {
        "id": "-wY5x4HFRO5j"
      },
      "outputs": [],
      "source": [
        "age = 14\n",
        "\n",
        "if age >= 65:\n",
        "    print(\"Senior Ticket\")\n",
        "elif age >= 18:\n",
        "    print(\"Adult Ticket\")\n",
        "elif age >= 4:\n",
        "    print(\"Child Ticket\")\n",
        "else:\n",
        "    print(\"Free (Accompanied by Adult)\")"
      ]
    },
    {
      "cell_type": "markdown",
      "metadata": {
        "id": "PF5VUYHlRO5k"
      },
      "source": [
        "## The `if`, `elif` and `else` Syntax\n",
        "\n",
        "The syntax for the `if`, `elif`, `else` structure can be broken down into the following components:\n",
        "\n",
        "1. **`if` Keyword**: The structure starts with the `if` keyword followed by a condition. This checks whether the condition is `True`.\n",
        "\n",
        "2. **Condition**: This is a Boolean expression that determines whether the code block under the associated keyword (`if` or `elif`) will run.\n",
        "\n",
        "3. **Colon (`:`)**: As with other control structures in Python, lines defining `if`, `elif`, and `else` must end with a colon.\n",
        "\n",
        "4. **Indented Code Block**: Following each keyword (`if`, `elif`, or `else`), there's an indented block of code.\n",
        "\n",
        "5. **`elif` Keyword**: Short for \"else if\". It allows for additional conditions to be checked if the previous ones are `False`.\n",
        "\n",
        "6. **`else` Keyword**: This is the final fallback option. The code block underneath `else` will execute if none of the preceding conditions (from `if` and `elif` statements) are `True`."
      ]
    },
    {
      "cell_type": "markdown",
      "metadata": {
        "id": "3NfKYecsRO5k"
      },
      "source": [
        "### When to use `elif` and when to skip `else`\n",
        "\n",
        "Sometimes, we might have multiple conditions to check. For this, we use `elif` (short for \"else if\"). The `else` part is optional and is only used if we want to do something when none of the `if` or `elif` conditions are `True`."
      ]
    },
    {
      "cell_type": "markdown",
      "metadata": {
        "id": "0tfnJip-RO5k"
      },
      "source": [
        "### Proper ordering of `if`, `elif`, and `else`\n",
        "\n",
        "Order is important. Python checks the `if` and `elif` conditions in the order they appear in the code. Once it finds a `True` condition, it runs the block of code underneath and **skips** the rest."
      ]
    },
    {
      "cell_type": "markdown",
      "metadata": {
        "id": "A2e2Gu8CRO5k"
      },
      "source": [
        "## Nesting Conditional Statements\n",
        "\n",
        "Sometimes, you'll want to check a condition within another condition. This is called nesting.\n",
        "\n",
        "Here's an example of nested `if` statements:"
      ]
    },
    {
      "cell_type": "code",
      "execution_count": null,
      "metadata": {
        "id": "ruiA2_lLRO5k"
      },
      "outputs": [],
      "source": [
        "age = 28\n",
        "is_member = True\n",
        "\n",
        "if is_member: # is_member is True, so the program enters the first block of code\n",
        "    if age <= 21: # evaluates to False, so code block is skipped\n",
        "        print(\"Discount applies: 20% off.\")\n",
        "    else: # code block is executed as all previous tests were False\n",
        "        print(\"Discount applies: 10% off.\")\n",
        "else: # as the first conditional test is True this code block is skipped\n",
        "    print(\"No discount.\")\n"
      ]
    },
    {
      "cell_type": "markdown",
      "source": [
        "# **Exercise #2**\n",
        "\n",
        "This exercise aims to test your understanding of `for` loop and conditional statements."
      ],
      "metadata": {
        "id": "CoHOI4Gzq3JD"
      }
    },
    {
      "cell_type": "markdown",
      "source": [
        "You have been given a list of mixed data types named mixed_list that contains integers, strings, and floats. Your task is divided into multiple parts to practice different aspects of for loops and conditional statements.\n",
        "\n",
        "`mixed_list = [10, 20, \"Python\", 3.14, \"Code\", 25.5, 100, \"Loop\"]`\n",
        "\n",
        "\n",
        "\n",
        "\n",
        "1) Sum of Numbers: Write a Python program using a for loop that calculates the sum of all numeric (integer and float) elements in mixed_list. Print the result.\n",
        "\n",
        "2) Concatenate Strings: Modify the program to concatenate all string elements in mixed_list into a single string separated by spaces. Print the result.\n",
        "\n",
        "3) Count Integers and Floats: Further, modify the program to count the number of integer and float elements in mixed_list. Print both counts.\n",
        "\n",
        "4) Filter and Print: Finally, write a loop that prints each element of mixed_list but only if the element is a string or an integer that is greater than 20."
      ],
      "metadata": {
        "id": "RRN8aXrzq6QU"
      }
    },
    {
      "cell_type": "code",
      "source": [],
      "metadata": {
        "id": "6k3cXokDG9jW"
      },
      "execution_count": null,
      "outputs": []
    },
    {
      "cell_type": "code",
      "source": [],
      "metadata": {
        "id": "fnJNcbcIHAAq"
      },
      "execution_count": null,
      "outputs": []
    },
    {
      "cell_type": "code",
      "source": [],
      "metadata": {
        "id": "ebGUQI1OHALA"
      },
      "execution_count": null,
      "outputs": []
    },
    {
      "cell_type": "code",
      "source": [],
      "metadata": {
        "id": "P5v14lvmHAbu"
      },
      "execution_count": null,
      "outputs": []
    },
    {
      "cell_type": "markdown",
      "source": [
        "[Click link to check the solutions!](https://colab.research.google.com/drive/1INtHN7SMCzd3C_h4WJAeDD1Am-oCrbeE?usp=sharing)"
      ],
      "metadata": {
        "id": "CGCfx3J9q7zX"
      }
    },
    {
      "cell_type": "markdown",
      "source": [
        "# **14 Functions**"
      ],
      "metadata": {
        "id": "7YXDXLdDcEbZ"
      }
    },
    {
      "cell_type": "markdown",
      "source": [
        "## What and Why Functions\n",
        "\n",
        "One of the key efforts in programming is trying to work in as efficient a way as possible. Often programming we would want to use the same code in multiple places, and it would be more efficient to have this saved as a ***function***, so we can call the ***function*** as a single line of code rather than type everything out again.\n"
      ],
      "metadata": {
        "id": "zBxh5eawcVwV"
      }
    },
    {
      "cell_type": "markdown",
      "source": [
        "## Learn about Functions with Example\n",
        "\n",
        "Let's create an e-commerce example, assuming we have some customers and recorded their ordering information. Here we have created two dictionaries, storing customer information and order details respectively."
      ],
      "metadata": {
        "id": "H1bF9IdKc1hZ"
      }
    },
    {
      "cell_type": "code",
      "source": [
        "# Assuming we are having 4 customers and here we store the name of customers ('name'), the number of orders ('open_orders\")and the order numbers ('orders').\n",
        "# If 'open_orders' == 0, 'orders' will have empty list '[]'\n",
        "customers = {'James':{'name':'James Pennington', \\\n",
        "                      'open_orders':1, \\\n",
        "                      'orders':['o10001', 'o10002', 'o10004']\n",
        "                      }, \\\n",
        "             'Gareth':{'name':'Gareth Edwards', \\\n",
        "                       'open_orders':0, \\\n",
        "                       'orders':[]\n",
        "                       }, \\\n",
        "             'Mark':{'name':'Mark Bonnett', \\\n",
        "                     'open_orders':1, \\\n",
        "                     'orders':['o10003']\n",
        "                     }, \\\n",
        "             'Emily':{'name':'Emily Davis', \\\n",
        "             'open_orders':0, \\\n",
        "             'orders':[]}\n",
        "             }"
      ],
      "metadata": {
        "id": "vmj47Uohdbqx"
      },
      "execution_count": null,
      "outputs": []
    },
    {
      "cell_type": "code",
      "source": [
        "# We have seen the order numbers in the above dictonary, and the below are the details for each order.\n",
        "\n",
        "orders = {'o10001':{'date':'2019/01/10', \\\n",
        "                    'product':'Social Media Detector', \\\n",
        "                    'quantity':'1'\n",
        "                    }, \\\n",
        "          'o10002':{'date':'2019/01/13', \\\n",
        "                    'product':'Realistic Man\\'s wig', \\\n",
        "                    'quantity':'2' \\\n",
        "                    }, \\\n",
        "          'o10003':{'date':'2019/01/14', \\\n",
        "                    'product':'Weather\\'s Originals', \\\n",
        "                    'quantity':'10' \\\n",
        "                    }, \\\n",
        "          'o10004':{'date':'2019/01/15', \\\n",
        "                    'product':'Brown Shoes', \\\n",
        "                    'quantity':'2' \\\n",
        "                    }\n",
        "          }"
      ],
      "metadata": {
        "id": "uMIc9fK_fLNj"
      },
      "execution_count": null,
      "outputs": []
    },
    {
      "cell_type": "markdown",
      "source": [
        "Assume a customer would want to login, go to the “Orders” page of the website, and view their open orders. However, this is probably not the only part of our system where we would want to be able to make such a check. For instance, we may want to enable our sales staff to view open orders before visiting a client; our customer services team may need to view this information to deal with customer queries; our accounts team may need to review orders for invoicing purposes; and so on. We want to be able to include this functionality on all these separate pages of our staff intranet site.\n",
        "\n",
        "\n",
        "TL;DR We would like to create a program that would help us check the order detail of a customer.\n"
      ],
      "metadata": {
        "id": "SN_9h2wMfwzx"
      }
    },
    {
      "cell_type": "markdown",
      "source": [
        "To be able to do this, we need to know whether the customer has placed order; if yes, we will print a list of their orders; if not, then we will print out \"this customer has no orders\". To do so, we can use \"for loop\" and \"if statements\" that we have learned earlier."
      ],
      "metadata": {
        "id": "fN9TgVaFgx6u"
      }
    },
    {
      "cell_type": "code",
      "source": [
        "for customer in customers: # here we assume the customer we are checking are in the customers dictionary\n",
        "  if len(customers[customer]['orders']) > 0: # here we use len() to know whether there are items in \"orders\" list. If not empty, then it should be >0\n",
        "    print('Customer: ' + str(customer))\n",
        "    for order in customers[customer]['orders']: # here we are finding each order number of the customer from the customer dictionary\n",
        "      print('Date: ' + str(orders[order]['date'])) # and then we use order number to find out order information from order dictionary, including date, product and quantity\n",
        "      print('Product: ' + orders[order]['product'])\n",
        "      print('Quantity: ' + orders[order]['quantity'])\n",
        "      print('\\n')\n",
        "  else:\n",
        "    print('Customer: ' + str(customer) + ' has no orders') # if the orders is empty in customers dictionary, then tell this customer has no order.\n",
        "    print('\\n')\n"
      ],
      "metadata": {
        "id": "0f1UZ2UfgVBv",
        "colab": {
          "base_uri": "https://localhost:8080/"
        },
        "outputId": "3c618d1a-abbc-4b67-c80e-e2bb86a8905e"
      },
      "execution_count": null,
      "outputs": [
        {
          "output_type": "stream",
          "name": "stdout",
          "text": [
            "Customer: James\n",
            "Date: 2019/01/10\n",
            "Product: Social Media Detector\n",
            "Quantity: 1\n",
            "\n",
            "\n",
            "Date: 2019/01/13\n",
            "Product: Realistic Man's wig\n",
            "Quantity: 2\n",
            "\n",
            "\n",
            "Date: 2019/01/15\n",
            "Product: Brown Shoes\n",
            "Quantity: 2\n",
            "\n",
            "\n",
            "Customer: Gareth has no orders\n",
            "\n",
            "\n",
            "Customer: Mark\n",
            "Date: 2019/01/14\n",
            "Product: Weather's Originals\n",
            "Quantity: 10\n",
            "\n",
            "\n",
            "Customer: Emily has no orders\n",
            "\n",
            "\n"
          ]
        }
      ]
    },
    {
      "cell_type": "markdown",
      "source": [
        "The majority of this functionality should be familiar to you from earlier sections. We have made use of for loops, if statements, len( ) for measuring the length of a string, and creating print strings by concatenation/joining. There is one part that will not be familiar which is the print(‘\\n’) command. ‘\\n’ is the Python code for new line, so effectively we are asking Python to print a line break before going on to the next part of the for loop.\n"
      ],
      "metadata": {
        "id": "0s1tM_I3h_ty"
      }
    },
    {
      "cell_type": "markdown",
      "source": [
        "We have two problems with this code in respect to our stated goal. While this is not a particularly long program (11 lines of code) we don’t want to have to write this code on every page where the functionality will be used. If we do this, we’d also have the issue of having to rewrite this code on every page any time we have an update to the functionality. If we can store this as a single function we would only have 1 line of code on each page, and one place where updates need to be applied. Secondly, our program will loop through every customer. What we want is to be able to pass the name of a single customer, and return just their results. We can do this with a function.\n",
        "\n",
        "Firstly, we need to tell Python that we are building a function. We can do so like this:\n",
        "\n",
        "`def order_printer(customer):`"
      ],
      "metadata": {
        "id": "W6gXLefwimLm"
      }
    },
    {
      "cell_type": "markdown",
      "source": [
        "The def part (short for “define”) tells Python this is a function, and that it has the name “order_printer”. We can use any name we like but we want a name that is logical and describes the purpose of the function.\n",
        "\n",
        "After the function name, within the brackets, we tell Python if the function should expect a data input. This can be blank if the function requires no data to passed. In our case here we definitely want there to be a data item passed – the customer name we want to print orders for. The name we use here doesn’t matter, for instance it could be the letter “i”. Within the function we use this name whenever we want to refer to the data item being passed, in the same way as “customer\" in our “for customer in customers:” loop.\n",
        "\n",
        "Let’s look at the full code:"
      ],
      "metadata": {
        "id": "XONAZmbPjj06"
      }
    },
    {
      "cell_type": "code",
      "source": [
        "def order_printer(customer):\n",
        "  if len(customers[customer]['orders']) > 0:\n",
        "    print('Customer: ' + str(customer))\n",
        "    for order in customers[customer]['orders']:\n",
        "      print('Date: ' + str(orders[order]['date']))\n",
        "      print('Product: ' + orders[order]['product'])\n",
        "      print('Quantity: ' + orders[order]['quantity'])\n",
        "      print('\\n')\n",
        "  else:\n",
        "    print('Customer: ' + str(customer) + ' has no orders')\n",
        "    print('\\n')"
      ],
      "metadata": {
        "id": "38tJOKHbjBFq"
      },
      "execution_count": null,
      "outputs": []
    },
    {
      "cell_type": "markdown",
      "source": [
        "In fact it is exactly the same code as the code we used in the for loop, except we changed the first line to make it a function definition rather than a loop. If we want to call the function all we need to do is type the function name, and the data we wish to pass to it:"
      ],
      "metadata": {
        "id": "2taDYbT_kZaf"
      }
    },
    {
      "cell_type": "code",
      "source": [
        "# For example, here we would like to check the orders placed by James.\n",
        "# After run the above code (our function), then you can run the below code to get results directly\n",
        "\n",
        "order_printer('James')"
      ],
      "metadata": {
        "colab": {
          "base_uri": "https://localhost:8080/"
        },
        "id": "_8aMpbR-jERa",
        "outputId": "128d98e9-35e0-4a58-d8d0-765dd25dd082"
      },
      "execution_count": null,
      "outputs": [
        {
          "output_type": "stream",
          "name": "stdout",
          "text": [
            "Customer: James\n",
            "Date: 2019/01/10\n",
            "Product: Social Media Detector\n",
            "Quantity: 1\n",
            "\n",
            "\n",
            "Date: 2019/01/13\n",
            "Product: Realistic Man's wig\n",
            "Quantity: 2\n",
            "\n",
            "\n",
            "Date: 2019/01/15\n",
            "Product: Brown Shoes\n",
            "Quantity: 2\n",
            "\n",
            "\n"
          ]
        }
      ]
    },
    {
      "cell_type": "code",
      "source": [
        "# We can also test \"Emily\" to see what we get\n",
        "\n",
        "order_printer('Emily')"
      ],
      "metadata": {
        "colab": {
          "base_uri": "https://localhost:8080/"
        },
        "id": "eQVq9MTtlDLq",
        "outputId": "8984c3b8-c081-47c5-c04e-d1a165d1341d"
      },
      "execution_count": null,
      "outputs": [
        {
          "output_type": "stream",
          "name": "stdout",
          "text": [
            "Customer: Emily has no orders\n",
            "\n",
            "\n"
          ]
        }
      ]
    },
    {
      "cell_type": "markdown",
      "source": [
        "We can now use the order_printer function anywhere in our code and it will run the assigned set of code on our data. For completion we will update the function with a bit of extra code so that we can deal with situations where the data input is not in our customers dictionary. Fortunately, this is fairly easy to do by just wrapping it in an if condition that check if the customer name is in the customer dictionary like so:\n",
        "\n",
        "`if customer in customers:`\n",
        "\n",
        "This means that we can pass a more friendly message if they are not, rather than the error message Python would pass. The final code, and friendly message, is shown as below:"
      ],
      "metadata": {
        "id": "FnDBFextlMxB"
      }
    },
    {
      "cell_type": "code",
      "source": [
        "def order_printer(customer):\n",
        "  if customer in customers:\n",
        "    if len(customers[customer]['orders']) > 0:\n",
        "      print('Customer: ' + str(customer))\n",
        "      for order in customers[customer]['orders']:\n",
        "        print('Date: ' + str(orders[order]['date']))\n",
        "        print('Product: ' + orders[order]['product'])\n",
        "        print('Quantity: ' + orders[order]['quantity'])\n",
        "        print('\\n')\n",
        "    else:\n",
        "      print('Customer: ' + str(customer) + ' has no orders')\n",
        "      print('\\n')\n",
        "  else:\n",
        "    print('Customer name not found. Please try again')"
      ],
      "metadata": {
        "id": "wt3g4xtJlvwV"
      },
      "execution_count": null,
      "outputs": []
    },
    {
      "cell_type": "code",
      "source": [
        "order_printer('John')"
      ],
      "metadata": {
        "colab": {
          "base_uri": "https://localhost:8080/"
        },
        "id": "NVcmM0limKXn",
        "outputId": "708dbbc5-9a00-4912-e0cb-ea8969c34e3b"
      },
      "execution_count": null,
      "outputs": [
        {
          "output_type": "stream",
          "name": "stdout",
          "text": [
            "Customer name not found. Please try again\n"
          ]
        }
      ]
    },
    {
      "cell_type": "markdown",
      "source": [
        "## In-built Functions in Python\n",
        "\n",
        "Alongside custom functions we can design ourselves, Python has a large number of in-built functions that can be used. We have already encountered several of these such as print( ), str( ), len( ), and others. The full list of these, and their definitions, are available here: https://docs.python.org/3.3/library/functions.html."
      ],
      "metadata": {
        "id": "CPKqJdCXmUFC"
      }
    },
    {
      "cell_type": "markdown",
      "source": [
        "# **Exercise #3**\n",
        "\n",
        "This exercise aims to test your understanding of functions"
      ],
      "metadata": {
        "id": "o4B2gFviUT2x"
      }
    },
    {
      "cell_type": "markdown",
      "source": [
        "Objective: Practice defining and using functions in Python by creating a simple contact book application. This exercise involves creating functions to manage a contact book stored as a dictionary.\n",
        "\n",
        "Your task: Your contact book will store contacts as key-value pairs where the key is the contact's name (a string) and the value is their phone number (also a string for simplicity).\n",
        "\n",
        "1) Add Contact: Write a function named add_contact that accepts the contact book dictionary, a name, and a phone number as arguments. The function should add the contact to the dictionary. If the contact already exists, print a message indicating that the contact is already in the book.\n",
        "\n",
        "2) Find Contact: Implement a function called find_contact that takes the contact book and a name as arguments and prints the phone number of the contact. If the contact does not exist, print a message indicating so.\n",
        "\n",
        "3) Update Contact: Create a function named update_contact that accepts the contact book, a name, and a new phone number as arguments. It should update the contact's phone number if it exists; otherwise, it should print a message indicating that the contact does not exist.\n",
        "\n",
        "4) Delete Contact: Write a function called delete_contact that takes the contact book and a name as arguments. If the contact exists, it should delete the contact from the book; otherwise, print a message indicating that the contact was not found.\n",
        "\n",
        "5) Display All Contacts: Finally, write a function named display_contacts that prints all the contacts in the contact book, formatted nicely. If there are no contacts in the book, print a message indicating that the book is empty.\n"
      ],
      "metadata": {
        "id": "60_MhRA5U6qn"
      }
    },
    {
      "cell_type": "markdown",
      "source": [
        "The example usage:\n",
        "\n",
        "contact_book = {}\n",
        "\n",
        "add_contact(contact_book, \"Alice\", \"123-456-7890\")\n",
        "\n",
        "add_contact(contact_book, \"Bob\", \"987-654-3210\")\n",
        "\n",
        "find_contact(contact_book, \"Alice\")\n",
        "\n",
        "update_contact(contact_book, \"Alice\", \"111-222-3333\")\n",
        "\n",
        "delete_contact(contact_book, \"Bob\")\n",
        "\n",
        "display_contacts(contact_book)\n",
        "\n",
        "So basically, you start with an empty dictionary `contact_book` and then you create 5 functions to add, find, update, delete and display contacts. Once you have built the functions, you should be able to call the functions as we showed above and get the expected output reflecting the changes made to the contact book.\n",
        "\n"
      ],
      "metadata": {
        "id": "G4GspKGwXx6w"
      }
    },
    {
      "cell_type": "code",
      "source": [],
      "metadata": {
        "id": "PGvsXWmLYoWN"
      },
      "execution_count": null,
      "outputs": []
    },
    {
      "cell_type": "markdown",
      "source": [
        "[Click the link to check the solution!](https://colab.research.google.com/drive/1o9X5M-o6veUB-VQqNOc4xEDmFT1vKSse?usp=sharing)"
      ],
      "metadata": {
        "id": "v8PwwkSe1KKs"
      }
    },
    {
      "cell_type": "markdown",
      "source": [
        "# **15 Debugging**"
      ],
      "metadata": {
        "id": "9lJrNx7IxQmg"
      }
    },
    {
      "cell_type": "markdown",
      "metadata": {
        "id": "JdApuBFuPYfN"
      },
      "source": [
        "## The Coding Process\n",
        "\n",
        "Coding typically follows a three-step process:\n",
        "\n",
        "1. Write Code: We start by writing our code.\n",
        "2. Run Code: We run our code to see if it works.\n",
        "3. Fix Code: If there are errors or it doesn't work as expected, we fix the code.\n",
        "\n",
        "This cycle repeats until our code runs correctly and does what we want it to do."
      ]
    },
    {
      "cell_type": "markdown",
      "metadata": {
        "id": "nYSfeNoGPYfO"
      },
      "source": [
        "## Computers and Instructions\n",
        "\n",
        "Computers don't make guesses; they follow our instructions precisely. If oour instructions (code) contain mistakes, the computer cannot execute the code. Unlike humans, who can often understand meaning despite errors, computers require correct syntax and logic to run a program."
      ]
    },
    {
      "cell_type": "markdown",
      "metadata": {
        "id": "KAwAe21aPYfO"
      },
      "source": [
        "## Debugging is Part of the Process\n",
        "\n",
        "Making mistakes in coding is normal. Debugging is a natural part of the coding process. Even experienced programmers make mistakes. Don't worry about making errors; instead, use them as opportunities to learn and improve. Enjoy the process of problem-solving and debugging."
      ]
    },
    {
      "cell_type": "markdown",
      "metadata": {
        "id": "KXCiqKDMPYfO"
      },
      "source": [
        "## Fixing Multiple Bugs\n",
        "\n",
        "If a program has several bugs, all of them need to be addressed. Sometimes fixing one bug can reveal another, so patience is key. Work through each error methodically."
      ]
    },
    {
      "cell_type": "markdown",
      "metadata": {
        "id": "Ix7iT_pcPYfO"
      },
      "source": [
        "## Execution Flow in Python\n",
        "\n",
        "Python executes code line by line from top to bottom. If it encounters an error, it stops (or \"**interrupts**\") the program at the first error it finds. We need to fix errors in the order they appear."
      ]
    },
    {
      "cell_type": "markdown",
      "metadata": {
        "id": "lo55ijlTPYfO"
      },
      "source": [
        "## Logical Errors\n",
        "\n",
        "A program can run without syntax errors but still not do what we want it to do. These are called logical errors. For example, if we accidentally multiply where we meant to divide, Python will do the multiplication without error. The program runs, but the result is incorrect. Logical errors require careful review to catch."
      ]
    },
    {
      "cell_type": "markdown",
      "metadata": {
        "id": "nqSl4rtuPYfO"
      },
      "source": [
        "## Practice: Fixing Bugs\n",
        "\n",
        "With the knowledge you've gained from the previous notebooks, you are now equipped to tackle debugging. Below, you will find a series of programs with intentional bugs. Your task is to identify and fix these issues using what you've learned. You can rewrite the code and make it work.\n",
        "\n",
        "Before you begin here is some advice:\n",
        "- Read error messages carefully; they often point you toward the location and type of the problem.\n",
        "- Check your syntax: parentheses, quotation marks.\n",
        "- Make sure you're using the correct operators and variables.\n",
        "- Verify the logic of your code to ensure it does what you intend.\n",
        "\n",
        "#### Good Luck Detective!"
      ]
    },
    {
      "cell_type": "code",
      "execution_count": null,
      "metadata": {
        "id": "SVcXy6H6PYfP",
        "colab": {
          "base_uri": "https://localhost:8080/"
        },
        "outputId": "56447333-32d5-453e-88d0-bfbac4c92bad"
      },
      "outputs": [
        {
          "output_type": "error",
          "ename": "SyntaxError",
          "evalue": "unterminated string literal (detected at line 1) (<ipython-input-32-bc6abf8d664a>, line 1)",
          "traceback": [
            "\u001b[0;36m  File \u001b[0;32m\"<ipython-input-32-bc6abf8d664a>\"\u001b[0;36m, line \u001b[0;32m1\u001b[0m\n\u001b[0;31m    greeting = \"Hello, World!\u001b[0m\n\u001b[0m               ^\u001b[0m\n\u001b[0;31mSyntaxError\u001b[0m\u001b[0;31m:\u001b[0m unterminated string literal (detected at line 1)\n"
          ]
        }
      ],
      "source": [
        "greeting = \"Hello, World!"
      ]
    },
    {
      "cell_type": "code",
      "execution_count": null,
      "metadata": {
        "id": "wTxdYDQBPYfP",
        "colab": {
          "base_uri": "https://localhost:8080/"
        },
        "outputId": "3bbff47c-cc7c-4c6a-b71b-ca9121d2532b"
      },
      "outputs": [
        {
          "output_type": "error",
          "ename": "SyntaxError",
          "evalue": "cannot assign to expression here. Maybe you meant '==' instead of '='? (<ipython-input-33-588d2cc4810c>, line 1)",
          "traceback": [
            "\u001b[0;36m  File \u001b[0;32m\"<ipython-input-33-588d2cc4810c>\"\u001b[0;36m, line \u001b[0;32m1\u001b[0m\n\u001b[0;31m    5 + 3 = sum\u001b[0m\n\u001b[0m    ^\u001b[0m\n\u001b[0;31mSyntaxError\u001b[0m\u001b[0;31m:\u001b[0m cannot assign to expression here. Maybe you meant '==' instead of '='?\n"
          ]
        }
      ],
      "source": [
        "5 + 3 = sum"
      ]
    },
    {
      "cell_type": "code",
      "execution_count": null,
      "metadata": {
        "id": "HHQb7krsPYfQ",
        "colab": {
          "base_uri": "https://localhost:8080/"
        },
        "outputId": "b8ea533c-570a-4be0-e583-88f529089f8c"
      },
      "outputs": [
        {
          "output_type": "error",
          "ename": "SyntaxError",
          "evalue": "Missing parentheses in call to 'print'. Did you mean print(...)? (<ipython-input-34-88808739ce7c>, line 1)",
          "traceback": [
            "\u001b[0;36m  File \u001b[0;32m\"<ipython-input-34-88808739ce7c>\"\u001b[0;36m, line \u001b[0;32m1\u001b[0m\n\u001b[0;31m    print\"The quick brown fox jumps over the lazy dog\"\u001b[0m\n\u001b[0m    ^\u001b[0m\n\u001b[0;31mSyntaxError\u001b[0m\u001b[0;31m:\u001b[0m Missing parentheses in call to 'print'. Did you mean print(...)?\n"
          ]
        }
      ],
      "source": [
        "print\"The quick brown fox jumps over the lazy dog\""
      ]
    },
    {
      "cell_type": "code",
      "execution_count": null,
      "metadata": {
        "id": "aCjDTNVxPYfQ",
        "colab": {
          "base_uri": "https://localhost:8080/"
        },
        "outputId": "25e542eb-d204-4adb-82e3-d5a143daee9a"
      },
      "outputs": [
        {
          "output_type": "error",
          "ename": "TypeError",
          "evalue": "bad operand type for unary -: 'str'",
          "traceback": [
            "\u001b[0;31m---------------------------------------------------------------------------\u001b[0m",
            "\u001b[0;31mTypeError\u001b[0m                                 Traceback (most recent call last)",
            "\u001b[0;32m<ipython-input-35-f0cdc6292187>\u001b[0m in \u001b[0;36m<cell line: 1>\u001b[0;34m()\u001b[0m\n\u001b[0;32m----> 1\u001b[0;31m \u001b[0mname\u001b[0m \u001b[0;34m<\u001b[0m\u001b[0;34m-\u001b[0m \u001b[0;34m\"Alice\"\u001b[0m\u001b[0;34m\u001b[0m\u001b[0;34m\u001b[0m\u001b[0m\n\u001b[0m",
            "\u001b[0;31mTypeError\u001b[0m: bad operand type for unary -: 'str'"
          ]
        }
      ],
      "source": [
        "name <- \"Alice\""
      ]
    },
    {
      "cell_type": "code",
      "execution_count": null,
      "metadata": {
        "id": "mqxG3mcnPYfQ",
        "colab": {
          "base_uri": "https://localhost:8080/"
        },
        "outputId": "0fd0f2a7-be01-4287-884a-14ba98b189c7"
      },
      "outputs": [
        {
          "output_type": "error",
          "ename": "SyntaxError",
          "evalue": "invalid syntax. Perhaps you forgot a comma? (<ipython-input-36-43c4431fd544>, line 1)",
          "traceback": [
            "\u001b[0;36m  File \u001b[0;32m\"<ipython-input-36-43c4431fd544>\"\u001b[0;36m, line \u001b[0;32m1\u001b[0m\n\u001b[0;31m    print(\"Jordan said \"Five in a row is my favourite board game\"\")\u001b[0m\n\u001b[0m          ^\u001b[0m\n\u001b[0;31mSyntaxError\u001b[0m\u001b[0;31m:\u001b[0m invalid syntax. Perhaps you forgot a comma?\n"
          ]
        }
      ],
      "source": [
        "print(\"Jordan said \"Five in a row is my favourite board game\"\")"
      ]
    },
    {
      "cell_type": "code",
      "execution_count": null,
      "metadata": {
        "id": "M_nHk7FoPYfQ",
        "colab": {
          "base_uri": "https://localhost:8080/"
        },
        "outputId": "65da2e07-72bd-4d2e-b13a-683722d3637b"
      },
      "outputs": [
        {
          "output_type": "error",
          "ename": "SyntaxError",
          "evalue": "(unicode error) 'unicodeescape' codec can't decode bytes in position 2-3: truncated \\UXXXXXXXX escape (<ipython-input-37-495c1bde06d4>, line 1)",
          "traceback": [
            "\u001b[0;36m  File \u001b[0;32m\"<ipython-input-37-495c1bde06d4>\"\u001b[0;36m, line \u001b[0;32m1\u001b[0m\n\u001b[0;31m    print(\"C:\\Users\\Username\\Documents\\File.txt\")\u001b[0m\n\u001b[0m                                                ^\u001b[0m\n\u001b[0;31mSyntaxError\u001b[0m\u001b[0;31m:\u001b[0m (unicode error) 'unicodeescape' codec can't decode bytes in position 2-3: truncated \\UXXXXXXXX escape\n"
          ]
        }
      ],
      "source": [
        "print(\"C:\\Users\\Username\\Documents\\File.txt\")"
      ]
    },
    {
      "cell_type": "code",
      "execution_count": null,
      "metadata": {
        "id": "XHZcHVa-PYfQ",
        "colab": {
          "base_uri": "https://localhost:8080/"
        },
        "outputId": "fe18e8b2-bab4-415f-8a38-2c27fae583a0"
      },
      "outputs": [
        {
          "output_type": "error",
          "ename": "SyntaxError",
          "evalue": "invalid syntax (<ipython-input-38-6da44c1374d8>, line 1)",
          "traceback": [
            "\u001b[0;36m  File \u001b[0;32m\"<ipython-input-38-6da44c1374d8>\"\u001b[0;36m, line \u001b[0;32m1\u001b[0m\n\u001b[0;31m    anime = Re:Zero\u001b[0m\n\u001b[0m              ^\u001b[0m\n\u001b[0;31mSyntaxError\u001b[0m\u001b[0;31m:\u001b[0m invalid syntax\n"
          ]
        }
      ],
      "source": [
        "anime = Re:Zero"
      ]
    },
    {
      "cell_type": "code",
      "execution_count": null,
      "metadata": {
        "id": "N3t-6pZkPYfQ",
        "colab": {
          "base_uri": "https://localhost:8080/"
        },
        "outputId": "46dd8a6c-f5b3-4732-8cf3-e93d141b98ea"
      },
      "outputs": [
        {
          "output_type": "error",
          "ename": "NameError",
          "evalue": "name 'favourite_number' is not defined",
          "traceback": [
            "\u001b[0;31m---------------------------------------------------------------------------\u001b[0m",
            "\u001b[0;31mNameError\u001b[0m                                 Traceback (most recent call last)",
            "\u001b[0;32m<ipython-input-39-056246cbcf29>\u001b[0m in \u001b[0;36m<cell line: 2>\u001b[0;34m()\u001b[0m\n\u001b[1;32m      1\u001b[0m \u001b[0mname\u001b[0m \u001b[0;34m=\u001b[0m \u001b[0;34m\"Bob\"\u001b[0m\u001b[0;34m\u001b[0m\u001b[0;34m\u001b[0m\u001b[0m\n\u001b[0;32m----> 2\u001b[0;31m \u001b[0mfavourite_number\u001b[0m \u001b[0;34m-\u001b[0m \u001b[0;36m28\u001b[0m\u001b[0;34m\u001b[0m\u001b[0;34m\u001b[0m\u001b[0m\n\u001b[0m\u001b[1;32m      3\u001b[0m \u001b[0mprint\u001b[0m\u001b[0;34m(\u001b[0m\u001b[0mname\u001b[0m\u001b[0;34m)\u001b[0m\u001b[0;34m\u001b[0m\u001b[0;34m\u001b[0m\u001b[0m\n",
            "\u001b[0;31mNameError\u001b[0m: name 'favourite_number' is not defined"
          ]
        }
      ],
      "source": [
        "name = \"Bob\"\n",
        "favourite_number - 28\n",
        "print(name)"
      ]
    },
    {
      "cell_type": "code",
      "execution_count": null,
      "metadata": {
        "id": "W0CODtEtPYfQ",
        "colab": {
          "base_uri": "https://localhost:8080/"
        },
        "outputId": "3dc78085-aea9-407e-fe9e-6460f5e48521"
      },
      "outputs": [
        {
          "output_type": "error",
          "ename": "SyntaxError",
          "evalue": "unmatched ')' (<ipython-input-40-db3d6a320d62>, line 1)",
          "traceback": [
            "\u001b[0;36m  File \u001b[0;32m\"<ipython-input-40-db3d6a320d62>\"\u001b[0;36m, line \u001b[0;32m1\u001b[0m\n\u001b[0;31m    print\"Having fun yet?\")\u001b[0m\n\u001b[0m                          ^\u001b[0m\n\u001b[0;31mSyntaxError\u001b[0m\u001b[0;31m:\u001b[0m unmatched ')'\n"
          ]
        }
      ],
      "source": [
        "print\"Having fun yet?\")"
      ]
    },
    {
      "cell_type": "code",
      "execution_count": null,
      "metadata": {
        "id": "i6gsWKPNPYfQ",
        "colab": {
          "base_uri": "https://localhost:8080/"
        },
        "outputId": "7857315b-f1ab-4527-effd-0fe0b77afb09"
      },
      "outputs": [
        {
          "output_type": "error",
          "ename": "NameError",
          "evalue": "name 'Teacher' is not defined",
          "traceback": [
            "\u001b[0;31m---------------------------------------------------------------------------\u001b[0m",
            "\u001b[0;31mNameError\u001b[0m                                 Traceback (most recent call last)",
            "\u001b[0;32m<ipython-input-41-2b116950a3b7>\u001b[0m in \u001b[0;36m<cell line: 3>\u001b[0;34m()\u001b[0m\n\u001b[1;32m      1\u001b[0m \u001b[0mname\u001b[0m \u001b[0;34m=\u001b[0m \u001b[0;34m\"Carol\"\u001b[0m\u001b[0;34m\u001b[0m\u001b[0;34m\u001b[0m\u001b[0m\n\u001b[1;32m      2\u001b[0m \u001b[0mage\u001b[0m \u001b[0;34m=\u001b[0m \u001b[0;36m28\u001b[0m\u001b[0;34m\u001b[0m\u001b[0;34m\u001b[0m\u001b[0m\n\u001b[0;32m----> 3\u001b[0;31m \u001b[0mjob\u001b[0m \u001b[0;34m=\u001b[0m \u001b[0mTeacher\u001b[0m\u001b[0;34m\u001b[0m\u001b[0;34m\u001b[0m\u001b[0m\n\u001b[0m\u001b[1;32m      4\u001b[0m \u001b[0mprint\u001b[0m\u001b[0;34m(\u001b[0m\u001b[0mage\u001b[0m\u001b[0;34m)\u001b[0m\u001b[0;34m\u001b[0m\u001b[0;34m\u001b[0m\u001b[0m\n",
            "\u001b[0;31mNameError\u001b[0m: name 'Teacher' is not defined"
          ]
        }
      ],
      "source": [
        "name = \"Carol\"\n",
        "age = 28\n",
        "job = Teacher\n",
        "print(age)"
      ]
    },
    {
      "cell_type": "code",
      "execution_count": null,
      "metadata": {
        "id": "cUub9K8MPYfQ",
        "colab": {
          "base_uri": "https://localhost:8080/"
        },
        "outputId": "8eb88154-0cc4-4b38-a57a-a7bcfce49f82"
      },
      "outputs": [
        {
          "output_type": "stream",
          "name": "stdout",
          "text": [
            "Player 1100010001000\n"
          ]
        }
      ],
      "source": [
        "player_name = \"Player 1\"\n",
        "score = \"1000\"\n",
        "bonus_score = score * 3\n",
        "print(player_name + bonus_score)"
      ]
    },
    {
      "cell_type": "code",
      "execution_count": null,
      "metadata": {
        "id": "vigL0RBEPYfR",
        "colab": {
          "base_uri": "https://localhost:8080/"
        },
        "outputId": "2c2471f9-d0ba-48c8-fc1a-93780fdc6bc3"
      },
      "outputs": [
        {
          "output_type": "error",
          "ename": "NameError",
          "evalue": "name 'colour' is not defined",
          "traceback": [
            "\u001b[0;31m---------------------------------------------------------------------------\u001b[0m",
            "\u001b[0;31mNameError\u001b[0m                                 Traceback (most recent call last)",
            "\u001b[0;32m<ipython-input-43-7c25bead2ab0>\u001b[0m in \u001b[0;36m<cell line: 1>\u001b[0;34m()\u001b[0m\n\u001b[0;32m----> 1\u001b[0;31m \u001b[0mprint\u001b[0m\u001b[0;34m(\u001b[0m\u001b[0mcolour\u001b[0m\u001b[0;34m)\u001b[0m\u001b[0;34m\u001b[0m\u001b[0;34m\u001b[0m\u001b[0m\n\u001b[0m\u001b[1;32m      2\u001b[0m \u001b[0mcolour\u001b[0m \u001b[0;34m=\u001b[0m \u001b[0;34m\"Black\"\u001b[0m\u001b[0;34m\u001b[0m\u001b[0;34m\u001b[0m\u001b[0m\n",
            "\u001b[0;31mNameError\u001b[0m: name 'colour' is not defined"
          ]
        }
      ],
      "source": [
        "print(colour)\n",
        "colour = \"Black\""
      ]
    },
    {
      "cell_type": "code",
      "execution_count": null,
      "metadata": {
        "id": "maYoi_vUPYfR",
        "colab": {
          "base_uri": "https://localhost:8080/"
        },
        "outputId": "20ff140e-8c20-4d38-bfc6-a4ba09be03b1"
      },
      "outputs": [
        {
          "output_type": "error",
          "ename": "NameError",
          "evalue": "name 'author' is not defined",
          "traceback": [
            "\u001b[0;31m---------------------------------------------------------------------------\u001b[0m",
            "\u001b[0;31mNameError\u001b[0m                                 Traceback (most recent call last)",
            "\u001b[0;32m<ipython-input-44-1060886bdcbe>\u001b[0m in \u001b[0;36m<cell line: 3>\u001b[0;34m()\u001b[0m\n\u001b[1;32m      1\u001b[0m \u001b[0mbook\u001b[0m \u001b[0;34m=\u001b[0m \u001b[0;34m\"The Count of Monte Cristo\"\u001b[0m\u001b[0;34m\u001b[0m\u001b[0;34m\u001b[0m\u001b[0m\n\u001b[1;32m      2\u001b[0m \u001b[0mmain_character\u001b[0m \u001b[0;34m=\u001b[0m \u001b[0;34m\"Edmond Dantès\"\u001b[0m\u001b[0;34m\u001b[0m\u001b[0;34m\u001b[0m\u001b[0m\n\u001b[0;32m----> 3\u001b[0;31m \u001b[0mprint\u001b[0m\u001b[0;34m(\u001b[0m\u001b[0mauthor\u001b[0m\u001b[0;34m)\u001b[0m\u001b[0;34m\u001b[0m\u001b[0;34m\u001b[0m\u001b[0m\n\u001b[0m",
            "\u001b[0;31mNameError\u001b[0m: name 'author' is not defined"
          ]
        }
      ],
      "source": [
        "book = \"The Count of Monte Cristo\"\n",
        "main_character = \"Edmond Dantès\"\n",
        "print(author)"
      ]
    },
    {
      "cell_type": "code",
      "execution_count": null,
      "metadata": {
        "id": "_f5X7RbjPYfR",
        "colab": {
          "base_uri": "https://localhost:8080/"
        },
        "outputId": "480e0343-530d-4978-dc50-9985ca0351be"
      },
      "outputs": [
        {
          "output_type": "error",
          "ename": "TypeError",
          "evalue": "can only concatenate str (not \"int\") to str",
          "traceback": [
            "\u001b[0;31m---------------------------------------------------------------------------\u001b[0m",
            "\u001b[0;31mTypeError\u001b[0m                                 Traceback (most recent call last)",
            "\u001b[0;32m<ipython-input-45-b113185627be>\u001b[0m in \u001b[0;36m<cell line: 2>\u001b[0;34m()\u001b[0m\n\u001b[1;32m      1\u001b[0m \u001b[0mcount\u001b[0m \u001b[0;34m=\u001b[0m \u001b[0;34m\"10\"\u001b[0m\u001b[0;34m\u001b[0m\u001b[0;34m\u001b[0m\u001b[0m\n\u001b[0;32m----> 2\u001b[0;31m \u001b[0mprint\u001b[0m\u001b[0;34m(\u001b[0m\u001b[0mcount\u001b[0m \u001b[0;34m+\u001b[0m \u001b[0;36m1\u001b[0m\u001b[0;34m)\u001b[0m\u001b[0;34m\u001b[0m\u001b[0;34m\u001b[0m\u001b[0m\n\u001b[0m",
            "\u001b[0;31mTypeError\u001b[0m: can only concatenate str (not \"int\") to str"
          ]
        }
      ],
      "source": [
        "count = \"10\"\n",
        "print(count + 1)"
      ]
    },
    {
      "cell_type": "code",
      "execution_count": null,
      "metadata": {
        "id": "sMRiMawNPYfR"
      },
      "outputs": [],
      "source": [
        "number1 = 10\n",
        "number2 = 20\n",
        "average = (number1 + number2)"
      ]
    },
    {
      "cell_type": "code",
      "execution_count": null,
      "metadata": {
        "id": "WmWS_lbePYfR"
      },
      "outputs": [],
      "source": [
        "#Print(\"Print Me!!!\")"
      ]
    },
    {
      "cell_type": "code",
      "execution_count": null,
      "metadata": {
        "id": "rAlohrz9PYfR",
        "colab": {
          "base_uri": "https://localhost:8080/"
        },
        "outputId": "b36e5a55-708a-4db2-97a4-02773e6e94be"
      },
      "outputs": [
        {
          "output_type": "stream",
          "name": "stdout",
          "text": [
            "3125\n"
          ]
        }
      ],
      "source": [
        "number = 5\n",
        "number_squared = (number ** number)\n",
        "print(number_squared)"
      ]
    },
    {
      "cell_type": "code",
      "execution_count": null,
      "metadata": {
        "id": "Uz2viNnuPYfR",
        "colab": {
          "base_uri": "https://localhost:8080/"
        },
        "outputId": "131e5426-18a9-435f-b869-d42796e02020"
      },
      "outputs": [
        {
          "output_type": "error",
          "ename": "SyntaxError",
          "evalue": "invalid syntax (<ipython-input-51-178c9a7a7229>, line 1)",
          "traceback": [
            "\u001b[0;36m  File \u001b[0;32m\"<ipython-input-51-178c9a7a7229>\"\u001b[0;36m, line \u001b[0;32m1\u001b[0m\n\u001b[0;31m    Storing University of Warwick geographical information\u001b[0m\n\u001b[0m            ^\u001b[0m\n\u001b[0;31mSyntaxError\u001b[0m\u001b[0;31m:\u001b[0m invalid syntax\n"
          ]
        }
      ],
      "source": [
        "Storing University of Warwick geographical information\n",
        "location = \"University of Warwick\"\n",
        "latitude = 52.379414\n",
        "longitude = -1.561904\n",
        "\n",
        "print(latitude)\n",
        "print(longitude)"
      ]
    },
    {
      "cell_type": "code",
      "execution_count": null,
      "metadata": {
        "id": "Td10fUM1PYfR",
        "colab": {
          "base_uri": "https://localhost:8080/"
        },
        "outputId": "d289bb65-41b9-4619-b9e0-6a9427cc3cbb"
      },
      "outputs": [
        {
          "output_type": "error",
          "ename": "SyntaxError",
          "evalue": "invalid syntax (<ipython-input-52-af526a6ee55d>, line 1)",
          "traceback": [
            "\u001b[0;36m  File \u001b[0;32m\"<ipython-input-52-af526a6ee55d>\"\u001b[0;36m, line \u001b[0;32m1\u001b[0m\n\u001b[0;31m    character name = \"Subaru\"\u001b[0m\n\u001b[0m              ^\u001b[0m\n\u001b[0;31mSyntaxError\u001b[0m\u001b[0;31m:\u001b[0m invalid syntax\n"
          ]
        }
      ],
      "source": [
        "character name = \"Subaru\""
      ]
    },
    {
      "cell_type": "code",
      "execution_count": null,
      "metadata": {
        "id": "Vn5-bHqmPYfR",
        "colab": {
          "base_uri": "https://localhost:8080/"
        },
        "outputId": "24db07c5-1296-45e3-b8a0-61094275e8ae"
      },
      "outputs": [
        {
          "name": "stdout",
          "output_type": "stream",
          "text": [
            "Enter your age: 12\n"
          ]
        },
        {
          "output_type": "error",
          "ename": "TypeError",
          "evalue": "can only concatenate str (not \"int\") to str",
          "traceback": [
            "\u001b[0;31m---------------------------------------------------------------------------\u001b[0m",
            "\u001b[0;31mTypeError\u001b[0m                                 Traceback (most recent call last)",
            "\u001b[0;32m<ipython-input-53-a49acc3ad532>\u001b[0m in \u001b[0;36m<cell line: 2>\u001b[0;34m()\u001b[0m\n\u001b[1;32m      1\u001b[0m \u001b[0musers_age\u001b[0m \u001b[0;34m=\u001b[0m \u001b[0minput\u001b[0m\u001b[0;34m(\u001b[0m\u001b[0;34m\"Enter your age: \"\u001b[0m\u001b[0;34m)\u001b[0m\u001b[0;34m\u001b[0m\u001b[0;34m\u001b[0m\u001b[0m\n\u001b[0;32m----> 2\u001b[0;31m \u001b[0mprint\u001b[0m\u001b[0;34m(\u001b[0m\u001b[0;34m\"Soon you will be \"\u001b[0m \u001b[0;34m+\u001b[0m \u001b[0;34m(\u001b[0m\u001b[0musers_age\u001b[0m \u001b[0;34m+\u001b[0m \u001b[0;36m1\u001b[0m\u001b[0;34m)\u001b[0m \u001b[0;34m+\u001b[0m \u001b[0;34m\" years old.\"\u001b[0m\u001b[0;34m)\u001b[0m\u001b[0;34m\u001b[0m\u001b[0;34m\u001b[0m\u001b[0m\n\u001b[0m",
            "\u001b[0;31mTypeError\u001b[0m: can only concatenate str (not \"int\") to str"
          ]
        }
      ],
      "source": [
        "users_age = input(\"Enter your age: \")\n",
        "print(\"Soon you will be \" + (users_age + 1) + \" years old.\")"
      ]
    },
    {
      "cell_type": "code",
      "execution_count": null,
      "metadata": {
        "id": "xRbClxBrPYfR",
        "colab": {
          "base_uri": "https://localhost:8080/"
        },
        "outputId": "765a6bf4-bed0-4e90-d544-b1afc484889a"
      },
      "outputs": [
        {
          "output_type": "stream",
          "name": "stdout",
          "text": [
            "4444444\n"
          ]
        }
      ],
      "source": [
        "dog_age = \"4\"\n",
        "dog_years = dog_age * 7\n",
        "print(dog_years)"
      ]
    },
    {
      "cell_type": "code",
      "execution_count": null,
      "metadata": {
        "id": "Awl1OYctPYfR",
        "colab": {
          "base_uri": "https://localhost:8080/"
        },
        "outputId": "28bf47c5-9d19-4f72-82fa-736afd71764c"
      },
      "outputs": [
        {
          "output_type": "stream",
          "name": "stdout",
          "text": [
            "Enter your first name: liping\n",
            "Enter your last name: zheng\n",
            "Hellolipingzheng\n"
          ]
        }
      ],
      "source": [
        "first_name = input(\"Enter your first name: \")\n",
        "last_name = input(\"Enter your last name: \")\n",
        "print(\"Hello\" + first_name + last_name)"
      ]
    },
    {
      "cell_type": "code",
      "execution_count": null,
      "metadata": {
        "id": "EyLh0lXoPYfR",
        "colab": {
          "base_uri": "https://localhost:8080/"
        },
        "outputId": "7bd6c185-1f27-4948-91b0-d4801d53daa3"
      },
      "outputs": [
        {
          "output_type": "error",
          "ename": "SyntaxError",
          "evalue": "invalid decimal literal (<ipython-input-56-b84702362c31>, line 1)",
          "traceback": [
            "\u001b[0;36m  File \u001b[0;32m\"<ipython-input-56-b84702362c31>\"\u001b[0;36m, line \u001b[0;32m1\u001b[0m\n\u001b[0;31m    1stplace = \"Alice\"\u001b[0m\n\u001b[0m    ^\u001b[0m\n\u001b[0;31mSyntaxError\u001b[0m\u001b[0;31m:\u001b[0m invalid decimal literal\n"
          ]
        }
      ],
      "source": [
        "1stplace = \"Alice\"\n",
        "2ndplace = \"Bob\""
      ]
    },
    {
      "cell_type": "code",
      "execution_count": null,
      "metadata": {
        "id": "dqtJtBCYPYfR",
        "colab": {
          "base_uri": "https://localhost:8080/"
        },
        "outputId": "ebead122-7e31-4ba3-c952-ca200208c240"
      },
      "outputs": [
        {
          "output_type": "error",
          "ename": "TypeError",
          "evalue": "cannot unpack non-iterable int object",
          "traceback": [
            "\u001b[0;31m---------------------------------------------------------------------------\u001b[0m",
            "\u001b[0;31mTypeError\u001b[0m                                 Traceback (most recent call last)",
            "\u001b[0;32m<ipython-input-57-9dcd400c7d34>\u001b[0m in \u001b[0;36m<cell line: 1>\u001b[0;34m()\u001b[0m\n\u001b[0;32m----> 1\u001b[0;31m \u001b[0mx\u001b[0m\u001b[0;34m,\u001b[0m \u001b[0my\u001b[0m\u001b[0;34m,\u001b[0m \u001b[0mz\u001b[0m \u001b[0;34m=\u001b[0m \u001b[0;36m10\u001b[0m\u001b[0;34m\u001b[0m\u001b[0;34m\u001b[0m\u001b[0m\n\u001b[0m\u001b[1;32m      2\u001b[0m \u001b[0mprint\u001b[0m\u001b[0;34m(\u001b[0m\u001b[0mx\u001b[0m\u001b[0;34m)\u001b[0m\u001b[0;34m\u001b[0m\u001b[0;34m\u001b[0m\u001b[0m\n\u001b[1;32m      3\u001b[0m \u001b[0mprint\u001b[0m\u001b[0;34m(\u001b[0m\u001b[0my\u001b[0m\u001b[0;34m)\u001b[0m\u001b[0;34m\u001b[0m\u001b[0;34m\u001b[0m\u001b[0m\n\u001b[1;32m      4\u001b[0m \u001b[0mprint\u001b[0m\u001b[0;34m(\u001b[0m\u001b[0mz\u001b[0m\u001b[0;34m)\u001b[0m\u001b[0;34m\u001b[0m\u001b[0;34m\u001b[0m\u001b[0m\n",
            "\u001b[0;31mTypeError\u001b[0m: cannot unpack non-iterable int object"
          ]
        }
      ],
      "source": [
        "x, y, z = 10\n",
        "print(x)\n",
        "print(y)\n",
        "print(z)"
      ]
    },
    {
      "cell_type": "markdown",
      "source": [
        "# **16 Packages and Modules**"
      ],
      "metadata": {
        "id": "Uah8naNV0HWN"
      }
    },
    {
      "cell_type": "markdown",
      "source": [
        "Alongside Python’s in-built function, and functions that we build ourselves (section 14), Python provides access to a large number of modules and packages (the equivalent of libraries in other languages). These modules/packages give us pre-built functionality that can be used to help with a wide range of tasks, including statistics and data management. Some of these come automatically with our Google Colab (or Python distribution if you run it locally), but unlike the in-built functions need to be called (imported into the session).\n",
        "\n",
        "In this section, we are exploring how we can import and install packages and modules in Python."
      ],
      "metadata": {
        "id": "35hW-Q1Esb9i"
      }
    },
    {
      "cell_type": "markdown",
      "source": [
        "## Import Packages and Modules\n",
        "\n",
        "For an example, will use the Python module random. As the name suggest, random provides random number functionality for our Python programs. We can import the whole of the random library with the command:"
      ],
      "metadata": {
        "id": "ZsWz4TdfxA43"
      }
    },
    {
      "cell_type": "code",
      "source": [
        "import random"
      ],
      "metadata": {
        "id": "JbbdiBV2siz3"
      },
      "execution_count": null,
      "outputs": []
    },
    {
      "cell_type": "markdown",
      "source": [
        "This gives us access to all the functionality available. To demo its use, let’s build a single program that replicates the popular 1980s British quiz show “Play Your Cards Right” (https://en.wikipedia.org/wiki/Play_Your_Cards_Right).\n",
        "\n",
        "In this game a player will draw a card from the deck where “2” is the lowest card and “Ace” is the highest (effectively 14). The player then will have to guess if the next card will be higher or lower. We will assume that the player will base this purely on the most logical answer and if the card is between two and seven they will call “higher”. If the card is between nine and ace they will call “lower”. If the card is eight they will pick either “higher” or “lower” at random. Every time they get it right they win £100 and get to go again. If they get it wrong, or the new card is the same as the existing card they lose and whatever money that have won is their final award. There will be two players and the winner is the one who wins the most money.\n",
        "\n",
        "\n",
        "*Note: we are simplifying the game so that we will ignore that there are actually only four of each number, one for each suit, and assuming there are infinite of each number (infinite cards with duplications).*\n",
        "\n",
        "\n",
        "The code looks like this:\n"
      ],
      "metadata": {
        "id": "bjYD45jGsw2m"
      }
    },
    {
      "cell_type": "code",
      "source": [
        "import random\n",
        "\n",
        "players = ['Player #1', 'Player #2']\n",
        "game_continue = True\n",
        "money_dictionary = {}\n",
        "\n",
        "def print_name(card_drawn):\n",
        "  if card_drawn == 11:\n",
        "    card_drawn_print = \"Jack\"\n",
        "  elif card_drawn == 12:\n",
        "    card_drawn_print = \"Queen\"\n",
        "  elif card_drawn == 13:\n",
        "    card_drawn_print = \"King\"\n",
        "  elif card_drawn == 14:\n",
        "    card_drawn_print = \"Ace\"\n",
        "  else:\n",
        "    card_drawn_print = str(card_drawn)\n",
        "  return card_drawn_print\n",
        "\n",
        "for player in players:\n",
        "  game_continue = True\n",
        "  prize = 0\n",
        "  while game_continue == True:\n",
        "    card_drawn = random.randint(2, 14)\n",
        "    print(\"The card is a \" + print_name(card_drawn))\n",
        "    if card_drawn < 8:\n",
        "      guess = \"higher\"\n",
        "    elif card_drawn > 8:\n",
        "      guess = \"lower\"\n",
        "    else:\n",
        "      if random.randint(1, 2) == 1:\n",
        "        guess = \"lower\"\n",
        "      else:\n",
        "        guess = \"higher\"\n",
        "        print(player + \" guesses \" + guess)\n",
        "        new_card = random.randint(2, 14)\n",
        "        print(\"The card is a \" + print_name(new_card))\n",
        "        if new_card > card_drawn and guess == \"higher\":\n",
        "          prize += 100\n",
        "          print(player + \" wins £100\")\n",
        "        elif new_card < card_drawn and guess == \"lower\":\n",
        "          prize += 100\n",
        "          print(player + \" wins £100\")\n",
        "        else:\n",
        "          print(player + \" loses!\")\n",
        "          print(\"Total prize money is £\" + str(prize))\n",
        "          money_dictionary[player] = prize\n",
        "          game_continue = False\n",
        "\n",
        "if money_dictionary['Player #1'] > money_dictionary['Player #2']:\n",
        "  print(\"Player #1 wins with a total prize of £\" + \\\n",
        "        str(money_dictionary['Player #1']))\n",
        "elif money_dictionary['Player #1'] < money_dictionary['Player #2']:\n",
        "  print(\"Player #2 wins with a total prize of £\" + \\\n",
        "        str(money_dictionary['Player #2']))\n",
        "else:\n",
        "  print(\"It's a tie. No-one wins\")\n"
      ],
      "metadata": {
        "colab": {
          "base_uri": "https://localhost:8080/"
        },
        "id": "GbFgL9UntLAK",
        "outputId": "83bb3478-b3c7-44f8-b313-29e475582bfb"
      },
      "execution_count": null,
      "outputs": [
        {
          "output_type": "stream",
          "name": "stdout",
          "text": [
            "The card is a 7\n",
            "The card is a 4\n",
            "The card is a 6\n",
            "The card is a King\n",
            "The card is a King\n",
            "The card is a 7\n",
            "The card is a 3\n",
            "The card is a 2\n",
            "The card is a 7\n",
            "The card is a King\n",
            "The card is a 9\n",
            "The card is a Queen\n",
            "The card is a 9\n",
            "The card is a Ace\n",
            "The card is a 5\n",
            "The card is a 4\n",
            "The card is a King\n",
            "The card is a Queen\n",
            "The card is a 7\n",
            "The card is a Ace\n",
            "The card is a King\n",
            "The card is a 8\n",
            "Player #1 guesses higher\n",
            "The card is a 10\n",
            "Player #1 wins £100\n",
            "The card is a 9\n",
            "The card is a 2\n",
            "The card is a 8\n",
            "Player #1 guesses higher\n",
            "The card is a 7\n",
            "Player #1 loses!\n",
            "Total prize money is £100\n",
            "The card is a 9\n",
            "The card is a Jack\n",
            "The card is a 5\n",
            "The card is a Ace\n",
            "The card is a 3\n",
            "The card is a 5\n",
            "The card is a Jack\n",
            "The card is a 8\n",
            "The card is a 4\n",
            "The card is a 6\n",
            "The card is a 6\n",
            "The card is a King\n",
            "The card is a Queen\n",
            "The card is a Jack\n",
            "The card is a Jack\n",
            "The card is a 8\n",
            "Player #2 guesses higher\n",
            "The card is a 10\n",
            "Player #2 wins £100\n",
            "The card is a 8\n",
            "Player #2 guesses higher\n",
            "The card is a 2\n",
            "Player #2 loses!\n",
            "Total prize money is £100\n",
            "It's a tie. No-one wins\n"
          ]
        }
      ]
    },
    {
      "cell_type": "markdown",
      "source": [
        "Much of this should be familiar to but there are a few points to make.\n",
        "\n",
        "Firstly, is our print_name( ) function. While in the most part this works like the function we created in section 14, in this we have introduced a final command of return card_drawn_print. This means that the function will return this calculated value when called.\n",
        "\n",
        "Secondly, when we compare the two cards (if new card > card_drawn) we include an and statement so that both of these conditions need to be true for the test to pass.\n",
        "\n",
        "Thirdly, as detailed in the operators shown in section 6, we increase the value of prize using the command prize += 100 (meaning the prize is increased by 100 if the player wins).\n",
        "The final “new” code in this example relates to the random library. At various points we make calls to the random.randint( ) function. randint is a shortened version of “random integer” and, as this suggests, the function will draw a random number between the first value passed and the last value passed. So random.randint(2, 14) will draw a random integer between 2 and 14.\n",
        "\n",
        "We can evaluate that the program works by running it in the notebook. The output will obviously vary (it’s based on random numbers), but a possible output is shown as above."
      ],
      "metadata": {
        "id": "WT7-0h3BvMfU"
      }
    },
    {
      "cell_type": "markdown",
      "source": [
        "In this example we have only used one function available in random (there are lots of them), the randint( ) function. If we are not planning on using any other functions we can import the package in a different way:"
      ],
      "metadata": {
        "id": "SPgRSbGwvt59"
      }
    },
    {
      "cell_type": "code",
      "source": [
        "from random import randint"
      ],
      "metadata": {
        "id": "CwIbyV4qvxCr"
      },
      "execution_count": null,
      "outputs": []
    },
    {
      "cell_type": "markdown",
      "source": [
        "The benefit is that rather than having to call random.randint( ) we can call just randint( ) like so:"
      ],
      "metadata": {
        "id": "kVncXu2Ov08p"
      }
    },
    {
      "cell_type": "code",
      "source": [
        "new_card = randint(2, 14)"
      ],
      "metadata": {
        "id": "AM6ILNQKv6oQ"
      },
      "execution_count": null,
      "outputs": []
    },
    {
      "cell_type": "markdown",
      "source": [
        "We can also import modules with a specific name, such as :"
      ],
      "metadata": {
        "id": "axZ4ha0Kv_4b"
      }
    },
    {
      "cell_type": "code",
      "source": [
        "from random import randint as num_generator"
      ],
      "metadata": {
        "id": "8yXmAsl6wFYx"
      },
      "execution_count": null,
      "outputs": []
    },
    {
      "cell_type": "markdown",
      "source": [
        "which allows us to call the function as:"
      ],
      "metadata": {
        "id": "9XUxnN4kwKpK"
      }
    },
    {
      "cell_type": "code",
      "source": [
        "card_drawn = num_generator(2, 14)"
      ],
      "metadata": {
        "id": "1CDBmtwGwR-Z"
      },
      "execution_count": null,
      "outputs": []
    },
    {
      "cell_type": "markdown",
      "source": [
        "Thus, the codes we showed earlier can be updated as below:"
      ],
      "metadata": {
        "id": "1jMTUbHFwYox"
      }
    },
    {
      "cell_type": "code",
      "source": [
        "from random import randint as num_generator\n",
        "\n",
        "players = ['Player #1', 'Player #2']\n",
        "game_continue = True\n",
        "money_dictionary = {}\n",
        "\n",
        "def print_name(card_drawn):\n",
        "  if card_drawn == 11:\n",
        "    card_drawn_print = \"Jack\"\n",
        "  elif card_drawn == 12:\n",
        "    card_drawn_print = \"Queen\"\n",
        "  elif card_drawn == 13:\n",
        "    card_drawn_print = \"King\"\n",
        "  elif card_drawn == 14:\n",
        "    card_drawn_print = \"Ace\"\n",
        "  else:\n",
        "    card_drawn_print = str(card_drawn)\n",
        "  return card_drawn_print\n",
        "\n",
        "for player in players:\n",
        "  game_continue = True\n",
        "  prize = 0\n",
        "  while game_continue == True:\n",
        "    card_drawn = num_generator(2, 14) # we make change here\n",
        "    print(\"The card is a \" + print_name(card_drawn))\n",
        "    if card_drawn < 8:\n",
        "      guess = \"higher\"\n",
        "    elif card_drawn > 8:\n",
        "      guess = \"lower\"\n",
        "    else:\n",
        "      if num_generator(1, 2) == 1:\n",
        "        guess = \"lower\"\n",
        "      else:\n",
        "        guess = \"higher\"\n",
        "        print(player + \" guesses \" + guess)\n",
        "        new_card = num_generator(2, 14)\n",
        "        print(\"The card is a \" + print_name(new_card))\n",
        "        if new_card > card_drawn and guess == \"higher\":\n",
        "          prize += 100\n",
        "          print(player + \" wins £100\")\n",
        "        elif new_card < card_drawn and guess == \"lower\":\n",
        "          prize += 100\n",
        "          print(player + \" wins £100\")\n",
        "        else:\n",
        "          print(player + \" loses!\")\n",
        "          print(\"Total prize money is £\" + str(prize))\n",
        "          money_dictionary[player] = prize\n",
        "          game_continue = False\n",
        "\n",
        "if money_dictionary['Player #1'] > money_dictionary['Player #2']:\n",
        "  print(\"Player #1 wins with a total prize of £\" + \\\n",
        "        str(money_dictionary['Player #1']))\n",
        "elif money_dictionary['Player #1'] < money_dictionary['Player #2']:\n",
        "  print(\"Player #2 wins with a total prize of £\" + \\\n",
        "        str(money_dictionary['Player #2']))\n",
        "else:\n",
        "  print(\"It's a tie. No-one wins\")\n"
      ],
      "metadata": {
        "colab": {
          "base_uri": "https://localhost:8080/"
        },
        "id": "q28oewJmwe-A",
        "outputId": "a60dbd04-1b73-4a22-9e0a-71564601dc9a"
      },
      "execution_count": null,
      "outputs": [
        {
          "output_type": "stream",
          "name": "stdout",
          "text": [
            "The card is a 7\n",
            "The card is a 3\n",
            "The card is a 10\n",
            "The card is a Ace\n",
            "The card is a 4\n",
            "The card is a 4\n",
            "The card is a 3\n",
            "The card is a 7\n",
            "The card is a 2\n",
            "The card is a 7\n",
            "The card is a Ace\n",
            "The card is a Queen\n",
            "The card is a 6\n",
            "The card is a King\n",
            "The card is a Jack\n",
            "The card is a Queen\n",
            "The card is a Ace\n",
            "The card is a 4\n",
            "The card is a Ace\n",
            "The card is a 9\n",
            "The card is a 9\n",
            "The card is a 2\n",
            "The card is a 4\n",
            "The card is a 3\n",
            "The card is a 2\n",
            "The card is a 6\n",
            "The card is a Jack\n",
            "The card is a 5\n",
            "The card is a Ace\n",
            "The card is a 2\n",
            "The card is a 9\n",
            "The card is a King\n",
            "The card is a Queen\n",
            "The card is a Jack\n",
            "The card is a Jack\n",
            "The card is a 6\n",
            "The card is a 7\n",
            "The card is a 6\n",
            "The card is a Jack\n",
            "The card is a Ace\n",
            "The card is a 5\n",
            "The card is a 2\n",
            "The card is a 4\n",
            "The card is a 8\n",
            "The card is a 9\n",
            "The card is a 7\n",
            "The card is a 5\n",
            "The card is a 8\n",
            "The card is a 5\n",
            "The card is a 8\n",
            "Player #1 guesses higher\n",
            "The card is a 6\n",
            "Player #1 loses!\n",
            "Total prize money is £0\n",
            "The card is a 10\n",
            "The card is a 9\n",
            "The card is a 9\n",
            "The card is a Ace\n",
            "The card is a 4\n",
            "The card is a 4\n",
            "The card is a Queen\n",
            "The card is a 9\n",
            "The card is a 9\n",
            "The card is a Jack\n",
            "The card is a 2\n",
            "The card is a Ace\n",
            "The card is a 9\n",
            "The card is a Jack\n",
            "The card is a King\n",
            "The card is a 8\n",
            "Player #2 guesses higher\n",
            "The card is a Ace\n",
            "Player #2 wins £100\n",
            "The card is a 10\n",
            "The card is a 9\n",
            "The card is a 6\n",
            "The card is a King\n",
            "The card is a King\n",
            "The card is a 6\n",
            "The card is a King\n",
            "The card is a Queen\n",
            "The card is a 2\n",
            "The card is a 7\n",
            "The card is a 7\n",
            "The card is a 10\n",
            "The card is a 4\n",
            "The card is a 8\n",
            "Player #2 guesses higher\n",
            "The card is a 2\n",
            "Player #2 loses!\n",
            "Total prize money is £100\n",
            "Player #2 wins with a total prize of £100\n"
          ]
        }
      ]
    },
    {
      "cell_type": "markdown",
      "source": [
        "If you have time, you can play with some of the other functions in the package (https://flashtext.readthedocs.io/en/latest/)."
      ],
      "metadata": {
        "id": "xgAO3EfFIQoK"
      }
    },
    {
      "cell_type": "markdown",
      "source": [
        "## Install Packages with pip\n",
        "\n",
        "Alongside the modules which come with our Python installation, we can install further packages – which are basically modules that come from other sources. While we import them into our session in the same way as modules, we need to first install them on to our machine.\n",
        "There are multiple ways to do this, including directly from binaries/zip files/tar balls, or via the Python plugin `easyinstall`, but by far and away the easiest and most common approach is to use `pip`, which comes pre-installed with this version of Python."
      ],
      "metadata": {
        "id": "0r3bO_OMxcF4"
      }
    },
    {
      "cell_type": "markdown",
      "source": [
        "Let’s demo this by installing and using a third-party package into Python. The package we’ll use is a slightly obscure, but fun and useful `flashtext` (https://flashtext.readthedocs.io/en/latest/). We can install `flashtext` directly in the notebook window using:"
      ],
      "metadata": {
        "id": "VnGt1YDPx9Xj"
      }
    },
    {
      "cell_type": "code",
      "source": [
        "!pip install flashtext"
      ],
      "metadata": {
        "colab": {
          "base_uri": "https://localhost:8080/"
        },
        "id": "MZ-T9Q4tyIH3",
        "outputId": "82922fea-0c32-48ac-97d2-a5f9cdd35bec"
      },
      "execution_count": null,
      "outputs": [
        {
          "output_type": "stream",
          "name": "stdout",
          "text": [
            "Collecting flashtext\n",
            "  Downloading flashtext-2.7.tar.gz (14 kB)\n",
            "  Preparing metadata (setup.py) ... \u001b[?25l\u001b[?25hdone\n",
            "Building wheels for collected packages: flashtext\n",
            "  Building wheel for flashtext (setup.py) ... \u001b[?25l\u001b[?25hdone\n",
            "  Created wheel for flashtext: filename=flashtext-2.7-py2.py3-none-any.whl size=9296 sha256=c21bfaca63623d076b80c34124dd92a35348596210a2bc81f60b606f9960b8fd\n",
            "  Stored in directory: /root/.cache/pip/wheels/bc/be/39/c37ad168eb2ff644c9685f52554440372129450f0b8ed203dd\n",
            "Successfully built flashtext\n",
            "Installing collected packages: flashtext\n",
            "Successfully installed flashtext-2.7\n"
          ]
        }
      ]
    },
    {
      "cell_type": "markdown",
      "source": [
        "We don’t need to read the full text here but we are interested to know that the package installed – to which the line near the bottom **“Successfully installed flashtext-2.7”** tells us that this is the case."
      ],
      "metadata": {
        "id": "tiy4swdnyURd"
      }
    },
    {
      "cell_type": "markdown",
      "source": [
        "We can also use `pip` to upgrade the packages to the latest version. Let’s do that for a package that comes with our distribution which we will use later in the book – `numpy` (numerical Python - http://www.numpy.org/)."
      ],
      "metadata": {
        "id": "F0V7kkWCyqZJ"
      }
    },
    {
      "cell_type": "code",
      "source": [
        "!pip install --upgrade numpy"
      ],
      "metadata": {
        "colab": {
          "base_uri": "https://localhost:8080/"
        },
        "id": "kq7ivTcpyzO-",
        "outputId": "234126b7-163e-4bd7-a105-4f529a23a644"
      },
      "execution_count": null,
      "outputs": [
        {
          "output_type": "stream",
          "name": "stdout",
          "text": [
            "Requirement already satisfied: numpy in /usr/local/lib/python3.10/dist-packages (1.25.2)\n",
            "Collecting numpy\n",
            "  Downloading numpy-1.26.4-cp310-cp310-manylinux_2_17_x86_64.manylinux2014_x86_64.whl (18.2 MB)\n",
            "\u001b[2K     \u001b[90m━━━━━━━━━━━━━━━━━━━━━━━━━━━━━━━━━━━━━━━━\u001b[0m \u001b[32m18.2/18.2 MB\u001b[0m \u001b[31m29.6 MB/s\u001b[0m eta \u001b[36m0:00:00\u001b[0m\n",
            "\u001b[?25hInstalling collected packages: numpy\n",
            "  Attempting uninstall: numpy\n",
            "    Found existing installation: numpy 1.25.2\n",
            "    Uninstalling numpy-1.25.2:\n",
            "      Successfully uninstalled numpy-1.25.2\n",
            "\u001b[31mERROR: pip's dependency resolver does not currently take into account all the packages that are installed. This behaviour is the source of the following dependency conflicts.\n",
            "lida 0.0.10 requires fastapi, which is not installed.\n",
            "lida 0.0.10 requires kaleido, which is not installed.\n",
            "lida 0.0.10 requires python-multipart, which is not installed.\n",
            "lida 0.0.10 requires uvicorn, which is not installed.\u001b[0m\u001b[31m\n",
            "\u001b[0mSuccessfully installed numpy-1.26.4\n"
          ]
        }
      ]
    },
    {
      "cell_type": "markdown",
      "source": [
        "Again, we only really care about the text at the end which says that we have **“uninstalled numpy-1.25.2”** and have **“Successfully installed numpy-1.26.4”**."
      ],
      "metadata": {
        "id": "fAoRklKfy5JY"
      }
    },
    {
      "cell_type": "markdown",
      "source": [
        "After installing the packages successfully, now we are ready to import and use the package as we did in the previous example. Let’s return to `flashtext` and run an example using it (read the documentation for other tutorials and functionalities - https://flashtext.readthedocs.io/en/latest/). We’re going to write a simple program that can find specified in keywords in a block of text.\n"
      ],
      "metadata": {
        "id": "DSlXXN9lzHLB"
      }
    },
    {
      "cell_type": "code",
      "source": [
        "from flashtext import KeywordProcessor\n",
        "\n",
        "keyword_processor = KeywordProcessor()\n",
        "keyword_processor.add_keyword('computational', 'Computers')\n",
        "keyword_processor.add_keyword('computer', 'Computers')\n",
        "keyword_processor.add_keyword('high performance computing', 'Computers')\n",
        "keyword_processor.add_keyword('statistics', 'Statistics')\n",
        "keyword_processor.add_keyword('statistical', 'Statistics')\n",
        "keyword_processor.add_keyword('python', 'Python')\n",
        "\n",
        "text = 'This module aims to introduce students to many of the advanced statistical techniques made possible by innovations in computing and modern processing power. This includes Markov chain Monte Carlo approaches, probabilistic methods, Bayesian statistics, dimension reduction and high performance computing'\n",
        "text = text.lower()\n",
        "\n",
        "keywords_found = keyword_processor.extract_keywords(text)\n",
        "print(keywords_found)"
      ],
      "metadata": {
        "colab": {
          "base_uri": "https://localhost:8080/"
        },
        "id": "Mr-jkfNVzW5P",
        "outputId": "6cde999b-a658-4f29-d1f4-50bf84d6ebc6"
      },
      "execution_count": null,
      "outputs": [
        {
          "output_type": "stream",
          "name": "stdout",
          "text": [
            "['Statistics', 'Statistics', 'Computers']\n"
          ]
        }
      ]
    },
    {
      "cell_type": "markdown",
      "source": [
        "Here we have imported the KeywordProcessor( ) function from the package, and renamed it as keyword_processor. This just allows us to use it in a slightly different way where we don’t need to use brackets after.\n",
        "\n",
        "Next we added some keywords that we are interested in and then process some text.\n",
        "\n",
        "The words we will search for (the first word listed each time) are obviously fairly relevant, and are a combination of single words (called unigrams) and multi-word phrases (called n-grams) – each word/phrase is separated by quote marks as before. We pass them to flashtext using the keyword_processor variable we created, and the function add_keyword( ). After we pass each keyword we give it a category (Computers, Statistics or Python) which we will use to count occurrences.\n",
        "\n",
        "We then want to pass the text. Because computers will not consider an uppercase letter as the same as lower case letter, if our text includes “Python” that will not be a match with “python”. Therefore, we will also convert our text to lower case using the lower() function.\n",
        "\n",
        "Lastly, we will count the keywords that occur (by their category), to produce the output shown as above - we have found two keywords we associated with Statistics (1x “statistical” and 1x “statistics”) and one keyword with Computers (“high performance computing”).\n"
      ],
      "metadata": {
        "id": "LtZc4W8MzdZR"
      }
    },
    {
      "cell_type": "markdown",
      "source": [
        "If you have time, you can play with some of the other functions in the package (https://flashtext.readthedocs.io/en/latest/)."
      ],
      "metadata": {
        "id": "mj6us1zD1PrY"
      }
    },
    {
      "cell_type": "markdown",
      "source": [
        "# **17 Dataframe**"
      ],
      "metadata": {
        "id": "CvXQitqR0LXO"
      }
    },
    {
      "cell_type": "markdown",
      "source": [
        "Up until now we have worked on the fundamentals of Python, including the basic types of functionality (if conditions, for and while loops, data structures, and so on) and working (in general) with modules and packages. In this section we will with some packages that are designed for working with data for statistical computing and for managing datasets.\n",
        "\n",
        "In particular we will focus on some of the tools built into our implementation of Python, specifically Pandas (a data management framework) and Numpy (a set of functions for working with numerical data). These packages are some of the main reasons why Python is widely used in data science.\n"
      ],
      "metadata": {
        "id": "Y42FGOWa9xml"
      }
    },
    {
      "cell_type": "markdown",
      "source": [
        "## Pandas and Numpy"
      ],
      "metadata": {
        "id": "Bp6aycjNB6MX"
      }
    },
    {
      "cell_type": "markdown",
      "source": [
        "[Pandas](http://pandas.pydata.org/) is a popular open source Python package for data science, data engineering, analytics, and machine learning. It’s built on top of [NumPy](https://numpy.org/), which provides efficient support for numerical computation on multi-dimensional arrays."
      ],
      "metadata": {
        "id": "927hNjL9-Nkl"
      }
    },
    {
      "cell_type": "markdown",
      "source": [
        "## Import the packages\n",
        "\n",
        "Customarily, we import as follows:"
      ],
      "metadata": {
        "id": "iCa4hdaDHP88"
      }
    },
    {
      "cell_type": "code",
      "source": [
        "import numpy as np\n",
        "import pandas as pd"
      ],
      "metadata": {
        "id": "ms0W3uNOHYM8"
      },
      "execution_count": null,
      "outputs": []
    },
    {
      "cell_type": "markdown",
      "source": [
        "## Dataframe & Series in Pandas"
      ],
      "metadata": {
        "id": "DRQttbvnBFcZ"
      }
    },
    {
      "cell_type": "markdown",
      "source": [
        "The primary data structures in *pandas* are implemented as two classes:\n",
        "\n",
        "  * **`DataFrame`**, which you can imagine as a relational data table, with rows and named columns.\n",
        "  * **`Series`**, which is a single column. A `DataFrame` contains one or more `Series` and a name for each `Series`.\n",
        "\n",
        "The data frame is a commonly used abstraction for data manipulation. Similar implementations exist in [Spark](https://spark.apache.org/) and [R](https://www.r-project.org/about.html)."
      ],
      "metadata": {
        "id": "RCwUJyT3Hkmw"
      }
    },
    {
      "cell_type": "code",
      "source": [
        "city_names = pd.Series(['San Francisco', 'San Jose', 'Sacramento'])\n",
        "population = pd.Series([852469, 1015785, 485199])"
      ],
      "metadata": {
        "id": "km-YxU6rHphy"
      },
      "execution_count": null,
      "outputs": []
    },
    {
      "cell_type": "code",
      "source": [
        "city_names"
      ],
      "metadata": {
        "colab": {
          "base_uri": "https://localhost:8080/"
        },
        "id": "67RexvPDLMwn",
        "outputId": "26b3dd49-5113-4289-fc11-089f640d4be3"
      },
      "execution_count": null,
      "outputs": [
        {
          "output_type": "execute_result",
          "data": {
            "text/plain": [
              "0    San Francisco\n",
              "1         San Jose\n",
              "2       Sacramento\n",
              "dtype: object"
            ]
          },
          "metadata": {},
          "execution_count": 22
        }
      ]
    },
    {
      "cell_type": "code",
      "source": [
        "population"
      ],
      "metadata": {
        "colab": {
          "base_uri": "https://localhost:8080/"
        },
        "id": "6IAiv45fLOIJ",
        "outputId": "8704b2db-5449-4dfd-fc41-acddc7b49830"
      },
      "execution_count": null,
      "outputs": [
        {
          "output_type": "execute_result",
          "data": {
            "text/plain": [
              "0     852469\n",
              "1    1015785\n",
              "2     485199\n",
              "dtype: int64"
            ]
          },
          "metadata": {},
          "execution_count": 23
        }
      ]
    },
    {
      "cell_type": "markdown",
      "source": [
        "`DataFrame` objects can be created by passing a `dict` mapping `string` column names to their respective `Series`. If the `Series` don't match in length, missing values are filled with special [NA/NaN](http://pandas.pydata.org/pandas-docs/stable/missing_data.html) values.\n",
        "\n",
        "Following the above examples, we can create dataframe with series:"
      ],
      "metadata": {
        "id": "oCMXSf9dLWNe"
      }
    },
    {
      "cell_type": "code",
      "source": [
        "pd.DataFrame({ 'City name': city_names, 'Population': population })"
      ],
      "metadata": {
        "colab": {
          "base_uri": "https://localhost:8080/",
          "height": 143
        },
        "id": "7uJLSI0KLupP",
        "outputId": "dd3c8360-9af1-4133-b0ff-15537a7ebd2a"
      },
      "execution_count": null,
      "outputs": [
        {
          "output_type": "execute_result",
          "data": {
            "text/plain": [
              "       City name  Population\n",
              "0  San Francisco      852469\n",
              "1       San Jose     1015785\n",
              "2     Sacramento      485199"
            ],
            "text/html": [
              "\n",
              "  <div id=\"df-f0984b84-0b9a-44d2-9f24-9ed52c7c6b4d\" class=\"colab-df-container\">\n",
              "    <div>\n",
              "<style scoped>\n",
              "    .dataframe tbody tr th:only-of-type {\n",
              "        vertical-align: middle;\n",
              "    }\n",
              "\n",
              "    .dataframe tbody tr th {\n",
              "        vertical-align: top;\n",
              "    }\n",
              "\n",
              "    .dataframe thead th {\n",
              "        text-align: right;\n",
              "    }\n",
              "</style>\n",
              "<table border=\"1\" class=\"dataframe\">\n",
              "  <thead>\n",
              "    <tr style=\"text-align: right;\">\n",
              "      <th></th>\n",
              "      <th>City name</th>\n",
              "      <th>Population</th>\n",
              "    </tr>\n",
              "  </thead>\n",
              "  <tbody>\n",
              "    <tr>\n",
              "      <th>0</th>\n",
              "      <td>San Francisco</td>\n",
              "      <td>852469</td>\n",
              "    </tr>\n",
              "    <tr>\n",
              "      <th>1</th>\n",
              "      <td>San Jose</td>\n",
              "      <td>1015785</td>\n",
              "    </tr>\n",
              "    <tr>\n",
              "      <th>2</th>\n",
              "      <td>Sacramento</td>\n",
              "      <td>485199</td>\n",
              "    </tr>\n",
              "  </tbody>\n",
              "</table>\n",
              "</div>\n",
              "    <div class=\"colab-df-buttons\">\n",
              "\n",
              "  <div class=\"colab-df-container\">\n",
              "    <button class=\"colab-df-convert\" onclick=\"convertToInteractive('df-f0984b84-0b9a-44d2-9f24-9ed52c7c6b4d')\"\n",
              "            title=\"Convert this dataframe to an interactive table.\"\n",
              "            style=\"display:none;\">\n",
              "\n",
              "  <svg xmlns=\"http://www.w3.org/2000/svg\" height=\"24px\" viewBox=\"0 -960 960 960\">\n",
              "    <path d=\"M120-120v-720h720v720H120Zm60-500h600v-160H180v160Zm220 220h160v-160H400v160Zm0 220h160v-160H400v160ZM180-400h160v-160H180v160Zm440 0h160v-160H620v160ZM180-180h160v-160H180v160Zm440 0h160v-160H620v160Z\"/>\n",
              "  </svg>\n",
              "    </button>\n",
              "\n",
              "  <style>\n",
              "    .colab-df-container {\n",
              "      display:flex;\n",
              "      gap: 12px;\n",
              "    }\n",
              "\n",
              "    .colab-df-convert {\n",
              "      background-color: #E8F0FE;\n",
              "      border: none;\n",
              "      border-radius: 50%;\n",
              "      cursor: pointer;\n",
              "      display: none;\n",
              "      fill: #1967D2;\n",
              "      height: 32px;\n",
              "      padding: 0 0 0 0;\n",
              "      width: 32px;\n",
              "    }\n",
              "\n",
              "    .colab-df-convert:hover {\n",
              "      background-color: #E2EBFA;\n",
              "      box-shadow: 0px 1px 2px rgba(60, 64, 67, 0.3), 0px 1px 3px 1px rgba(60, 64, 67, 0.15);\n",
              "      fill: #174EA6;\n",
              "    }\n",
              "\n",
              "    .colab-df-buttons div {\n",
              "      margin-bottom: 4px;\n",
              "    }\n",
              "\n",
              "    [theme=dark] .colab-df-convert {\n",
              "      background-color: #3B4455;\n",
              "      fill: #D2E3FC;\n",
              "    }\n",
              "\n",
              "    [theme=dark] .colab-df-convert:hover {\n",
              "      background-color: #434B5C;\n",
              "      box-shadow: 0px 1px 3px 1px rgba(0, 0, 0, 0.15);\n",
              "      filter: drop-shadow(0px 1px 2px rgba(0, 0, 0, 0.3));\n",
              "      fill: #FFFFFF;\n",
              "    }\n",
              "  </style>\n",
              "\n",
              "    <script>\n",
              "      const buttonEl =\n",
              "        document.querySelector('#df-f0984b84-0b9a-44d2-9f24-9ed52c7c6b4d button.colab-df-convert');\n",
              "      buttonEl.style.display =\n",
              "        google.colab.kernel.accessAllowed ? 'block' : 'none';\n",
              "\n",
              "      async function convertToInteractive(key) {\n",
              "        const element = document.querySelector('#df-f0984b84-0b9a-44d2-9f24-9ed52c7c6b4d');\n",
              "        const dataTable =\n",
              "          await google.colab.kernel.invokeFunction('convertToInteractive',\n",
              "                                                    [key], {});\n",
              "        if (!dataTable) return;\n",
              "\n",
              "        const docLinkHtml = 'Like what you see? Visit the ' +\n",
              "          '<a target=\"_blank\" href=https://colab.research.google.com/notebooks/data_table.ipynb>data table notebook</a>'\n",
              "          + ' to learn more about interactive tables.';\n",
              "        element.innerHTML = '';\n",
              "        dataTable['output_type'] = 'display_data';\n",
              "        await google.colab.output.renderOutput(dataTable, element);\n",
              "        const docLink = document.createElement('div');\n",
              "        docLink.innerHTML = docLinkHtml;\n",
              "        element.appendChild(docLink);\n",
              "      }\n",
              "    </script>\n",
              "  </div>\n",
              "\n",
              "\n",
              "<div id=\"df-9d49a597-1488-44e7-9ae9-712a02240cb0\">\n",
              "  <button class=\"colab-df-quickchart\" onclick=\"quickchart('df-9d49a597-1488-44e7-9ae9-712a02240cb0')\"\n",
              "            title=\"Suggest charts\"\n",
              "            style=\"display:none;\">\n",
              "\n",
              "<svg xmlns=\"http://www.w3.org/2000/svg\" height=\"24px\"viewBox=\"0 0 24 24\"\n",
              "     width=\"24px\">\n",
              "    <g>\n",
              "        <path d=\"M19 3H5c-1.1 0-2 .9-2 2v14c0 1.1.9 2 2 2h14c1.1 0 2-.9 2-2V5c0-1.1-.9-2-2-2zM9 17H7v-7h2v7zm4 0h-2V7h2v10zm4 0h-2v-4h2v4z\"/>\n",
              "    </g>\n",
              "</svg>\n",
              "  </button>\n",
              "\n",
              "<style>\n",
              "  .colab-df-quickchart {\n",
              "      --bg-color: #E8F0FE;\n",
              "      --fill-color: #1967D2;\n",
              "      --hover-bg-color: #E2EBFA;\n",
              "      --hover-fill-color: #174EA6;\n",
              "      --disabled-fill-color: #AAA;\n",
              "      --disabled-bg-color: #DDD;\n",
              "  }\n",
              "\n",
              "  [theme=dark] .colab-df-quickchart {\n",
              "      --bg-color: #3B4455;\n",
              "      --fill-color: #D2E3FC;\n",
              "      --hover-bg-color: #434B5C;\n",
              "      --hover-fill-color: #FFFFFF;\n",
              "      --disabled-bg-color: #3B4455;\n",
              "      --disabled-fill-color: #666;\n",
              "  }\n",
              "\n",
              "  .colab-df-quickchart {\n",
              "    background-color: var(--bg-color);\n",
              "    border: none;\n",
              "    border-radius: 50%;\n",
              "    cursor: pointer;\n",
              "    display: none;\n",
              "    fill: var(--fill-color);\n",
              "    height: 32px;\n",
              "    padding: 0;\n",
              "    width: 32px;\n",
              "  }\n",
              "\n",
              "  .colab-df-quickchart:hover {\n",
              "    background-color: var(--hover-bg-color);\n",
              "    box-shadow: 0 1px 2px rgba(60, 64, 67, 0.3), 0 1px 3px 1px rgba(60, 64, 67, 0.15);\n",
              "    fill: var(--button-hover-fill-color);\n",
              "  }\n",
              "\n",
              "  .colab-df-quickchart-complete:disabled,\n",
              "  .colab-df-quickchart-complete:disabled:hover {\n",
              "    background-color: var(--disabled-bg-color);\n",
              "    fill: var(--disabled-fill-color);\n",
              "    box-shadow: none;\n",
              "  }\n",
              "\n",
              "  .colab-df-spinner {\n",
              "    border: 2px solid var(--fill-color);\n",
              "    border-color: transparent;\n",
              "    border-bottom-color: var(--fill-color);\n",
              "    animation:\n",
              "      spin 1s steps(1) infinite;\n",
              "  }\n",
              "\n",
              "  @keyframes spin {\n",
              "    0% {\n",
              "      border-color: transparent;\n",
              "      border-bottom-color: var(--fill-color);\n",
              "      border-left-color: var(--fill-color);\n",
              "    }\n",
              "    20% {\n",
              "      border-color: transparent;\n",
              "      border-left-color: var(--fill-color);\n",
              "      border-top-color: var(--fill-color);\n",
              "    }\n",
              "    30% {\n",
              "      border-color: transparent;\n",
              "      border-left-color: var(--fill-color);\n",
              "      border-top-color: var(--fill-color);\n",
              "      border-right-color: var(--fill-color);\n",
              "    }\n",
              "    40% {\n",
              "      border-color: transparent;\n",
              "      border-right-color: var(--fill-color);\n",
              "      border-top-color: var(--fill-color);\n",
              "    }\n",
              "    60% {\n",
              "      border-color: transparent;\n",
              "      border-right-color: var(--fill-color);\n",
              "    }\n",
              "    80% {\n",
              "      border-color: transparent;\n",
              "      border-right-color: var(--fill-color);\n",
              "      border-bottom-color: var(--fill-color);\n",
              "    }\n",
              "    90% {\n",
              "      border-color: transparent;\n",
              "      border-bottom-color: var(--fill-color);\n",
              "    }\n",
              "  }\n",
              "</style>\n",
              "\n",
              "  <script>\n",
              "    async function quickchart(key) {\n",
              "      const quickchartButtonEl =\n",
              "        document.querySelector('#' + key + ' button');\n",
              "      quickchartButtonEl.disabled = true;  // To prevent multiple clicks.\n",
              "      quickchartButtonEl.classList.add('colab-df-spinner');\n",
              "      try {\n",
              "        const charts = await google.colab.kernel.invokeFunction(\n",
              "            'suggestCharts', [key], {});\n",
              "      } catch (error) {\n",
              "        console.error('Error during call to suggestCharts:', error);\n",
              "      }\n",
              "      quickchartButtonEl.classList.remove('colab-df-spinner');\n",
              "      quickchartButtonEl.classList.add('colab-df-quickchart-complete');\n",
              "    }\n",
              "    (() => {\n",
              "      let quickchartButtonEl =\n",
              "        document.querySelector('#df-9d49a597-1488-44e7-9ae9-712a02240cb0 button');\n",
              "      quickchartButtonEl.style.display =\n",
              "        google.colab.kernel.accessAllowed ? 'block' : 'none';\n",
              "    })();\n",
              "  </script>\n",
              "</div>\n",
              "    </div>\n",
              "  </div>\n"
            ]
          },
          "metadata": {},
          "execution_count": 24
        }
      ]
    },
    {
      "cell_type": "markdown",
      "source": [
        "Basically we have created a <a target=\"_blank\" href=\"https://pandas.pydata.org/docs/reference/api/pandas.DataFrame.html#pandas.DataFrame\">`DataFrame`</a> by passing a dictionary of objects that can be converted into a series-like structure.Here is another example to show:"
      ],
      "metadata": {
        "id": "rCmj81qNMDPy"
      }
    },
    {
      "cell_type": "code",
      "source": [
        "df = pd.DataFrame(\n",
        "    {\n",
        "        \"id\": [1, 2, 3, 4, 5, 6],\n",
        "        \"grade\": [\"a\", \"b\", \"b\", \"a\", \"a\", \"e\"]\n",
        "    }\n",
        ")\n",
        "\n",
        "df"
      ],
      "metadata": {
        "colab": {
          "base_uri": "https://localhost:8080/",
          "height": 238
        },
        "id": "0W56hv6C_7SP",
        "outputId": "c55cd6b4-ffa8-4c75-99a9-7fb679cdb597"
      },
      "execution_count": null,
      "outputs": [
        {
          "output_type": "execute_result",
          "data": {
            "text/plain": [
              "   id grade\n",
              "0   1     a\n",
              "1   2     b\n",
              "2   3     b\n",
              "3   4     a\n",
              "4   5     a\n",
              "5   6     e"
            ],
            "text/html": [
              "\n",
              "  <div id=\"df-5c003413-f0c3-4a20-a93f-751491651852\" class=\"colab-df-container\">\n",
              "    <div>\n",
              "<style scoped>\n",
              "    .dataframe tbody tr th:only-of-type {\n",
              "        vertical-align: middle;\n",
              "    }\n",
              "\n",
              "    .dataframe tbody tr th {\n",
              "        vertical-align: top;\n",
              "    }\n",
              "\n",
              "    .dataframe thead th {\n",
              "        text-align: right;\n",
              "    }\n",
              "</style>\n",
              "<table border=\"1\" class=\"dataframe\">\n",
              "  <thead>\n",
              "    <tr style=\"text-align: right;\">\n",
              "      <th></th>\n",
              "      <th>id</th>\n",
              "      <th>grade</th>\n",
              "    </tr>\n",
              "  </thead>\n",
              "  <tbody>\n",
              "    <tr>\n",
              "      <th>0</th>\n",
              "      <td>1</td>\n",
              "      <td>a</td>\n",
              "    </tr>\n",
              "    <tr>\n",
              "      <th>1</th>\n",
              "      <td>2</td>\n",
              "      <td>b</td>\n",
              "    </tr>\n",
              "    <tr>\n",
              "      <th>2</th>\n",
              "      <td>3</td>\n",
              "      <td>b</td>\n",
              "    </tr>\n",
              "    <tr>\n",
              "      <th>3</th>\n",
              "      <td>4</td>\n",
              "      <td>a</td>\n",
              "    </tr>\n",
              "    <tr>\n",
              "      <th>4</th>\n",
              "      <td>5</td>\n",
              "      <td>a</td>\n",
              "    </tr>\n",
              "    <tr>\n",
              "      <th>5</th>\n",
              "      <td>6</td>\n",
              "      <td>e</td>\n",
              "    </tr>\n",
              "  </tbody>\n",
              "</table>\n",
              "</div>\n",
              "    <div class=\"colab-df-buttons\">\n",
              "\n",
              "  <div class=\"colab-df-container\">\n",
              "    <button class=\"colab-df-convert\" onclick=\"convertToInteractive('df-5c003413-f0c3-4a20-a93f-751491651852')\"\n",
              "            title=\"Convert this dataframe to an interactive table.\"\n",
              "            style=\"display:none;\">\n",
              "\n",
              "  <svg xmlns=\"http://www.w3.org/2000/svg\" height=\"24px\" viewBox=\"0 -960 960 960\">\n",
              "    <path d=\"M120-120v-720h720v720H120Zm60-500h600v-160H180v160Zm220 220h160v-160H400v160Zm0 220h160v-160H400v160ZM180-400h160v-160H180v160Zm440 0h160v-160H620v160ZM180-180h160v-160H180v160Zm440 0h160v-160H620v160Z\"/>\n",
              "  </svg>\n",
              "    </button>\n",
              "\n",
              "  <style>\n",
              "    .colab-df-container {\n",
              "      display:flex;\n",
              "      gap: 12px;\n",
              "    }\n",
              "\n",
              "    .colab-df-convert {\n",
              "      background-color: #E8F0FE;\n",
              "      border: none;\n",
              "      border-radius: 50%;\n",
              "      cursor: pointer;\n",
              "      display: none;\n",
              "      fill: #1967D2;\n",
              "      height: 32px;\n",
              "      padding: 0 0 0 0;\n",
              "      width: 32px;\n",
              "    }\n",
              "\n",
              "    .colab-df-convert:hover {\n",
              "      background-color: #E2EBFA;\n",
              "      box-shadow: 0px 1px 2px rgba(60, 64, 67, 0.3), 0px 1px 3px 1px rgba(60, 64, 67, 0.15);\n",
              "      fill: #174EA6;\n",
              "    }\n",
              "\n",
              "    .colab-df-buttons div {\n",
              "      margin-bottom: 4px;\n",
              "    }\n",
              "\n",
              "    [theme=dark] .colab-df-convert {\n",
              "      background-color: #3B4455;\n",
              "      fill: #D2E3FC;\n",
              "    }\n",
              "\n",
              "    [theme=dark] .colab-df-convert:hover {\n",
              "      background-color: #434B5C;\n",
              "      box-shadow: 0px 1px 3px 1px rgba(0, 0, 0, 0.15);\n",
              "      filter: drop-shadow(0px 1px 2px rgba(0, 0, 0, 0.3));\n",
              "      fill: #FFFFFF;\n",
              "    }\n",
              "  </style>\n",
              "\n",
              "    <script>\n",
              "      const buttonEl =\n",
              "        document.querySelector('#df-5c003413-f0c3-4a20-a93f-751491651852 button.colab-df-convert');\n",
              "      buttonEl.style.display =\n",
              "        google.colab.kernel.accessAllowed ? 'block' : 'none';\n",
              "\n",
              "      async function convertToInteractive(key) {\n",
              "        const element = document.querySelector('#df-5c003413-f0c3-4a20-a93f-751491651852');\n",
              "        const dataTable =\n",
              "          await google.colab.kernel.invokeFunction('convertToInteractive',\n",
              "                                                    [key], {});\n",
              "        if (!dataTable) return;\n",
              "\n",
              "        const docLinkHtml = 'Like what you see? Visit the ' +\n",
              "          '<a target=\"_blank\" href=https://colab.research.google.com/notebooks/data_table.ipynb>data table notebook</a>'\n",
              "          + ' to learn more about interactive tables.';\n",
              "        element.innerHTML = '';\n",
              "        dataTable['output_type'] = 'display_data';\n",
              "        await google.colab.output.renderOutput(dataTable, element);\n",
              "        const docLink = document.createElement('div');\n",
              "        docLink.innerHTML = docLinkHtml;\n",
              "        element.appendChild(docLink);\n",
              "      }\n",
              "    </script>\n",
              "  </div>\n",
              "\n",
              "\n",
              "<div id=\"df-ca048634-f5e9-4c1e-8f15-32cbb0c953f8\">\n",
              "  <button class=\"colab-df-quickchart\" onclick=\"quickchart('df-ca048634-f5e9-4c1e-8f15-32cbb0c953f8')\"\n",
              "            title=\"Suggest charts\"\n",
              "            style=\"display:none;\">\n",
              "\n",
              "<svg xmlns=\"http://www.w3.org/2000/svg\" height=\"24px\"viewBox=\"0 0 24 24\"\n",
              "     width=\"24px\">\n",
              "    <g>\n",
              "        <path d=\"M19 3H5c-1.1 0-2 .9-2 2v14c0 1.1.9 2 2 2h14c1.1 0 2-.9 2-2V5c0-1.1-.9-2-2-2zM9 17H7v-7h2v7zm4 0h-2V7h2v10zm4 0h-2v-4h2v4z\"/>\n",
              "    </g>\n",
              "</svg>\n",
              "  </button>\n",
              "\n",
              "<style>\n",
              "  .colab-df-quickchart {\n",
              "      --bg-color: #E8F0FE;\n",
              "      --fill-color: #1967D2;\n",
              "      --hover-bg-color: #E2EBFA;\n",
              "      --hover-fill-color: #174EA6;\n",
              "      --disabled-fill-color: #AAA;\n",
              "      --disabled-bg-color: #DDD;\n",
              "  }\n",
              "\n",
              "  [theme=dark] .colab-df-quickchart {\n",
              "      --bg-color: #3B4455;\n",
              "      --fill-color: #D2E3FC;\n",
              "      --hover-bg-color: #434B5C;\n",
              "      --hover-fill-color: #FFFFFF;\n",
              "      --disabled-bg-color: #3B4455;\n",
              "      --disabled-fill-color: #666;\n",
              "  }\n",
              "\n",
              "  .colab-df-quickchart {\n",
              "    background-color: var(--bg-color);\n",
              "    border: none;\n",
              "    border-radius: 50%;\n",
              "    cursor: pointer;\n",
              "    display: none;\n",
              "    fill: var(--fill-color);\n",
              "    height: 32px;\n",
              "    padding: 0;\n",
              "    width: 32px;\n",
              "  }\n",
              "\n",
              "  .colab-df-quickchart:hover {\n",
              "    background-color: var(--hover-bg-color);\n",
              "    box-shadow: 0 1px 2px rgba(60, 64, 67, 0.3), 0 1px 3px 1px rgba(60, 64, 67, 0.15);\n",
              "    fill: var(--button-hover-fill-color);\n",
              "  }\n",
              "\n",
              "  .colab-df-quickchart-complete:disabled,\n",
              "  .colab-df-quickchart-complete:disabled:hover {\n",
              "    background-color: var(--disabled-bg-color);\n",
              "    fill: var(--disabled-fill-color);\n",
              "    box-shadow: none;\n",
              "  }\n",
              "\n",
              "  .colab-df-spinner {\n",
              "    border: 2px solid var(--fill-color);\n",
              "    border-color: transparent;\n",
              "    border-bottom-color: var(--fill-color);\n",
              "    animation:\n",
              "      spin 1s steps(1) infinite;\n",
              "  }\n",
              "\n",
              "  @keyframes spin {\n",
              "    0% {\n",
              "      border-color: transparent;\n",
              "      border-bottom-color: var(--fill-color);\n",
              "      border-left-color: var(--fill-color);\n",
              "    }\n",
              "    20% {\n",
              "      border-color: transparent;\n",
              "      border-left-color: var(--fill-color);\n",
              "      border-top-color: var(--fill-color);\n",
              "    }\n",
              "    30% {\n",
              "      border-color: transparent;\n",
              "      border-left-color: var(--fill-color);\n",
              "      border-top-color: var(--fill-color);\n",
              "      border-right-color: var(--fill-color);\n",
              "    }\n",
              "    40% {\n",
              "      border-color: transparent;\n",
              "      border-right-color: var(--fill-color);\n",
              "      border-top-color: var(--fill-color);\n",
              "    }\n",
              "    60% {\n",
              "      border-color: transparent;\n",
              "      border-right-color: var(--fill-color);\n",
              "    }\n",
              "    80% {\n",
              "      border-color: transparent;\n",
              "      border-right-color: var(--fill-color);\n",
              "      border-bottom-color: var(--fill-color);\n",
              "    }\n",
              "    90% {\n",
              "      border-color: transparent;\n",
              "      border-bottom-color: var(--fill-color);\n",
              "    }\n",
              "  }\n",
              "</style>\n",
              "\n",
              "  <script>\n",
              "    async function quickchart(key) {\n",
              "      const quickchartButtonEl =\n",
              "        document.querySelector('#' + key + ' button');\n",
              "      quickchartButtonEl.disabled = true;  // To prevent multiple clicks.\n",
              "      quickchartButtonEl.classList.add('colab-df-spinner');\n",
              "      try {\n",
              "        const charts = await google.colab.kernel.invokeFunction(\n",
              "            'suggestCharts', [key], {});\n",
              "      } catch (error) {\n",
              "        console.error('Error during call to suggestCharts:', error);\n",
              "      }\n",
              "      quickchartButtonEl.classList.remove('colab-df-spinner');\n",
              "      quickchartButtonEl.classList.add('colab-df-quickchart-complete');\n",
              "    }\n",
              "    (() => {\n",
              "      let quickchartButtonEl =\n",
              "        document.querySelector('#df-ca048634-f5e9-4c1e-8f15-32cbb0c953f8 button');\n",
              "      quickchartButtonEl.style.display =\n",
              "        google.colab.kernel.accessAllowed ? 'block' : 'none';\n",
              "    })();\n",
              "  </script>\n",
              "</div>\n",
              "    </div>\n",
              "  </div>\n"
            ]
          },
          "metadata": {},
          "execution_count": 6
        }
      ]
    },
    {
      "cell_type": "markdown",
      "source": [
        "We can also read data from uploaded file (i.e. excel or csv) into dataframe with pandas.\n",
        "\n",
        "In Google Colab, first we need to upload the dataset into Google cloud from our local machine (your laptop), and then we can use pd.read_csv() or pd.read_excel() for reading csv file or excel file.\n",
        "\n",
        "Here is the example:"
      ],
      "metadata": {
        "id": "iu8lV9zKUxOR"
      }
    },
    {
      "cell_type": "code",
      "source": [
        "# Here we are uploading the famous Boston Housing data which is commonly used in machine learning course.\n",
        "# You can download the data from github https://github.com/selva86/datasets/blob/master/BostonHousing.csv\n",
        "\n",
        "# Click play button and then you will see the \"choose file\" button and you should be able to select the data from your laptop and upload\n",
        "# you can also click the folder icon on menu bar on the left and manually upload the file there\n",
        "from google.colab import files\n",
        "uploaded = files.upload()"
      ],
      "metadata": {
        "id": "BmW0zzfuUwOS",
        "colab": {
          "base_uri": "https://localhost:8080/",
          "height": 74
        },
        "outputId": "865c9e27-1b47-47f3-9a6f-0ecf832d499b"
      },
      "execution_count": null,
      "outputs": [
        {
          "output_type": "display_data",
          "data": {
            "text/plain": [
              "<IPython.core.display.HTML object>"
            ],
            "text/html": [
              "\n",
              "     <input type=\"file\" id=\"files-6291a051-fc23-4d42-be68-6125aca6aa4b\" name=\"files[]\" multiple disabled\n",
              "        style=\"border:none\" />\n",
              "     <output id=\"result-6291a051-fc23-4d42-be68-6125aca6aa4b\">\n",
              "      Upload widget is only available when the cell has been executed in the\n",
              "      current browser session. Please rerun this cell to enable.\n",
              "      </output>\n",
              "      <script>// Copyright 2017 Google LLC\n",
              "//\n",
              "// Licensed under the Apache License, Version 2.0 (the \"License\");\n",
              "// you may not use this file except in compliance with the License.\n",
              "// You may obtain a copy of the License at\n",
              "//\n",
              "//      http://www.apache.org/licenses/LICENSE-2.0\n",
              "//\n",
              "// Unless required by applicable law or agreed to in writing, software\n",
              "// distributed under the License is distributed on an \"AS IS\" BASIS,\n",
              "// WITHOUT WARRANTIES OR CONDITIONS OF ANY KIND, either express or implied.\n",
              "// See the License for the specific language governing permissions and\n",
              "// limitations under the License.\n",
              "\n",
              "/**\n",
              " * @fileoverview Helpers for google.colab Python module.\n",
              " */\n",
              "(function(scope) {\n",
              "function span(text, styleAttributes = {}) {\n",
              "  const element = document.createElement('span');\n",
              "  element.textContent = text;\n",
              "  for (const key of Object.keys(styleAttributes)) {\n",
              "    element.style[key] = styleAttributes[key];\n",
              "  }\n",
              "  return element;\n",
              "}\n",
              "\n",
              "// Max number of bytes which will be uploaded at a time.\n",
              "const MAX_PAYLOAD_SIZE = 100 * 1024;\n",
              "\n",
              "function _uploadFiles(inputId, outputId) {\n",
              "  const steps = uploadFilesStep(inputId, outputId);\n",
              "  const outputElement = document.getElementById(outputId);\n",
              "  // Cache steps on the outputElement to make it available for the next call\n",
              "  // to uploadFilesContinue from Python.\n",
              "  outputElement.steps = steps;\n",
              "\n",
              "  return _uploadFilesContinue(outputId);\n",
              "}\n",
              "\n",
              "// This is roughly an async generator (not supported in the browser yet),\n",
              "// where there are multiple asynchronous steps and the Python side is going\n",
              "// to poll for completion of each step.\n",
              "// This uses a Promise to block the python side on completion of each step,\n",
              "// then passes the result of the previous step as the input to the next step.\n",
              "function _uploadFilesContinue(outputId) {\n",
              "  const outputElement = document.getElementById(outputId);\n",
              "  const steps = outputElement.steps;\n",
              "\n",
              "  const next = steps.next(outputElement.lastPromiseValue);\n",
              "  return Promise.resolve(next.value.promise).then((value) => {\n",
              "    // Cache the last promise value to make it available to the next\n",
              "    // step of the generator.\n",
              "    outputElement.lastPromiseValue = value;\n",
              "    return next.value.response;\n",
              "  });\n",
              "}\n",
              "\n",
              "/**\n",
              " * Generator function which is called between each async step of the upload\n",
              " * process.\n",
              " * @param {string} inputId Element ID of the input file picker element.\n",
              " * @param {string} outputId Element ID of the output display.\n",
              " * @return {!Iterable<!Object>} Iterable of next steps.\n",
              " */\n",
              "function* uploadFilesStep(inputId, outputId) {\n",
              "  const inputElement = document.getElementById(inputId);\n",
              "  inputElement.disabled = false;\n",
              "\n",
              "  const outputElement = document.getElementById(outputId);\n",
              "  outputElement.innerHTML = '';\n",
              "\n",
              "  const pickedPromise = new Promise((resolve) => {\n",
              "    inputElement.addEventListener('change', (e) => {\n",
              "      resolve(e.target.files);\n",
              "    });\n",
              "  });\n",
              "\n",
              "  const cancel = document.createElement('button');\n",
              "  inputElement.parentElement.appendChild(cancel);\n",
              "  cancel.textContent = 'Cancel upload';\n",
              "  const cancelPromise = new Promise((resolve) => {\n",
              "    cancel.onclick = () => {\n",
              "      resolve(null);\n",
              "    };\n",
              "  });\n",
              "\n",
              "  // Wait for the user to pick the files.\n",
              "  const files = yield {\n",
              "    promise: Promise.race([pickedPromise, cancelPromise]),\n",
              "    response: {\n",
              "      action: 'starting',\n",
              "    }\n",
              "  };\n",
              "\n",
              "  cancel.remove();\n",
              "\n",
              "  // Disable the input element since further picks are not allowed.\n",
              "  inputElement.disabled = true;\n",
              "\n",
              "  if (!files) {\n",
              "    return {\n",
              "      response: {\n",
              "        action: 'complete',\n",
              "      }\n",
              "    };\n",
              "  }\n",
              "\n",
              "  for (const file of files) {\n",
              "    const li = document.createElement('li');\n",
              "    li.append(span(file.name, {fontWeight: 'bold'}));\n",
              "    li.append(span(\n",
              "        `(${file.type || 'n/a'}) - ${file.size} bytes, ` +\n",
              "        `last modified: ${\n",
              "            file.lastModifiedDate ? file.lastModifiedDate.toLocaleDateString() :\n",
              "                                    'n/a'} - `));\n",
              "    const percent = span('0% done');\n",
              "    li.appendChild(percent);\n",
              "\n",
              "    outputElement.appendChild(li);\n",
              "\n",
              "    const fileDataPromise = new Promise((resolve) => {\n",
              "      const reader = new FileReader();\n",
              "      reader.onload = (e) => {\n",
              "        resolve(e.target.result);\n",
              "      };\n",
              "      reader.readAsArrayBuffer(file);\n",
              "    });\n",
              "    // Wait for the data to be ready.\n",
              "    let fileData = yield {\n",
              "      promise: fileDataPromise,\n",
              "      response: {\n",
              "        action: 'continue',\n",
              "      }\n",
              "    };\n",
              "\n",
              "    // Use a chunked sending to avoid message size limits. See b/62115660.\n",
              "    let position = 0;\n",
              "    do {\n",
              "      const length = Math.min(fileData.byteLength - position, MAX_PAYLOAD_SIZE);\n",
              "      const chunk = new Uint8Array(fileData, position, length);\n",
              "      position += length;\n",
              "\n",
              "      const base64 = btoa(String.fromCharCode.apply(null, chunk));\n",
              "      yield {\n",
              "        response: {\n",
              "          action: 'append',\n",
              "          file: file.name,\n",
              "          data: base64,\n",
              "        },\n",
              "      };\n",
              "\n",
              "      let percentDone = fileData.byteLength === 0 ?\n",
              "          100 :\n",
              "          Math.round((position / fileData.byteLength) * 100);\n",
              "      percent.textContent = `${percentDone}% done`;\n",
              "\n",
              "    } while (position < fileData.byteLength);\n",
              "  }\n",
              "\n",
              "  // All done.\n",
              "  yield {\n",
              "    response: {\n",
              "      action: 'complete',\n",
              "    }\n",
              "  };\n",
              "}\n",
              "\n",
              "scope.google = scope.google || {};\n",
              "scope.google.colab = scope.google.colab || {};\n",
              "scope.google.colab._files = {\n",
              "  _uploadFiles,\n",
              "  _uploadFilesContinue,\n",
              "};\n",
              "})(self);\n",
              "</script> "
            ]
          },
          "metadata": {}
        },
        {
          "output_type": "stream",
          "name": "stdout",
          "text": [
            "Saving BostonHousing.csv to BostonHousing.csv\n"
          ]
        }
      ]
    },
    {
      "cell_type": "code",
      "source": [
        "# when it shows 100% done, then the file now is on cloud. And then you can read the data now\n",
        "df = pd.read_csv('BostonHousing.csv') # make sure you are putting the right file name in the bracket. Here our data is csv file, so we use pd.read_csv()\n",
        "df"
      ],
      "metadata": {
        "colab": {
          "base_uri": "https://localhost:8080/",
          "height": 424
        },
        "id": "MI6pVq0vfcbU",
        "outputId": "16a46b8e-1cdd-4ffe-ad06-cff2d7ea5681"
      },
      "execution_count": null,
      "outputs": [
        {
          "output_type": "execute_result",
          "data": {
            "text/plain": [
              "        crim    zn  indus  chas    nox     rm   age     dis  rad  tax  \\\n",
              "0    0.00632  18.0   2.31     0  0.538  6.575  65.2  4.0900    1  296   \n",
              "1    0.02731   0.0   7.07     0  0.469  6.421  78.9  4.9671    2  242   \n",
              "2    0.02729   0.0   7.07     0  0.469  7.185  61.1  4.9671    2  242   \n",
              "3    0.03237   0.0   2.18     0  0.458  6.998  45.8  6.0622    3  222   \n",
              "4    0.06905   0.0   2.18     0  0.458  7.147  54.2  6.0622    3  222   \n",
              "..       ...   ...    ...   ...    ...    ...   ...     ...  ...  ...   \n",
              "501  0.06263   0.0  11.93     0  0.573  6.593  69.1  2.4786    1  273   \n",
              "502  0.04527   0.0  11.93     0  0.573  6.120  76.7  2.2875    1  273   \n",
              "503  0.06076   0.0  11.93     0  0.573  6.976  91.0  2.1675    1  273   \n",
              "504  0.10959   0.0  11.93     0  0.573  6.794  89.3  2.3889    1  273   \n",
              "505  0.04741   0.0  11.93     0  0.573  6.030  80.8  2.5050    1  273   \n",
              "\n",
              "     ptratio       b  lstat  medv  \n",
              "0       15.3  396.90   4.98  24.0  \n",
              "1       17.8  396.90   9.14  21.6  \n",
              "2       17.8  392.83   4.03  34.7  \n",
              "3       18.7  394.63   2.94  33.4  \n",
              "4       18.7  396.90   5.33  36.2  \n",
              "..       ...     ...    ...   ...  \n",
              "501     21.0  391.99   9.67  22.4  \n",
              "502     21.0  396.90   9.08  20.6  \n",
              "503     21.0  396.90   5.64  23.9  \n",
              "504     21.0  393.45   6.48  22.0  \n",
              "505     21.0  396.90   7.88  11.9  \n",
              "\n",
              "[506 rows x 14 columns]"
            ],
            "text/html": [
              "\n",
              "  <div id=\"df-3a7b440b-7334-4285-8dd1-74d3fd8935f2\" class=\"colab-df-container\">\n",
              "    <div>\n",
              "<style scoped>\n",
              "    .dataframe tbody tr th:only-of-type {\n",
              "        vertical-align: middle;\n",
              "    }\n",
              "\n",
              "    .dataframe tbody tr th {\n",
              "        vertical-align: top;\n",
              "    }\n",
              "\n",
              "    .dataframe thead th {\n",
              "        text-align: right;\n",
              "    }\n",
              "</style>\n",
              "<table border=\"1\" class=\"dataframe\">\n",
              "  <thead>\n",
              "    <tr style=\"text-align: right;\">\n",
              "      <th></th>\n",
              "      <th>crim</th>\n",
              "      <th>zn</th>\n",
              "      <th>indus</th>\n",
              "      <th>chas</th>\n",
              "      <th>nox</th>\n",
              "      <th>rm</th>\n",
              "      <th>age</th>\n",
              "      <th>dis</th>\n",
              "      <th>rad</th>\n",
              "      <th>tax</th>\n",
              "      <th>ptratio</th>\n",
              "      <th>b</th>\n",
              "      <th>lstat</th>\n",
              "      <th>medv</th>\n",
              "    </tr>\n",
              "  </thead>\n",
              "  <tbody>\n",
              "    <tr>\n",
              "      <th>0</th>\n",
              "      <td>0.00632</td>\n",
              "      <td>18.0</td>\n",
              "      <td>2.31</td>\n",
              "      <td>0</td>\n",
              "      <td>0.538</td>\n",
              "      <td>6.575</td>\n",
              "      <td>65.2</td>\n",
              "      <td>4.0900</td>\n",
              "      <td>1</td>\n",
              "      <td>296</td>\n",
              "      <td>15.3</td>\n",
              "      <td>396.90</td>\n",
              "      <td>4.98</td>\n",
              "      <td>24.0</td>\n",
              "    </tr>\n",
              "    <tr>\n",
              "      <th>1</th>\n",
              "      <td>0.02731</td>\n",
              "      <td>0.0</td>\n",
              "      <td>7.07</td>\n",
              "      <td>0</td>\n",
              "      <td>0.469</td>\n",
              "      <td>6.421</td>\n",
              "      <td>78.9</td>\n",
              "      <td>4.9671</td>\n",
              "      <td>2</td>\n",
              "      <td>242</td>\n",
              "      <td>17.8</td>\n",
              "      <td>396.90</td>\n",
              "      <td>9.14</td>\n",
              "      <td>21.6</td>\n",
              "    </tr>\n",
              "    <tr>\n",
              "      <th>2</th>\n",
              "      <td>0.02729</td>\n",
              "      <td>0.0</td>\n",
              "      <td>7.07</td>\n",
              "      <td>0</td>\n",
              "      <td>0.469</td>\n",
              "      <td>7.185</td>\n",
              "      <td>61.1</td>\n",
              "      <td>4.9671</td>\n",
              "      <td>2</td>\n",
              "      <td>242</td>\n",
              "      <td>17.8</td>\n",
              "      <td>392.83</td>\n",
              "      <td>4.03</td>\n",
              "      <td>34.7</td>\n",
              "    </tr>\n",
              "    <tr>\n",
              "      <th>3</th>\n",
              "      <td>0.03237</td>\n",
              "      <td>0.0</td>\n",
              "      <td>2.18</td>\n",
              "      <td>0</td>\n",
              "      <td>0.458</td>\n",
              "      <td>6.998</td>\n",
              "      <td>45.8</td>\n",
              "      <td>6.0622</td>\n",
              "      <td>3</td>\n",
              "      <td>222</td>\n",
              "      <td>18.7</td>\n",
              "      <td>394.63</td>\n",
              "      <td>2.94</td>\n",
              "      <td>33.4</td>\n",
              "    </tr>\n",
              "    <tr>\n",
              "      <th>4</th>\n",
              "      <td>0.06905</td>\n",
              "      <td>0.0</td>\n",
              "      <td>2.18</td>\n",
              "      <td>0</td>\n",
              "      <td>0.458</td>\n",
              "      <td>7.147</td>\n",
              "      <td>54.2</td>\n",
              "      <td>6.0622</td>\n",
              "      <td>3</td>\n",
              "      <td>222</td>\n",
              "      <td>18.7</td>\n",
              "      <td>396.90</td>\n",
              "      <td>5.33</td>\n",
              "      <td>36.2</td>\n",
              "    </tr>\n",
              "    <tr>\n",
              "      <th>...</th>\n",
              "      <td>...</td>\n",
              "      <td>...</td>\n",
              "      <td>...</td>\n",
              "      <td>...</td>\n",
              "      <td>...</td>\n",
              "      <td>...</td>\n",
              "      <td>...</td>\n",
              "      <td>...</td>\n",
              "      <td>...</td>\n",
              "      <td>...</td>\n",
              "      <td>...</td>\n",
              "      <td>...</td>\n",
              "      <td>...</td>\n",
              "      <td>...</td>\n",
              "    </tr>\n",
              "    <tr>\n",
              "      <th>501</th>\n",
              "      <td>0.06263</td>\n",
              "      <td>0.0</td>\n",
              "      <td>11.93</td>\n",
              "      <td>0</td>\n",
              "      <td>0.573</td>\n",
              "      <td>6.593</td>\n",
              "      <td>69.1</td>\n",
              "      <td>2.4786</td>\n",
              "      <td>1</td>\n",
              "      <td>273</td>\n",
              "      <td>21.0</td>\n",
              "      <td>391.99</td>\n",
              "      <td>9.67</td>\n",
              "      <td>22.4</td>\n",
              "    </tr>\n",
              "    <tr>\n",
              "      <th>502</th>\n",
              "      <td>0.04527</td>\n",
              "      <td>0.0</td>\n",
              "      <td>11.93</td>\n",
              "      <td>0</td>\n",
              "      <td>0.573</td>\n",
              "      <td>6.120</td>\n",
              "      <td>76.7</td>\n",
              "      <td>2.2875</td>\n",
              "      <td>1</td>\n",
              "      <td>273</td>\n",
              "      <td>21.0</td>\n",
              "      <td>396.90</td>\n",
              "      <td>9.08</td>\n",
              "      <td>20.6</td>\n",
              "    </tr>\n",
              "    <tr>\n",
              "      <th>503</th>\n",
              "      <td>0.06076</td>\n",
              "      <td>0.0</td>\n",
              "      <td>11.93</td>\n",
              "      <td>0</td>\n",
              "      <td>0.573</td>\n",
              "      <td>6.976</td>\n",
              "      <td>91.0</td>\n",
              "      <td>2.1675</td>\n",
              "      <td>1</td>\n",
              "      <td>273</td>\n",
              "      <td>21.0</td>\n",
              "      <td>396.90</td>\n",
              "      <td>5.64</td>\n",
              "      <td>23.9</td>\n",
              "    </tr>\n",
              "    <tr>\n",
              "      <th>504</th>\n",
              "      <td>0.10959</td>\n",
              "      <td>0.0</td>\n",
              "      <td>11.93</td>\n",
              "      <td>0</td>\n",
              "      <td>0.573</td>\n",
              "      <td>6.794</td>\n",
              "      <td>89.3</td>\n",
              "      <td>2.3889</td>\n",
              "      <td>1</td>\n",
              "      <td>273</td>\n",
              "      <td>21.0</td>\n",
              "      <td>393.45</td>\n",
              "      <td>6.48</td>\n",
              "      <td>22.0</td>\n",
              "    </tr>\n",
              "    <tr>\n",
              "      <th>505</th>\n",
              "      <td>0.04741</td>\n",
              "      <td>0.0</td>\n",
              "      <td>11.93</td>\n",
              "      <td>0</td>\n",
              "      <td>0.573</td>\n",
              "      <td>6.030</td>\n",
              "      <td>80.8</td>\n",
              "      <td>2.5050</td>\n",
              "      <td>1</td>\n",
              "      <td>273</td>\n",
              "      <td>21.0</td>\n",
              "      <td>396.90</td>\n",
              "      <td>7.88</td>\n",
              "      <td>11.9</td>\n",
              "    </tr>\n",
              "  </tbody>\n",
              "</table>\n",
              "<p>506 rows × 14 columns</p>\n",
              "</div>\n",
              "    <div class=\"colab-df-buttons\">\n",
              "\n",
              "  <div class=\"colab-df-container\">\n",
              "    <button class=\"colab-df-convert\" onclick=\"convertToInteractive('df-3a7b440b-7334-4285-8dd1-74d3fd8935f2')\"\n",
              "            title=\"Convert this dataframe to an interactive table.\"\n",
              "            style=\"display:none;\">\n",
              "\n",
              "  <svg xmlns=\"http://www.w3.org/2000/svg\" height=\"24px\" viewBox=\"0 -960 960 960\">\n",
              "    <path d=\"M120-120v-720h720v720H120Zm60-500h600v-160H180v160Zm220 220h160v-160H400v160Zm0 220h160v-160H400v160ZM180-400h160v-160H180v160Zm440 0h160v-160H620v160ZM180-180h160v-160H180v160Zm440 0h160v-160H620v160Z\"/>\n",
              "  </svg>\n",
              "    </button>\n",
              "\n",
              "  <style>\n",
              "    .colab-df-container {\n",
              "      display:flex;\n",
              "      gap: 12px;\n",
              "    }\n",
              "\n",
              "    .colab-df-convert {\n",
              "      background-color: #E8F0FE;\n",
              "      border: none;\n",
              "      border-radius: 50%;\n",
              "      cursor: pointer;\n",
              "      display: none;\n",
              "      fill: #1967D2;\n",
              "      height: 32px;\n",
              "      padding: 0 0 0 0;\n",
              "      width: 32px;\n",
              "    }\n",
              "\n",
              "    .colab-df-convert:hover {\n",
              "      background-color: #E2EBFA;\n",
              "      box-shadow: 0px 1px 2px rgba(60, 64, 67, 0.3), 0px 1px 3px 1px rgba(60, 64, 67, 0.15);\n",
              "      fill: #174EA6;\n",
              "    }\n",
              "\n",
              "    .colab-df-buttons div {\n",
              "      margin-bottom: 4px;\n",
              "    }\n",
              "\n",
              "    [theme=dark] .colab-df-convert {\n",
              "      background-color: #3B4455;\n",
              "      fill: #D2E3FC;\n",
              "    }\n",
              "\n",
              "    [theme=dark] .colab-df-convert:hover {\n",
              "      background-color: #434B5C;\n",
              "      box-shadow: 0px 1px 3px 1px rgba(0, 0, 0, 0.15);\n",
              "      filter: drop-shadow(0px 1px 2px rgba(0, 0, 0, 0.3));\n",
              "      fill: #FFFFFF;\n",
              "    }\n",
              "  </style>\n",
              "\n",
              "    <script>\n",
              "      const buttonEl =\n",
              "        document.querySelector('#df-3a7b440b-7334-4285-8dd1-74d3fd8935f2 button.colab-df-convert');\n",
              "      buttonEl.style.display =\n",
              "        google.colab.kernel.accessAllowed ? 'block' : 'none';\n",
              "\n",
              "      async function convertToInteractive(key) {\n",
              "        const element = document.querySelector('#df-3a7b440b-7334-4285-8dd1-74d3fd8935f2');\n",
              "        const dataTable =\n",
              "          await google.colab.kernel.invokeFunction('convertToInteractive',\n",
              "                                                    [key], {});\n",
              "        if (!dataTable) return;\n",
              "\n",
              "        const docLinkHtml = 'Like what you see? Visit the ' +\n",
              "          '<a target=\"_blank\" href=https://colab.research.google.com/notebooks/data_table.ipynb>data table notebook</a>'\n",
              "          + ' to learn more about interactive tables.';\n",
              "        element.innerHTML = '';\n",
              "        dataTable['output_type'] = 'display_data';\n",
              "        await google.colab.output.renderOutput(dataTable, element);\n",
              "        const docLink = document.createElement('div');\n",
              "        docLink.innerHTML = docLinkHtml;\n",
              "        element.appendChild(docLink);\n",
              "      }\n",
              "    </script>\n",
              "  </div>\n",
              "\n",
              "\n",
              "<div id=\"df-6478ceb7-8151-4fbc-960f-015f772852de\">\n",
              "  <button class=\"colab-df-quickchart\" onclick=\"quickchart('df-6478ceb7-8151-4fbc-960f-015f772852de')\"\n",
              "            title=\"Suggest charts\"\n",
              "            style=\"display:none;\">\n",
              "\n",
              "<svg xmlns=\"http://www.w3.org/2000/svg\" height=\"24px\"viewBox=\"0 0 24 24\"\n",
              "     width=\"24px\">\n",
              "    <g>\n",
              "        <path d=\"M19 3H5c-1.1 0-2 .9-2 2v14c0 1.1.9 2 2 2h14c1.1 0 2-.9 2-2V5c0-1.1-.9-2-2-2zM9 17H7v-7h2v7zm4 0h-2V7h2v10zm4 0h-2v-4h2v4z\"/>\n",
              "    </g>\n",
              "</svg>\n",
              "  </button>\n",
              "\n",
              "<style>\n",
              "  .colab-df-quickchart {\n",
              "      --bg-color: #E8F0FE;\n",
              "      --fill-color: #1967D2;\n",
              "      --hover-bg-color: #E2EBFA;\n",
              "      --hover-fill-color: #174EA6;\n",
              "      --disabled-fill-color: #AAA;\n",
              "      --disabled-bg-color: #DDD;\n",
              "  }\n",
              "\n",
              "  [theme=dark] .colab-df-quickchart {\n",
              "      --bg-color: #3B4455;\n",
              "      --fill-color: #D2E3FC;\n",
              "      --hover-bg-color: #434B5C;\n",
              "      --hover-fill-color: #FFFFFF;\n",
              "      --disabled-bg-color: #3B4455;\n",
              "      --disabled-fill-color: #666;\n",
              "  }\n",
              "\n",
              "  .colab-df-quickchart {\n",
              "    background-color: var(--bg-color);\n",
              "    border: none;\n",
              "    border-radius: 50%;\n",
              "    cursor: pointer;\n",
              "    display: none;\n",
              "    fill: var(--fill-color);\n",
              "    height: 32px;\n",
              "    padding: 0;\n",
              "    width: 32px;\n",
              "  }\n",
              "\n",
              "  .colab-df-quickchart:hover {\n",
              "    background-color: var(--hover-bg-color);\n",
              "    box-shadow: 0 1px 2px rgba(60, 64, 67, 0.3), 0 1px 3px 1px rgba(60, 64, 67, 0.15);\n",
              "    fill: var(--button-hover-fill-color);\n",
              "  }\n",
              "\n",
              "  .colab-df-quickchart-complete:disabled,\n",
              "  .colab-df-quickchart-complete:disabled:hover {\n",
              "    background-color: var(--disabled-bg-color);\n",
              "    fill: var(--disabled-fill-color);\n",
              "    box-shadow: none;\n",
              "  }\n",
              "\n",
              "  .colab-df-spinner {\n",
              "    border: 2px solid var(--fill-color);\n",
              "    border-color: transparent;\n",
              "    border-bottom-color: var(--fill-color);\n",
              "    animation:\n",
              "      spin 1s steps(1) infinite;\n",
              "  }\n",
              "\n",
              "  @keyframes spin {\n",
              "    0% {\n",
              "      border-color: transparent;\n",
              "      border-bottom-color: var(--fill-color);\n",
              "      border-left-color: var(--fill-color);\n",
              "    }\n",
              "    20% {\n",
              "      border-color: transparent;\n",
              "      border-left-color: var(--fill-color);\n",
              "      border-top-color: var(--fill-color);\n",
              "    }\n",
              "    30% {\n",
              "      border-color: transparent;\n",
              "      border-left-color: var(--fill-color);\n",
              "      border-top-color: var(--fill-color);\n",
              "      border-right-color: var(--fill-color);\n",
              "    }\n",
              "    40% {\n",
              "      border-color: transparent;\n",
              "      border-right-color: var(--fill-color);\n",
              "      border-top-color: var(--fill-color);\n",
              "    }\n",
              "    60% {\n",
              "      border-color: transparent;\n",
              "      border-right-color: var(--fill-color);\n",
              "    }\n",
              "    80% {\n",
              "      border-color: transparent;\n",
              "      border-right-color: var(--fill-color);\n",
              "      border-bottom-color: var(--fill-color);\n",
              "    }\n",
              "    90% {\n",
              "      border-color: transparent;\n",
              "      border-bottom-color: var(--fill-color);\n",
              "    }\n",
              "  }\n",
              "</style>\n",
              "\n",
              "  <script>\n",
              "    async function quickchart(key) {\n",
              "      const quickchartButtonEl =\n",
              "        document.querySelector('#' + key + ' button');\n",
              "      quickchartButtonEl.disabled = true;  // To prevent multiple clicks.\n",
              "      quickchartButtonEl.classList.add('colab-df-spinner');\n",
              "      try {\n",
              "        const charts = await google.colab.kernel.invokeFunction(\n",
              "            'suggestCharts', [key], {});\n",
              "      } catch (error) {\n",
              "        console.error('Error during call to suggestCharts:', error);\n",
              "      }\n",
              "      quickchartButtonEl.classList.remove('colab-df-spinner');\n",
              "      quickchartButtonEl.classList.add('colab-df-quickchart-complete');\n",
              "    }\n",
              "    (() => {\n",
              "      let quickchartButtonEl =\n",
              "        document.querySelector('#df-6478ceb7-8151-4fbc-960f-015f772852de button');\n",
              "      quickchartButtonEl.style.display =\n",
              "        google.colab.kernel.accessAllowed ? 'block' : 'none';\n",
              "    })();\n",
              "  </script>\n",
              "</div>\n",
              "    </div>\n",
              "  </div>\n"
            ]
          },
          "metadata": {},
          "execution_count": 6
        }
      ]
    },
    {
      "cell_type": "markdown",
      "source": [
        "Once you run the code above, you will see the dataframe showing the number of rows and columns, that means you have read data into dataframe successfully with python. Next we will be showing you how to view data and do some basic exploratory analysis."
      ],
      "metadata": {
        "id": "GmzRdQX7hmcB"
      }
    },
    {
      "cell_type": "markdown",
      "source": [
        "## View data"
      ],
      "metadata": {
        "id": "WaN22xaFiF_B"
      }
    },
    {
      "cell_type": "markdown",
      "source": [
        "You can use DataFrame.head() and DataFrame.tail() to view the top and bottom rows of the frame respectively:"
      ],
      "metadata": {
        "id": "QaDp3AcGiNlp"
      }
    },
    {
      "cell_type": "code",
      "source": [
        "df.head() # view the top 5 rows. you can also view top 3, 10 or any number top rows you like, just put a number within the bracket."
      ],
      "metadata": {
        "colab": {
          "base_uri": "https://localhost:8080/",
          "height": 206
        },
        "id": "0KOYSBjniZHg",
        "outputId": "527c3971-64c1-45b0-cd67-81ca94114ddf"
      },
      "execution_count": null,
      "outputs": [
        {
          "output_type": "execute_result",
          "data": {
            "text/plain": [
              "      crim    zn  indus  chas    nox     rm   age     dis  rad  tax  ptratio  \\\n",
              "0  0.00632  18.0   2.31     0  0.538  6.575  65.2  4.0900    1  296     15.3   \n",
              "1  0.02731   0.0   7.07     0  0.469  6.421  78.9  4.9671    2  242     17.8   \n",
              "2  0.02729   0.0   7.07     0  0.469  7.185  61.1  4.9671    2  242     17.8   \n",
              "3  0.03237   0.0   2.18     0  0.458  6.998  45.8  6.0622    3  222     18.7   \n",
              "4  0.06905   0.0   2.18     0  0.458  7.147  54.2  6.0622    3  222     18.7   \n",
              "\n",
              "        b  lstat  medv  \n",
              "0  396.90   4.98  24.0  \n",
              "1  396.90   9.14  21.6  \n",
              "2  392.83   4.03  34.7  \n",
              "3  394.63   2.94  33.4  \n",
              "4  396.90   5.33  36.2  "
            ],
            "text/html": [
              "\n",
              "  <div id=\"df-d969369c-ccbe-4666-9805-55b04cb5e598\" class=\"colab-df-container\">\n",
              "    <div>\n",
              "<style scoped>\n",
              "    .dataframe tbody tr th:only-of-type {\n",
              "        vertical-align: middle;\n",
              "    }\n",
              "\n",
              "    .dataframe tbody tr th {\n",
              "        vertical-align: top;\n",
              "    }\n",
              "\n",
              "    .dataframe thead th {\n",
              "        text-align: right;\n",
              "    }\n",
              "</style>\n",
              "<table border=\"1\" class=\"dataframe\">\n",
              "  <thead>\n",
              "    <tr style=\"text-align: right;\">\n",
              "      <th></th>\n",
              "      <th>crim</th>\n",
              "      <th>zn</th>\n",
              "      <th>indus</th>\n",
              "      <th>chas</th>\n",
              "      <th>nox</th>\n",
              "      <th>rm</th>\n",
              "      <th>age</th>\n",
              "      <th>dis</th>\n",
              "      <th>rad</th>\n",
              "      <th>tax</th>\n",
              "      <th>ptratio</th>\n",
              "      <th>b</th>\n",
              "      <th>lstat</th>\n",
              "      <th>medv</th>\n",
              "    </tr>\n",
              "  </thead>\n",
              "  <tbody>\n",
              "    <tr>\n",
              "      <th>0</th>\n",
              "      <td>0.00632</td>\n",
              "      <td>18.0</td>\n",
              "      <td>2.31</td>\n",
              "      <td>0</td>\n",
              "      <td>0.538</td>\n",
              "      <td>6.575</td>\n",
              "      <td>65.2</td>\n",
              "      <td>4.0900</td>\n",
              "      <td>1</td>\n",
              "      <td>296</td>\n",
              "      <td>15.3</td>\n",
              "      <td>396.90</td>\n",
              "      <td>4.98</td>\n",
              "      <td>24.0</td>\n",
              "    </tr>\n",
              "    <tr>\n",
              "      <th>1</th>\n",
              "      <td>0.02731</td>\n",
              "      <td>0.0</td>\n",
              "      <td>7.07</td>\n",
              "      <td>0</td>\n",
              "      <td>0.469</td>\n",
              "      <td>6.421</td>\n",
              "      <td>78.9</td>\n",
              "      <td>4.9671</td>\n",
              "      <td>2</td>\n",
              "      <td>242</td>\n",
              "      <td>17.8</td>\n",
              "      <td>396.90</td>\n",
              "      <td>9.14</td>\n",
              "      <td>21.6</td>\n",
              "    </tr>\n",
              "    <tr>\n",
              "      <th>2</th>\n",
              "      <td>0.02729</td>\n",
              "      <td>0.0</td>\n",
              "      <td>7.07</td>\n",
              "      <td>0</td>\n",
              "      <td>0.469</td>\n",
              "      <td>7.185</td>\n",
              "      <td>61.1</td>\n",
              "      <td>4.9671</td>\n",
              "      <td>2</td>\n",
              "      <td>242</td>\n",
              "      <td>17.8</td>\n",
              "      <td>392.83</td>\n",
              "      <td>4.03</td>\n",
              "      <td>34.7</td>\n",
              "    </tr>\n",
              "    <tr>\n",
              "      <th>3</th>\n",
              "      <td>0.03237</td>\n",
              "      <td>0.0</td>\n",
              "      <td>2.18</td>\n",
              "      <td>0</td>\n",
              "      <td>0.458</td>\n",
              "      <td>6.998</td>\n",
              "      <td>45.8</td>\n",
              "      <td>6.0622</td>\n",
              "      <td>3</td>\n",
              "      <td>222</td>\n",
              "      <td>18.7</td>\n",
              "      <td>394.63</td>\n",
              "      <td>2.94</td>\n",
              "      <td>33.4</td>\n",
              "    </tr>\n",
              "    <tr>\n",
              "      <th>4</th>\n",
              "      <td>0.06905</td>\n",
              "      <td>0.0</td>\n",
              "      <td>2.18</td>\n",
              "      <td>0</td>\n",
              "      <td>0.458</td>\n",
              "      <td>7.147</td>\n",
              "      <td>54.2</td>\n",
              "      <td>6.0622</td>\n",
              "      <td>3</td>\n",
              "      <td>222</td>\n",
              "      <td>18.7</td>\n",
              "      <td>396.90</td>\n",
              "      <td>5.33</td>\n",
              "      <td>36.2</td>\n",
              "    </tr>\n",
              "  </tbody>\n",
              "</table>\n",
              "</div>\n",
              "    <div class=\"colab-df-buttons\">\n",
              "\n",
              "  <div class=\"colab-df-container\">\n",
              "    <button class=\"colab-df-convert\" onclick=\"convertToInteractive('df-d969369c-ccbe-4666-9805-55b04cb5e598')\"\n",
              "            title=\"Convert this dataframe to an interactive table.\"\n",
              "            style=\"display:none;\">\n",
              "\n",
              "  <svg xmlns=\"http://www.w3.org/2000/svg\" height=\"24px\" viewBox=\"0 -960 960 960\">\n",
              "    <path d=\"M120-120v-720h720v720H120Zm60-500h600v-160H180v160Zm220 220h160v-160H400v160Zm0 220h160v-160H400v160ZM180-400h160v-160H180v160Zm440 0h160v-160H620v160ZM180-180h160v-160H180v160Zm440 0h160v-160H620v160Z\"/>\n",
              "  </svg>\n",
              "    </button>\n",
              "\n",
              "  <style>\n",
              "    .colab-df-container {\n",
              "      display:flex;\n",
              "      gap: 12px;\n",
              "    }\n",
              "\n",
              "    .colab-df-convert {\n",
              "      background-color: #E8F0FE;\n",
              "      border: none;\n",
              "      border-radius: 50%;\n",
              "      cursor: pointer;\n",
              "      display: none;\n",
              "      fill: #1967D2;\n",
              "      height: 32px;\n",
              "      padding: 0 0 0 0;\n",
              "      width: 32px;\n",
              "    }\n",
              "\n",
              "    .colab-df-convert:hover {\n",
              "      background-color: #E2EBFA;\n",
              "      box-shadow: 0px 1px 2px rgba(60, 64, 67, 0.3), 0px 1px 3px 1px rgba(60, 64, 67, 0.15);\n",
              "      fill: #174EA6;\n",
              "    }\n",
              "\n",
              "    .colab-df-buttons div {\n",
              "      margin-bottom: 4px;\n",
              "    }\n",
              "\n",
              "    [theme=dark] .colab-df-convert {\n",
              "      background-color: #3B4455;\n",
              "      fill: #D2E3FC;\n",
              "    }\n",
              "\n",
              "    [theme=dark] .colab-df-convert:hover {\n",
              "      background-color: #434B5C;\n",
              "      box-shadow: 0px 1px 3px 1px rgba(0, 0, 0, 0.15);\n",
              "      filter: drop-shadow(0px 1px 2px rgba(0, 0, 0, 0.3));\n",
              "      fill: #FFFFFF;\n",
              "    }\n",
              "  </style>\n",
              "\n",
              "    <script>\n",
              "      const buttonEl =\n",
              "        document.querySelector('#df-d969369c-ccbe-4666-9805-55b04cb5e598 button.colab-df-convert');\n",
              "      buttonEl.style.display =\n",
              "        google.colab.kernel.accessAllowed ? 'block' : 'none';\n",
              "\n",
              "      async function convertToInteractive(key) {\n",
              "        const element = document.querySelector('#df-d969369c-ccbe-4666-9805-55b04cb5e598');\n",
              "        const dataTable =\n",
              "          await google.colab.kernel.invokeFunction('convertToInteractive',\n",
              "                                                    [key], {});\n",
              "        if (!dataTable) return;\n",
              "\n",
              "        const docLinkHtml = 'Like what you see? Visit the ' +\n",
              "          '<a target=\"_blank\" href=https://colab.research.google.com/notebooks/data_table.ipynb>data table notebook</a>'\n",
              "          + ' to learn more about interactive tables.';\n",
              "        element.innerHTML = '';\n",
              "        dataTable['output_type'] = 'display_data';\n",
              "        await google.colab.output.renderOutput(dataTable, element);\n",
              "        const docLink = document.createElement('div');\n",
              "        docLink.innerHTML = docLinkHtml;\n",
              "        element.appendChild(docLink);\n",
              "      }\n",
              "    </script>\n",
              "  </div>\n",
              "\n",
              "\n",
              "<div id=\"df-2050d27b-0ef9-4d20-9e80-44b1afa0a683\">\n",
              "  <button class=\"colab-df-quickchart\" onclick=\"quickchart('df-2050d27b-0ef9-4d20-9e80-44b1afa0a683')\"\n",
              "            title=\"Suggest charts\"\n",
              "            style=\"display:none;\">\n",
              "\n",
              "<svg xmlns=\"http://www.w3.org/2000/svg\" height=\"24px\"viewBox=\"0 0 24 24\"\n",
              "     width=\"24px\">\n",
              "    <g>\n",
              "        <path d=\"M19 3H5c-1.1 0-2 .9-2 2v14c0 1.1.9 2 2 2h14c1.1 0 2-.9 2-2V5c0-1.1-.9-2-2-2zM9 17H7v-7h2v7zm4 0h-2V7h2v10zm4 0h-2v-4h2v4z\"/>\n",
              "    </g>\n",
              "</svg>\n",
              "  </button>\n",
              "\n",
              "<style>\n",
              "  .colab-df-quickchart {\n",
              "      --bg-color: #E8F0FE;\n",
              "      --fill-color: #1967D2;\n",
              "      --hover-bg-color: #E2EBFA;\n",
              "      --hover-fill-color: #174EA6;\n",
              "      --disabled-fill-color: #AAA;\n",
              "      --disabled-bg-color: #DDD;\n",
              "  }\n",
              "\n",
              "  [theme=dark] .colab-df-quickchart {\n",
              "      --bg-color: #3B4455;\n",
              "      --fill-color: #D2E3FC;\n",
              "      --hover-bg-color: #434B5C;\n",
              "      --hover-fill-color: #FFFFFF;\n",
              "      --disabled-bg-color: #3B4455;\n",
              "      --disabled-fill-color: #666;\n",
              "  }\n",
              "\n",
              "  .colab-df-quickchart {\n",
              "    background-color: var(--bg-color);\n",
              "    border: none;\n",
              "    border-radius: 50%;\n",
              "    cursor: pointer;\n",
              "    display: none;\n",
              "    fill: var(--fill-color);\n",
              "    height: 32px;\n",
              "    padding: 0;\n",
              "    width: 32px;\n",
              "  }\n",
              "\n",
              "  .colab-df-quickchart:hover {\n",
              "    background-color: var(--hover-bg-color);\n",
              "    box-shadow: 0 1px 2px rgba(60, 64, 67, 0.3), 0 1px 3px 1px rgba(60, 64, 67, 0.15);\n",
              "    fill: var(--button-hover-fill-color);\n",
              "  }\n",
              "\n",
              "  .colab-df-quickchart-complete:disabled,\n",
              "  .colab-df-quickchart-complete:disabled:hover {\n",
              "    background-color: var(--disabled-bg-color);\n",
              "    fill: var(--disabled-fill-color);\n",
              "    box-shadow: none;\n",
              "  }\n",
              "\n",
              "  .colab-df-spinner {\n",
              "    border: 2px solid var(--fill-color);\n",
              "    border-color: transparent;\n",
              "    border-bottom-color: var(--fill-color);\n",
              "    animation:\n",
              "      spin 1s steps(1) infinite;\n",
              "  }\n",
              "\n",
              "  @keyframes spin {\n",
              "    0% {\n",
              "      border-color: transparent;\n",
              "      border-bottom-color: var(--fill-color);\n",
              "      border-left-color: var(--fill-color);\n",
              "    }\n",
              "    20% {\n",
              "      border-color: transparent;\n",
              "      border-left-color: var(--fill-color);\n",
              "      border-top-color: var(--fill-color);\n",
              "    }\n",
              "    30% {\n",
              "      border-color: transparent;\n",
              "      border-left-color: var(--fill-color);\n",
              "      border-top-color: var(--fill-color);\n",
              "      border-right-color: var(--fill-color);\n",
              "    }\n",
              "    40% {\n",
              "      border-color: transparent;\n",
              "      border-right-color: var(--fill-color);\n",
              "      border-top-color: var(--fill-color);\n",
              "    }\n",
              "    60% {\n",
              "      border-color: transparent;\n",
              "      border-right-color: var(--fill-color);\n",
              "    }\n",
              "    80% {\n",
              "      border-color: transparent;\n",
              "      border-right-color: var(--fill-color);\n",
              "      border-bottom-color: var(--fill-color);\n",
              "    }\n",
              "    90% {\n",
              "      border-color: transparent;\n",
              "      border-bottom-color: var(--fill-color);\n",
              "    }\n",
              "  }\n",
              "</style>\n",
              "\n",
              "  <script>\n",
              "    async function quickchart(key) {\n",
              "      const quickchartButtonEl =\n",
              "        document.querySelector('#' + key + ' button');\n",
              "      quickchartButtonEl.disabled = true;  // To prevent multiple clicks.\n",
              "      quickchartButtonEl.classList.add('colab-df-spinner');\n",
              "      try {\n",
              "        const charts = await google.colab.kernel.invokeFunction(\n",
              "            'suggestCharts', [key], {});\n",
              "      } catch (error) {\n",
              "        console.error('Error during call to suggestCharts:', error);\n",
              "      }\n",
              "      quickchartButtonEl.classList.remove('colab-df-spinner');\n",
              "      quickchartButtonEl.classList.add('colab-df-quickchart-complete');\n",
              "    }\n",
              "    (() => {\n",
              "      let quickchartButtonEl =\n",
              "        document.querySelector('#df-2050d27b-0ef9-4d20-9e80-44b1afa0a683 button');\n",
              "      quickchartButtonEl.style.display =\n",
              "        google.colab.kernel.accessAllowed ? 'block' : 'none';\n",
              "    })();\n",
              "  </script>\n",
              "</div>\n",
              "    </div>\n",
              "  </div>\n"
            ]
          },
          "metadata": {},
          "execution_count": 7
        }
      ]
    },
    {
      "cell_type": "code",
      "source": [
        "df.tail() # view the bottom 5 rows. and same as above, put the number to view any number of bottom rows as you like"
      ],
      "metadata": {
        "colab": {
          "base_uri": "https://localhost:8080/",
          "height": 206
        },
        "id": "FykccUBrib8m",
        "outputId": "06fa87f4-0050-44d0-aaad-0fd11ea106e5"
      },
      "execution_count": null,
      "outputs": [
        {
          "output_type": "execute_result",
          "data": {
            "text/plain": [
              "        crim   zn  indus  chas    nox     rm   age     dis  rad  tax  ptratio  \\\n",
              "501  0.06263  0.0  11.93     0  0.573  6.593  69.1  2.4786    1  273     21.0   \n",
              "502  0.04527  0.0  11.93     0  0.573  6.120  76.7  2.2875    1  273     21.0   \n",
              "503  0.06076  0.0  11.93     0  0.573  6.976  91.0  2.1675    1  273     21.0   \n",
              "504  0.10959  0.0  11.93     0  0.573  6.794  89.3  2.3889    1  273     21.0   \n",
              "505  0.04741  0.0  11.93     0  0.573  6.030  80.8  2.5050    1  273     21.0   \n",
              "\n",
              "          b  lstat  medv  \n",
              "501  391.99   9.67  22.4  \n",
              "502  396.90   9.08  20.6  \n",
              "503  396.90   5.64  23.9  \n",
              "504  393.45   6.48  22.0  \n",
              "505  396.90   7.88  11.9  "
            ],
            "text/html": [
              "\n",
              "  <div id=\"df-091daa7a-9693-47e8-b473-e620c38c4d69\" class=\"colab-df-container\">\n",
              "    <div>\n",
              "<style scoped>\n",
              "    .dataframe tbody tr th:only-of-type {\n",
              "        vertical-align: middle;\n",
              "    }\n",
              "\n",
              "    .dataframe tbody tr th {\n",
              "        vertical-align: top;\n",
              "    }\n",
              "\n",
              "    .dataframe thead th {\n",
              "        text-align: right;\n",
              "    }\n",
              "</style>\n",
              "<table border=\"1\" class=\"dataframe\">\n",
              "  <thead>\n",
              "    <tr style=\"text-align: right;\">\n",
              "      <th></th>\n",
              "      <th>crim</th>\n",
              "      <th>zn</th>\n",
              "      <th>indus</th>\n",
              "      <th>chas</th>\n",
              "      <th>nox</th>\n",
              "      <th>rm</th>\n",
              "      <th>age</th>\n",
              "      <th>dis</th>\n",
              "      <th>rad</th>\n",
              "      <th>tax</th>\n",
              "      <th>ptratio</th>\n",
              "      <th>b</th>\n",
              "      <th>lstat</th>\n",
              "      <th>medv</th>\n",
              "    </tr>\n",
              "  </thead>\n",
              "  <tbody>\n",
              "    <tr>\n",
              "      <th>501</th>\n",
              "      <td>0.06263</td>\n",
              "      <td>0.0</td>\n",
              "      <td>11.93</td>\n",
              "      <td>0</td>\n",
              "      <td>0.573</td>\n",
              "      <td>6.593</td>\n",
              "      <td>69.1</td>\n",
              "      <td>2.4786</td>\n",
              "      <td>1</td>\n",
              "      <td>273</td>\n",
              "      <td>21.0</td>\n",
              "      <td>391.99</td>\n",
              "      <td>9.67</td>\n",
              "      <td>22.4</td>\n",
              "    </tr>\n",
              "    <tr>\n",
              "      <th>502</th>\n",
              "      <td>0.04527</td>\n",
              "      <td>0.0</td>\n",
              "      <td>11.93</td>\n",
              "      <td>0</td>\n",
              "      <td>0.573</td>\n",
              "      <td>6.120</td>\n",
              "      <td>76.7</td>\n",
              "      <td>2.2875</td>\n",
              "      <td>1</td>\n",
              "      <td>273</td>\n",
              "      <td>21.0</td>\n",
              "      <td>396.90</td>\n",
              "      <td>9.08</td>\n",
              "      <td>20.6</td>\n",
              "    </tr>\n",
              "    <tr>\n",
              "      <th>503</th>\n",
              "      <td>0.06076</td>\n",
              "      <td>0.0</td>\n",
              "      <td>11.93</td>\n",
              "      <td>0</td>\n",
              "      <td>0.573</td>\n",
              "      <td>6.976</td>\n",
              "      <td>91.0</td>\n",
              "      <td>2.1675</td>\n",
              "      <td>1</td>\n",
              "      <td>273</td>\n",
              "      <td>21.0</td>\n",
              "      <td>396.90</td>\n",
              "      <td>5.64</td>\n",
              "      <td>23.9</td>\n",
              "    </tr>\n",
              "    <tr>\n",
              "      <th>504</th>\n",
              "      <td>0.10959</td>\n",
              "      <td>0.0</td>\n",
              "      <td>11.93</td>\n",
              "      <td>0</td>\n",
              "      <td>0.573</td>\n",
              "      <td>6.794</td>\n",
              "      <td>89.3</td>\n",
              "      <td>2.3889</td>\n",
              "      <td>1</td>\n",
              "      <td>273</td>\n",
              "      <td>21.0</td>\n",
              "      <td>393.45</td>\n",
              "      <td>6.48</td>\n",
              "      <td>22.0</td>\n",
              "    </tr>\n",
              "    <tr>\n",
              "      <th>505</th>\n",
              "      <td>0.04741</td>\n",
              "      <td>0.0</td>\n",
              "      <td>11.93</td>\n",
              "      <td>0</td>\n",
              "      <td>0.573</td>\n",
              "      <td>6.030</td>\n",
              "      <td>80.8</td>\n",
              "      <td>2.5050</td>\n",
              "      <td>1</td>\n",
              "      <td>273</td>\n",
              "      <td>21.0</td>\n",
              "      <td>396.90</td>\n",
              "      <td>7.88</td>\n",
              "      <td>11.9</td>\n",
              "    </tr>\n",
              "  </tbody>\n",
              "</table>\n",
              "</div>\n",
              "    <div class=\"colab-df-buttons\">\n",
              "\n",
              "  <div class=\"colab-df-container\">\n",
              "    <button class=\"colab-df-convert\" onclick=\"convertToInteractive('df-091daa7a-9693-47e8-b473-e620c38c4d69')\"\n",
              "            title=\"Convert this dataframe to an interactive table.\"\n",
              "            style=\"display:none;\">\n",
              "\n",
              "  <svg xmlns=\"http://www.w3.org/2000/svg\" height=\"24px\" viewBox=\"0 -960 960 960\">\n",
              "    <path d=\"M120-120v-720h720v720H120Zm60-500h600v-160H180v160Zm220 220h160v-160H400v160Zm0 220h160v-160H400v160ZM180-400h160v-160H180v160Zm440 0h160v-160H620v160ZM180-180h160v-160H180v160Zm440 0h160v-160H620v160Z\"/>\n",
              "  </svg>\n",
              "    </button>\n",
              "\n",
              "  <style>\n",
              "    .colab-df-container {\n",
              "      display:flex;\n",
              "      gap: 12px;\n",
              "    }\n",
              "\n",
              "    .colab-df-convert {\n",
              "      background-color: #E8F0FE;\n",
              "      border: none;\n",
              "      border-radius: 50%;\n",
              "      cursor: pointer;\n",
              "      display: none;\n",
              "      fill: #1967D2;\n",
              "      height: 32px;\n",
              "      padding: 0 0 0 0;\n",
              "      width: 32px;\n",
              "    }\n",
              "\n",
              "    .colab-df-convert:hover {\n",
              "      background-color: #E2EBFA;\n",
              "      box-shadow: 0px 1px 2px rgba(60, 64, 67, 0.3), 0px 1px 3px 1px rgba(60, 64, 67, 0.15);\n",
              "      fill: #174EA6;\n",
              "    }\n",
              "\n",
              "    .colab-df-buttons div {\n",
              "      margin-bottom: 4px;\n",
              "    }\n",
              "\n",
              "    [theme=dark] .colab-df-convert {\n",
              "      background-color: #3B4455;\n",
              "      fill: #D2E3FC;\n",
              "    }\n",
              "\n",
              "    [theme=dark] .colab-df-convert:hover {\n",
              "      background-color: #434B5C;\n",
              "      box-shadow: 0px 1px 3px 1px rgba(0, 0, 0, 0.15);\n",
              "      filter: drop-shadow(0px 1px 2px rgba(0, 0, 0, 0.3));\n",
              "      fill: #FFFFFF;\n",
              "    }\n",
              "  </style>\n",
              "\n",
              "    <script>\n",
              "      const buttonEl =\n",
              "        document.querySelector('#df-091daa7a-9693-47e8-b473-e620c38c4d69 button.colab-df-convert');\n",
              "      buttonEl.style.display =\n",
              "        google.colab.kernel.accessAllowed ? 'block' : 'none';\n",
              "\n",
              "      async function convertToInteractive(key) {\n",
              "        const element = document.querySelector('#df-091daa7a-9693-47e8-b473-e620c38c4d69');\n",
              "        const dataTable =\n",
              "          await google.colab.kernel.invokeFunction('convertToInteractive',\n",
              "                                                    [key], {});\n",
              "        if (!dataTable) return;\n",
              "\n",
              "        const docLinkHtml = 'Like what you see? Visit the ' +\n",
              "          '<a target=\"_blank\" href=https://colab.research.google.com/notebooks/data_table.ipynb>data table notebook</a>'\n",
              "          + ' to learn more about interactive tables.';\n",
              "        element.innerHTML = '';\n",
              "        dataTable['output_type'] = 'display_data';\n",
              "        await google.colab.output.renderOutput(dataTable, element);\n",
              "        const docLink = document.createElement('div');\n",
              "        docLink.innerHTML = docLinkHtml;\n",
              "        element.appendChild(docLink);\n",
              "      }\n",
              "    </script>\n",
              "  </div>\n",
              "\n",
              "\n",
              "<div id=\"df-fdc07367-14b5-412a-bcf6-9da1e7a47ea3\">\n",
              "  <button class=\"colab-df-quickchart\" onclick=\"quickchart('df-fdc07367-14b5-412a-bcf6-9da1e7a47ea3')\"\n",
              "            title=\"Suggest charts\"\n",
              "            style=\"display:none;\">\n",
              "\n",
              "<svg xmlns=\"http://www.w3.org/2000/svg\" height=\"24px\"viewBox=\"0 0 24 24\"\n",
              "     width=\"24px\">\n",
              "    <g>\n",
              "        <path d=\"M19 3H5c-1.1 0-2 .9-2 2v14c0 1.1.9 2 2 2h14c1.1 0 2-.9 2-2V5c0-1.1-.9-2-2-2zM9 17H7v-7h2v7zm4 0h-2V7h2v10zm4 0h-2v-4h2v4z\"/>\n",
              "    </g>\n",
              "</svg>\n",
              "  </button>\n",
              "\n",
              "<style>\n",
              "  .colab-df-quickchart {\n",
              "      --bg-color: #E8F0FE;\n",
              "      --fill-color: #1967D2;\n",
              "      --hover-bg-color: #E2EBFA;\n",
              "      --hover-fill-color: #174EA6;\n",
              "      --disabled-fill-color: #AAA;\n",
              "      --disabled-bg-color: #DDD;\n",
              "  }\n",
              "\n",
              "  [theme=dark] .colab-df-quickchart {\n",
              "      --bg-color: #3B4455;\n",
              "      --fill-color: #D2E3FC;\n",
              "      --hover-bg-color: #434B5C;\n",
              "      --hover-fill-color: #FFFFFF;\n",
              "      --disabled-bg-color: #3B4455;\n",
              "      --disabled-fill-color: #666;\n",
              "  }\n",
              "\n",
              "  .colab-df-quickchart {\n",
              "    background-color: var(--bg-color);\n",
              "    border: none;\n",
              "    border-radius: 50%;\n",
              "    cursor: pointer;\n",
              "    display: none;\n",
              "    fill: var(--fill-color);\n",
              "    height: 32px;\n",
              "    padding: 0;\n",
              "    width: 32px;\n",
              "  }\n",
              "\n",
              "  .colab-df-quickchart:hover {\n",
              "    background-color: var(--hover-bg-color);\n",
              "    box-shadow: 0 1px 2px rgba(60, 64, 67, 0.3), 0 1px 3px 1px rgba(60, 64, 67, 0.15);\n",
              "    fill: var(--button-hover-fill-color);\n",
              "  }\n",
              "\n",
              "  .colab-df-quickchart-complete:disabled,\n",
              "  .colab-df-quickchart-complete:disabled:hover {\n",
              "    background-color: var(--disabled-bg-color);\n",
              "    fill: var(--disabled-fill-color);\n",
              "    box-shadow: none;\n",
              "  }\n",
              "\n",
              "  .colab-df-spinner {\n",
              "    border: 2px solid var(--fill-color);\n",
              "    border-color: transparent;\n",
              "    border-bottom-color: var(--fill-color);\n",
              "    animation:\n",
              "      spin 1s steps(1) infinite;\n",
              "  }\n",
              "\n",
              "  @keyframes spin {\n",
              "    0% {\n",
              "      border-color: transparent;\n",
              "      border-bottom-color: var(--fill-color);\n",
              "      border-left-color: var(--fill-color);\n",
              "    }\n",
              "    20% {\n",
              "      border-color: transparent;\n",
              "      border-left-color: var(--fill-color);\n",
              "      border-top-color: var(--fill-color);\n",
              "    }\n",
              "    30% {\n",
              "      border-color: transparent;\n",
              "      border-left-color: var(--fill-color);\n",
              "      border-top-color: var(--fill-color);\n",
              "      border-right-color: var(--fill-color);\n",
              "    }\n",
              "    40% {\n",
              "      border-color: transparent;\n",
              "      border-right-color: var(--fill-color);\n",
              "      border-top-color: var(--fill-color);\n",
              "    }\n",
              "    60% {\n",
              "      border-color: transparent;\n",
              "      border-right-color: var(--fill-color);\n",
              "    }\n",
              "    80% {\n",
              "      border-color: transparent;\n",
              "      border-right-color: var(--fill-color);\n",
              "      border-bottom-color: var(--fill-color);\n",
              "    }\n",
              "    90% {\n",
              "      border-color: transparent;\n",
              "      border-bottom-color: var(--fill-color);\n",
              "    }\n",
              "  }\n",
              "</style>\n",
              "\n",
              "  <script>\n",
              "    async function quickchart(key) {\n",
              "      const quickchartButtonEl =\n",
              "        document.querySelector('#' + key + ' button');\n",
              "      quickchartButtonEl.disabled = true;  // To prevent multiple clicks.\n",
              "      quickchartButtonEl.classList.add('colab-df-spinner');\n",
              "      try {\n",
              "        const charts = await google.colab.kernel.invokeFunction(\n",
              "            'suggestCharts', [key], {});\n",
              "      } catch (error) {\n",
              "        console.error('Error during call to suggestCharts:', error);\n",
              "      }\n",
              "      quickchartButtonEl.classList.remove('colab-df-spinner');\n",
              "      quickchartButtonEl.classList.add('colab-df-quickchart-complete');\n",
              "    }\n",
              "    (() => {\n",
              "      let quickchartButtonEl =\n",
              "        document.querySelector('#df-fdc07367-14b5-412a-bcf6-9da1e7a47ea3 button');\n",
              "      quickchartButtonEl.style.display =\n",
              "        google.colab.kernel.accessAllowed ? 'block' : 'none';\n",
              "    })();\n",
              "  </script>\n",
              "</div>\n",
              "    </div>\n",
              "  </div>\n"
            ]
          },
          "metadata": {},
          "execution_count": 8
        }
      ]
    },
    {
      "cell_type": "markdown",
      "source": [
        "You might want to check the data format for this column. You can use DataFrame.dtypes to check the data types for each column:"
      ],
      "metadata": {
        "id": "JfAUH3aRi5gK"
      }
    },
    {
      "cell_type": "code",
      "source": [
        "df.dtypes # here we see float, int are the main data types and these are the datatypes we have discussed in the earlier sections."
      ],
      "metadata": {
        "colab": {
          "base_uri": "https://localhost:8080/"
        },
        "id": "aPyfl5pDjG38",
        "outputId": "41d1c28d-1b6a-49a4-84c2-13961c2ff710"
      },
      "execution_count": null,
      "outputs": [
        {
          "output_type": "execute_result",
          "data": {
            "text/plain": [
              "crim       float64\n",
              "zn         float64\n",
              "indus      float64\n",
              "chas         int64\n",
              "nox        float64\n",
              "rm         float64\n",
              "age        float64\n",
              "dis        float64\n",
              "rad          int64\n",
              "tax          int64\n",
              "ptratio    float64\n",
              "b          float64\n",
              "lstat      float64\n",
              "medv       float64\n",
              "dtype: object"
            ]
          },
          "metadata": {},
          "execution_count": 9
        }
      ]
    },
    {
      "cell_type": "markdown",
      "source": [
        "We can check all the column names through DataFrame.columns:"
      ],
      "metadata": {
        "id": "mYf7_6aijJWU"
      }
    },
    {
      "cell_type": "code",
      "source": [
        "df.columns"
      ],
      "metadata": {
        "colab": {
          "base_uri": "https://localhost:8080/"
        },
        "id": "DIaDBmdvjjtS",
        "outputId": "30d88c8e-8f3f-49cd-cc26-052eb4f04e48"
      },
      "execution_count": null,
      "outputs": [
        {
          "output_type": "execute_result",
          "data": {
            "text/plain": [
              "Index(['crim', 'zn', 'indus', 'chas', 'nox', 'rm', 'age', 'dis', 'rad', 'tax',\n",
              "       'ptratio', 'b', 'lstat', 'medv'],\n",
              "      dtype='object')"
            ]
          },
          "metadata": {},
          "execution_count": 10
        }
      ]
    },
    {
      "cell_type": "markdown",
      "source": [
        "describe() shows a quick statistic summary of your data:"
      ],
      "metadata": {
        "id": "kRBtJba_jyj8"
      }
    },
    {
      "cell_type": "code",
      "source": [
        "df.describe()"
      ],
      "metadata": {
        "colab": {
          "base_uri": "https://localhost:8080/",
          "height": 320
        },
        "id": "lwey3WlDjzVU",
        "outputId": "e37c2d27-9e4a-40a2-d85c-f38e642d4d67"
      },
      "execution_count": null,
      "outputs": [
        {
          "output_type": "execute_result",
          "data": {
            "text/plain": [
              "             crim          zn       indus        chas         nox          rm  \\\n",
              "count  506.000000  506.000000  506.000000  506.000000  506.000000  506.000000   \n",
              "mean     3.613524   11.363636   11.136779    0.069170    0.554695    6.284634   \n",
              "std      8.601545   23.322453    6.860353    0.253994    0.115878    0.702617   \n",
              "min      0.006320    0.000000    0.460000    0.000000    0.385000    3.561000   \n",
              "25%      0.082045    0.000000    5.190000    0.000000    0.449000    5.885500   \n",
              "50%      0.256510    0.000000    9.690000    0.000000    0.538000    6.208500   \n",
              "75%      3.677083   12.500000   18.100000    0.000000    0.624000    6.623500   \n",
              "max     88.976200  100.000000   27.740000    1.000000    0.871000    8.780000   \n",
              "\n",
              "              age         dis         rad         tax     ptratio           b  \\\n",
              "count  506.000000  506.000000  506.000000  506.000000  506.000000  506.000000   \n",
              "mean    68.574901    3.795043    9.549407  408.237154   18.455534  356.674032   \n",
              "std     28.148861    2.105710    8.707259  168.537116    2.164946   91.294864   \n",
              "min      2.900000    1.129600    1.000000  187.000000   12.600000    0.320000   \n",
              "25%     45.025000    2.100175    4.000000  279.000000   17.400000  375.377500   \n",
              "50%     77.500000    3.207450    5.000000  330.000000   19.050000  391.440000   \n",
              "75%     94.075000    5.188425   24.000000  666.000000   20.200000  396.225000   \n",
              "max    100.000000   12.126500   24.000000  711.000000   22.000000  396.900000   \n",
              "\n",
              "            lstat        medv  \n",
              "count  506.000000  506.000000  \n",
              "mean    12.653063   22.532806  \n",
              "std      7.141062    9.197104  \n",
              "min      1.730000    5.000000  \n",
              "25%      6.950000   17.025000  \n",
              "50%     11.360000   21.200000  \n",
              "75%     16.955000   25.000000  \n",
              "max     37.970000   50.000000  "
            ],
            "text/html": [
              "\n",
              "  <div id=\"df-24550c8b-e91f-4951-bdfd-a18b5555aae8\" class=\"colab-df-container\">\n",
              "    <div>\n",
              "<style scoped>\n",
              "    .dataframe tbody tr th:only-of-type {\n",
              "        vertical-align: middle;\n",
              "    }\n",
              "\n",
              "    .dataframe tbody tr th {\n",
              "        vertical-align: top;\n",
              "    }\n",
              "\n",
              "    .dataframe thead th {\n",
              "        text-align: right;\n",
              "    }\n",
              "</style>\n",
              "<table border=\"1\" class=\"dataframe\">\n",
              "  <thead>\n",
              "    <tr style=\"text-align: right;\">\n",
              "      <th></th>\n",
              "      <th>crim</th>\n",
              "      <th>zn</th>\n",
              "      <th>indus</th>\n",
              "      <th>chas</th>\n",
              "      <th>nox</th>\n",
              "      <th>rm</th>\n",
              "      <th>age</th>\n",
              "      <th>dis</th>\n",
              "      <th>rad</th>\n",
              "      <th>tax</th>\n",
              "      <th>ptratio</th>\n",
              "      <th>b</th>\n",
              "      <th>lstat</th>\n",
              "      <th>medv</th>\n",
              "    </tr>\n",
              "  </thead>\n",
              "  <tbody>\n",
              "    <tr>\n",
              "      <th>count</th>\n",
              "      <td>506.000000</td>\n",
              "      <td>506.000000</td>\n",
              "      <td>506.000000</td>\n",
              "      <td>506.000000</td>\n",
              "      <td>506.000000</td>\n",
              "      <td>506.000000</td>\n",
              "      <td>506.000000</td>\n",
              "      <td>506.000000</td>\n",
              "      <td>506.000000</td>\n",
              "      <td>506.000000</td>\n",
              "      <td>506.000000</td>\n",
              "      <td>506.000000</td>\n",
              "      <td>506.000000</td>\n",
              "      <td>506.000000</td>\n",
              "    </tr>\n",
              "    <tr>\n",
              "      <th>mean</th>\n",
              "      <td>3.613524</td>\n",
              "      <td>11.363636</td>\n",
              "      <td>11.136779</td>\n",
              "      <td>0.069170</td>\n",
              "      <td>0.554695</td>\n",
              "      <td>6.284634</td>\n",
              "      <td>68.574901</td>\n",
              "      <td>3.795043</td>\n",
              "      <td>9.549407</td>\n",
              "      <td>408.237154</td>\n",
              "      <td>18.455534</td>\n",
              "      <td>356.674032</td>\n",
              "      <td>12.653063</td>\n",
              "      <td>22.532806</td>\n",
              "    </tr>\n",
              "    <tr>\n",
              "      <th>std</th>\n",
              "      <td>8.601545</td>\n",
              "      <td>23.322453</td>\n",
              "      <td>6.860353</td>\n",
              "      <td>0.253994</td>\n",
              "      <td>0.115878</td>\n",
              "      <td>0.702617</td>\n",
              "      <td>28.148861</td>\n",
              "      <td>2.105710</td>\n",
              "      <td>8.707259</td>\n",
              "      <td>168.537116</td>\n",
              "      <td>2.164946</td>\n",
              "      <td>91.294864</td>\n",
              "      <td>7.141062</td>\n",
              "      <td>9.197104</td>\n",
              "    </tr>\n",
              "    <tr>\n",
              "      <th>min</th>\n",
              "      <td>0.006320</td>\n",
              "      <td>0.000000</td>\n",
              "      <td>0.460000</td>\n",
              "      <td>0.000000</td>\n",
              "      <td>0.385000</td>\n",
              "      <td>3.561000</td>\n",
              "      <td>2.900000</td>\n",
              "      <td>1.129600</td>\n",
              "      <td>1.000000</td>\n",
              "      <td>187.000000</td>\n",
              "      <td>12.600000</td>\n",
              "      <td>0.320000</td>\n",
              "      <td>1.730000</td>\n",
              "      <td>5.000000</td>\n",
              "    </tr>\n",
              "    <tr>\n",
              "      <th>25%</th>\n",
              "      <td>0.082045</td>\n",
              "      <td>0.000000</td>\n",
              "      <td>5.190000</td>\n",
              "      <td>0.000000</td>\n",
              "      <td>0.449000</td>\n",
              "      <td>5.885500</td>\n",
              "      <td>45.025000</td>\n",
              "      <td>2.100175</td>\n",
              "      <td>4.000000</td>\n",
              "      <td>279.000000</td>\n",
              "      <td>17.400000</td>\n",
              "      <td>375.377500</td>\n",
              "      <td>6.950000</td>\n",
              "      <td>17.025000</td>\n",
              "    </tr>\n",
              "    <tr>\n",
              "      <th>50%</th>\n",
              "      <td>0.256510</td>\n",
              "      <td>0.000000</td>\n",
              "      <td>9.690000</td>\n",
              "      <td>0.000000</td>\n",
              "      <td>0.538000</td>\n",
              "      <td>6.208500</td>\n",
              "      <td>77.500000</td>\n",
              "      <td>3.207450</td>\n",
              "      <td>5.000000</td>\n",
              "      <td>330.000000</td>\n",
              "      <td>19.050000</td>\n",
              "      <td>391.440000</td>\n",
              "      <td>11.360000</td>\n",
              "      <td>21.200000</td>\n",
              "    </tr>\n",
              "    <tr>\n",
              "      <th>75%</th>\n",
              "      <td>3.677083</td>\n",
              "      <td>12.500000</td>\n",
              "      <td>18.100000</td>\n",
              "      <td>0.000000</td>\n",
              "      <td>0.624000</td>\n",
              "      <td>6.623500</td>\n",
              "      <td>94.075000</td>\n",
              "      <td>5.188425</td>\n",
              "      <td>24.000000</td>\n",
              "      <td>666.000000</td>\n",
              "      <td>20.200000</td>\n",
              "      <td>396.225000</td>\n",
              "      <td>16.955000</td>\n",
              "      <td>25.000000</td>\n",
              "    </tr>\n",
              "    <tr>\n",
              "      <th>max</th>\n",
              "      <td>88.976200</td>\n",
              "      <td>100.000000</td>\n",
              "      <td>27.740000</td>\n",
              "      <td>1.000000</td>\n",
              "      <td>0.871000</td>\n",
              "      <td>8.780000</td>\n",
              "      <td>100.000000</td>\n",
              "      <td>12.126500</td>\n",
              "      <td>24.000000</td>\n",
              "      <td>711.000000</td>\n",
              "      <td>22.000000</td>\n",
              "      <td>396.900000</td>\n",
              "      <td>37.970000</td>\n",
              "      <td>50.000000</td>\n",
              "    </tr>\n",
              "  </tbody>\n",
              "</table>\n",
              "</div>\n",
              "    <div class=\"colab-df-buttons\">\n",
              "\n",
              "  <div class=\"colab-df-container\">\n",
              "    <button class=\"colab-df-convert\" onclick=\"convertToInteractive('df-24550c8b-e91f-4951-bdfd-a18b5555aae8')\"\n",
              "            title=\"Convert this dataframe to an interactive table.\"\n",
              "            style=\"display:none;\">\n",
              "\n",
              "  <svg xmlns=\"http://www.w3.org/2000/svg\" height=\"24px\" viewBox=\"0 -960 960 960\">\n",
              "    <path d=\"M120-120v-720h720v720H120Zm60-500h600v-160H180v160Zm220 220h160v-160H400v160Zm0 220h160v-160H400v160ZM180-400h160v-160H180v160Zm440 0h160v-160H620v160ZM180-180h160v-160H180v160Zm440 0h160v-160H620v160Z\"/>\n",
              "  </svg>\n",
              "    </button>\n",
              "\n",
              "  <style>\n",
              "    .colab-df-container {\n",
              "      display:flex;\n",
              "      gap: 12px;\n",
              "    }\n",
              "\n",
              "    .colab-df-convert {\n",
              "      background-color: #E8F0FE;\n",
              "      border: none;\n",
              "      border-radius: 50%;\n",
              "      cursor: pointer;\n",
              "      display: none;\n",
              "      fill: #1967D2;\n",
              "      height: 32px;\n",
              "      padding: 0 0 0 0;\n",
              "      width: 32px;\n",
              "    }\n",
              "\n",
              "    .colab-df-convert:hover {\n",
              "      background-color: #E2EBFA;\n",
              "      box-shadow: 0px 1px 2px rgba(60, 64, 67, 0.3), 0px 1px 3px 1px rgba(60, 64, 67, 0.15);\n",
              "      fill: #174EA6;\n",
              "    }\n",
              "\n",
              "    .colab-df-buttons div {\n",
              "      margin-bottom: 4px;\n",
              "    }\n",
              "\n",
              "    [theme=dark] .colab-df-convert {\n",
              "      background-color: #3B4455;\n",
              "      fill: #D2E3FC;\n",
              "    }\n",
              "\n",
              "    [theme=dark] .colab-df-convert:hover {\n",
              "      background-color: #434B5C;\n",
              "      box-shadow: 0px 1px 3px 1px rgba(0, 0, 0, 0.15);\n",
              "      filter: drop-shadow(0px 1px 2px rgba(0, 0, 0, 0.3));\n",
              "      fill: #FFFFFF;\n",
              "    }\n",
              "  </style>\n",
              "\n",
              "    <script>\n",
              "      const buttonEl =\n",
              "        document.querySelector('#df-24550c8b-e91f-4951-bdfd-a18b5555aae8 button.colab-df-convert');\n",
              "      buttonEl.style.display =\n",
              "        google.colab.kernel.accessAllowed ? 'block' : 'none';\n",
              "\n",
              "      async function convertToInteractive(key) {\n",
              "        const element = document.querySelector('#df-24550c8b-e91f-4951-bdfd-a18b5555aae8');\n",
              "        const dataTable =\n",
              "          await google.colab.kernel.invokeFunction('convertToInteractive',\n",
              "                                                    [key], {});\n",
              "        if (!dataTable) return;\n",
              "\n",
              "        const docLinkHtml = 'Like what you see? Visit the ' +\n",
              "          '<a target=\"_blank\" href=https://colab.research.google.com/notebooks/data_table.ipynb>data table notebook</a>'\n",
              "          + ' to learn more about interactive tables.';\n",
              "        element.innerHTML = '';\n",
              "        dataTable['output_type'] = 'display_data';\n",
              "        await google.colab.output.renderOutput(dataTable, element);\n",
              "        const docLink = document.createElement('div');\n",
              "        docLink.innerHTML = docLinkHtml;\n",
              "        element.appendChild(docLink);\n",
              "      }\n",
              "    </script>\n",
              "  </div>\n",
              "\n",
              "\n",
              "<div id=\"df-7af85dfc-f607-48e1-a9ed-dab13378f6a8\">\n",
              "  <button class=\"colab-df-quickchart\" onclick=\"quickchart('df-7af85dfc-f607-48e1-a9ed-dab13378f6a8')\"\n",
              "            title=\"Suggest charts\"\n",
              "            style=\"display:none;\">\n",
              "\n",
              "<svg xmlns=\"http://www.w3.org/2000/svg\" height=\"24px\"viewBox=\"0 0 24 24\"\n",
              "     width=\"24px\">\n",
              "    <g>\n",
              "        <path d=\"M19 3H5c-1.1 0-2 .9-2 2v14c0 1.1.9 2 2 2h14c1.1 0 2-.9 2-2V5c0-1.1-.9-2-2-2zM9 17H7v-7h2v7zm4 0h-2V7h2v10zm4 0h-2v-4h2v4z\"/>\n",
              "    </g>\n",
              "</svg>\n",
              "  </button>\n",
              "\n",
              "<style>\n",
              "  .colab-df-quickchart {\n",
              "      --bg-color: #E8F0FE;\n",
              "      --fill-color: #1967D2;\n",
              "      --hover-bg-color: #E2EBFA;\n",
              "      --hover-fill-color: #174EA6;\n",
              "      --disabled-fill-color: #AAA;\n",
              "      --disabled-bg-color: #DDD;\n",
              "  }\n",
              "\n",
              "  [theme=dark] .colab-df-quickchart {\n",
              "      --bg-color: #3B4455;\n",
              "      --fill-color: #D2E3FC;\n",
              "      --hover-bg-color: #434B5C;\n",
              "      --hover-fill-color: #FFFFFF;\n",
              "      --disabled-bg-color: #3B4455;\n",
              "      --disabled-fill-color: #666;\n",
              "  }\n",
              "\n",
              "  .colab-df-quickchart {\n",
              "    background-color: var(--bg-color);\n",
              "    border: none;\n",
              "    border-radius: 50%;\n",
              "    cursor: pointer;\n",
              "    display: none;\n",
              "    fill: var(--fill-color);\n",
              "    height: 32px;\n",
              "    padding: 0;\n",
              "    width: 32px;\n",
              "  }\n",
              "\n",
              "  .colab-df-quickchart:hover {\n",
              "    background-color: var(--hover-bg-color);\n",
              "    box-shadow: 0 1px 2px rgba(60, 64, 67, 0.3), 0 1px 3px 1px rgba(60, 64, 67, 0.15);\n",
              "    fill: var(--button-hover-fill-color);\n",
              "  }\n",
              "\n",
              "  .colab-df-quickchart-complete:disabled,\n",
              "  .colab-df-quickchart-complete:disabled:hover {\n",
              "    background-color: var(--disabled-bg-color);\n",
              "    fill: var(--disabled-fill-color);\n",
              "    box-shadow: none;\n",
              "  }\n",
              "\n",
              "  .colab-df-spinner {\n",
              "    border: 2px solid var(--fill-color);\n",
              "    border-color: transparent;\n",
              "    border-bottom-color: var(--fill-color);\n",
              "    animation:\n",
              "      spin 1s steps(1) infinite;\n",
              "  }\n",
              "\n",
              "  @keyframes spin {\n",
              "    0% {\n",
              "      border-color: transparent;\n",
              "      border-bottom-color: var(--fill-color);\n",
              "      border-left-color: var(--fill-color);\n",
              "    }\n",
              "    20% {\n",
              "      border-color: transparent;\n",
              "      border-left-color: var(--fill-color);\n",
              "      border-top-color: var(--fill-color);\n",
              "    }\n",
              "    30% {\n",
              "      border-color: transparent;\n",
              "      border-left-color: var(--fill-color);\n",
              "      border-top-color: var(--fill-color);\n",
              "      border-right-color: var(--fill-color);\n",
              "    }\n",
              "    40% {\n",
              "      border-color: transparent;\n",
              "      border-right-color: var(--fill-color);\n",
              "      border-top-color: var(--fill-color);\n",
              "    }\n",
              "    60% {\n",
              "      border-color: transparent;\n",
              "      border-right-color: var(--fill-color);\n",
              "    }\n",
              "    80% {\n",
              "      border-color: transparent;\n",
              "      border-right-color: var(--fill-color);\n",
              "      border-bottom-color: var(--fill-color);\n",
              "    }\n",
              "    90% {\n",
              "      border-color: transparent;\n",
              "      border-bottom-color: var(--fill-color);\n",
              "    }\n",
              "  }\n",
              "</style>\n",
              "\n",
              "  <script>\n",
              "    async function quickchart(key) {\n",
              "      const quickchartButtonEl =\n",
              "        document.querySelector('#' + key + ' button');\n",
              "      quickchartButtonEl.disabled = true;  // To prevent multiple clicks.\n",
              "      quickchartButtonEl.classList.add('colab-df-spinner');\n",
              "      try {\n",
              "        const charts = await google.colab.kernel.invokeFunction(\n",
              "            'suggestCharts', [key], {});\n",
              "      } catch (error) {\n",
              "        console.error('Error during call to suggestCharts:', error);\n",
              "      }\n",
              "      quickchartButtonEl.classList.remove('colab-df-spinner');\n",
              "      quickchartButtonEl.classList.add('colab-df-quickchart-complete');\n",
              "    }\n",
              "    (() => {\n",
              "      let quickchartButtonEl =\n",
              "        document.querySelector('#df-7af85dfc-f607-48e1-a9ed-dab13378f6a8 button');\n",
              "      quickchartButtonEl.style.display =\n",
              "        google.colab.kernel.accessAllowed ? 'block' : 'none';\n",
              "    })();\n",
              "  </script>\n",
              "</div>\n",
              "    </div>\n",
              "  </div>\n"
            ]
          },
          "metadata": {},
          "execution_count": 11
        }
      ]
    },
    {
      "cell_type": "markdown",
      "source": [
        "We can also easily transpose the data with .T:"
      ],
      "metadata": {
        "id": "5hVZaXvpj5Ul"
      }
    },
    {
      "cell_type": "code",
      "source": [
        "df.T # just make sure you put df= df.T if you want the new dataframe transposed. Without setting variable, df is still the same df as before"
      ],
      "metadata": {
        "colab": {
          "base_uri": "https://localhost:8080/",
          "height": 538
        },
        "id": "wWig--yXj_tZ",
        "outputId": "9d182d74-6757-4790-d95a-cc97e123afdd"
      },
      "execution_count": null,
      "outputs": [
        {
          "output_type": "execute_result",
          "data": {
            "text/plain": [
              "               0          1          2          3          4          5    \\\n",
              "crim       0.00632    0.02731    0.02729    0.03237    0.06905    0.02985   \n",
              "zn        18.00000    0.00000    0.00000    0.00000    0.00000    0.00000   \n",
              "indus      2.31000    7.07000    7.07000    2.18000    2.18000    2.18000   \n",
              "chas       0.00000    0.00000    0.00000    0.00000    0.00000    0.00000   \n",
              "nox        0.53800    0.46900    0.46900    0.45800    0.45800    0.45800   \n",
              "rm         6.57500    6.42100    7.18500    6.99800    7.14700    6.43000   \n",
              "age       65.20000   78.90000   61.10000   45.80000   54.20000   58.70000   \n",
              "dis        4.09000    4.96710    4.96710    6.06220    6.06220    6.06220   \n",
              "rad        1.00000    2.00000    2.00000    3.00000    3.00000    3.00000   \n",
              "tax      296.00000  242.00000  242.00000  222.00000  222.00000  222.00000   \n",
              "ptratio   15.30000   17.80000   17.80000   18.70000   18.70000   18.70000   \n",
              "b        396.90000  396.90000  392.83000  394.63000  396.90000  394.12000   \n",
              "lstat      4.98000    9.14000    4.03000    2.94000    5.33000    5.21000   \n",
              "medv      24.00000   21.60000   34.70000   33.40000   36.20000   28.70000   \n",
              "\n",
              "               6          7          8          9    ...       496        497  \\\n",
              "crim       0.08829    0.14455    0.21124    0.17004  ...    0.2896    0.26838   \n",
              "zn        12.50000   12.50000   12.50000   12.50000  ...    0.0000    0.00000   \n",
              "indus      7.87000    7.87000    7.87000    7.87000  ...    9.6900    9.69000   \n",
              "chas       0.00000    0.00000    0.00000    0.00000  ...    0.0000    0.00000   \n",
              "nox        0.52400    0.52400    0.52400    0.52400  ...    0.5850    0.58500   \n",
              "rm         6.01200    6.17200    5.63100    6.00400  ...    5.3900    5.79400   \n",
              "age       66.60000   96.10000  100.00000   85.90000  ...   72.9000   70.60000   \n",
              "dis        5.56050    5.95050    6.08210    6.59210  ...    2.7986    2.89270   \n",
              "rad        5.00000    5.00000    5.00000    5.00000  ...    6.0000    6.00000   \n",
              "tax      311.00000  311.00000  311.00000  311.00000  ...  391.0000  391.00000   \n",
              "ptratio   15.20000   15.20000   15.20000   15.20000  ...   19.2000   19.20000   \n",
              "b        395.60000  396.90000  386.63000  386.71000  ...  396.9000  396.90000   \n",
              "lstat     12.43000   19.15000   29.93000   17.10000  ...   21.1400   14.10000   \n",
              "medv      22.90000   27.10000   16.50000   18.90000  ...   19.7000   18.30000   \n",
              "\n",
              "               498        499        500        501        502        503  \\\n",
              "crim       0.23912    0.17783    0.22438    0.06263    0.04527    0.06076   \n",
              "zn         0.00000    0.00000    0.00000    0.00000    0.00000    0.00000   \n",
              "indus      9.69000    9.69000    9.69000   11.93000   11.93000   11.93000   \n",
              "chas       0.00000    0.00000    0.00000    0.00000    0.00000    0.00000   \n",
              "nox        0.58500    0.58500    0.58500    0.57300    0.57300    0.57300   \n",
              "rm         6.01900    5.56900    6.02700    6.59300    6.12000    6.97600   \n",
              "age       65.30000   73.50000   79.70000   69.10000   76.70000   91.00000   \n",
              "dis        2.40910    2.39990    2.49820    2.47860    2.28750    2.16750   \n",
              "rad        6.00000    6.00000    6.00000    1.00000    1.00000    1.00000   \n",
              "tax      391.00000  391.00000  391.00000  273.00000  273.00000  273.00000   \n",
              "ptratio   19.20000   19.20000   19.20000   21.00000   21.00000   21.00000   \n",
              "b        396.90000  395.77000  396.90000  391.99000  396.90000  396.90000   \n",
              "lstat     12.92000   15.10000   14.33000    9.67000    9.08000    5.64000   \n",
              "medv      21.20000   17.50000   16.80000   22.40000   20.60000   23.90000   \n",
              "\n",
              "               504        505  \n",
              "crim       0.10959    0.04741  \n",
              "zn         0.00000    0.00000  \n",
              "indus     11.93000   11.93000  \n",
              "chas       0.00000    0.00000  \n",
              "nox        0.57300    0.57300  \n",
              "rm         6.79400    6.03000  \n",
              "age       89.30000   80.80000  \n",
              "dis        2.38890    2.50500  \n",
              "rad        1.00000    1.00000  \n",
              "tax      273.00000  273.00000  \n",
              "ptratio   21.00000   21.00000  \n",
              "b        393.45000  396.90000  \n",
              "lstat      6.48000    7.88000  \n",
              "medv      22.00000   11.90000  \n",
              "\n",
              "[14 rows x 506 columns]"
            ],
            "text/html": [
              "\n",
              "  <div id=\"df-cf79bc05-50a2-4b19-b34b-236d235b9015\" class=\"colab-df-container\">\n",
              "    <div>\n",
              "<style scoped>\n",
              "    .dataframe tbody tr th:only-of-type {\n",
              "        vertical-align: middle;\n",
              "    }\n",
              "\n",
              "    .dataframe tbody tr th {\n",
              "        vertical-align: top;\n",
              "    }\n",
              "\n",
              "    .dataframe thead th {\n",
              "        text-align: right;\n",
              "    }\n",
              "</style>\n",
              "<table border=\"1\" class=\"dataframe\">\n",
              "  <thead>\n",
              "    <tr style=\"text-align: right;\">\n",
              "      <th></th>\n",
              "      <th>0</th>\n",
              "      <th>1</th>\n",
              "      <th>2</th>\n",
              "      <th>3</th>\n",
              "      <th>4</th>\n",
              "      <th>5</th>\n",
              "      <th>6</th>\n",
              "      <th>7</th>\n",
              "      <th>8</th>\n",
              "      <th>9</th>\n",
              "      <th>...</th>\n",
              "      <th>496</th>\n",
              "      <th>497</th>\n",
              "      <th>498</th>\n",
              "      <th>499</th>\n",
              "      <th>500</th>\n",
              "      <th>501</th>\n",
              "      <th>502</th>\n",
              "      <th>503</th>\n",
              "      <th>504</th>\n",
              "      <th>505</th>\n",
              "    </tr>\n",
              "  </thead>\n",
              "  <tbody>\n",
              "    <tr>\n",
              "      <th>crim</th>\n",
              "      <td>0.00632</td>\n",
              "      <td>0.02731</td>\n",
              "      <td>0.02729</td>\n",
              "      <td>0.03237</td>\n",
              "      <td>0.06905</td>\n",
              "      <td>0.02985</td>\n",
              "      <td>0.08829</td>\n",
              "      <td>0.14455</td>\n",
              "      <td>0.21124</td>\n",
              "      <td>0.17004</td>\n",
              "      <td>...</td>\n",
              "      <td>0.2896</td>\n",
              "      <td>0.26838</td>\n",
              "      <td>0.23912</td>\n",
              "      <td>0.17783</td>\n",
              "      <td>0.22438</td>\n",
              "      <td>0.06263</td>\n",
              "      <td>0.04527</td>\n",
              "      <td>0.06076</td>\n",
              "      <td>0.10959</td>\n",
              "      <td>0.04741</td>\n",
              "    </tr>\n",
              "    <tr>\n",
              "      <th>zn</th>\n",
              "      <td>18.00000</td>\n",
              "      <td>0.00000</td>\n",
              "      <td>0.00000</td>\n",
              "      <td>0.00000</td>\n",
              "      <td>0.00000</td>\n",
              "      <td>0.00000</td>\n",
              "      <td>12.50000</td>\n",
              "      <td>12.50000</td>\n",
              "      <td>12.50000</td>\n",
              "      <td>12.50000</td>\n",
              "      <td>...</td>\n",
              "      <td>0.0000</td>\n",
              "      <td>0.00000</td>\n",
              "      <td>0.00000</td>\n",
              "      <td>0.00000</td>\n",
              "      <td>0.00000</td>\n",
              "      <td>0.00000</td>\n",
              "      <td>0.00000</td>\n",
              "      <td>0.00000</td>\n",
              "      <td>0.00000</td>\n",
              "      <td>0.00000</td>\n",
              "    </tr>\n",
              "    <tr>\n",
              "      <th>indus</th>\n",
              "      <td>2.31000</td>\n",
              "      <td>7.07000</td>\n",
              "      <td>7.07000</td>\n",
              "      <td>2.18000</td>\n",
              "      <td>2.18000</td>\n",
              "      <td>2.18000</td>\n",
              "      <td>7.87000</td>\n",
              "      <td>7.87000</td>\n",
              "      <td>7.87000</td>\n",
              "      <td>7.87000</td>\n",
              "      <td>...</td>\n",
              "      <td>9.6900</td>\n",
              "      <td>9.69000</td>\n",
              "      <td>9.69000</td>\n",
              "      <td>9.69000</td>\n",
              "      <td>9.69000</td>\n",
              "      <td>11.93000</td>\n",
              "      <td>11.93000</td>\n",
              "      <td>11.93000</td>\n",
              "      <td>11.93000</td>\n",
              "      <td>11.93000</td>\n",
              "    </tr>\n",
              "    <tr>\n",
              "      <th>chas</th>\n",
              "      <td>0.00000</td>\n",
              "      <td>0.00000</td>\n",
              "      <td>0.00000</td>\n",
              "      <td>0.00000</td>\n",
              "      <td>0.00000</td>\n",
              "      <td>0.00000</td>\n",
              "      <td>0.00000</td>\n",
              "      <td>0.00000</td>\n",
              "      <td>0.00000</td>\n",
              "      <td>0.00000</td>\n",
              "      <td>...</td>\n",
              "      <td>0.0000</td>\n",
              "      <td>0.00000</td>\n",
              "      <td>0.00000</td>\n",
              "      <td>0.00000</td>\n",
              "      <td>0.00000</td>\n",
              "      <td>0.00000</td>\n",
              "      <td>0.00000</td>\n",
              "      <td>0.00000</td>\n",
              "      <td>0.00000</td>\n",
              "      <td>0.00000</td>\n",
              "    </tr>\n",
              "    <tr>\n",
              "      <th>nox</th>\n",
              "      <td>0.53800</td>\n",
              "      <td>0.46900</td>\n",
              "      <td>0.46900</td>\n",
              "      <td>0.45800</td>\n",
              "      <td>0.45800</td>\n",
              "      <td>0.45800</td>\n",
              "      <td>0.52400</td>\n",
              "      <td>0.52400</td>\n",
              "      <td>0.52400</td>\n",
              "      <td>0.52400</td>\n",
              "      <td>...</td>\n",
              "      <td>0.5850</td>\n",
              "      <td>0.58500</td>\n",
              "      <td>0.58500</td>\n",
              "      <td>0.58500</td>\n",
              "      <td>0.58500</td>\n",
              "      <td>0.57300</td>\n",
              "      <td>0.57300</td>\n",
              "      <td>0.57300</td>\n",
              "      <td>0.57300</td>\n",
              "      <td>0.57300</td>\n",
              "    </tr>\n",
              "    <tr>\n",
              "      <th>rm</th>\n",
              "      <td>6.57500</td>\n",
              "      <td>6.42100</td>\n",
              "      <td>7.18500</td>\n",
              "      <td>6.99800</td>\n",
              "      <td>7.14700</td>\n",
              "      <td>6.43000</td>\n",
              "      <td>6.01200</td>\n",
              "      <td>6.17200</td>\n",
              "      <td>5.63100</td>\n",
              "      <td>6.00400</td>\n",
              "      <td>...</td>\n",
              "      <td>5.3900</td>\n",
              "      <td>5.79400</td>\n",
              "      <td>6.01900</td>\n",
              "      <td>5.56900</td>\n",
              "      <td>6.02700</td>\n",
              "      <td>6.59300</td>\n",
              "      <td>6.12000</td>\n",
              "      <td>6.97600</td>\n",
              "      <td>6.79400</td>\n",
              "      <td>6.03000</td>\n",
              "    </tr>\n",
              "    <tr>\n",
              "      <th>age</th>\n",
              "      <td>65.20000</td>\n",
              "      <td>78.90000</td>\n",
              "      <td>61.10000</td>\n",
              "      <td>45.80000</td>\n",
              "      <td>54.20000</td>\n",
              "      <td>58.70000</td>\n",
              "      <td>66.60000</td>\n",
              "      <td>96.10000</td>\n",
              "      <td>100.00000</td>\n",
              "      <td>85.90000</td>\n",
              "      <td>...</td>\n",
              "      <td>72.9000</td>\n",
              "      <td>70.60000</td>\n",
              "      <td>65.30000</td>\n",
              "      <td>73.50000</td>\n",
              "      <td>79.70000</td>\n",
              "      <td>69.10000</td>\n",
              "      <td>76.70000</td>\n",
              "      <td>91.00000</td>\n",
              "      <td>89.30000</td>\n",
              "      <td>80.80000</td>\n",
              "    </tr>\n",
              "    <tr>\n",
              "      <th>dis</th>\n",
              "      <td>4.09000</td>\n",
              "      <td>4.96710</td>\n",
              "      <td>4.96710</td>\n",
              "      <td>6.06220</td>\n",
              "      <td>6.06220</td>\n",
              "      <td>6.06220</td>\n",
              "      <td>5.56050</td>\n",
              "      <td>5.95050</td>\n",
              "      <td>6.08210</td>\n",
              "      <td>6.59210</td>\n",
              "      <td>...</td>\n",
              "      <td>2.7986</td>\n",
              "      <td>2.89270</td>\n",
              "      <td>2.40910</td>\n",
              "      <td>2.39990</td>\n",
              "      <td>2.49820</td>\n",
              "      <td>2.47860</td>\n",
              "      <td>2.28750</td>\n",
              "      <td>2.16750</td>\n",
              "      <td>2.38890</td>\n",
              "      <td>2.50500</td>\n",
              "    </tr>\n",
              "    <tr>\n",
              "      <th>rad</th>\n",
              "      <td>1.00000</td>\n",
              "      <td>2.00000</td>\n",
              "      <td>2.00000</td>\n",
              "      <td>3.00000</td>\n",
              "      <td>3.00000</td>\n",
              "      <td>3.00000</td>\n",
              "      <td>5.00000</td>\n",
              "      <td>5.00000</td>\n",
              "      <td>5.00000</td>\n",
              "      <td>5.00000</td>\n",
              "      <td>...</td>\n",
              "      <td>6.0000</td>\n",
              "      <td>6.00000</td>\n",
              "      <td>6.00000</td>\n",
              "      <td>6.00000</td>\n",
              "      <td>6.00000</td>\n",
              "      <td>1.00000</td>\n",
              "      <td>1.00000</td>\n",
              "      <td>1.00000</td>\n",
              "      <td>1.00000</td>\n",
              "      <td>1.00000</td>\n",
              "    </tr>\n",
              "    <tr>\n",
              "      <th>tax</th>\n",
              "      <td>296.00000</td>\n",
              "      <td>242.00000</td>\n",
              "      <td>242.00000</td>\n",
              "      <td>222.00000</td>\n",
              "      <td>222.00000</td>\n",
              "      <td>222.00000</td>\n",
              "      <td>311.00000</td>\n",
              "      <td>311.00000</td>\n",
              "      <td>311.00000</td>\n",
              "      <td>311.00000</td>\n",
              "      <td>...</td>\n",
              "      <td>391.0000</td>\n",
              "      <td>391.00000</td>\n",
              "      <td>391.00000</td>\n",
              "      <td>391.00000</td>\n",
              "      <td>391.00000</td>\n",
              "      <td>273.00000</td>\n",
              "      <td>273.00000</td>\n",
              "      <td>273.00000</td>\n",
              "      <td>273.00000</td>\n",
              "      <td>273.00000</td>\n",
              "    </tr>\n",
              "    <tr>\n",
              "      <th>ptratio</th>\n",
              "      <td>15.30000</td>\n",
              "      <td>17.80000</td>\n",
              "      <td>17.80000</td>\n",
              "      <td>18.70000</td>\n",
              "      <td>18.70000</td>\n",
              "      <td>18.70000</td>\n",
              "      <td>15.20000</td>\n",
              "      <td>15.20000</td>\n",
              "      <td>15.20000</td>\n",
              "      <td>15.20000</td>\n",
              "      <td>...</td>\n",
              "      <td>19.2000</td>\n",
              "      <td>19.20000</td>\n",
              "      <td>19.20000</td>\n",
              "      <td>19.20000</td>\n",
              "      <td>19.20000</td>\n",
              "      <td>21.00000</td>\n",
              "      <td>21.00000</td>\n",
              "      <td>21.00000</td>\n",
              "      <td>21.00000</td>\n",
              "      <td>21.00000</td>\n",
              "    </tr>\n",
              "    <tr>\n",
              "      <th>b</th>\n",
              "      <td>396.90000</td>\n",
              "      <td>396.90000</td>\n",
              "      <td>392.83000</td>\n",
              "      <td>394.63000</td>\n",
              "      <td>396.90000</td>\n",
              "      <td>394.12000</td>\n",
              "      <td>395.60000</td>\n",
              "      <td>396.90000</td>\n",
              "      <td>386.63000</td>\n",
              "      <td>386.71000</td>\n",
              "      <td>...</td>\n",
              "      <td>396.9000</td>\n",
              "      <td>396.90000</td>\n",
              "      <td>396.90000</td>\n",
              "      <td>395.77000</td>\n",
              "      <td>396.90000</td>\n",
              "      <td>391.99000</td>\n",
              "      <td>396.90000</td>\n",
              "      <td>396.90000</td>\n",
              "      <td>393.45000</td>\n",
              "      <td>396.90000</td>\n",
              "    </tr>\n",
              "    <tr>\n",
              "      <th>lstat</th>\n",
              "      <td>4.98000</td>\n",
              "      <td>9.14000</td>\n",
              "      <td>4.03000</td>\n",
              "      <td>2.94000</td>\n",
              "      <td>5.33000</td>\n",
              "      <td>5.21000</td>\n",
              "      <td>12.43000</td>\n",
              "      <td>19.15000</td>\n",
              "      <td>29.93000</td>\n",
              "      <td>17.10000</td>\n",
              "      <td>...</td>\n",
              "      <td>21.1400</td>\n",
              "      <td>14.10000</td>\n",
              "      <td>12.92000</td>\n",
              "      <td>15.10000</td>\n",
              "      <td>14.33000</td>\n",
              "      <td>9.67000</td>\n",
              "      <td>9.08000</td>\n",
              "      <td>5.64000</td>\n",
              "      <td>6.48000</td>\n",
              "      <td>7.88000</td>\n",
              "    </tr>\n",
              "    <tr>\n",
              "      <th>medv</th>\n",
              "      <td>24.00000</td>\n",
              "      <td>21.60000</td>\n",
              "      <td>34.70000</td>\n",
              "      <td>33.40000</td>\n",
              "      <td>36.20000</td>\n",
              "      <td>28.70000</td>\n",
              "      <td>22.90000</td>\n",
              "      <td>27.10000</td>\n",
              "      <td>16.50000</td>\n",
              "      <td>18.90000</td>\n",
              "      <td>...</td>\n",
              "      <td>19.7000</td>\n",
              "      <td>18.30000</td>\n",
              "      <td>21.20000</td>\n",
              "      <td>17.50000</td>\n",
              "      <td>16.80000</td>\n",
              "      <td>22.40000</td>\n",
              "      <td>20.60000</td>\n",
              "      <td>23.90000</td>\n",
              "      <td>22.00000</td>\n",
              "      <td>11.90000</td>\n",
              "    </tr>\n",
              "  </tbody>\n",
              "</table>\n",
              "<p>14 rows × 506 columns</p>\n",
              "</div>\n",
              "    <div class=\"colab-df-buttons\">\n",
              "\n",
              "  <div class=\"colab-df-container\">\n",
              "    <button class=\"colab-df-convert\" onclick=\"convertToInteractive('df-cf79bc05-50a2-4b19-b34b-236d235b9015')\"\n",
              "            title=\"Convert this dataframe to an interactive table.\"\n",
              "            style=\"display:none;\">\n",
              "\n",
              "  <svg xmlns=\"http://www.w3.org/2000/svg\" height=\"24px\" viewBox=\"0 -960 960 960\">\n",
              "    <path d=\"M120-120v-720h720v720H120Zm60-500h600v-160H180v160Zm220 220h160v-160H400v160Zm0 220h160v-160H400v160ZM180-400h160v-160H180v160Zm440 0h160v-160H620v160ZM180-180h160v-160H180v160Zm440 0h160v-160H620v160Z\"/>\n",
              "  </svg>\n",
              "    </button>\n",
              "\n",
              "  <style>\n",
              "    .colab-df-container {\n",
              "      display:flex;\n",
              "      gap: 12px;\n",
              "    }\n",
              "\n",
              "    .colab-df-convert {\n",
              "      background-color: #E8F0FE;\n",
              "      border: none;\n",
              "      border-radius: 50%;\n",
              "      cursor: pointer;\n",
              "      display: none;\n",
              "      fill: #1967D2;\n",
              "      height: 32px;\n",
              "      padding: 0 0 0 0;\n",
              "      width: 32px;\n",
              "    }\n",
              "\n",
              "    .colab-df-convert:hover {\n",
              "      background-color: #E2EBFA;\n",
              "      box-shadow: 0px 1px 2px rgba(60, 64, 67, 0.3), 0px 1px 3px 1px rgba(60, 64, 67, 0.15);\n",
              "      fill: #174EA6;\n",
              "    }\n",
              "\n",
              "    .colab-df-buttons div {\n",
              "      margin-bottom: 4px;\n",
              "    }\n",
              "\n",
              "    [theme=dark] .colab-df-convert {\n",
              "      background-color: #3B4455;\n",
              "      fill: #D2E3FC;\n",
              "    }\n",
              "\n",
              "    [theme=dark] .colab-df-convert:hover {\n",
              "      background-color: #434B5C;\n",
              "      box-shadow: 0px 1px 3px 1px rgba(0, 0, 0, 0.15);\n",
              "      filter: drop-shadow(0px 1px 2px rgba(0, 0, 0, 0.3));\n",
              "      fill: #FFFFFF;\n",
              "    }\n",
              "  </style>\n",
              "\n",
              "    <script>\n",
              "      const buttonEl =\n",
              "        document.querySelector('#df-cf79bc05-50a2-4b19-b34b-236d235b9015 button.colab-df-convert');\n",
              "      buttonEl.style.display =\n",
              "        google.colab.kernel.accessAllowed ? 'block' : 'none';\n",
              "\n",
              "      async function convertToInteractive(key) {\n",
              "        const element = document.querySelector('#df-cf79bc05-50a2-4b19-b34b-236d235b9015');\n",
              "        const dataTable =\n",
              "          await google.colab.kernel.invokeFunction('convertToInteractive',\n",
              "                                                    [key], {});\n",
              "        if (!dataTable) return;\n",
              "\n",
              "        const docLinkHtml = 'Like what you see? Visit the ' +\n",
              "          '<a target=\"_blank\" href=https://colab.research.google.com/notebooks/data_table.ipynb>data table notebook</a>'\n",
              "          + ' to learn more about interactive tables.';\n",
              "        element.innerHTML = '';\n",
              "        dataTable['output_type'] = 'display_data';\n",
              "        await google.colab.output.renderOutput(dataTable, element);\n",
              "        const docLink = document.createElement('div');\n",
              "        docLink.innerHTML = docLinkHtml;\n",
              "        element.appendChild(docLink);\n",
              "      }\n",
              "    </script>\n",
              "  </div>\n",
              "\n",
              "\n",
              "<div id=\"df-49510f2e-2fbd-4796-9771-0c06a49d5003\">\n",
              "  <button class=\"colab-df-quickchart\" onclick=\"quickchart('df-49510f2e-2fbd-4796-9771-0c06a49d5003')\"\n",
              "            title=\"Suggest charts\"\n",
              "            style=\"display:none;\">\n",
              "\n",
              "<svg xmlns=\"http://www.w3.org/2000/svg\" height=\"24px\"viewBox=\"0 0 24 24\"\n",
              "     width=\"24px\">\n",
              "    <g>\n",
              "        <path d=\"M19 3H5c-1.1 0-2 .9-2 2v14c0 1.1.9 2 2 2h14c1.1 0 2-.9 2-2V5c0-1.1-.9-2-2-2zM9 17H7v-7h2v7zm4 0h-2V7h2v10zm4 0h-2v-4h2v4z\"/>\n",
              "    </g>\n",
              "</svg>\n",
              "  </button>\n",
              "\n",
              "<style>\n",
              "  .colab-df-quickchart {\n",
              "      --bg-color: #E8F0FE;\n",
              "      --fill-color: #1967D2;\n",
              "      --hover-bg-color: #E2EBFA;\n",
              "      --hover-fill-color: #174EA6;\n",
              "      --disabled-fill-color: #AAA;\n",
              "      --disabled-bg-color: #DDD;\n",
              "  }\n",
              "\n",
              "  [theme=dark] .colab-df-quickchart {\n",
              "      --bg-color: #3B4455;\n",
              "      --fill-color: #D2E3FC;\n",
              "      --hover-bg-color: #434B5C;\n",
              "      --hover-fill-color: #FFFFFF;\n",
              "      --disabled-bg-color: #3B4455;\n",
              "      --disabled-fill-color: #666;\n",
              "  }\n",
              "\n",
              "  .colab-df-quickchart {\n",
              "    background-color: var(--bg-color);\n",
              "    border: none;\n",
              "    border-radius: 50%;\n",
              "    cursor: pointer;\n",
              "    display: none;\n",
              "    fill: var(--fill-color);\n",
              "    height: 32px;\n",
              "    padding: 0;\n",
              "    width: 32px;\n",
              "  }\n",
              "\n",
              "  .colab-df-quickchart:hover {\n",
              "    background-color: var(--hover-bg-color);\n",
              "    box-shadow: 0 1px 2px rgba(60, 64, 67, 0.3), 0 1px 3px 1px rgba(60, 64, 67, 0.15);\n",
              "    fill: var(--button-hover-fill-color);\n",
              "  }\n",
              "\n",
              "  .colab-df-quickchart-complete:disabled,\n",
              "  .colab-df-quickchart-complete:disabled:hover {\n",
              "    background-color: var(--disabled-bg-color);\n",
              "    fill: var(--disabled-fill-color);\n",
              "    box-shadow: none;\n",
              "  }\n",
              "\n",
              "  .colab-df-spinner {\n",
              "    border: 2px solid var(--fill-color);\n",
              "    border-color: transparent;\n",
              "    border-bottom-color: var(--fill-color);\n",
              "    animation:\n",
              "      spin 1s steps(1) infinite;\n",
              "  }\n",
              "\n",
              "  @keyframes spin {\n",
              "    0% {\n",
              "      border-color: transparent;\n",
              "      border-bottom-color: var(--fill-color);\n",
              "      border-left-color: var(--fill-color);\n",
              "    }\n",
              "    20% {\n",
              "      border-color: transparent;\n",
              "      border-left-color: var(--fill-color);\n",
              "      border-top-color: var(--fill-color);\n",
              "    }\n",
              "    30% {\n",
              "      border-color: transparent;\n",
              "      border-left-color: var(--fill-color);\n",
              "      border-top-color: var(--fill-color);\n",
              "      border-right-color: var(--fill-color);\n",
              "    }\n",
              "    40% {\n",
              "      border-color: transparent;\n",
              "      border-right-color: var(--fill-color);\n",
              "      border-top-color: var(--fill-color);\n",
              "    }\n",
              "    60% {\n",
              "      border-color: transparent;\n",
              "      border-right-color: var(--fill-color);\n",
              "    }\n",
              "    80% {\n",
              "      border-color: transparent;\n",
              "      border-right-color: var(--fill-color);\n",
              "      border-bottom-color: var(--fill-color);\n",
              "    }\n",
              "    90% {\n",
              "      border-color: transparent;\n",
              "      border-bottom-color: var(--fill-color);\n",
              "    }\n",
              "  }\n",
              "</style>\n",
              "\n",
              "  <script>\n",
              "    async function quickchart(key) {\n",
              "      const quickchartButtonEl =\n",
              "        document.querySelector('#' + key + ' button');\n",
              "      quickchartButtonEl.disabled = true;  // To prevent multiple clicks.\n",
              "      quickchartButtonEl.classList.add('colab-df-spinner');\n",
              "      try {\n",
              "        const charts = await google.colab.kernel.invokeFunction(\n",
              "            'suggestCharts', [key], {});\n",
              "      } catch (error) {\n",
              "        console.error('Error during call to suggestCharts:', error);\n",
              "      }\n",
              "      quickchartButtonEl.classList.remove('colab-df-spinner');\n",
              "      quickchartButtonEl.classList.add('colab-df-quickchart-complete');\n",
              "    }\n",
              "    (() => {\n",
              "      let quickchartButtonEl =\n",
              "        document.querySelector('#df-49510f2e-2fbd-4796-9771-0c06a49d5003 button');\n",
              "      quickchartButtonEl.style.display =\n",
              "        google.colab.kernel.accessAllowed ? 'block' : 'none';\n",
              "    })();\n",
              "  </script>\n",
              "</div>\n",
              "    </div>\n",
              "  </div>\n"
            ]
          },
          "metadata": {},
          "execution_count": 12
        }
      ]
    },
    {
      "cell_type": "markdown",
      "source": [
        "You can use DataFrame.sort_values() to sorts the dataframe by values of one column:"
      ],
      "metadata": {
        "id": "XIEUqX4fkTN5"
      }
    },
    {
      "cell_type": "code",
      "source": [
        "df.sort_values(by='crim') # again if you want the change inplace, set df = df.sort_values(), or here just for viewing."
      ],
      "metadata": {
        "colab": {
          "base_uri": "https://localhost:8080/",
          "height": 424
        },
        "id": "ILgRkaUtkf1p",
        "outputId": "1356b886-d729-48d7-a375-87ac701cd3d7"
      },
      "execution_count": null,
      "outputs": [
        {
          "output_type": "execute_result",
          "data": {
            "text/plain": [
              "         crim    zn  indus  chas    nox     rm    age     dis  rad  tax  \\\n",
              "0     0.00632  18.0   2.31     0  0.538  6.575   65.2  4.0900    1  296   \n",
              "284   0.00906  90.0   2.97     0  0.400  7.088   20.8  7.3073    1  285   \n",
              "285   0.01096  55.0   2.25     0  0.389  6.453   31.9  7.3073    1  300   \n",
              "341   0.01301  35.0   1.52     0  0.442  7.241   49.3  7.0379    1  284   \n",
              "55    0.01311  90.0   1.22     0  0.403  7.249   21.9  8.6966    5  226   \n",
              "..        ...   ...    ...   ...    ...    ...    ...     ...  ...  ...   \n",
              "414  45.74610   0.0  18.10     0  0.693  4.519  100.0  1.6582   24  666   \n",
              "410  51.13580   0.0  18.10     0  0.597  5.757  100.0  1.4130   24  666   \n",
              "405  67.92080   0.0  18.10     0  0.693  5.683  100.0  1.4254   24  666   \n",
              "418  73.53410   0.0  18.10     0  0.679  5.957  100.0  1.8026   24  666   \n",
              "380  88.97620   0.0  18.10     0  0.671  6.968   91.9  1.4165   24  666   \n",
              "\n",
              "     ptratio       b  lstat  medv  \n",
              "0       15.3  396.90   4.98  24.0  \n",
              "284     15.3  394.72   7.85  32.2  \n",
              "285     15.3  394.72   8.23  22.0  \n",
              "341     15.5  394.74   5.49  32.7  \n",
              "55      17.9  395.93   4.81  35.4  \n",
              "..       ...     ...    ...   ...  \n",
              "414     20.2   88.27  36.98   7.0  \n",
              "410     20.2    2.60  10.11  15.0  \n",
              "405     20.2  384.97  22.98   5.0  \n",
              "418     20.2   16.45  20.62   8.8  \n",
              "380     20.2  396.90  17.21  10.4  \n",
              "\n",
              "[506 rows x 14 columns]"
            ],
            "text/html": [
              "\n",
              "  <div id=\"df-34073185-52bc-4a7b-9205-dbe21591402f\" class=\"colab-df-container\">\n",
              "    <div>\n",
              "<style scoped>\n",
              "    .dataframe tbody tr th:only-of-type {\n",
              "        vertical-align: middle;\n",
              "    }\n",
              "\n",
              "    .dataframe tbody tr th {\n",
              "        vertical-align: top;\n",
              "    }\n",
              "\n",
              "    .dataframe thead th {\n",
              "        text-align: right;\n",
              "    }\n",
              "</style>\n",
              "<table border=\"1\" class=\"dataframe\">\n",
              "  <thead>\n",
              "    <tr style=\"text-align: right;\">\n",
              "      <th></th>\n",
              "      <th>crim</th>\n",
              "      <th>zn</th>\n",
              "      <th>indus</th>\n",
              "      <th>chas</th>\n",
              "      <th>nox</th>\n",
              "      <th>rm</th>\n",
              "      <th>age</th>\n",
              "      <th>dis</th>\n",
              "      <th>rad</th>\n",
              "      <th>tax</th>\n",
              "      <th>ptratio</th>\n",
              "      <th>b</th>\n",
              "      <th>lstat</th>\n",
              "      <th>medv</th>\n",
              "    </tr>\n",
              "  </thead>\n",
              "  <tbody>\n",
              "    <tr>\n",
              "      <th>0</th>\n",
              "      <td>0.00632</td>\n",
              "      <td>18.0</td>\n",
              "      <td>2.31</td>\n",
              "      <td>0</td>\n",
              "      <td>0.538</td>\n",
              "      <td>6.575</td>\n",
              "      <td>65.2</td>\n",
              "      <td>4.0900</td>\n",
              "      <td>1</td>\n",
              "      <td>296</td>\n",
              "      <td>15.3</td>\n",
              "      <td>396.90</td>\n",
              "      <td>4.98</td>\n",
              "      <td>24.0</td>\n",
              "    </tr>\n",
              "    <tr>\n",
              "      <th>284</th>\n",
              "      <td>0.00906</td>\n",
              "      <td>90.0</td>\n",
              "      <td>2.97</td>\n",
              "      <td>0</td>\n",
              "      <td>0.400</td>\n",
              "      <td>7.088</td>\n",
              "      <td>20.8</td>\n",
              "      <td>7.3073</td>\n",
              "      <td>1</td>\n",
              "      <td>285</td>\n",
              "      <td>15.3</td>\n",
              "      <td>394.72</td>\n",
              "      <td>7.85</td>\n",
              "      <td>32.2</td>\n",
              "    </tr>\n",
              "    <tr>\n",
              "      <th>285</th>\n",
              "      <td>0.01096</td>\n",
              "      <td>55.0</td>\n",
              "      <td>2.25</td>\n",
              "      <td>0</td>\n",
              "      <td>0.389</td>\n",
              "      <td>6.453</td>\n",
              "      <td>31.9</td>\n",
              "      <td>7.3073</td>\n",
              "      <td>1</td>\n",
              "      <td>300</td>\n",
              "      <td>15.3</td>\n",
              "      <td>394.72</td>\n",
              "      <td>8.23</td>\n",
              "      <td>22.0</td>\n",
              "    </tr>\n",
              "    <tr>\n",
              "      <th>341</th>\n",
              "      <td>0.01301</td>\n",
              "      <td>35.0</td>\n",
              "      <td>1.52</td>\n",
              "      <td>0</td>\n",
              "      <td>0.442</td>\n",
              "      <td>7.241</td>\n",
              "      <td>49.3</td>\n",
              "      <td>7.0379</td>\n",
              "      <td>1</td>\n",
              "      <td>284</td>\n",
              "      <td>15.5</td>\n",
              "      <td>394.74</td>\n",
              "      <td>5.49</td>\n",
              "      <td>32.7</td>\n",
              "    </tr>\n",
              "    <tr>\n",
              "      <th>55</th>\n",
              "      <td>0.01311</td>\n",
              "      <td>90.0</td>\n",
              "      <td>1.22</td>\n",
              "      <td>0</td>\n",
              "      <td>0.403</td>\n",
              "      <td>7.249</td>\n",
              "      <td>21.9</td>\n",
              "      <td>8.6966</td>\n",
              "      <td>5</td>\n",
              "      <td>226</td>\n",
              "      <td>17.9</td>\n",
              "      <td>395.93</td>\n",
              "      <td>4.81</td>\n",
              "      <td>35.4</td>\n",
              "    </tr>\n",
              "    <tr>\n",
              "      <th>...</th>\n",
              "      <td>...</td>\n",
              "      <td>...</td>\n",
              "      <td>...</td>\n",
              "      <td>...</td>\n",
              "      <td>...</td>\n",
              "      <td>...</td>\n",
              "      <td>...</td>\n",
              "      <td>...</td>\n",
              "      <td>...</td>\n",
              "      <td>...</td>\n",
              "      <td>...</td>\n",
              "      <td>...</td>\n",
              "      <td>...</td>\n",
              "      <td>...</td>\n",
              "    </tr>\n",
              "    <tr>\n",
              "      <th>414</th>\n",
              "      <td>45.74610</td>\n",
              "      <td>0.0</td>\n",
              "      <td>18.10</td>\n",
              "      <td>0</td>\n",
              "      <td>0.693</td>\n",
              "      <td>4.519</td>\n",
              "      <td>100.0</td>\n",
              "      <td>1.6582</td>\n",
              "      <td>24</td>\n",
              "      <td>666</td>\n",
              "      <td>20.2</td>\n",
              "      <td>88.27</td>\n",
              "      <td>36.98</td>\n",
              "      <td>7.0</td>\n",
              "    </tr>\n",
              "    <tr>\n",
              "      <th>410</th>\n",
              "      <td>51.13580</td>\n",
              "      <td>0.0</td>\n",
              "      <td>18.10</td>\n",
              "      <td>0</td>\n",
              "      <td>0.597</td>\n",
              "      <td>5.757</td>\n",
              "      <td>100.0</td>\n",
              "      <td>1.4130</td>\n",
              "      <td>24</td>\n",
              "      <td>666</td>\n",
              "      <td>20.2</td>\n",
              "      <td>2.60</td>\n",
              "      <td>10.11</td>\n",
              "      <td>15.0</td>\n",
              "    </tr>\n",
              "    <tr>\n",
              "      <th>405</th>\n",
              "      <td>67.92080</td>\n",
              "      <td>0.0</td>\n",
              "      <td>18.10</td>\n",
              "      <td>0</td>\n",
              "      <td>0.693</td>\n",
              "      <td>5.683</td>\n",
              "      <td>100.0</td>\n",
              "      <td>1.4254</td>\n",
              "      <td>24</td>\n",
              "      <td>666</td>\n",
              "      <td>20.2</td>\n",
              "      <td>384.97</td>\n",
              "      <td>22.98</td>\n",
              "      <td>5.0</td>\n",
              "    </tr>\n",
              "    <tr>\n",
              "      <th>418</th>\n",
              "      <td>73.53410</td>\n",
              "      <td>0.0</td>\n",
              "      <td>18.10</td>\n",
              "      <td>0</td>\n",
              "      <td>0.679</td>\n",
              "      <td>5.957</td>\n",
              "      <td>100.0</td>\n",
              "      <td>1.8026</td>\n",
              "      <td>24</td>\n",
              "      <td>666</td>\n",
              "      <td>20.2</td>\n",
              "      <td>16.45</td>\n",
              "      <td>20.62</td>\n",
              "      <td>8.8</td>\n",
              "    </tr>\n",
              "    <tr>\n",
              "      <th>380</th>\n",
              "      <td>88.97620</td>\n",
              "      <td>0.0</td>\n",
              "      <td>18.10</td>\n",
              "      <td>0</td>\n",
              "      <td>0.671</td>\n",
              "      <td>6.968</td>\n",
              "      <td>91.9</td>\n",
              "      <td>1.4165</td>\n",
              "      <td>24</td>\n",
              "      <td>666</td>\n",
              "      <td>20.2</td>\n",
              "      <td>396.90</td>\n",
              "      <td>17.21</td>\n",
              "      <td>10.4</td>\n",
              "    </tr>\n",
              "  </tbody>\n",
              "</table>\n",
              "<p>506 rows × 14 columns</p>\n",
              "</div>\n",
              "    <div class=\"colab-df-buttons\">\n",
              "\n",
              "  <div class=\"colab-df-container\">\n",
              "    <button class=\"colab-df-convert\" onclick=\"convertToInteractive('df-34073185-52bc-4a7b-9205-dbe21591402f')\"\n",
              "            title=\"Convert this dataframe to an interactive table.\"\n",
              "            style=\"display:none;\">\n",
              "\n",
              "  <svg xmlns=\"http://www.w3.org/2000/svg\" height=\"24px\" viewBox=\"0 -960 960 960\">\n",
              "    <path d=\"M120-120v-720h720v720H120Zm60-500h600v-160H180v160Zm220 220h160v-160H400v160Zm0 220h160v-160H400v160ZM180-400h160v-160H180v160Zm440 0h160v-160H620v160ZM180-180h160v-160H180v160Zm440 0h160v-160H620v160Z\"/>\n",
              "  </svg>\n",
              "    </button>\n",
              "\n",
              "  <style>\n",
              "    .colab-df-container {\n",
              "      display:flex;\n",
              "      gap: 12px;\n",
              "    }\n",
              "\n",
              "    .colab-df-convert {\n",
              "      background-color: #E8F0FE;\n",
              "      border: none;\n",
              "      border-radius: 50%;\n",
              "      cursor: pointer;\n",
              "      display: none;\n",
              "      fill: #1967D2;\n",
              "      height: 32px;\n",
              "      padding: 0 0 0 0;\n",
              "      width: 32px;\n",
              "    }\n",
              "\n",
              "    .colab-df-convert:hover {\n",
              "      background-color: #E2EBFA;\n",
              "      box-shadow: 0px 1px 2px rgba(60, 64, 67, 0.3), 0px 1px 3px 1px rgba(60, 64, 67, 0.15);\n",
              "      fill: #174EA6;\n",
              "    }\n",
              "\n",
              "    .colab-df-buttons div {\n",
              "      margin-bottom: 4px;\n",
              "    }\n",
              "\n",
              "    [theme=dark] .colab-df-convert {\n",
              "      background-color: #3B4455;\n",
              "      fill: #D2E3FC;\n",
              "    }\n",
              "\n",
              "    [theme=dark] .colab-df-convert:hover {\n",
              "      background-color: #434B5C;\n",
              "      box-shadow: 0px 1px 3px 1px rgba(0, 0, 0, 0.15);\n",
              "      filter: drop-shadow(0px 1px 2px rgba(0, 0, 0, 0.3));\n",
              "      fill: #FFFFFF;\n",
              "    }\n",
              "  </style>\n",
              "\n",
              "    <script>\n",
              "      const buttonEl =\n",
              "        document.querySelector('#df-34073185-52bc-4a7b-9205-dbe21591402f button.colab-df-convert');\n",
              "      buttonEl.style.display =\n",
              "        google.colab.kernel.accessAllowed ? 'block' : 'none';\n",
              "\n",
              "      async function convertToInteractive(key) {\n",
              "        const element = document.querySelector('#df-34073185-52bc-4a7b-9205-dbe21591402f');\n",
              "        const dataTable =\n",
              "          await google.colab.kernel.invokeFunction('convertToInteractive',\n",
              "                                                    [key], {});\n",
              "        if (!dataTable) return;\n",
              "\n",
              "        const docLinkHtml = 'Like what you see? Visit the ' +\n",
              "          '<a target=\"_blank\" href=https://colab.research.google.com/notebooks/data_table.ipynb>data table notebook</a>'\n",
              "          + ' to learn more about interactive tables.';\n",
              "        element.innerHTML = '';\n",
              "        dataTable['output_type'] = 'display_data';\n",
              "        await google.colab.output.renderOutput(dataTable, element);\n",
              "        const docLink = document.createElement('div');\n",
              "        docLink.innerHTML = docLinkHtml;\n",
              "        element.appendChild(docLink);\n",
              "      }\n",
              "    </script>\n",
              "  </div>\n",
              "\n",
              "\n",
              "<div id=\"df-a471aa57-bb9d-4b01-b188-d92da4013cca\">\n",
              "  <button class=\"colab-df-quickchart\" onclick=\"quickchart('df-a471aa57-bb9d-4b01-b188-d92da4013cca')\"\n",
              "            title=\"Suggest charts\"\n",
              "            style=\"display:none;\">\n",
              "\n",
              "<svg xmlns=\"http://www.w3.org/2000/svg\" height=\"24px\"viewBox=\"0 0 24 24\"\n",
              "     width=\"24px\">\n",
              "    <g>\n",
              "        <path d=\"M19 3H5c-1.1 0-2 .9-2 2v14c0 1.1.9 2 2 2h14c1.1 0 2-.9 2-2V5c0-1.1-.9-2-2-2zM9 17H7v-7h2v7zm4 0h-2V7h2v10zm4 0h-2v-4h2v4z\"/>\n",
              "    </g>\n",
              "</svg>\n",
              "  </button>\n",
              "\n",
              "<style>\n",
              "  .colab-df-quickchart {\n",
              "      --bg-color: #E8F0FE;\n",
              "      --fill-color: #1967D2;\n",
              "      --hover-bg-color: #E2EBFA;\n",
              "      --hover-fill-color: #174EA6;\n",
              "      --disabled-fill-color: #AAA;\n",
              "      --disabled-bg-color: #DDD;\n",
              "  }\n",
              "\n",
              "  [theme=dark] .colab-df-quickchart {\n",
              "      --bg-color: #3B4455;\n",
              "      --fill-color: #D2E3FC;\n",
              "      --hover-bg-color: #434B5C;\n",
              "      --hover-fill-color: #FFFFFF;\n",
              "      --disabled-bg-color: #3B4455;\n",
              "      --disabled-fill-color: #666;\n",
              "  }\n",
              "\n",
              "  .colab-df-quickchart {\n",
              "    background-color: var(--bg-color);\n",
              "    border: none;\n",
              "    border-radius: 50%;\n",
              "    cursor: pointer;\n",
              "    display: none;\n",
              "    fill: var(--fill-color);\n",
              "    height: 32px;\n",
              "    padding: 0;\n",
              "    width: 32px;\n",
              "  }\n",
              "\n",
              "  .colab-df-quickchart:hover {\n",
              "    background-color: var(--hover-bg-color);\n",
              "    box-shadow: 0 1px 2px rgba(60, 64, 67, 0.3), 0 1px 3px 1px rgba(60, 64, 67, 0.15);\n",
              "    fill: var(--button-hover-fill-color);\n",
              "  }\n",
              "\n",
              "  .colab-df-quickchart-complete:disabled,\n",
              "  .colab-df-quickchart-complete:disabled:hover {\n",
              "    background-color: var(--disabled-bg-color);\n",
              "    fill: var(--disabled-fill-color);\n",
              "    box-shadow: none;\n",
              "  }\n",
              "\n",
              "  .colab-df-spinner {\n",
              "    border: 2px solid var(--fill-color);\n",
              "    border-color: transparent;\n",
              "    border-bottom-color: var(--fill-color);\n",
              "    animation:\n",
              "      spin 1s steps(1) infinite;\n",
              "  }\n",
              "\n",
              "  @keyframes spin {\n",
              "    0% {\n",
              "      border-color: transparent;\n",
              "      border-bottom-color: var(--fill-color);\n",
              "      border-left-color: var(--fill-color);\n",
              "    }\n",
              "    20% {\n",
              "      border-color: transparent;\n",
              "      border-left-color: var(--fill-color);\n",
              "      border-top-color: var(--fill-color);\n",
              "    }\n",
              "    30% {\n",
              "      border-color: transparent;\n",
              "      border-left-color: var(--fill-color);\n",
              "      border-top-color: var(--fill-color);\n",
              "      border-right-color: var(--fill-color);\n",
              "    }\n",
              "    40% {\n",
              "      border-color: transparent;\n",
              "      border-right-color: var(--fill-color);\n",
              "      border-top-color: var(--fill-color);\n",
              "    }\n",
              "    60% {\n",
              "      border-color: transparent;\n",
              "      border-right-color: var(--fill-color);\n",
              "    }\n",
              "    80% {\n",
              "      border-color: transparent;\n",
              "      border-right-color: var(--fill-color);\n",
              "      border-bottom-color: var(--fill-color);\n",
              "    }\n",
              "    90% {\n",
              "      border-color: transparent;\n",
              "      border-bottom-color: var(--fill-color);\n",
              "    }\n",
              "  }\n",
              "</style>\n",
              "\n",
              "  <script>\n",
              "    async function quickchart(key) {\n",
              "      const quickchartButtonEl =\n",
              "        document.querySelector('#' + key + ' button');\n",
              "      quickchartButtonEl.disabled = true;  // To prevent multiple clicks.\n",
              "      quickchartButtonEl.classList.add('colab-df-spinner');\n",
              "      try {\n",
              "        const charts = await google.colab.kernel.invokeFunction(\n",
              "            'suggestCharts', [key], {});\n",
              "      } catch (error) {\n",
              "        console.error('Error during call to suggestCharts:', error);\n",
              "      }\n",
              "      quickchartButtonEl.classList.remove('colab-df-spinner');\n",
              "      quickchartButtonEl.classList.add('colab-df-quickchart-complete');\n",
              "    }\n",
              "    (() => {\n",
              "      let quickchartButtonEl =\n",
              "        document.querySelector('#df-a471aa57-bb9d-4b01-b188-d92da4013cca button');\n",
              "      quickchartButtonEl.style.display =\n",
              "        google.colab.kernel.accessAllowed ? 'block' : 'none';\n",
              "    })();\n",
              "  </script>\n",
              "</div>\n",
              "    </div>\n",
              "  </div>\n"
            ]
          },
          "metadata": {},
          "execution_count": 13
        }
      ]
    },
    {
      "cell_type": "markdown",
      "source": [
        "## Data selection\n",
        "\n",
        "Sometimes, we might not want to view or use the whole dataset and we want to view or select parts of data. Here are some ways for us to do."
      ],
      "metadata": {
        "id": "yRr1c2Dsk8tb"
      }
    },
    {
      "cell_type": "markdown",
      "source": [
        "You use DataFrame['column_name'] or DataFrame.column_name to select one specific column."
      ],
      "metadata": {
        "id": "pH_Du5u-lhtt"
      }
    },
    {
      "cell_type": "code",
      "source": [
        "df['crim']"
      ],
      "metadata": {
        "colab": {
          "base_uri": "https://localhost:8080/"
        },
        "id": "tqrMd7pGl7m_",
        "outputId": "4b0307f3-54df-4654-ece5-ec225b6951e4"
      },
      "execution_count": null,
      "outputs": [
        {
          "output_type": "execute_result",
          "data": {
            "text/plain": [
              "0      0.00632\n",
              "1      0.02731\n",
              "2      0.02729\n",
              "3      0.03237\n",
              "4      0.06905\n",
              "        ...   \n",
              "501    0.06263\n",
              "502    0.04527\n",
              "503    0.06076\n",
              "504    0.10959\n",
              "505    0.04741\n",
              "Name: crim, Length: 506, dtype: float64"
            ]
          },
          "metadata": {},
          "execution_count": 15
        }
      ]
    },
    {
      "cell_type": "code",
      "source": [
        "df.crim"
      ],
      "metadata": {
        "colab": {
          "base_uri": "https://localhost:8080/"
        },
        "id": "KJeTxJHul98r",
        "outputId": "8dd1109b-5dd5-4342-8e78-49ba1dcfb4a8"
      },
      "execution_count": null,
      "outputs": [
        {
          "output_type": "execute_result",
          "data": {
            "text/plain": [
              "0      0.00632\n",
              "1      0.02731\n",
              "2      0.02729\n",
              "3      0.03237\n",
              "4      0.06905\n",
              "        ...   \n",
              "501    0.06263\n",
              "502    0.04527\n",
              "503    0.06076\n",
              "504    0.10959\n",
              "505    0.04741\n",
              "Name: crim, Length: 506, dtype: float64"
            ]
          },
          "metadata": {},
          "execution_count": 16
        }
      ]
    },
    {
      "cell_type": "markdown",
      "source": [
        "We might want to select multiple columns or rows. Then we can use DataFrame.loc[ ]. Here are the examples:"
      ],
      "metadata": {
        "id": "5qRXPyGomO1X"
      }
    },
    {
      "cell_type": "code",
      "source": [
        "df.loc[:, [\"crim\", \"zn\"]] # the first \":\" means all rows and the list shows the columns that we want"
      ],
      "metadata": {
        "colab": {
          "base_uri": "https://localhost:8080/",
          "height": 424
        },
        "id": "ZwMMSx2PnnuK",
        "outputId": "20273a24-e797-47b3-8641-3ba4fe3ff123"
      },
      "execution_count": null,
      "outputs": [
        {
          "output_type": "execute_result",
          "data": {
            "text/plain": [
              "        crim    zn\n",
              "0    0.00632  18.0\n",
              "1    0.02731   0.0\n",
              "2    0.02729   0.0\n",
              "3    0.03237   0.0\n",
              "4    0.06905   0.0\n",
              "..       ...   ...\n",
              "501  0.06263   0.0\n",
              "502  0.04527   0.0\n",
              "503  0.06076   0.0\n",
              "504  0.10959   0.0\n",
              "505  0.04741   0.0\n",
              "\n",
              "[506 rows x 2 columns]"
            ],
            "text/html": [
              "\n",
              "  <div id=\"df-5baf187e-52e9-4b4a-a3b3-4aa2506e86b1\" class=\"colab-df-container\">\n",
              "    <div>\n",
              "<style scoped>\n",
              "    .dataframe tbody tr th:only-of-type {\n",
              "        vertical-align: middle;\n",
              "    }\n",
              "\n",
              "    .dataframe tbody tr th {\n",
              "        vertical-align: top;\n",
              "    }\n",
              "\n",
              "    .dataframe thead th {\n",
              "        text-align: right;\n",
              "    }\n",
              "</style>\n",
              "<table border=\"1\" class=\"dataframe\">\n",
              "  <thead>\n",
              "    <tr style=\"text-align: right;\">\n",
              "      <th></th>\n",
              "      <th>crim</th>\n",
              "      <th>zn</th>\n",
              "    </tr>\n",
              "  </thead>\n",
              "  <tbody>\n",
              "    <tr>\n",
              "      <th>0</th>\n",
              "      <td>0.00632</td>\n",
              "      <td>18.0</td>\n",
              "    </tr>\n",
              "    <tr>\n",
              "      <th>1</th>\n",
              "      <td>0.02731</td>\n",
              "      <td>0.0</td>\n",
              "    </tr>\n",
              "    <tr>\n",
              "      <th>2</th>\n",
              "      <td>0.02729</td>\n",
              "      <td>0.0</td>\n",
              "    </tr>\n",
              "    <tr>\n",
              "      <th>3</th>\n",
              "      <td>0.03237</td>\n",
              "      <td>0.0</td>\n",
              "    </tr>\n",
              "    <tr>\n",
              "      <th>4</th>\n",
              "      <td>0.06905</td>\n",
              "      <td>0.0</td>\n",
              "    </tr>\n",
              "    <tr>\n",
              "      <th>...</th>\n",
              "      <td>...</td>\n",
              "      <td>...</td>\n",
              "    </tr>\n",
              "    <tr>\n",
              "      <th>501</th>\n",
              "      <td>0.06263</td>\n",
              "      <td>0.0</td>\n",
              "    </tr>\n",
              "    <tr>\n",
              "      <th>502</th>\n",
              "      <td>0.04527</td>\n",
              "      <td>0.0</td>\n",
              "    </tr>\n",
              "    <tr>\n",
              "      <th>503</th>\n",
              "      <td>0.06076</td>\n",
              "      <td>0.0</td>\n",
              "    </tr>\n",
              "    <tr>\n",
              "      <th>504</th>\n",
              "      <td>0.10959</td>\n",
              "      <td>0.0</td>\n",
              "    </tr>\n",
              "    <tr>\n",
              "      <th>505</th>\n",
              "      <td>0.04741</td>\n",
              "      <td>0.0</td>\n",
              "    </tr>\n",
              "  </tbody>\n",
              "</table>\n",
              "<p>506 rows × 2 columns</p>\n",
              "</div>\n",
              "    <div class=\"colab-df-buttons\">\n",
              "\n",
              "  <div class=\"colab-df-container\">\n",
              "    <button class=\"colab-df-convert\" onclick=\"convertToInteractive('df-5baf187e-52e9-4b4a-a3b3-4aa2506e86b1')\"\n",
              "            title=\"Convert this dataframe to an interactive table.\"\n",
              "            style=\"display:none;\">\n",
              "\n",
              "  <svg xmlns=\"http://www.w3.org/2000/svg\" height=\"24px\" viewBox=\"0 -960 960 960\">\n",
              "    <path d=\"M120-120v-720h720v720H120Zm60-500h600v-160H180v160Zm220 220h160v-160H400v160Zm0 220h160v-160H400v160ZM180-400h160v-160H180v160Zm440 0h160v-160H620v160ZM180-180h160v-160H180v160Zm440 0h160v-160H620v160Z\"/>\n",
              "  </svg>\n",
              "    </button>\n",
              "\n",
              "  <style>\n",
              "    .colab-df-container {\n",
              "      display:flex;\n",
              "      gap: 12px;\n",
              "    }\n",
              "\n",
              "    .colab-df-convert {\n",
              "      background-color: #E8F0FE;\n",
              "      border: none;\n",
              "      border-radius: 50%;\n",
              "      cursor: pointer;\n",
              "      display: none;\n",
              "      fill: #1967D2;\n",
              "      height: 32px;\n",
              "      padding: 0 0 0 0;\n",
              "      width: 32px;\n",
              "    }\n",
              "\n",
              "    .colab-df-convert:hover {\n",
              "      background-color: #E2EBFA;\n",
              "      box-shadow: 0px 1px 2px rgba(60, 64, 67, 0.3), 0px 1px 3px 1px rgba(60, 64, 67, 0.15);\n",
              "      fill: #174EA6;\n",
              "    }\n",
              "\n",
              "    .colab-df-buttons div {\n",
              "      margin-bottom: 4px;\n",
              "    }\n",
              "\n",
              "    [theme=dark] .colab-df-convert {\n",
              "      background-color: #3B4455;\n",
              "      fill: #D2E3FC;\n",
              "    }\n",
              "\n",
              "    [theme=dark] .colab-df-convert:hover {\n",
              "      background-color: #434B5C;\n",
              "      box-shadow: 0px 1px 3px 1px rgba(0, 0, 0, 0.15);\n",
              "      filter: drop-shadow(0px 1px 2px rgba(0, 0, 0, 0.3));\n",
              "      fill: #FFFFFF;\n",
              "    }\n",
              "  </style>\n",
              "\n",
              "    <script>\n",
              "      const buttonEl =\n",
              "        document.querySelector('#df-5baf187e-52e9-4b4a-a3b3-4aa2506e86b1 button.colab-df-convert');\n",
              "      buttonEl.style.display =\n",
              "        google.colab.kernel.accessAllowed ? 'block' : 'none';\n",
              "\n",
              "      async function convertToInteractive(key) {\n",
              "        const element = document.querySelector('#df-5baf187e-52e9-4b4a-a3b3-4aa2506e86b1');\n",
              "        const dataTable =\n",
              "          await google.colab.kernel.invokeFunction('convertToInteractive',\n",
              "                                                    [key], {});\n",
              "        if (!dataTable) return;\n",
              "\n",
              "        const docLinkHtml = 'Like what you see? Visit the ' +\n",
              "          '<a target=\"_blank\" href=https://colab.research.google.com/notebooks/data_table.ipynb>data table notebook</a>'\n",
              "          + ' to learn more about interactive tables.';\n",
              "        element.innerHTML = '';\n",
              "        dataTable['output_type'] = 'display_data';\n",
              "        await google.colab.output.renderOutput(dataTable, element);\n",
              "        const docLink = document.createElement('div');\n",
              "        docLink.innerHTML = docLinkHtml;\n",
              "        element.appendChild(docLink);\n",
              "      }\n",
              "    </script>\n",
              "  </div>\n",
              "\n",
              "\n",
              "<div id=\"df-1d609d61-b79d-4914-97ae-5305e77073bd\">\n",
              "  <button class=\"colab-df-quickchart\" onclick=\"quickchart('df-1d609d61-b79d-4914-97ae-5305e77073bd')\"\n",
              "            title=\"Suggest charts\"\n",
              "            style=\"display:none;\">\n",
              "\n",
              "<svg xmlns=\"http://www.w3.org/2000/svg\" height=\"24px\"viewBox=\"0 0 24 24\"\n",
              "     width=\"24px\">\n",
              "    <g>\n",
              "        <path d=\"M19 3H5c-1.1 0-2 .9-2 2v14c0 1.1.9 2 2 2h14c1.1 0 2-.9 2-2V5c0-1.1-.9-2-2-2zM9 17H7v-7h2v7zm4 0h-2V7h2v10zm4 0h-2v-4h2v4z\"/>\n",
              "    </g>\n",
              "</svg>\n",
              "  </button>\n",
              "\n",
              "<style>\n",
              "  .colab-df-quickchart {\n",
              "      --bg-color: #E8F0FE;\n",
              "      --fill-color: #1967D2;\n",
              "      --hover-bg-color: #E2EBFA;\n",
              "      --hover-fill-color: #174EA6;\n",
              "      --disabled-fill-color: #AAA;\n",
              "      --disabled-bg-color: #DDD;\n",
              "  }\n",
              "\n",
              "  [theme=dark] .colab-df-quickchart {\n",
              "      --bg-color: #3B4455;\n",
              "      --fill-color: #D2E3FC;\n",
              "      --hover-bg-color: #434B5C;\n",
              "      --hover-fill-color: #FFFFFF;\n",
              "      --disabled-bg-color: #3B4455;\n",
              "      --disabled-fill-color: #666;\n",
              "  }\n",
              "\n",
              "  .colab-df-quickchart {\n",
              "    background-color: var(--bg-color);\n",
              "    border: none;\n",
              "    border-radius: 50%;\n",
              "    cursor: pointer;\n",
              "    display: none;\n",
              "    fill: var(--fill-color);\n",
              "    height: 32px;\n",
              "    padding: 0;\n",
              "    width: 32px;\n",
              "  }\n",
              "\n",
              "  .colab-df-quickchart:hover {\n",
              "    background-color: var(--hover-bg-color);\n",
              "    box-shadow: 0 1px 2px rgba(60, 64, 67, 0.3), 0 1px 3px 1px rgba(60, 64, 67, 0.15);\n",
              "    fill: var(--button-hover-fill-color);\n",
              "  }\n",
              "\n",
              "  .colab-df-quickchart-complete:disabled,\n",
              "  .colab-df-quickchart-complete:disabled:hover {\n",
              "    background-color: var(--disabled-bg-color);\n",
              "    fill: var(--disabled-fill-color);\n",
              "    box-shadow: none;\n",
              "  }\n",
              "\n",
              "  .colab-df-spinner {\n",
              "    border: 2px solid var(--fill-color);\n",
              "    border-color: transparent;\n",
              "    border-bottom-color: var(--fill-color);\n",
              "    animation:\n",
              "      spin 1s steps(1) infinite;\n",
              "  }\n",
              "\n",
              "  @keyframes spin {\n",
              "    0% {\n",
              "      border-color: transparent;\n",
              "      border-bottom-color: var(--fill-color);\n",
              "      border-left-color: var(--fill-color);\n",
              "    }\n",
              "    20% {\n",
              "      border-color: transparent;\n",
              "      border-left-color: var(--fill-color);\n",
              "      border-top-color: var(--fill-color);\n",
              "    }\n",
              "    30% {\n",
              "      border-color: transparent;\n",
              "      border-left-color: var(--fill-color);\n",
              "      border-top-color: var(--fill-color);\n",
              "      border-right-color: var(--fill-color);\n",
              "    }\n",
              "    40% {\n",
              "      border-color: transparent;\n",
              "      border-right-color: var(--fill-color);\n",
              "      border-top-color: var(--fill-color);\n",
              "    }\n",
              "    60% {\n",
              "      border-color: transparent;\n",
              "      border-right-color: var(--fill-color);\n",
              "    }\n",
              "    80% {\n",
              "      border-color: transparent;\n",
              "      border-right-color: var(--fill-color);\n",
              "      border-bottom-color: var(--fill-color);\n",
              "    }\n",
              "    90% {\n",
              "      border-color: transparent;\n",
              "      border-bottom-color: var(--fill-color);\n",
              "    }\n",
              "  }\n",
              "</style>\n",
              "\n",
              "  <script>\n",
              "    async function quickchart(key) {\n",
              "      const quickchartButtonEl =\n",
              "        document.querySelector('#' + key + ' button');\n",
              "      quickchartButtonEl.disabled = true;  // To prevent multiple clicks.\n",
              "      quickchartButtonEl.classList.add('colab-df-spinner');\n",
              "      try {\n",
              "        const charts = await google.colab.kernel.invokeFunction(\n",
              "            'suggestCharts', [key], {});\n",
              "      } catch (error) {\n",
              "        console.error('Error during call to suggestCharts:', error);\n",
              "      }\n",
              "      quickchartButtonEl.classList.remove('colab-df-spinner');\n",
              "      quickchartButtonEl.classList.add('colab-df-quickchart-complete');\n",
              "    }\n",
              "    (() => {\n",
              "      let quickchartButtonEl =\n",
              "        document.querySelector('#df-1d609d61-b79d-4914-97ae-5305e77073bd button');\n",
              "      quickchartButtonEl.style.display =\n",
              "        google.colab.kernel.accessAllowed ? 'block' : 'none';\n",
              "    })();\n",
              "  </script>\n",
              "</div>\n",
              "    </div>\n",
              "  </div>\n"
            ]
          },
          "metadata": {},
          "execution_count": 19
        }
      ]
    },
    {
      "cell_type": "code",
      "source": [
        "df.loc[0, [\"crim\", \"zn\"]] # here we put 0 to only return the row 0 (0 is the index number) data from column crim and zn"
      ],
      "metadata": {
        "colab": {
          "base_uri": "https://localhost:8080/"
        },
        "id": "ySt8H1cOoZun",
        "outputId": "517d59f1-1966-4e79-b4b2-6bec5ec2f185"
      },
      "execution_count": null,
      "outputs": [
        {
          "output_type": "execute_result",
          "data": {
            "text/plain": [
              "crim     0.00632\n",
              "zn      18.00000\n",
              "Name: 0, dtype: float64"
            ]
          },
          "metadata": {},
          "execution_count": 20
        }
      ]
    },
    {
      "cell_type": "markdown",
      "source": [
        "We can also select data by positions by using DataFrame.iloc[ ]:"
      ],
      "metadata": {
        "id": "UejnWgDtnyiS"
      }
    },
    {
      "cell_type": "code",
      "source": [
        "df.iloc[0:3] # so we are returning the first three rows but with all columns"
      ],
      "metadata": {
        "colab": {
          "base_uri": "https://localhost:8080/",
          "height": 143
        },
        "id": "mxkromg6o4AE",
        "outputId": "e402a390-12f4-41e4-a22c-62485910126c"
      },
      "execution_count": null,
      "outputs": [
        {
          "output_type": "execute_result",
          "data": {
            "text/plain": [
              "      crim    zn  indus  chas    nox     rm   age     dis  rad  tax  ptratio  \\\n",
              "0  0.00632  18.0   2.31     0  0.538  6.575  65.2  4.0900    1  296     15.3   \n",
              "1  0.02731   0.0   7.07     0  0.469  6.421  78.9  4.9671    2  242     17.8   \n",
              "2  0.02729   0.0   7.07     0  0.469  7.185  61.1  4.9671    2  242     17.8   \n",
              "\n",
              "        b  lstat  medv  \n",
              "0  396.90   4.98  24.0  \n",
              "1  396.90   9.14  21.6  \n",
              "2  392.83   4.03  34.7  "
            ],
            "text/html": [
              "\n",
              "  <div id=\"df-ac34fe92-2cd0-4abc-939a-9aa27ede03d4\" class=\"colab-df-container\">\n",
              "    <div>\n",
              "<style scoped>\n",
              "    .dataframe tbody tr th:only-of-type {\n",
              "        vertical-align: middle;\n",
              "    }\n",
              "\n",
              "    .dataframe tbody tr th {\n",
              "        vertical-align: top;\n",
              "    }\n",
              "\n",
              "    .dataframe thead th {\n",
              "        text-align: right;\n",
              "    }\n",
              "</style>\n",
              "<table border=\"1\" class=\"dataframe\">\n",
              "  <thead>\n",
              "    <tr style=\"text-align: right;\">\n",
              "      <th></th>\n",
              "      <th>crim</th>\n",
              "      <th>zn</th>\n",
              "      <th>indus</th>\n",
              "      <th>chas</th>\n",
              "      <th>nox</th>\n",
              "      <th>rm</th>\n",
              "      <th>age</th>\n",
              "      <th>dis</th>\n",
              "      <th>rad</th>\n",
              "      <th>tax</th>\n",
              "      <th>ptratio</th>\n",
              "      <th>b</th>\n",
              "      <th>lstat</th>\n",
              "      <th>medv</th>\n",
              "    </tr>\n",
              "  </thead>\n",
              "  <tbody>\n",
              "    <tr>\n",
              "      <th>0</th>\n",
              "      <td>0.00632</td>\n",
              "      <td>18.0</td>\n",
              "      <td>2.31</td>\n",
              "      <td>0</td>\n",
              "      <td>0.538</td>\n",
              "      <td>6.575</td>\n",
              "      <td>65.2</td>\n",
              "      <td>4.0900</td>\n",
              "      <td>1</td>\n",
              "      <td>296</td>\n",
              "      <td>15.3</td>\n",
              "      <td>396.90</td>\n",
              "      <td>4.98</td>\n",
              "      <td>24.0</td>\n",
              "    </tr>\n",
              "    <tr>\n",
              "      <th>1</th>\n",
              "      <td>0.02731</td>\n",
              "      <td>0.0</td>\n",
              "      <td>7.07</td>\n",
              "      <td>0</td>\n",
              "      <td>0.469</td>\n",
              "      <td>6.421</td>\n",
              "      <td>78.9</td>\n",
              "      <td>4.9671</td>\n",
              "      <td>2</td>\n",
              "      <td>242</td>\n",
              "      <td>17.8</td>\n",
              "      <td>396.90</td>\n",
              "      <td>9.14</td>\n",
              "      <td>21.6</td>\n",
              "    </tr>\n",
              "    <tr>\n",
              "      <th>2</th>\n",
              "      <td>0.02729</td>\n",
              "      <td>0.0</td>\n",
              "      <td>7.07</td>\n",
              "      <td>0</td>\n",
              "      <td>0.469</td>\n",
              "      <td>7.185</td>\n",
              "      <td>61.1</td>\n",
              "      <td>4.9671</td>\n",
              "      <td>2</td>\n",
              "      <td>242</td>\n",
              "      <td>17.8</td>\n",
              "      <td>392.83</td>\n",
              "      <td>4.03</td>\n",
              "      <td>34.7</td>\n",
              "    </tr>\n",
              "  </tbody>\n",
              "</table>\n",
              "</div>\n",
              "    <div class=\"colab-df-buttons\">\n",
              "\n",
              "  <div class=\"colab-df-container\">\n",
              "    <button class=\"colab-df-convert\" onclick=\"convertToInteractive('df-ac34fe92-2cd0-4abc-939a-9aa27ede03d4')\"\n",
              "            title=\"Convert this dataframe to an interactive table.\"\n",
              "            style=\"display:none;\">\n",
              "\n",
              "  <svg xmlns=\"http://www.w3.org/2000/svg\" height=\"24px\" viewBox=\"0 -960 960 960\">\n",
              "    <path d=\"M120-120v-720h720v720H120Zm60-500h600v-160H180v160Zm220 220h160v-160H400v160Zm0 220h160v-160H400v160ZM180-400h160v-160H180v160Zm440 0h160v-160H620v160ZM180-180h160v-160H180v160Zm440 0h160v-160H620v160Z\"/>\n",
              "  </svg>\n",
              "    </button>\n",
              "\n",
              "  <style>\n",
              "    .colab-df-container {\n",
              "      display:flex;\n",
              "      gap: 12px;\n",
              "    }\n",
              "\n",
              "    .colab-df-convert {\n",
              "      background-color: #E8F0FE;\n",
              "      border: none;\n",
              "      border-radius: 50%;\n",
              "      cursor: pointer;\n",
              "      display: none;\n",
              "      fill: #1967D2;\n",
              "      height: 32px;\n",
              "      padding: 0 0 0 0;\n",
              "      width: 32px;\n",
              "    }\n",
              "\n",
              "    .colab-df-convert:hover {\n",
              "      background-color: #E2EBFA;\n",
              "      box-shadow: 0px 1px 2px rgba(60, 64, 67, 0.3), 0px 1px 3px 1px rgba(60, 64, 67, 0.15);\n",
              "      fill: #174EA6;\n",
              "    }\n",
              "\n",
              "    .colab-df-buttons div {\n",
              "      margin-bottom: 4px;\n",
              "    }\n",
              "\n",
              "    [theme=dark] .colab-df-convert {\n",
              "      background-color: #3B4455;\n",
              "      fill: #D2E3FC;\n",
              "    }\n",
              "\n",
              "    [theme=dark] .colab-df-convert:hover {\n",
              "      background-color: #434B5C;\n",
              "      box-shadow: 0px 1px 3px 1px rgba(0, 0, 0, 0.15);\n",
              "      filter: drop-shadow(0px 1px 2px rgba(0, 0, 0, 0.3));\n",
              "      fill: #FFFFFF;\n",
              "    }\n",
              "  </style>\n",
              "\n",
              "    <script>\n",
              "      const buttonEl =\n",
              "        document.querySelector('#df-ac34fe92-2cd0-4abc-939a-9aa27ede03d4 button.colab-df-convert');\n",
              "      buttonEl.style.display =\n",
              "        google.colab.kernel.accessAllowed ? 'block' : 'none';\n",
              "\n",
              "      async function convertToInteractive(key) {\n",
              "        const element = document.querySelector('#df-ac34fe92-2cd0-4abc-939a-9aa27ede03d4');\n",
              "        const dataTable =\n",
              "          await google.colab.kernel.invokeFunction('convertToInteractive',\n",
              "                                                    [key], {});\n",
              "        if (!dataTable) return;\n",
              "\n",
              "        const docLinkHtml = 'Like what you see? Visit the ' +\n",
              "          '<a target=\"_blank\" href=https://colab.research.google.com/notebooks/data_table.ipynb>data table notebook</a>'\n",
              "          + ' to learn more about interactive tables.';\n",
              "        element.innerHTML = '';\n",
              "        dataTable['output_type'] = 'display_data';\n",
              "        await google.colab.output.renderOutput(dataTable, element);\n",
              "        const docLink = document.createElement('div');\n",
              "        docLink.innerHTML = docLinkHtml;\n",
              "        element.appendChild(docLink);\n",
              "      }\n",
              "    </script>\n",
              "  </div>\n",
              "\n",
              "\n",
              "<div id=\"df-8fdd681c-a8bf-4f11-98d5-56a41be180c8\">\n",
              "  <button class=\"colab-df-quickchart\" onclick=\"quickchart('df-8fdd681c-a8bf-4f11-98d5-56a41be180c8')\"\n",
              "            title=\"Suggest charts\"\n",
              "            style=\"display:none;\">\n",
              "\n",
              "<svg xmlns=\"http://www.w3.org/2000/svg\" height=\"24px\"viewBox=\"0 0 24 24\"\n",
              "     width=\"24px\">\n",
              "    <g>\n",
              "        <path d=\"M19 3H5c-1.1 0-2 .9-2 2v14c0 1.1.9 2 2 2h14c1.1 0 2-.9 2-2V5c0-1.1-.9-2-2-2zM9 17H7v-7h2v7zm4 0h-2V7h2v10zm4 0h-2v-4h2v4z\"/>\n",
              "    </g>\n",
              "</svg>\n",
              "  </button>\n",
              "\n",
              "<style>\n",
              "  .colab-df-quickchart {\n",
              "      --bg-color: #E8F0FE;\n",
              "      --fill-color: #1967D2;\n",
              "      --hover-bg-color: #E2EBFA;\n",
              "      --hover-fill-color: #174EA6;\n",
              "      --disabled-fill-color: #AAA;\n",
              "      --disabled-bg-color: #DDD;\n",
              "  }\n",
              "\n",
              "  [theme=dark] .colab-df-quickchart {\n",
              "      --bg-color: #3B4455;\n",
              "      --fill-color: #D2E3FC;\n",
              "      --hover-bg-color: #434B5C;\n",
              "      --hover-fill-color: #FFFFFF;\n",
              "      --disabled-bg-color: #3B4455;\n",
              "      --disabled-fill-color: #666;\n",
              "  }\n",
              "\n",
              "  .colab-df-quickchart {\n",
              "    background-color: var(--bg-color);\n",
              "    border: none;\n",
              "    border-radius: 50%;\n",
              "    cursor: pointer;\n",
              "    display: none;\n",
              "    fill: var(--fill-color);\n",
              "    height: 32px;\n",
              "    padding: 0;\n",
              "    width: 32px;\n",
              "  }\n",
              "\n",
              "  .colab-df-quickchart:hover {\n",
              "    background-color: var(--hover-bg-color);\n",
              "    box-shadow: 0 1px 2px rgba(60, 64, 67, 0.3), 0 1px 3px 1px rgba(60, 64, 67, 0.15);\n",
              "    fill: var(--button-hover-fill-color);\n",
              "  }\n",
              "\n",
              "  .colab-df-quickchart-complete:disabled,\n",
              "  .colab-df-quickchart-complete:disabled:hover {\n",
              "    background-color: var(--disabled-bg-color);\n",
              "    fill: var(--disabled-fill-color);\n",
              "    box-shadow: none;\n",
              "  }\n",
              "\n",
              "  .colab-df-spinner {\n",
              "    border: 2px solid var(--fill-color);\n",
              "    border-color: transparent;\n",
              "    border-bottom-color: var(--fill-color);\n",
              "    animation:\n",
              "      spin 1s steps(1) infinite;\n",
              "  }\n",
              "\n",
              "  @keyframes spin {\n",
              "    0% {\n",
              "      border-color: transparent;\n",
              "      border-bottom-color: var(--fill-color);\n",
              "      border-left-color: var(--fill-color);\n",
              "    }\n",
              "    20% {\n",
              "      border-color: transparent;\n",
              "      border-left-color: var(--fill-color);\n",
              "      border-top-color: var(--fill-color);\n",
              "    }\n",
              "    30% {\n",
              "      border-color: transparent;\n",
              "      border-left-color: var(--fill-color);\n",
              "      border-top-color: var(--fill-color);\n",
              "      border-right-color: var(--fill-color);\n",
              "    }\n",
              "    40% {\n",
              "      border-color: transparent;\n",
              "      border-right-color: var(--fill-color);\n",
              "      border-top-color: var(--fill-color);\n",
              "    }\n",
              "    60% {\n",
              "      border-color: transparent;\n",
              "      border-right-color: var(--fill-color);\n",
              "    }\n",
              "    80% {\n",
              "      border-color: transparent;\n",
              "      border-right-color: var(--fill-color);\n",
              "      border-bottom-color: var(--fill-color);\n",
              "    }\n",
              "    90% {\n",
              "      border-color: transparent;\n",
              "      border-bottom-color: var(--fill-color);\n",
              "    }\n",
              "  }\n",
              "</style>\n",
              "\n",
              "  <script>\n",
              "    async function quickchart(key) {\n",
              "      const quickchartButtonEl =\n",
              "        document.querySelector('#' + key + ' button');\n",
              "      quickchartButtonEl.disabled = true;  // To prevent multiple clicks.\n",
              "      quickchartButtonEl.classList.add('colab-df-spinner');\n",
              "      try {\n",
              "        const charts = await google.colab.kernel.invokeFunction(\n",
              "            'suggestCharts', [key], {});\n",
              "      } catch (error) {\n",
              "        console.error('Error during call to suggestCharts:', error);\n",
              "      }\n",
              "      quickchartButtonEl.classList.remove('colab-df-spinner');\n",
              "      quickchartButtonEl.classList.add('colab-df-quickchart-complete');\n",
              "    }\n",
              "    (() => {\n",
              "      let quickchartButtonEl =\n",
              "        document.querySelector('#df-8fdd681c-a8bf-4f11-98d5-56a41be180c8 button');\n",
              "      quickchartButtonEl.style.display =\n",
              "        google.colab.kernel.accessAllowed ? 'block' : 'none';\n",
              "    })();\n",
              "  </script>\n",
              "</div>\n",
              "    </div>\n",
              "  </div>\n"
            ]
          },
          "metadata": {},
          "execution_count": 21
        }
      ]
    },
    {
      "cell_type": "code",
      "source": [
        "df.iloc[0:3, 0:2] # and here we are getting the first three rows and the first second columns"
      ],
      "metadata": {
        "colab": {
          "base_uri": "https://localhost:8080/",
          "height": 143
        },
        "id": "e86vE1AEo358",
        "outputId": "67ddc361-77d9-4cb3-a9cc-bf64be02f459"
      },
      "execution_count": null,
      "outputs": [
        {
          "output_type": "execute_result",
          "data": {
            "text/plain": [
              "      crim    zn\n",
              "0  0.00632  18.0\n",
              "1  0.02731   0.0\n",
              "2  0.02729   0.0"
            ],
            "text/html": [
              "\n",
              "  <div id=\"df-cd69d5c4-fc06-4a01-b9ed-35fea5e627c4\" class=\"colab-df-container\">\n",
              "    <div>\n",
              "<style scoped>\n",
              "    .dataframe tbody tr th:only-of-type {\n",
              "        vertical-align: middle;\n",
              "    }\n",
              "\n",
              "    .dataframe tbody tr th {\n",
              "        vertical-align: top;\n",
              "    }\n",
              "\n",
              "    .dataframe thead th {\n",
              "        text-align: right;\n",
              "    }\n",
              "</style>\n",
              "<table border=\"1\" class=\"dataframe\">\n",
              "  <thead>\n",
              "    <tr style=\"text-align: right;\">\n",
              "      <th></th>\n",
              "      <th>crim</th>\n",
              "      <th>zn</th>\n",
              "    </tr>\n",
              "  </thead>\n",
              "  <tbody>\n",
              "    <tr>\n",
              "      <th>0</th>\n",
              "      <td>0.00632</td>\n",
              "      <td>18.0</td>\n",
              "    </tr>\n",
              "    <tr>\n",
              "      <th>1</th>\n",
              "      <td>0.02731</td>\n",
              "      <td>0.0</td>\n",
              "    </tr>\n",
              "    <tr>\n",
              "      <th>2</th>\n",
              "      <td>0.02729</td>\n",
              "      <td>0.0</td>\n",
              "    </tr>\n",
              "  </tbody>\n",
              "</table>\n",
              "</div>\n",
              "    <div class=\"colab-df-buttons\">\n",
              "\n",
              "  <div class=\"colab-df-container\">\n",
              "    <button class=\"colab-df-convert\" onclick=\"convertToInteractive('df-cd69d5c4-fc06-4a01-b9ed-35fea5e627c4')\"\n",
              "            title=\"Convert this dataframe to an interactive table.\"\n",
              "            style=\"display:none;\">\n",
              "\n",
              "  <svg xmlns=\"http://www.w3.org/2000/svg\" height=\"24px\" viewBox=\"0 -960 960 960\">\n",
              "    <path d=\"M120-120v-720h720v720H120Zm60-500h600v-160H180v160Zm220 220h160v-160H400v160Zm0 220h160v-160H400v160ZM180-400h160v-160H180v160Zm440 0h160v-160H620v160ZM180-180h160v-160H180v160Zm440 0h160v-160H620v160Z\"/>\n",
              "  </svg>\n",
              "    </button>\n",
              "\n",
              "  <style>\n",
              "    .colab-df-container {\n",
              "      display:flex;\n",
              "      gap: 12px;\n",
              "    }\n",
              "\n",
              "    .colab-df-convert {\n",
              "      background-color: #E8F0FE;\n",
              "      border: none;\n",
              "      border-radius: 50%;\n",
              "      cursor: pointer;\n",
              "      display: none;\n",
              "      fill: #1967D2;\n",
              "      height: 32px;\n",
              "      padding: 0 0 0 0;\n",
              "      width: 32px;\n",
              "    }\n",
              "\n",
              "    .colab-df-convert:hover {\n",
              "      background-color: #E2EBFA;\n",
              "      box-shadow: 0px 1px 2px rgba(60, 64, 67, 0.3), 0px 1px 3px 1px rgba(60, 64, 67, 0.15);\n",
              "      fill: #174EA6;\n",
              "    }\n",
              "\n",
              "    .colab-df-buttons div {\n",
              "      margin-bottom: 4px;\n",
              "    }\n",
              "\n",
              "    [theme=dark] .colab-df-convert {\n",
              "      background-color: #3B4455;\n",
              "      fill: #D2E3FC;\n",
              "    }\n",
              "\n",
              "    [theme=dark] .colab-df-convert:hover {\n",
              "      background-color: #434B5C;\n",
              "      box-shadow: 0px 1px 3px 1px rgba(0, 0, 0, 0.15);\n",
              "      filter: drop-shadow(0px 1px 2px rgba(0, 0, 0, 0.3));\n",
              "      fill: #FFFFFF;\n",
              "    }\n",
              "  </style>\n",
              "\n",
              "    <script>\n",
              "      const buttonEl =\n",
              "        document.querySelector('#df-cd69d5c4-fc06-4a01-b9ed-35fea5e627c4 button.colab-df-convert');\n",
              "      buttonEl.style.display =\n",
              "        google.colab.kernel.accessAllowed ? 'block' : 'none';\n",
              "\n",
              "      async function convertToInteractive(key) {\n",
              "        const element = document.querySelector('#df-cd69d5c4-fc06-4a01-b9ed-35fea5e627c4');\n",
              "        const dataTable =\n",
              "          await google.colab.kernel.invokeFunction('convertToInteractive',\n",
              "                                                    [key], {});\n",
              "        if (!dataTable) return;\n",
              "\n",
              "        const docLinkHtml = 'Like what you see? Visit the ' +\n",
              "          '<a target=\"_blank\" href=https://colab.research.google.com/notebooks/data_table.ipynb>data table notebook</a>'\n",
              "          + ' to learn more about interactive tables.';\n",
              "        element.innerHTML = '';\n",
              "        dataTable['output_type'] = 'display_data';\n",
              "        await google.colab.output.renderOutput(dataTable, element);\n",
              "        const docLink = document.createElement('div');\n",
              "        docLink.innerHTML = docLinkHtml;\n",
              "        element.appendChild(docLink);\n",
              "      }\n",
              "    </script>\n",
              "  </div>\n",
              "\n",
              "\n",
              "<div id=\"df-cc0cd2d4-1e5e-4af3-a047-ee905bc6b485\">\n",
              "  <button class=\"colab-df-quickchart\" onclick=\"quickchart('df-cc0cd2d4-1e5e-4af3-a047-ee905bc6b485')\"\n",
              "            title=\"Suggest charts\"\n",
              "            style=\"display:none;\">\n",
              "\n",
              "<svg xmlns=\"http://www.w3.org/2000/svg\" height=\"24px\"viewBox=\"0 0 24 24\"\n",
              "     width=\"24px\">\n",
              "    <g>\n",
              "        <path d=\"M19 3H5c-1.1 0-2 .9-2 2v14c0 1.1.9 2 2 2h14c1.1 0 2-.9 2-2V5c0-1.1-.9-2-2-2zM9 17H7v-7h2v7zm4 0h-2V7h2v10zm4 0h-2v-4h2v4z\"/>\n",
              "    </g>\n",
              "</svg>\n",
              "  </button>\n",
              "\n",
              "<style>\n",
              "  .colab-df-quickchart {\n",
              "      --bg-color: #E8F0FE;\n",
              "      --fill-color: #1967D2;\n",
              "      --hover-bg-color: #E2EBFA;\n",
              "      --hover-fill-color: #174EA6;\n",
              "      --disabled-fill-color: #AAA;\n",
              "      --disabled-bg-color: #DDD;\n",
              "  }\n",
              "\n",
              "  [theme=dark] .colab-df-quickchart {\n",
              "      --bg-color: #3B4455;\n",
              "      --fill-color: #D2E3FC;\n",
              "      --hover-bg-color: #434B5C;\n",
              "      --hover-fill-color: #FFFFFF;\n",
              "      --disabled-bg-color: #3B4455;\n",
              "      --disabled-fill-color: #666;\n",
              "  }\n",
              "\n",
              "  .colab-df-quickchart {\n",
              "    background-color: var(--bg-color);\n",
              "    border: none;\n",
              "    border-radius: 50%;\n",
              "    cursor: pointer;\n",
              "    display: none;\n",
              "    fill: var(--fill-color);\n",
              "    height: 32px;\n",
              "    padding: 0;\n",
              "    width: 32px;\n",
              "  }\n",
              "\n",
              "  .colab-df-quickchart:hover {\n",
              "    background-color: var(--hover-bg-color);\n",
              "    box-shadow: 0 1px 2px rgba(60, 64, 67, 0.3), 0 1px 3px 1px rgba(60, 64, 67, 0.15);\n",
              "    fill: var(--button-hover-fill-color);\n",
              "  }\n",
              "\n",
              "  .colab-df-quickchart-complete:disabled,\n",
              "  .colab-df-quickchart-complete:disabled:hover {\n",
              "    background-color: var(--disabled-bg-color);\n",
              "    fill: var(--disabled-fill-color);\n",
              "    box-shadow: none;\n",
              "  }\n",
              "\n",
              "  .colab-df-spinner {\n",
              "    border: 2px solid var(--fill-color);\n",
              "    border-color: transparent;\n",
              "    border-bottom-color: var(--fill-color);\n",
              "    animation:\n",
              "      spin 1s steps(1) infinite;\n",
              "  }\n",
              "\n",
              "  @keyframes spin {\n",
              "    0% {\n",
              "      border-color: transparent;\n",
              "      border-bottom-color: var(--fill-color);\n",
              "      border-left-color: var(--fill-color);\n",
              "    }\n",
              "    20% {\n",
              "      border-color: transparent;\n",
              "      border-left-color: var(--fill-color);\n",
              "      border-top-color: var(--fill-color);\n",
              "    }\n",
              "    30% {\n",
              "      border-color: transparent;\n",
              "      border-left-color: var(--fill-color);\n",
              "      border-top-color: var(--fill-color);\n",
              "      border-right-color: var(--fill-color);\n",
              "    }\n",
              "    40% {\n",
              "      border-color: transparent;\n",
              "      border-right-color: var(--fill-color);\n",
              "      border-top-color: var(--fill-color);\n",
              "    }\n",
              "    60% {\n",
              "      border-color: transparent;\n",
              "      border-right-color: var(--fill-color);\n",
              "    }\n",
              "    80% {\n",
              "      border-color: transparent;\n",
              "      border-right-color: var(--fill-color);\n",
              "      border-bottom-color: var(--fill-color);\n",
              "    }\n",
              "    90% {\n",
              "      border-color: transparent;\n",
              "      border-bottom-color: var(--fill-color);\n",
              "    }\n",
              "  }\n",
              "</style>\n",
              "\n",
              "  <script>\n",
              "    async function quickchart(key) {\n",
              "      const quickchartButtonEl =\n",
              "        document.querySelector('#' + key + ' button');\n",
              "      quickchartButtonEl.disabled = true;  // To prevent multiple clicks.\n",
              "      quickchartButtonEl.classList.add('colab-df-spinner');\n",
              "      try {\n",
              "        const charts = await google.colab.kernel.invokeFunction(\n",
              "            'suggestCharts', [key], {});\n",
              "      } catch (error) {\n",
              "        console.error('Error during call to suggestCharts:', error);\n",
              "      }\n",
              "      quickchartButtonEl.classList.remove('colab-df-spinner');\n",
              "      quickchartButtonEl.classList.add('colab-df-quickchart-complete');\n",
              "    }\n",
              "    (() => {\n",
              "      let quickchartButtonEl =\n",
              "        document.querySelector('#df-cc0cd2d4-1e5e-4af3-a047-ee905bc6b485 button');\n",
              "      quickchartButtonEl.style.display =\n",
              "        google.colab.kernel.accessAllowed ? 'block' : 'none';\n",
              "    })();\n",
              "  </script>\n",
              "</div>\n",
              "    </div>\n",
              "  </div>\n"
            ]
          },
          "metadata": {},
          "execution_count": 22
        }
      ]
    },
    {
      "cell_type": "code",
      "source": [
        "df.iloc[:,3:] # here we are getting all rows and data starting from the third column"
      ],
      "metadata": {
        "colab": {
          "base_uri": "https://localhost:8080/",
          "height": 424
        },
        "id": "f2jwu3gmnxAl",
        "outputId": "b0767922-5e16-41c8-cfe5-555dfb4e8398"
      },
      "execution_count": null,
      "outputs": [
        {
          "output_type": "execute_result",
          "data": {
            "text/plain": [
              "     chas    nox     rm   age     dis  rad  tax  ptratio       b  lstat  medv\n",
              "0       0  0.538  6.575  65.2  4.0900    1  296     15.3  396.90   4.98  24.0\n",
              "1       0  0.469  6.421  78.9  4.9671    2  242     17.8  396.90   9.14  21.6\n",
              "2       0  0.469  7.185  61.1  4.9671    2  242     17.8  392.83   4.03  34.7\n",
              "3       0  0.458  6.998  45.8  6.0622    3  222     18.7  394.63   2.94  33.4\n",
              "4       0  0.458  7.147  54.2  6.0622    3  222     18.7  396.90   5.33  36.2\n",
              "..    ...    ...    ...   ...     ...  ...  ...      ...     ...    ...   ...\n",
              "501     0  0.573  6.593  69.1  2.4786    1  273     21.0  391.99   9.67  22.4\n",
              "502     0  0.573  6.120  76.7  2.2875    1  273     21.0  396.90   9.08  20.6\n",
              "503     0  0.573  6.976  91.0  2.1675    1  273     21.0  396.90   5.64  23.9\n",
              "504     0  0.573  6.794  89.3  2.3889    1  273     21.0  393.45   6.48  22.0\n",
              "505     0  0.573  6.030  80.8  2.5050    1  273     21.0  396.90   7.88  11.9\n",
              "\n",
              "[506 rows x 11 columns]"
            ],
            "text/html": [
              "\n",
              "  <div id=\"df-ebc11fc4-465d-43d8-8434-24fe62f437a4\" class=\"colab-df-container\">\n",
              "    <div>\n",
              "<style scoped>\n",
              "    .dataframe tbody tr th:only-of-type {\n",
              "        vertical-align: middle;\n",
              "    }\n",
              "\n",
              "    .dataframe tbody tr th {\n",
              "        vertical-align: top;\n",
              "    }\n",
              "\n",
              "    .dataframe thead th {\n",
              "        text-align: right;\n",
              "    }\n",
              "</style>\n",
              "<table border=\"1\" class=\"dataframe\">\n",
              "  <thead>\n",
              "    <tr style=\"text-align: right;\">\n",
              "      <th></th>\n",
              "      <th>chas</th>\n",
              "      <th>nox</th>\n",
              "      <th>rm</th>\n",
              "      <th>age</th>\n",
              "      <th>dis</th>\n",
              "      <th>rad</th>\n",
              "      <th>tax</th>\n",
              "      <th>ptratio</th>\n",
              "      <th>b</th>\n",
              "      <th>lstat</th>\n",
              "      <th>medv</th>\n",
              "    </tr>\n",
              "  </thead>\n",
              "  <tbody>\n",
              "    <tr>\n",
              "      <th>0</th>\n",
              "      <td>0</td>\n",
              "      <td>0.538</td>\n",
              "      <td>6.575</td>\n",
              "      <td>65.2</td>\n",
              "      <td>4.0900</td>\n",
              "      <td>1</td>\n",
              "      <td>296</td>\n",
              "      <td>15.3</td>\n",
              "      <td>396.90</td>\n",
              "      <td>4.98</td>\n",
              "      <td>24.0</td>\n",
              "    </tr>\n",
              "    <tr>\n",
              "      <th>1</th>\n",
              "      <td>0</td>\n",
              "      <td>0.469</td>\n",
              "      <td>6.421</td>\n",
              "      <td>78.9</td>\n",
              "      <td>4.9671</td>\n",
              "      <td>2</td>\n",
              "      <td>242</td>\n",
              "      <td>17.8</td>\n",
              "      <td>396.90</td>\n",
              "      <td>9.14</td>\n",
              "      <td>21.6</td>\n",
              "    </tr>\n",
              "    <tr>\n",
              "      <th>2</th>\n",
              "      <td>0</td>\n",
              "      <td>0.469</td>\n",
              "      <td>7.185</td>\n",
              "      <td>61.1</td>\n",
              "      <td>4.9671</td>\n",
              "      <td>2</td>\n",
              "      <td>242</td>\n",
              "      <td>17.8</td>\n",
              "      <td>392.83</td>\n",
              "      <td>4.03</td>\n",
              "      <td>34.7</td>\n",
              "    </tr>\n",
              "    <tr>\n",
              "      <th>3</th>\n",
              "      <td>0</td>\n",
              "      <td>0.458</td>\n",
              "      <td>6.998</td>\n",
              "      <td>45.8</td>\n",
              "      <td>6.0622</td>\n",
              "      <td>3</td>\n",
              "      <td>222</td>\n",
              "      <td>18.7</td>\n",
              "      <td>394.63</td>\n",
              "      <td>2.94</td>\n",
              "      <td>33.4</td>\n",
              "    </tr>\n",
              "    <tr>\n",
              "      <th>4</th>\n",
              "      <td>0</td>\n",
              "      <td>0.458</td>\n",
              "      <td>7.147</td>\n",
              "      <td>54.2</td>\n",
              "      <td>6.0622</td>\n",
              "      <td>3</td>\n",
              "      <td>222</td>\n",
              "      <td>18.7</td>\n",
              "      <td>396.90</td>\n",
              "      <td>5.33</td>\n",
              "      <td>36.2</td>\n",
              "    </tr>\n",
              "    <tr>\n",
              "      <th>...</th>\n",
              "      <td>...</td>\n",
              "      <td>...</td>\n",
              "      <td>...</td>\n",
              "      <td>...</td>\n",
              "      <td>...</td>\n",
              "      <td>...</td>\n",
              "      <td>...</td>\n",
              "      <td>...</td>\n",
              "      <td>...</td>\n",
              "      <td>...</td>\n",
              "      <td>...</td>\n",
              "    </tr>\n",
              "    <tr>\n",
              "      <th>501</th>\n",
              "      <td>0</td>\n",
              "      <td>0.573</td>\n",
              "      <td>6.593</td>\n",
              "      <td>69.1</td>\n",
              "      <td>2.4786</td>\n",
              "      <td>1</td>\n",
              "      <td>273</td>\n",
              "      <td>21.0</td>\n",
              "      <td>391.99</td>\n",
              "      <td>9.67</td>\n",
              "      <td>22.4</td>\n",
              "    </tr>\n",
              "    <tr>\n",
              "      <th>502</th>\n",
              "      <td>0</td>\n",
              "      <td>0.573</td>\n",
              "      <td>6.120</td>\n",
              "      <td>76.7</td>\n",
              "      <td>2.2875</td>\n",
              "      <td>1</td>\n",
              "      <td>273</td>\n",
              "      <td>21.0</td>\n",
              "      <td>396.90</td>\n",
              "      <td>9.08</td>\n",
              "      <td>20.6</td>\n",
              "    </tr>\n",
              "    <tr>\n",
              "      <th>503</th>\n",
              "      <td>0</td>\n",
              "      <td>0.573</td>\n",
              "      <td>6.976</td>\n",
              "      <td>91.0</td>\n",
              "      <td>2.1675</td>\n",
              "      <td>1</td>\n",
              "      <td>273</td>\n",
              "      <td>21.0</td>\n",
              "      <td>396.90</td>\n",
              "      <td>5.64</td>\n",
              "      <td>23.9</td>\n",
              "    </tr>\n",
              "    <tr>\n",
              "      <th>504</th>\n",
              "      <td>0</td>\n",
              "      <td>0.573</td>\n",
              "      <td>6.794</td>\n",
              "      <td>89.3</td>\n",
              "      <td>2.3889</td>\n",
              "      <td>1</td>\n",
              "      <td>273</td>\n",
              "      <td>21.0</td>\n",
              "      <td>393.45</td>\n",
              "      <td>6.48</td>\n",
              "      <td>22.0</td>\n",
              "    </tr>\n",
              "    <tr>\n",
              "      <th>505</th>\n",
              "      <td>0</td>\n",
              "      <td>0.573</td>\n",
              "      <td>6.030</td>\n",
              "      <td>80.8</td>\n",
              "      <td>2.5050</td>\n",
              "      <td>1</td>\n",
              "      <td>273</td>\n",
              "      <td>21.0</td>\n",
              "      <td>396.90</td>\n",
              "      <td>7.88</td>\n",
              "      <td>11.9</td>\n",
              "    </tr>\n",
              "  </tbody>\n",
              "</table>\n",
              "<p>506 rows × 11 columns</p>\n",
              "</div>\n",
              "    <div class=\"colab-df-buttons\">\n",
              "\n",
              "  <div class=\"colab-df-container\">\n",
              "    <button class=\"colab-df-convert\" onclick=\"convertToInteractive('df-ebc11fc4-465d-43d8-8434-24fe62f437a4')\"\n",
              "            title=\"Convert this dataframe to an interactive table.\"\n",
              "            style=\"display:none;\">\n",
              "\n",
              "  <svg xmlns=\"http://www.w3.org/2000/svg\" height=\"24px\" viewBox=\"0 -960 960 960\">\n",
              "    <path d=\"M120-120v-720h720v720H120Zm60-500h600v-160H180v160Zm220 220h160v-160H400v160Zm0 220h160v-160H400v160ZM180-400h160v-160H180v160Zm440 0h160v-160H620v160ZM180-180h160v-160H180v160Zm440 0h160v-160H620v160Z\"/>\n",
              "  </svg>\n",
              "    </button>\n",
              "\n",
              "  <style>\n",
              "    .colab-df-container {\n",
              "      display:flex;\n",
              "      gap: 12px;\n",
              "    }\n",
              "\n",
              "    .colab-df-convert {\n",
              "      background-color: #E8F0FE;\n",
              "      border: none;\n",
              "      border-radius: 50%;\n",
              "      cursor: pointer;\n",
              "      display: none;\n",
              "      fill: #1967D2;\n",
              "      height: 32px;\n",
              "      padding: 0 0 0 0;\n",
              "      width: 32px;\n",
              "    }\n",
              "\n",
              "    .colab-df-convert:hover {\n",
              "      background-color: #E2EBFA;\n",
              "      box-shadow: 0px 1px 2px rgba(60, 64, 67, 0.3), 0px 1px 3px 1px rgba(60, 64, 67, 0.15);\n",
              "      fill: #174EA6;\n",
              "    }\n",
              "\n",
              "    .colab-df-buttons div {\n",
              "      margin-bottom: 4px;\n",
              "    }\n",
              "\n",
              "    [theme=dark] .colab-df-convert {\n",
              "      background-color: #3B4455;\n",
              "      fill: #D2E3FC;\n",
              "    }\n",
              "\n",
              "    [theme=dark] .colab-df-convert:hover {\n",
              "      background-color: #434B5C;\n",
              "      box-shadow: 0px 1px 3px 1px rgba(0, 0, 0, 0.15);\n",
              "      filter: drop-shadow(0px 1px 2px rgba(0, 0, 0, 0.3));\n",
              "      fill: #FFFFFF;\n",
              "    }\n",
              "  </style>\n",
              "\n",
              "    <script>\n",
              "      const buttonEl =\n",
              "        document.querySelector('#df-ebc11fc4-465d-43d8-8434-24fe62f437a4 button.colab-df-convert');\n",
              "      buttonEl.style.display =\n",
              "        google.colab.kernel.accessAllowed ? 'block' : 'none';\n",
              "\n",
              "      async function convertToInteractive(key) {\n",
              "        const element = document.querySelector('#df-ebc11fc4-465d-43d8-8434-24fe62f437a4');\n",
              "        const dataTable =\n",
              "          await google.colab.kernel.invokeFunction('convertToInteractive',\n",
              "                                                    [key], {});\n",
              "        if (!dataTable) return;\n",
              "\n",
              "        const docLinkHtml = 'Like what you see? Visit the ' +\n",
              "          '<a target=\"_blank\" href=https://colab.research.google.com/notebooks/data_table.ipynb>data table notebook</a>'\n",
              "          + ' to learn more about interactive tables.';\n",
              "        element.innerHTML = '';\n",
              "        dataTable['output_type'] = 'display_data';\n",
              "        await google.colab.output.renderOutput(dataTable, element);\n",
              "        const docLink = document.createElement('div');\n",
              "        docLink.innerHTML = docLinkHtml;\n",
              "        element.appendChild(docLink);\n",
              "      }\n",
              "    </script>\n",
              "  </div>\n",
              "\n",
              "\n",
              "<div id=\"df-b9ac1dbb-19ea-4c6d-b96c-80f7dc8447ba\">\n",
              "  <button class=\"colab-df-quickchart\" onclick=\"quickchart('df-b9ac1dbb-19ea-4c6d-b96c-80f7dc8447ba')\"\n",
              "            title=\"Suggest charts\"\n",
              "            style=\"display:none;\">\n",
              "\n",
              "<svg xmlns=\"http://www.w3.org/2000/svg\" height=\"24px\"viewBox=\"0 0 24 24\"\n",
              "     width=\"24px\">\n",
              "    <g>\n",
              "        <path d=\"M19 3H5c-1.1 0-2 .9-2 2v14c0 1.1.9 2 2 2h14c1.1 0 2-.9 2-2V5c0-1.1-.9-2-2-2zM9 17H7v-7h2v7zm4 0h-2V7h2v10zm4 0h-2v-4h2v4z\"/>\n",
              "    </g>\n",
              "</svg>\n",
              "  </button>\n",
              "\n",
              "<style>\n",
              "  .colab-df-quickchart {\n",
              "      --bg-color: #E8F0FE;\n",
              "      --fill-color: #1967D2;\n",
              "      --hover-bg-color: #E2EBFA;\n",
              "      --hover-fill-color: #174EA6;\n",
              "      --disabled-fill-color: #AAA;\n",
              "      --disabled-bg-color: #DDD;\n",
              "  }\n",
              "\n",
              "  [theme=dark] .colab-df-quickchart {\n",
              "      --bg-color: #3B4455;\n",
              "      --fill-color: #D2E3FC;\n",
              "      --hover-bg-color: #434B5C;\n",
              "      --hover-fill-color: #FFFFFF;\n",
              "      --disabled-bg-color: #3B4455;\n",
              "      --disabled-fill-color: #666;\n",
              "  }\n",
              "\n",
              "  .colab-df-quickchart {\n",
              "    background-color: var(--bg-color);\n",
              "    border: none;\n",
              "    border-radius: 50%;\n",
              "    cursor: pointer;\n",
              "    display: none;\n",
              "    fill: var(--fill-color);\n",
              "    height: 32px;\n",
              "    padding: 0;\n",
              "    width: 32px;\n",
              "  }\n",
              "\n",
              "  .colab-df-quickchart:hover {\n",
              "    background-color: var(--hover-bg-color);\n",
              "    box-shadow: 0 1px 2px rgba(60, 64, 67, 0.3), 0 1px 3px 1px rgba(60, 64, 67, 0.15);\n",
              "    fill: var(--button-hover-fill-color);\n",
              "  }\n",
              "\n",
              "  .colab-df-quickchart-complete:disabled,\n",
              "  .colab-df-quickchart-complete:disabled:hover {\n",
              "    background-color: var(--disabled-bg-color);\n",
              "    fill: var(--disabled-fill-color);\n",
              "    box-shadow: none;\n",
              "  }\n",
              "\n",
              "  .colab-df-spinner {\n",
              "    border: 2px solid var(--fill-color);\n",
              "    border-color: transparent;\n",
              "    border-bottom-color: var(--fill-color);\n",
              "    animation:\n",
              "      spin 1s steps(1) infinite;\n",
              "  }\n",
              "\n",
              "  @keyframes spin {\n",
              "    0% {\n",
              "      border-color: transparent;\n",
              "      border-bottom-color: var(--fill-color);\n",
              "      border-left-color: var(--fill-color);\n",
              "    }\n",
              "    20% {\n",
              "      border-color: transparent;\n",
              "      border-left-color: var(--fill-color);\n",
              "      border-top-color: var(--fill-color);\n",
              "    }\n",
              "    30% {\n",
              "      border-color: transparent;\n",
              "      border-left-color: var(--fill-color);\n",
              "      border-top-color: var(--fill-color);\n",
              "      border-right-color: var(--fill-color);\n",
              "    }\n",
              "    40% {\n",
              "      border-color: transparent;\n",
              "      border-right-color: var(--fill-color);\n",
              "      border-top-color: var(--fill-color);\n",
              "    }\n",
              "    60% {\n",
              "      border-color: transparent;\n",
              "      border-right-color: var(--fill-color);\n",
              "    }\n",
              "    80% {\n",
              "      border-color: transparent;\n",
              "      border-right-color: var(--fill-color);\n",
              "      border-bottom-color: var(--fill-color);\n",
              "    }\n",
              "    90% {\n",
              "      border-color: transparent;\n",
              "      border-bottom-color: var(--fill-color);\n",
              "    }\n",
              "  }\n",
              "</style>\n",
              "\n",
              "  <script>\n",
              "    async function quickchart(key) {\n",
              "      const quickchartButtonEl =\n",
              "        document.querySelector('#' + key + ' button');\n",
              "      quickchartButtonEl.disabled = true;  // To prevent multiple clicks.\n",
              "      quickchartButtonEl.classList.add('colab-df-spinner');\n",
              "      try {\n",
              "        const charts = await google.colab.kernel.invokeFunction(\n",
              "            'suggestCharts', [key], {});\n",
              "      } catch (error) {\n",
              "        console.error('Error during call to suggestCharts:', error);\n",
              "      }\n",
              "      quickchartButtonEl.classList.remove('colab-df-spinner');\n",
              "      quickchartButtonEl.classList.add('colab-df-quickchart-complete');\n",
              "    }\n",
              "    (() => {\n",
              "      let quickchartButtonEl =\n",
              "        document.querySelector('#df-b9ac1dbb-19ea-4c6d-b96c-80f7dc8447ba button');\n",
              "      quickchartButtonEl.style.display =\n",
              "        google.colab.kernel.accessAllowed ? 'block' : 'none';\n",
              "    })();\n",
              "  </script>\n",
              "</div>\n",
              "    </div>\n",
              "  </div>\n"
            ]
          },
          "metadata": {},
          "execution_count": 23
        }
      ]
    },
    {
      "cell_type": "code",
      "source": [
        "df.iloc[1, 1] # here you will get a value explicitly-the first row and the first column"
      ],
      "metadata": {
        "colab": {
          "base_uri": "https://localhost:8080/"
        },
        "id": "RKj4o_-aqMWs",
        "outputId": "0a26fdf2-a5cf-4346-96c8-491ceec1f801"
      },
      "execution_count": null,
      "outputs": [
        {
          "output_type": "execute_result",
          "data": {
            "text/plain": [
              "0.0"
            ]
          },
          "metadata": {},
          "execution_count": 24
        }
      ]
    },
    {
      "cell_type": "markdown",
      "source": [
        "Selecting by position is very useful. You can start or end the data where you want, or you can take one or few specific values as you want very easily."
      ],
      "metadata": {
        "id": "hptaINmjppef"
      }
    },
    {
      "cell_type": "markdown",
      "source": [
        "You can also select data by conditions:"
      ],
      "metadata": {
        "id": "fBoQqve4qrvT"
      }
    },
    {
      "cell_type": "code",
      "source": [
        "df[df[\"crim\"] > 0.05] # here we get the data where crim data are always larger than 0.05"
      ],
      "metadata": {
        "colab": {
          "base_uri": "https://localhost:8080/",
          "height": 424
        },
        "id": "chaMEKjLqu0z",
        "outputId": "96f62cb8-449f-46b4-a750-f357835b6f71"
      },
      "execution_count": null,
      "outputs": [
        {
          "output_type": "execute_result",
          "data": {
            "text/plain": [
              "        crim    zn  indus  chas    nox     rm    age     dis  rad  tax  \\\n",
              "4    0.06905   0.0   2.18     0  0.458  7.147   54.2  6.0622    3  222   \n",
              "6    0.08829  12.5   7.87     0  0.524  6.012   66.6  5.5605    5  311   \n",
              "7    0.14455  12.5   7.87     0  0.524  6.172   96.1  5.9505    5  311   \n",
              "8    0.21124  12.5   7.87     0  0.524  5.631  100.0  6.0821    5  311   \n",
              "9    0.17004  12.5   7.87     0  0.524  6.004   85.9  6.5921    5  311   \n",
              "..       ...   ...    ...   ...    ...    ...    ...     ...  ...  ...   \n",
              "499  0.17783   0.0   9.69     0  0.585  5.569   73.5  2.3999    6  391   \n",
              "500  0.22438   0.0   9.69     0  0.585  6.027   79.7  2.4982    6  391   \n",
              "501  0.06263   0.0  11.93     0  0.573  6.593   69.1  2.4786    1  273   \n",
              "503  0.06076   0.0  11.93     0  0.573  6.976   91.0  2.1675    1  273   \n",
              "504  0.10959   0.0  11.93     0  0.573  6.794   89.3  2.3889    1  273   \n",
              "\n",
              "     ptratio       b  lstat  medv  \n",
              "4       18.7  396.90   5.33  36.2  \n",
              "6       15.2  395.60  12.43  22.9  \n",
              "7       15.2  396.90  19.15  27.1  \n",
              "8       15.2  386.63  29.93  16.5  \n",
              "9       15.2  386.71  17.10  18.9  \n",
              "..       ...     ...    ...   ...  \n",
              "499     19.2  395.77  15.10  17.5  \n",
              "500     19.2  396.90  14.33  16.8  \n",
              "501     21.0  391.99   9.67  22.4  \n",
              "503     21.0  396.90   5.64  23.9  \n",
              "504     21.0  393.45   6.48  22.0  \n",
              "\n",
              "[432 rows x 14 columns]"
            ],
            "text/html": [
              "\n",
              "  <div id=\"df-a5542bca-986d-48e7-9f37-dd6b6b1eaf71\" class=\"colab-df-container\">\n",
              "    <div>\n",
              "<style scoped>\n",
              "    .dataframe tbody tr th:only-of-type {\n",
              "        vertical-align: middle;\n",
              "    }\n",
              "\n",
              "    .dataframe tbody tr th {\n",
              "        vertical-align: top;\n",
              "    }\n",
              "\n",
              "    .dataframe thead th {\n",
              "        text-align: right;\n",
              "    }\n",
              "</style>\n",
              "<table border=\"1\" class=\"dataframe\">\n",
              "  <thead>\n",
              "    <tr style=\"text-align: right;\">\n",
              "      <th></th>\n",
              "      <th>crim</th>\n",
              "      <th>zn</th>\n",
              "      <th>indus</th>\n",
              "      <th>chas</th>\n",
              "      <th>nox</th>\n",
              "      <th>rm</th>\n",
              "      <th>age</th>\n",
              "      <th>dis</th>\n",
              "      <th>rad</th>\n",
              "      <th>tax</th>\n",
              "      <th>ptratio</th>\n",
              "      <th>b</th>\n",
              "      <th>lstat</th>\n",
              "      <th>medv</th>\n",
              "    </tr>\n",
              "  </thead>\n",
              "  <tbody>\n",
              "    <tr>\n",
              "      <th>4</th>\n",
              "      <td>0.06905</td>\n",
              "      <td>0.0</td>\n",
              "      <td>2.18</td>\n",
              "      <td>0</td>\n",
              "      <td>0.458</td>\n",
              "      <td>7.147</td>\n",
              "      <td>54.2</td>\n",
              "      <td>6.0622</td>\n",
              "      <td>3</td>\n",
              "      <td>222</td>\n",
              "      <td>18.7</td>\n",
              "      <td>396.90</td>\n",
              "      <td>5.33</td>\n",
              "      <td>36.2</td>\n",
              "    </tr>\n",
              "    <tr>\n",
              "      <th>6</th>\n",
              "      <td>0.08829</td>\n",
              "      <td>12.5</td>\n",
              "      <td>7.87</td>\n",
              "      <td>0</td>\n",
              "      <td>0.524</td>\n",
              "      <td>6.012</td>\n",
              "      <td>66.6</td>\n",
              "      <td>5.5605</td>\n",
              "      <td>5</td>\n",
              "      <td>311</td>\n",
              "      <td>15.2</td>\n",
              "      <td>395.60</td>\n",
              "      <td>12.43</td>\n",
              "      <td>22.9</td>\n",
              "    </tr>\n",
              "    <tr>\n",
              "      <th>7</th>\n",
              "      <td>0.14455</td>\n",
              "      <td>12.5</td>\n",
              "      <td>7.87</td>\n",
              "      <td>0</td>\n",
              "      <td>0.524</td>\n",
              "      <td>6.172</td>\n",
              "      <td>96.1</td>\n",
              "      <td>5.9505</td>\n",
              "      <td>5</td>\n",
              "      <td>311</td>\n",
              "      <td>15.2</td>\n",
              "      <td>396.90</td>\n",
              "      <td>19.15</td>\n",
              "      <td>27.1</td>\n",
              "    </tr>\n",
              "    <tr>\n",
              "      <th>8</th>\n",
              "      <td>0.21124</td>\n",
              "      <td>12.5</td>\n",
              "      <td>7.87</td>\n",
              "      <td>0</td>\n",
              "      <td>0.524</td>\n",
              "      <td>5.631</td>\n",
              "      <td>100.0</td>\n",
              "      <td>6.0821</td>\n",
              "      <td>5</td>\n",
              "      <td>311</td>\n",
              "      <td>15.2</td>\n",
              "      <td>386.63</td>\n",
              "      <td>29.93</td>\n",
              "      <td>16.5</td>\n",
              "    </tr>\n",
              "    <tr>\n",
              "      <th>9</th>\n",
              "      <td>0.17004</td>\n",
              "      <td>12.5</td>\n",
              "      <td>7.87</td>\n",
              "      <td>0</td>\n",
              "      <td>0.524</td>\n",
              "      <td>6.004</td>\n",
              "      <td>85.9</td>\n",
              "      <td>6.5921</td>\n",
              "      <td>5</td>\n",
              "      <td>311</td>\n",
              "      <td>15.2</td>\n",
              "      <td>386.71</td>\n",
              "      <td>17.10</td>\n",
              "      <td>18.9</td>\n",
              "    </tr>\n",
              "    <tr>\n",
              "      <th>...</th>\n",
              "      <td>...</td>\n",
              "      <td>...</td>\n",
              "      <td>...</td>\n",
              "      <td>...</td>\n",
              "      <td>...</td>\n",
              "      <td>...</td>\n",
              "      <td>...</td>\n",
              "      <td>...</td>\n",
              "      <td>...</td>\n",
              "      <td>...</td>\n",
              "      <td>...</td>\n",
              "      <td>...</td>\n",
              "      <td>...</td>\n",
              "      <td>...</td>\n",
              "    </tr>\n",
              "    <tr>\n",
              "      <th>499</th>\n",
              "      <td>0.17783</td>\n",
              "      <td>0.0</td>\n",
              "      <td>9.69</td>\n",
              "      <td>0</td>\n",
              "      <td>0.585</td>\n",
              "      <td>5.569</td>\n",
              "      <td>73.5</td>\n",
              "      <td>2.3999</td>\n",
              "      <td>6</td>\n",
              "      <td>391</td>\n",
              "      <td>19.2</td>\n",
              "      <td>395.77</td>\n",
              "      <td>15.10</td>\n",
              "      <td>17.5</td>\n",
              "    </tr>\n",
              "    <tr>\n",
              "      <th>500</th>\n",
              "      <td>0.22438</td>\n",
              "      <td>0.0</td>\n",
              "      <td>9.69</td>\n",
              "      <td>0</td>\n",
              "      <td>0.585</td>\n",
              "      <td>6.027</td>\n",
              "      <td>79.7</td>\n",
              "      <td>2.4982</td>\n",
              "      <td>6</td>\n",
              "      <td>391</td>\n",
              "      <td>19.2</td>\n",
              "      <td>396.90</td>\n",
              "      <td>14.33</td>\n",
              "      <td>16.8</td>\n",
              "    </tr>\n",
              "    <tr>\n",
              "      <th>501</th>\n",
              "      <td>0.06263</td>\n",
              "      <td>0.0</td>\n",
              "      <td>11.93</td>\n",
              "      <td>0</td>\n",
              "      <td>0.573</td>\n",
              "      <td>6.593</td>\n",
              "      <td>69.1</td>\n",
              "      <td>2.4786</td>\n",
              "      <td>1</td>\n",
              "      <td>273</td>\n",
              "      <td>21.0</td>\n",
              "      <td>391.99</td>\n",
              "      <td>9.67</td>\n",
              "      <td>22.4</td>\n",
              "    </tr>\n",
              "    <tr>\n",
              "      <th>503</th>\n",
              "      <td>0.06076</td>\n",
              "      <td>0.0</td>\n",
              "      <td>11.93</td>\n",
              "      <td>0</td>\n",
              "      <td>0.573</td>\n",
              "      <td>6.976</td>\n",
              "      <td>91.0</td>\n",
              "      <td>2.1675</td>\n",
              "      <td>1</td>\n",
              "      <td>273</td>\n",
              "      <td>21.0</td>\n",
              "      <td>396.90</td>\n",
              "      <td>5.64</td>\n",
              "      <td>23.9</td>\n",
              "    </tr>\n",
              "    <tr>\n",
              "      <th>504</th>\n",
              "      <td>0.10959</td>\n",
              "      <td>0.0</td>\n",
              "      <td>11.93</td>\n",
              "      <td>0</td>\n",
              "      <td>0.573</td>\n",
              "      <td>6.794</td>\n",
              "      <td>89.3</td>\n",
              "      <td>2.3889</td>\n",
              "      <td>1</td>\n",
              "      <td>273</td>\n",
              "      <td>21.0</td>\n",
              "      <td>393.45</td>\n",
              "      <td>6.48</td>\n",
              "      <td>22.0</td>\n",
              "    </tr>\n",
              "  </tbody>\n",
              "</table>\n",
              "<p>432 rows × 14 columns</p>\n",
              "</div>\n",
              "    <div class=\"colab-df-buttons\">\n",
              "\n",
              "  <div class=\"colab-df-container\">\n",
              "    <button class=\"colab-df-convert\" onclick=\"convertToInteractive('df-a5542bca-986d-48e7-9f37-dd6b6b1eaf71')\"\n",
              "            title=\"Convert this dataframe to an interactive table.\"\n",
              "            style=\"display:none;\">\n",
              "\n",
              "  <svg xmlns=\"http://www.w3.org/2000/svg\" height=\"24px\" viewBox=\"0 -960 960 960\">\n",
              "    <path d=\"M120-120v-720h720v720H120Zm60-500h600v-160H180v160Zm220 220h160v-160H400v160Zm0 220h160v-160H400v160ZM180-400h160v-160H180v160Zm440 0h160v-160H620v160ZM180-180h160v-160H180v160Zm440 0h160v-160H620v160Z\"/>\n",
              "  </svg>\n",
              "    </button>\n",
              "\n",
              "  <style>\n",
              "    .colab-df-container {\n",
              "      display:flex;\n",
              "      gap: 12px;\n",
              "    }\n",
              "\n",
              "    .colab-df-convert {\n",
              "      background-color: #E8F0FE;\n",
              "      border: none;\n",
              "      border-radius: 50%;\n",
              "      cursor: pointer;\n",
              "      display: none;\n",
              "      fill: #1967D2;\n",
              "      height: 32px;\n",
              "      padding: 0 0 0 0;\n",
              "      width: 32px;\n",
              "    }\n",
              "\n",
              "    .colab-df-convert:hover {\n",
              "      background-color: #E2EBFA;\n",
              "      box-shadow: 0px 1px 2px rgba(60, 64, 67, 0.3), 0px 1px 3px 1px rgba(60, 64, 67, 0.15);\n",
              "      fill: #174EA6;\n",
              "    }\n",
              "\n",
              "    .colab-df-buttons div {\n",
              "      margin-bottom: 4px;\n",
              "    }\n",
              "\n",
              "    [theme=dark] .colab-df-convert {\n",
              "      background-color: #3B4455;\n",
              "      fill: #D2E3FC;\n",
              "    }\n",
              "\n",
              "    [theme=dark] .colab-df-convert:hover {\n",
              "      background-color: #434B5C;\n",
              "      box-shadow: 0px 1px 3px 1px rgba(0, 0, 0, 0.15);\n",
              "      filter: drop-shadow(0px 1px 2px rgba(0, 0, 0, 0.3));\n",
              "      fill: #FFFFFF;\n",
              "    }\n",
              "  </style>\n",
              "\n",
              "    <script>\n",
              "      const buttonEl =\n",
              "        document.querySelector('#df-a5542bca-986d-48e7-9f37-dd6b6b1eaf71 button.colab-df-convert');\n",
              "      buttonEl.style.display =\n",
              "        google.colab.kernel.accessAllowed ? 'block' : 'none';\n",
              "\n",
              "      async function convertToInteractive(key) {\n",
              "        const element = document.querySelector('#df-a5542bca-986d-48e7-9f37-dd6b6b1eaf71');\n",
              "        const dataTable =\n",
              "          await google.colab.kernel.invokeFunction('convertToInteractive',\n",
              "                                                    [key], {});\n",
              "        if (!dataTable) return;\n",
              "\n",
              "        const docLinkHtml = 'Like what you see? Visit the ' +\n",
              "          '<a target=\"_blank\" href=https://colab.research.google.com/notebooks/data_table.ipynb>data table notebook</a>'\n",
              "          + ' to learn more about interactive tables.';\n",
              "        element.innerHTML = '';\n",
              "        dataTable['output_type'] = 'display_data';\n",
              "        await google.colab.output.renderOutput(dataTable, element);\n",
              "        const docLink = document.createElement('div');\n",
              "        docLink.innerHTML = docLinkHtml;\n",
              "        element.appendChild(docLink);\n",
              "      }\n",
              "    </script>\n",
              "  </div>\n",
              "\n",
              "\n",
              "<div id=\"df-5f61ba58-1aaa-4d34-aba4-8803682a6318\">\n",
              "  <button class=\"colab-df-quickchart\" onclick=\"quickchart('df-5f61ba58-1aaa-4d34-aba4-8803682a6318')\"\n",
              "            title=\"Suggest charts\"\n",
              "            style=\"display:none;\">\n",
              "\n",
              "<svg xmlns=\"http://www.w3.org/2000/svg\" height=\"24px\"viewBox=\"0 0 24 24\"\n",
              "     width=\"24px\">\n",
              "    <g>\n",
              "        <path d=\"M19 3H5c-1.1 0-2 .9-2 2v14c0 1.1.9 2 2 2h14c1.1 0 2-.9 2-2V5c0-1.1-.9-2-2-2zM9 17H7v-7h2v7zm4 0h-2V7h2v10zm4 0h-2v-4h2v4z\"/>\n",
              "    </g>\n",
              "</svg>\n",
              "  </button>\n",
              "\n",
              "<style>\n",
              "  .colab-df-quickchart {\n",
              "      --bg-color: #E8F0FE;\n",
              "      --fill-color: #1967D2;\n",
              "      --hover-bg-color: #E2EBFA;\n",
              "      --hover-fill-color: #174EA6;\n",
              "      --disabled-fill-color: #AAA;\n",
              "      --disabled-bg-color: #DDD;\n",
              "  }\n",
              "\n",
              "  [theme=dark] .colab-df-quickchart {\n",
              "      --bg-color: #3B4455;\n",
              "      --fill-color: #D2E3FC;\n",
              "      --hover-bg-color: #434B5C;\n",
              "      --hover-fill-color: #FFFFFF;\n",
              "      --disabled-bg-color: #3B4455;\n",
              "      --disabled-fill-color: #666;\n",
              "  }\n",
              "\n",
              "  .colab-df-quickchart {\n",
              "    background-color: var(--bg-color);\n",
              "    border: none;\n",
              "    border-radius: 50%;\n",
              "    cursor: pointer;\n",
              "    display: none;\n",
              "    fill: var(--fill-color);\n",
              "    height: 32px;\n",
              "    padding: 0;\n",
              "    width: 32px;\n",
              "  }\n",
              "\n",
              "  .colab-df-quickchart:hover {\n",
              "    background-color: var(--hover-bg-color);\n",
              "    box-shadow: 0 1px 2px rgba(60, 64, 67, 0.3), 0 1px 3px 1px rgba(60, 64, 67, 0.15);\n",
              "    fill: var(--button-hover-fill-color);\n",
              "  }\n",
              "\n",
              "  .colab-df-quickchart-complete:disabled,\n",
              "  .colab-df-quickchart-complete:disabled:hover {\n",
              "    background-color: var(--disabled-bg-color);\n",
              "    fill: var(--disabled-fill-color);\n",
              "    box-shadow: none;\n",
              "  }\n",
              "\n",
              "  .colab-df-spinner {\n",
              "    border: 2px solid var(--fill-color);\n",
              "    border-color: transparent;\n",
              "    border-bottom-color: var(--fill-color);\n",
              "    animation:\n",
              "      spin 1s steps(1) infinite;\n",
              "  }\n",
              "\n",
              "  @keyframes spin {\n",
              "    0% {\n",
              "      border-color: transparent;\n",
              "      border-bottom-color: var(--fill-color);\n",
              "      border-left-color: var(--fill-color);\n",
              "    }\n",
              "    20% {\n",
              "      border-color: transparent;\n",
              "      border-left-color: var(--fill-color);\n",
              "      border-top-color: var(--fill-color);\n",
              "    }\n",
              "    30% {\n",
              "      border-color: transparent;\n",
              "      border-left-color: var(--fill-color);\n",
              "      border-top-color: var(--fill-color);\n",
              "      border-right-color: var(--fill-color);\n",
              "    }\n",
              "    40% {\n",
              "      border-color: transparent;\n",
              "      border-right-color: var(--fill-color);\n",
              "      border-top-color: var(--fill-color);\n",
              "    }\n",
              "    60% {\n",
              "      border-color: transparent;\n",
              "      border-right-color: var(--fill-color);\n",
              "    }\n",
              "    80% {\n",
              "      border-color: transparent;\n",
              "      border-right-color: var(--fill-color);\n",
              "      border-bottom-color: var(--fill-color);\n",
              "    }\n",
              "    90% {\n",
              "      border-color: transparent;\n",
              "      border-bottom-color: var(--fill-color);\n",
              "    }\n",
              "  }\n",
              "</style>\n",
              "\n",
              "  <script>\n",
              "    async function quickchart(key) {\n",
              "      const quickchartButtonEl =\n",
              "        document.querySelector('#' + key + ' button');\n",
              "      quickchartButtonEl.disabled = true;  // To prevent multiple clicks.\n",
              "      quickchartButtonEl.classList.add('colab-df-spinner');\n",
              "      try {\n",
              "        const charts = await google.colab.kernel.invokeFunction(\n",
              "            'suggestCharts', [key], {});\n",
              "      } catch (error) {\n",
              "        console.error('Error during call to suggestCharts:', error);\n",
              "      }\n",
              "      quickchartButtonEl.classList.remove('colab-df-spinner');\n",
              "      quickchartButtonEl.classList.add('colab-df-quickchart-complete');\n",
              "    }\n",
              "    (() => {\n",
              "      let quickchartButtonEl =\n",
              "        document.querySelector('#df-5f61ba58-1aaa-4d34-aba4-8803682a6318 button');\n",
              "      quickchartButtonEl.style.display =\n",
              "        google.colab.kernel.accessAllowed ? 'block' : 'none';\n",
              "    })();\n",
              "  </script>\n",
              "</div>\n",
              "    </div>\n",
              "  </div>\n"
            ]
          },
          "metadata": {},
          "execution_count": 26
        }
      ]
    },
    {
      "cell_type": "code",
      "source": [
        "df[(df[\"crim\"] > 0.05) & (df[\"nox\"] > 0.5)] # can be with multiple conditions"
      ],
      "metadata": {
        "colab": {
          "base_uri": "https://localhost:8080/",
          "height": 424
        },
        "id": "_BhVjj3oq8yD",
        "outputId": "c439ec88-3f60-40d5-a05a-43cf15a05d77"
      },
      "execution_count": null,
      "outputs": [
        {
          "output_type": "execute_result",
          "data": {
            "text/plain": [
              "        crim    zn  indus  chas    nox     rm    age     dis  rad  tax  \\\n",
              "6    0.08829  12.5   7.87     0  0.524  6.012   66.6  5.5605    5  311   \n",
              "7    0.14455  12.5   7.87     0  0.524  6.172   96.1  5.9505    5  311   \n",
              "8    0.21124  12.5   7.87     0  0.524  5.631  100.0  6.0821    5  311   \n",
              "9    0.17004  12.5   7.87     0  0.524  6.004   85.9  6.5921    5  311   \n",
              "10   0.22489  12.5   7.87     0  0.524  6.377   94.3  6.3467    5  311   \n",
              "..       ...   ...    ...   ...    ...    ...    ...     ...  ...  ...   \n",
              "499  0.17783   0.0   9.69     0  0.585  5.569   73.5  2.3999    6  391   \n",
              "500  0.22438   0.0   9.69     0  0.585  6.027   79.7  2.4982    6  391   \n",
              "501  0.06263   0.0  11.93     0  0.573  6.593   69.1  2.4786    1  273   \n",
              "503  0.06076   0.0  11.93     0  0.573  6.976   91.0  2.1675    1  273   \n",
              "504  0.10959   0.0  11.93     0  0.573  6.794   89.3  2.3889    1  273   \n",
              "\n",
              "     ptratio       b  lstat  medv  \n",
              "6       15.2  395.60  12.43  22.9  \n",
              "7       15.2  396.90  19.15  27.1  \n",
              "8       15.2  386.63  29.93  16.5  \n",
              "9       15.2  386.71  17.10  18.9  \n",
              "10      15.2  392.52  20.45  15.0  \n",
              "..       ...     ...    ...   ...  \n",
              "499     19.2  395.77  15.10  17.5  \n",
              "500     19.2  396.90  14.33  16.8  \n",
              "501     21.0  391.99   9.67  22.4  \n",
              "503     21.0  396.90   5.64  23.9  \n",
              "504     21.0  393.45   6.48  22.0  \n",
              "\n",
              "[304 rows x 14 columns]"
            ],
            "text/html": [
              "\n",
              "  <div id=\"df-416bba6f-da92-4fe2-85c1-d044c406e080\" class=\"colab-df-container\">\n",
              "    <div>\n",
              "<style scoped>\n",
              "    .dataframe tbody tr th:only-of-type {\n",
              "        vertical-align: middle;\n",
              "    }\n",
              "\n",
              "    .dataframe tbody tr th {\n",
              "        vertical-align: top;\n",
              "    }\n",
              "\n",
              "    .dataframe thead th {\n",
              "        text-align: right;\n",
              "    }\n",
              "</style>\n",
              "<table border=\"1\" class=\"dataframe\">\n",
              "  <thead>\n",
              "    <tr style=\"text-align: right;\">\n",
              "      <th></th>\n",
              "      <th>crim</th>\n",
              "      <th>zn</th>\n",
              "      <th>indus</th>\n",
              "      <th>chas</th>\n",
              "      <th>nox</th>\n",
              "      <th>rm</th>\n",
              "      <th>age</th>\n",
              "      <th>dis</th>\n",
              "      <th>rad</th>\n",
              "      <th>tax</th>\n",
              "      <th>ptratio</th>\n",
              "      <th>b</th>\n",
              "      <th>lstat</th>\n",
              "      <th>medv</th>\n",
              "    </tr>\n",
              "  </thead>\n",
              "  <tbody>\n",
              "    <tr>\n",
              "      <th>6</th>\n",
              "      <td>0.08829</td>\n",
              "      <td>12.5</td>\n",
              "      <td>7.87</td>\n",
              "      <td>0</td>\n",
              "      <td>0.524</td>\n",
              "      <td>6.012</td>\n",
              "      <td>66.6</td>\n",
              "      <td>5.5605</td>\n",
              "      <td>5</td>\n",
              "      <td>311</td>\n",
              "      <td>15.2</td>\n",
              "      <td>395.60</td>\n",
              "      <td>12.43</td>\n",
              "      <td>22.9</td>\n",
              "    </tr>\n",
              "    <tr>\n",
              "      <th>7</th>\n",
              "      <td>0.14455</td>\n",
              "      <td>12.5</td>\n",
              "      <td>7.87</td>\n",
              "      <td>0</td>\n",
              "      <td>0.524</td>\n",
              "      <td>6.172</td>\n",
              "      <td>96.1</td>\n",
              "      <td>5.9505</td>\n",
              "      <td>5</td>\n",
              "      <td>311</td>\n",
              "      <td>15.2</td>\n",
              "      <td>396.90</td>\n",
              "      <td>19.15</td>\n",
              "      <td>27.1</td>\n",
              "    </tr>\n",
              "    <tr>\n",
              "      <th>8</th>\n",
              "      <td>0.21124</td>\n",
              "      <td>12.5</td>\n",
              "      <td>7.87</td>\n",
              "      <td>0</td>\n",
              "      <td>0.524</td>\n",
              "      <td>5.631</td>\n",
              "      <td>100.0</td>\n",
              "      <td>6.0821</td>\n",
              "      <td>5</td>\n",
              "      <td>311</td>\n",
              "      <td>15.2</td>\n",
              "      <td>386.63</td>\n",
              "      <td>29.93</td>\n",
              "      <td>16.5</td>\n",
              "    </tr>\n",
              "    <tr>\n",
              "      <th>9</th>\n",
              "      <td>0.17004</td>\n",
              "      <td>12.5</td>\n",
              "      <td>7.87</td>\n",
              "      <td>0</td>\n",
              "      <td>0.524</td>\n",
              "      <td>6.004</td>\n",
              "      <td>85.9</td>\n",
              "      <td>6.5921</td>\n",
              "      <td>5</td>\n",
              "      <td>311</td>\n",
              "      <td>15.2</td>\n",
              "      <td>386.71</td>\n",
              "      <td>17.10</td>\n",
              "      <td>18.9</td>\n",
              "    </tr>\n",
              "    <tr>\n",
              "      <th>10</th>\n",
              "      <td>0.22489</td>\n",
              "      <td>12.5</td>\n",
              "      <td>7.87</td>\n",
              "      <td>0</td>\n",
              "      <td>0.524</td>\n",
              "      <td>6.377</td>\n",
              "      <td>94.3</td>\n",
              "      <td>6.3467</td>\n",
              "      <td>5</td>\n",
              "      <td>311</td>\n",
              "      <td>15.2</td>\n",
              "      <td>392.52</td>\n",
              "      <td>20.45</td>\n",
              "      <td>15.0</td>\n",
              "    </tr>\n",
              "    <tr>\n",
              "      <th>...</th>\n",
              "      <td>...</td>\n",
              "      <td>...</td>\n",
              "      <td>...</td>\n",
              "      <td>...</td>\n",
              "      <td>...</td>\n",
              "      <td>...</td>\n",
              "      <td>...</td>\n",
              "      <td>...</td>\n",
              "      <td>...</td>\n",
              "      <td>...</td>\n",
              "      <td>...</td>\n",
              "      <td>...</td>\n",
              "      <td>...</td>\n",
              "      <td>...</td>\n",
              "    </tr>\n",
              "    <tr>\n",
              "      <th>499</th>\n",
              "      <td>0.17783</td>\n",
              "      <td>0.0</td>\n",
              "      <td>9.69</td>\n",
              "      <td>0</td>\n",
              "      <td>0.585</td>\n",
              "      <td>5.569</td>\n",
              "      <td>73.5</td>\n",
              "      <td>2.3999</td>\n",
              "      <td>6</td>\n",
              "      <td>391</td>\n",
              "      <td>19.2</td>\n",
              "      <td>395.77</td>\n",
              "      <td>15.10</td>\n",
              "      <td>17.5</td>\n",
              "    </tr>\n",
              "    <tr>\n",
              "      <th>500</th>\n",
              "      <td>0.22438</td>\n",
              "      <td>0.0</td>\n",
              "      <td>9.69</td>\n",
              "      <td>0</td>\n",
              "      <td>0.585</td>\n",
              "      <td>6.027</td>\n",
              "      <td>79.7</td>\n",
              "      <td>2.4982</td>\n",
              "      <td>6</td>\n",
              "      <td>391</td>\n",
              "      <td>19.2</td>\n",
              "      <td>396.90</td>\n",
              "      <td>14.33</td>\n",
              "      <td>16.8</td>\n",
              "    </tr>\n",
              "    <tr>\n",
              "      <th>501</th>\n",
              "      <td>0.06263</td>\n",
              "      <td>0.0</td>\n",
              "      <td>11.93</td>\n",
              "      <td>0</td>\n",
              "      <td>0.573</td>\n",
              "      <td>6.593</td>\n",
              "      <td>69.1</td>\n",
              "      <td>2.4786</td>\n",
              "      <td>1</td>\n",
              "      <td>273</td>\n",
              "      <td>21.0</td>\n",
              "      <td>391.99</td>\n",
              "      <td>9.67</td>\n",
              "      <td>22.4</td>\n",
              "    </tr>\n",
              "    <tr>\n",
              "      <th>503</th>\n",
              "      <td>0.06076</td>\n",
              "      <td>0.0</td>\n",
              "      <td>11.93</td>\n",
              "      <td>0</td>\n",
              "      <td>0.573</td>\n",
              "      <td>6.976</td>\n",
              "      <td>91.0</td>\n",
              "      <td>2.1675</td>\n",
              "      <td>1</td>\n",
              "      <td>273</td>\n",
              "      <td>21.0</td>\n",
              "      <td>396.90</td>\n",
              "      <td>5.64</td>\n",
              "      <td>23.9</td>\n",
              "    </tr>\n",
              "    <tr>\n",
              "      <th>504</th>\n",
              "      <td>0.10959</td>\n",
              "      <td>0.0</td>\n",
              "      <td>11.93</td>\n",
              "      <td>0</td>\n",
              "      <td>0.573</td>\n",
              "      <td>6.794</td>\n",
              "      <td>89.3</td>\n",
              "      <td>2.3889</td>\n",
              "      <td>1</td>\n",
              "      <td>273</td>\n",
              "      <td>21.0</td>\n",
              "      <td>393.45</td>\n",
              "      <td>6.48</td>\n",
              "      <td>22.0</td>\n",
              "    </tr>\n",
              "  </tbody>\n",
              "</table>\n",
              "<p>304 rows × 14 columns</p>\n",
              "</div>\n",
              "    <div class=\"colab-df-buttons\">\n",
              "\n",
              "  <div class=\"colab-df-container\">\n",
              "    <button class=\"colab-df-convert\" onclick=\"convertToInteractive('df-416bba6f-da92-4fe2-85c1-d044c406e080')\"\n",
              "            title=\"Convert this dataframe to an interactive table.\"\n",
              "            style=\"display:none;\">\n",
              "\n",
              "  <svg xmlns=\"http://www.w3.org/2000/svg\" height=\"24px\" viewBox=\"0 -960 960 960\">\n",
              "    <path d=\"M120-120v-720h720v720H120Zm60-500h600v-160H180v160Zm220 220h160v-160H400v160Zm0 220h160v-160H400v160ZM180-400h160v-160H180v160Zm440 0h160v-160H620v160ZM180-180h160v-160H180v160Zm440 0h160v-160H620v160Z\"/>\n",
              "  </svg>\n",
              "    </button>\n",
              "\n",
              "  <style>\n",
              "    .colab-df-container {\n",
              "      display:flex;\n",
              "      gap: 12px;\n",
              "    }\n",
              "\n",
              "    .colab-df-convert {\n",
              "      background-color: #E8F0FE;\n",
              "      border: none;\n",
              "      border-radius: 50%;\n",
              "      cursor: pointer;\n",
              "      display: none;\n",
              "      fill: #1967D2;\n",
              "      height: 32px;\n",
              "      padding: 0 0 0 0;\n",
              "      width: 32px;\n",
              "    }\n",
              "\n",
              "    .colab-df-convert:hover {\n",
              "      background-color: #E2EBFA;\n",
              "      box-shadow: 0px 1px 2px rgba(60, 64, 67, 0.3), 0px 1px 3px 1px rgba(60, 64, 67, 0.15);\n",
              "      fill: #174EA6;\n",
              "    }\n",
              "\n",
              "    .colab-df-buttons div {\n",
              "      margin-bottom: 4px;\n",
              "    }\n",
              "\n",
              "    [theme=dark] .colab-df-convert {\n",
              "      background-color: #3B4455;\n",
              "      fill: #D2E3FC;\n",
              "    }\n",
              "\n",
              "    [theme=dark] .colab-df-convert:hover {\n",
              "      background-color: #434B5C;\n",
              "      box-shadow: 0px 1px 3px 1px rgba(0, 0, 0, 0.15);\n",
              "      filter: drop-shadow(0px 1px 2px rgba(0, 0, 0, 0.3));\n",
              "      fill: #FFFFFF;\n",
              "    }\n",
              "  </style>\n",
              "\n",
              "    <script>\n",
              "      const buttonEl =\n",
              "        document.querySelector('#df-416bba6f-da92-4fe2-85c1-d044c406e080 button.colab-df-convert');\n",
              "      buttonEl.style.display =\n",
              "        google.colab.kernel.accessAllowed ? 'block' : 'none';\n",
              "\n",
              "      async function convertToInteractive(key) {\n",
              "        const element = document.querySelector('#df-416bba6f-da92-4fe2-85c1-d044c406e080');\n",
              "        const dataTable =\n",
              "          await google.colab.kernel.invokeFunction('convertToInteractive',\n",
              "                                                    [key], {});\n",
              "        if (!dataTable) return;\n",
              "\n",
              "        const docLinkHtml = 'Like what you see? Visit the ' +\n",
              "          '<a target=\"_blank\" href=https://colab.research.google.com/notebooks/data_table.ipynb>data table notebook</a>'\n",
              "          + ' to learn more about interactive tables.';\n",
              "        element.innerHTML = '';\n",
              "        dataTable['output_type'] = 'display_data';\n",
              "        await google.colab.output.renderOutput(dataTable, element);\n",
              "        const docLink = document.createElement('div');\n",
              "        docLink.innerHTML = docLinkHtml;\n",
              "        element.appendChild(docLink);\n",
              "      }\n",
              "    </script>\n",
              "  </div>\n",
              "\n",
              "\n",
              "<div id=\"df-b2214252-139f-4c40-ab74-d92194cb7892\">\n",
              "  <button class=\"colab-df-quickchart\" onclick=\"quickchart('df-b2214252-139f-4c40-ab74-d92194cb7892')\"\n",
              "            title=\"Suggest charts\"\n",
              "            style=\"display:none;\">\n",
              "\n",
              "<svg xmlns=\"http://www.w3.org/2000/svg\" height=\"24px\"viewBox=\"0 0 24 24\"\n",
              "     width=\"24px\">\n",
              "    <g>\n",
              "        <path d=\"M19 3H5c-1.1 0-2 .9-2 2v14c0 1.1.9 2 2 2h14c1.1 0 2-.9 2-2V5c0-1.1-.9-2-2-2zM9 17H7v-7h2v7zm4 0h-2V7h2v10zm4 0h-2v-4h2v4z\"/>\n",
              "    </g>\n",
              "</svg>\n",
              "  </button>\n",
              "\n",
              "<style>\n",
              "  .colab-df-quickchart {\n",
              "      --bg-color: #E8F0FE;\n",
              "      --fill-color: #1967D2;\n",
              "      --hover-bg-color: #E2EBFA;\n",
              "      --hover-fill-color: #174EA6;\n",
              "      --disabled-fill-color: #AAA;\n",
              "      --disabled-bg-color: #DDD;\n",
              "  }\n",
              "\n",
              "  [theme=dark] .colab-df-quickchart {\n",
              "      --bg-color: #3B4455;\n",
              "      --fill-color: #D2E3FC;\n",
              "      --hover-bg-color: #434B5C;\n",
              "      --hover-fill-color: #FFFFFF;\n",
              "      --disabled-bg-color: #3B4455;\n",
              "      --disabled-fill-color: #666;\n",
              "  }\n",
              "\n",
              "  .colab-df-quickchart {\n",
              "    background-color: var(--bg-color);\n",
              "    border: none;\n",
              "    border-radius: 50%;\n",
              "    cursor: pointer;\n",
              "    display: none;\n",
              "    fill: var(--fill-color);\n",
              "    height: 32px;\n",
              "    padding: 0;\n",
              "    width: 32px;\n",
              "  }\n",
              "\n",
              "  .colab-df-quickchart:hover {\n",
              "    background-color: var(--hover-bg-color);\n",
              "    box-shadow: 0 1px 2px rgba(60, 64, 67, 0.3), 0 1px 3px 1px rgba(60, 64, 67, 0.15);\n",
              "    fill: var(--button-hover-fill-color);\n",
              "  }\n",
              "\n",
              "  .colab-df-quickchart-complete:disabled,\n",
              "  .colab-df-quickchart-complete:disabled:hover {\n",
              "    background-color: var(--disabled-bg-color);\n",
              "    fill: var(--disabled-fill-color);\n",
              "    box-shadow: none;\n",
              "  }\n",
              "\n",
              "  .colab-df-spinner {\n",
              "    border: 2px solid var(--fill-color);\n",
              "    border-color: transparent;\n",
              "    border-bottom-color: var(--fill-color);\n",
              "    animation:\n",
              "      spin 1s steps(1) infinite;\n",
              "  }\n",
              "\n",
              "  @keyframes spin {\n",
              "    0% {\n",
              "      border-color: transparent;\n",
              "      border-bottom-color: var(--fill-color);\n",
              "      border-left-color: var(--fill-color);\n",
              "    }\n",
              "    20% {\n",
              "      border-color: transparent;\n",
              "      border-left-color: var(--fill-color);\n",
              "      border-top-color: var(--fill-color);\n",
              "    }\n",
              "    30% {\n",
              "      border-color: transparent;\n",
              "      border-left-color: var(--fill-color);\n",
              "      border-top-color: var(--fill-color);\n",
              "      border-right-color: var(--fill-color);\n",
              "    }\n",
              "    40% {\n",
              "      border-color: transparent;\n",
              "      border-right-color: var(--fill-color);\n",
              "      border-top-color: var(--fill-color);\n",
              "    }\n",
              "    60% {\n",
              "      border-color: transparent;\n",
              "      border-right-color: var(--fill-color);\n",
              "    }\n",
              "    80% {\n",
              "      border-color: transparent;\n",
              "      border-right-color: var(--fill-color);\n",
              "      border-bottom-color: var(--fill-color);\n",
              "    }\n",
              "    90% {\n",
              "      border-color: transparent;\n",
              "      border-bottom-color: var(--fill-color);\n",
              "    }\n",
              "  }\n",
              "</style>\n",
              "\n",
              "  <script>\n",
              "    async function quickchart(key) {\n",
              "      const quickchartButtonEl =\n",
              "        document.querySelector('#' + key + ' button');\n",
              "      quickchartButtonEl.disabled = true;  // To prevent multiple clicks.\n",
              "      quickchartButtonEl.classList.add('colab-df-spinner');\n",
              "      try {\n",
              "        const charts = await google.colab.kernel.invokeFunction(\n",
              "            'suggestCharts', [key], {});\n",
              "      } catch (error) {\n",
              "        console.error('Error during call to suggestCharts:', error);\n",
              "      }\n",
              "      quickchartButtonEl.classList.remove('colab-df-spinner');\n",
              "      quickchartButtonEl.classList.add('colab-df-quickchart-complete');\n",
              "    }\n",
              "    (() => {\n",
              "      let quickchartButtonEl =\n",
              "        document.querySelector('#df-b2214252-139f-4c40-ab74-d92194cb7892 button');\n",
              "      quickchartButtonEl.style.display =\n",
              "        google.colab.kernel.accessAllowed ? 'block' : 'none';\n",
              "    })();\n",
              "  </script>\n",
              "</div>\n",
              "    </div>\n",
              "  </div>\n"
            ]
          },
          "metadata": {},
          "execution_count": 29
        }
      ]
    },
    {
      "cell_type": "markdown",
      "source": [
        "## Data processing\n",
        "\n",
        "Sometimes we might need to drop columns/rows and only keep some of the useful columns/rows, or sometimes we need to check whether there are missing data and drop or fill the missing data. Here are the ways how we can do:"
      ],
      "metadata": {
        "id": "o6OTBLtYrqlJ"
      }
    },
    {
      "cell_type": "markdown",
      "source": [
        "Dropping columns/rows using DataFrame.drop() :"
      ],
      "metadata": {
        "id": "iDI_04IPr9hh"
      }
    },
    {
      "cell_type": "code",
      "source": [
        "df1 = df.drop(['crim'],axis = 1) # here we drop column crim and use axis = 1 to tell we are dropping a column.\n",
        "df1"
      ],
      "metadata": {
        "colab": {
          "base_uri": "https://localhost:8080/",
          "height": 424
        },
        "id": "Wl-LWoH5sHlb",
        "outputId": "d3c462fd-fed3-439e-a8c5-1f1dbf3e31ca"
      },
      "execution_count": null,
      "outputs": [
        {
          "output_type": "execute_result",
          "data": {
            "text/plain": [
              "       zn  indus  chas    nox     rm   age     dis  rad  tax  ptratio       b  \\\n",
              "0    18.0   2.31     0  0.538  6.575  65.2  4.0900    1  296     15.3  396.90   \n",
              "1     0.0   7.07     0  0.469  6.421  78.9  4.9671    2  242     17.8  396.90   \n",
              "2     0.0   7.07     0  0.469  7.185  61.1  4.9671    2  242     17.8  392.83   \n",
              "3     0.0   2.18     0  0.458  6.998  45.8  6.0622    3  222     18.7  394.63   \n",
              "4     0.0   2.18     0  0.458  7.147  54.2  6.0622    3  222     18.7  396.90   \n",
              "..    ...    ...   ...    ...    ...   ...     ...  ...  ...      ...     ...   \n",
              "501   0.0  11.93     0  0.573  6.593  69.1  2.4786    1  273     21.0  391.99   \n",
              "502   0.0  11.93     0  0.573  6.120  76.7  2.2875    1  273     21.0  396.90   \n",
              "503   0.0  11.93     0  0.573  6.976  91.0  2.1675    1  273     21.0  396.90   \n",
              "504   0.0  11.93     0  0.573  6.794  89.3  2.3889    1  273     21.0  393.45   \n",
              "505   0.0  11.93     0  0.573  6.030  80.8  2.5050    1  273     21.0  396.90   \n",
              "\n",
              "     lstat  medv  \n",
              "0     4.98  24.0  \n",
              "1     9.14  21.6  \n",
              "2     4.03  34.7  \n",
              "3     2.94  33.4  \n",
              "4     5.33  36.2  \n",
              "..     ...   ...  \n",
              "501   9.67  22.4  \n",
              "502   9.08  20.6  \n",
              "503   5.64  23.9  \n",
              "504   6.48  22.0  \n",
              "505   7.88  11.9  \n",
              "\n",
              "[506 rows x 13 columns]"
            ],
            "text/html": [
              "\n",
              "  <div id=\"df-7659546a-3c32-4567-ad52-b91c5c0402e2\" class=\"colab-df-container\">\n",
              "    <div>\n",
              "<style scoped>\n",
              "    .dataframe tbody tr th:only-of-type {\n",
              "        vertical-align: middle;\n",
              "    }\n",
              "\n",
              "    .dataframe tbody tr th {\n",
              "        vertical-align: top;\n",
              "    }\n",
              "\n",
              "    .dataframe thead th {\n",
              "        text-align: right;\n",
              "    }\n",
              "</style>\n",
              "<table border=\"1\" class=\"dataframe\">\n",
              "  <thead>\n",
              "    <tr style=\"text-align: right;\">\n",
              "      <th></th>\n",
              "      <th>zn</th>\n",
              "      <th>indus</th>\n",
              "      <th>chas</th>\n",
              "      <th>nox</th>\n",
              "      <th>rm</th>\n",
              "      <th>age</th>\n",
              "      <th>dis</th>\n",
              "      <th>rad</th>\n",
              "      <th>tax</th>\n",
              "      <th>ptratio</th>\n",
              "      <th>b</th>\n",
              "      <th>lstat</th>\n",
              "      <th>medv</th>\n",
              "    </tr>\n",
              "  </thead>\n",
              "  <tbody>\n",
              "    <tr>\n",
              "      <th>0</th>\n",
              "      <td>18.0</td>\n",
              "      <td>2.31</td>\n",
              "      <td>0</td>\n",
              "      <td>0.538</td>\n",
              "      <td>6.575</td>\n",
              "      <td>65.2</td>\n",
              "      <td>4.0900</td>\n",
              "      <td>1</td>\n",
              "      <td>296</td>\n",
              "      <td>15.3</td>\n",
              "      <td>396.90</td>\n",
              "      <td>4.98</td>\n",
              "      <td>24.0</td>\n",
              "    </tr>\n",
              "    <tr>\n",
              "      <th>1</th>\n",
              "      <td>0.0</td>\n",
              "      <td>7.07</td>\n",
              "      <td>0</td>\n",
              "      <td>0.469</td>\n",
              "      <td>6.421</td>\n",
              "      <td>78.9</td>\n",
              "      <td>4.9671</td>\n",
              "      <td>2</td>\n",
              "      <td>242</td>\n",
              "      <td>17.8</td>\n",
              "      <td>396.90</td>\n",
              "      <td>9.14</td>\n",
              "      <td>21.6</td>\n",
              "    </tr>\n",
              "    <tr>\n",
              "      <th>2</th>\n",
              "      <td>0.0</td>\n",
              "      <td>7.07</td>\n",
              "      <td>0</td>\n",
              "      <td>0.469</td>\n",
              "      <td>7.185</td>\n",
              "      <td>61.1</td>\n",
              "      <td>4.9671</td>\n",
              "      <td>2</td>\n",
              "      <td>242</td>\n",
              "      <td>17.8</td>\n",
              "      <td>392.83</td>\n",
              "      <td>4.03</td>\n",
              "      <td>34.7</td>\n",
              "    </tr>\n",
              "    <tr>\n",
              "      <th>3</th>\n",
              "      <td>0.0</td>\n",
              "      <td>2.18</td>\n",
              "      <td>0</td>\n",
              "      <td>0.458</td>\n",
              "      <td>6.998</td>\n",
              "      <td>45.8</td>\n",
              "      <td>6.0622</td>\n",
              "      <td>3</td>\n",
              "      <td>222</td>\n",
              "      <td>18.7</td>\n",
              "      <td>394.63</td>\n",
              "      <td>2.94</td>\n",
              "      <td>33.4</td>\n",
              "    </tr>\n",
              "    <tr>\n",
              "      <th>4</th>\n",
              "      <td>0.0</td>\n",
              "      <td>2.18</td>\n",
              "      <td>0</td>\n",
              "      <td>0.458</td>\n",
              "      <td>7.147</td>\n",
              "      <td>54.2</td>\n",
              "      <td>6.0622</td>\n",
              "      <td>3</td>\n",
              "      <td>222</td>\n",
              "      <td>18.7</td>\n",
              "      <td>396.90</td>\n",
              "      <td>5.33</td>\n",
              "      <td>36.2</td>\n",
              "    </tr>\n",
              "    <tr>\n",
              "      <th>...</th>\n",
              "      <td>...</td>\n",
              "      <td>...</td>\n",
              "      <td>...</td>\n",
              "      <td>...</td>\n",
              "      <td>...</td>\n",
              "      <td>...</td>\n",
              "      <td>...</td>\n",
              "      <td>...</td>\n",
              "      <td>...</td>\n",
              "      <td>...</td>\n",
              "      <td>...</td>\n",
              "      <td>...</td>\n",
              "      <td>...</td>\n",
              "    </tr>\n",
              "    <tr>\n",
              "      <th>501</th>\n",
              "      <td>0.0</td>\n",
              "      <td>11.93</td>\n",
              "      <td>0</td>\n",
              "      <td>0.573</td>\n",
              "      <td>6.593</td>\n",
              "      <td>69.1</td>\n",
              "      <td>2.4786</td>\n",
              "      <td>1</td>\n",
              "      <td>273</td>\n",
              "      <td>21.0</td>\n",
              "      <td>391.99</td>\n",
              "      <td>9.67</td>\n",
              "      <td>22.4</td>\n",
              "    </tr>\n",
              "    <tr>\n",
              "      <th>502</th>\n",
              "      <td>0.0</td>\n",
              "      <td>11.93</td>\n",
              "      <td>0</td>\n",
              "      <td>0.573</td>\n",
              "      <td>6.120</td>\n",
              "      <td>76.7</td>\n",
              "      <td>2.2875</td>\n",
              "      <td>1</td>\n",
              "      <td>273</td>\n",
              "      <td>21.0</td>\n",
              "      <td>396.90</td>\n",
              "      <td>9.08</td>\n",
              "      <td>20.6</td>\n",
              "    </tr>\n",
              "    <tr>\n",
              "      <th>503</th>\n",
              "      <td>0.0</td>\n",
              "      <td>11.93</td>\n",
              "      <td>0</td>\n",
              "      <td>0.573</td>\n",
              "      <td>6.976</td>\n",
              "      <td>91.0</td>\n",
              "      <td>2.1675</td>\n",
              "      <td>1</td>\n",
              "      <td>273</td>\n",
              "      <td>21.0</td>\n",
              "      <td>396.90</td>\n",
              "      <td>5.64</td>\n",
              "      <td>23.9</td>\n",
              "    </tr>\n",
              "    <tr>\n",
              "      <th>504</th>\n",
              "      <td>0.0</td>\n",
              "      <td>11.93</td>\n",
              "      <td>0</td>\n",
              "      <td>0.573</td>\n",
              "      <td>6.794</td>\n",
              "      <td>89.3</td>\n",
              "      <td>2.3889</td>\n",
              "      <td>1</td>\n",
              "      <td>273</td>\n",
              "      <td>21.0</td>\n",
              "      <td>393.45</td>\n",
              "      <td>6.48</td>\n",
              "      <td>22.0</td>\n",
              "    </tr>\n",
              "    <tr>\n",
              "      <th>505</th>\n",
              "      <td>0.0</td>\n",
              "      <td>11.93</td>\n",
              "      <td>0</td>\n",
              "      <td>0.573</td>\n",
              "      <td>6.030</td>\n",
              "      <td>80.8</td>\n",
              "      <td>2.5050</td>\n",
              "      <td>1</td>\n",
              "      <td>273</td>\n",
              "      <td>21.0</td>\n",
              "      <td>396.90</td>\n",
              "      <td>7.88</td>\n",
              "      <td>11.9</td>\n",
              "    </tr>\n",
              "  </tbody>\n",
              "</table>\n",
              "<p>506 rows × 13 columns</p>\n",
              "</div>\n",
              "    <div class=\"colab-df-buttons\">\n",
              "\n",
              "  <div class=\"colab-df-container\">\n",
              "    <button class=\"colab-df-convert\" onclick=\"convertToInteractive('df-7659546a-3c32-4567-ad52-b91c5c0402e2')\"\n",
              "            title=\"Convert this dataframe to an interactive table.\"\n",
              "            style=\"display:none;\">\n",
              "\n",
              "  <svg xmlns=\"http://www.w3.org/2000/svg\" height=\"24px\" viewBox=\"0 -960 960 960\">\n",
              "    <path d=\"M120-120v-720h720v720H120Zm60-500h600v-160H180v160Zm220 220h160v-160H400v160Zm0 220h160v-160H400v160ZM180-400h160v-160H180v160Zm440 0h160v-160H620v160ZM180-180h160v-160H180v160Zm440 0h160v-160H620v160Z\"/>\n",
              "  </svg>\n",
              "    </button>\n",
              "\n",
              "  <style>\n",
              "    .colab-df-container {\n",
              "      display:flex;\n",
              "      gap: 12px;\n",
              "    }\n",
              "\n",
              "    .colab-df-convert {\n",
              "      background-color: #E8F0FE;\n",
              "      border: none;\n",
              "      border-radius: 50%;\n",
              "      cursor: pointer;\n",
              "      display: none;\n",
              "      fill: #1967D2;\n",
              "      height: 32px;\n",
              "      padding: 0 0 0 0;\n",
              "      width: 32px;\n",
              "    }\n",
              "\n",
              "    .colab-df-convert:hover {\n",
              "      background-color: #E2EBFA;\n",
              "      box-shadow: 0px 1px 2px rgba(60, 64, 67, 0.3), 0px 1px 3px 1px rgba(60, 64, 67, 0.15);\n",
              "      fill: #174EA6;\n",
              "    }\n",
              "\n",
              "    .colab-df-buttons div {\n",
              "      margin-bottom: 4px;\n",
              "    }\n",
              "\n",
              "    [theme=dark] .colab-df-convert {\n",
              "      background-color: #3B4455;\n",
              "      fill: #D2E3FC;\n",
              "    }\n",
              "\n",
              "    [theme=dark] .colab-df-convert:hover {\n",
              "      background-color: #434B5C;\n",
              "      box-shadow: 0px 1px 3px 1px rgba(0, 0, 0, 0.15);\n",
              "      filter: drop-shadow(0px 1px 2px rgba(0, 0, 0, 0.3));\n",
              "      fill: #FFFFFF;\n",
              "    }\n",
              "  </style>\n",
              "\n",
              "    <script>\n",
              "      const buttonEl =\n",
              "        document.querySelector('#df-7659546a-3c32-4567-ad52-b91c5c0402e2 button.colab-df-convert');\n",
              "      buttonEl.style.display =\n",
              "        google.colab.kernel.accessAllowed ? 'block' : 'none';\n",
              "\n",
              "      async function convertToInteractive(key) {\n",
              "        const element = document.querySelector('#df-7659546a-3c32-4567-ad52-b91c5c0402e2');\n",
              "        const dataTable =\n",
              "          await google.colab.kernel.invokeFunction('convertToInteractive',\n",
              "                                                    [key], {});\n",
              "        if (!dataTable) return;\n",
              "\n",
              "        const docLinkHtml = 'Like what you see? Visit the ' +\n",
              "          '<a target=\"_blank\" href=https://colab.research.google.com/notebooks/data_table.ipynb>data table notebook</a>'\n",
              "          + ' to learn more about interactive tables.';\n",
              "        element.innerHTML = '';\n",
              "        dataTable['output_type'] = 'display_data';\n",
              "        await google.colab.output.renderOutput(dataTable, element);\n",
              "        const docLink = document.createElement('div');\n",
              "        docLink.innerHTML = docLinkHtml;\n",
              "        element.appendChild(docLink);\n",
              "      }\n",
              "    </script>\n",
              "  </div>\n",
              "\n",
              "\n",
              "<div id=\"df-c09bb82e-9cf9-4465-b4b8-4ee78c21eb0c\">\n",
              "  <button class=\"colab-df-quickchart\" onclick=\"quickchart('df-c09bb82e-9cf9-4465-b4b8-4ee78c21eb0c')\"\n",
              "            title=\"Suggest charts\"\n",
              "            style=\"display:none;\">\n",
              "\n",
              "<svg xmlns=\"http://www.w3.org/2000/svg\" height=\"24px\"viewBox=\"0 0 24 24\"\n",
              "     width=\"24px\">\n",
              "    <g>\n",
              "        <path d=\"M19 3H5c-1.1 0-2 .9-2 2v14c0 1.1.9 2 2 2h14c1.1 0 2-.9 2-2V5c0-1.1-.9-2-2-2zM9 17H7v-7h2v7zm4 0h-2V7h2v10zm4 0h-2v-4h2v4z\"/>\n",
              "    </g>\n",
              "</svg>\n",
              "  </button>\n",
              "\n",
              "<style>\n",
              "  .colab-df-quickchart {\n",
              "      --bg-color: #E8F0FE;\n",
              "      --fill-color: #1967D2;\n",
              "      --hover-bg-color: #E2EBFA;\n",
              "      --hover-fill-color: #174EA6;\n",
              "      --disabled-fill-color: #AAA;\n",
              "      --disabled-bg-color: #DDD;\n",
              "  }\n",
              "\n",
              "  [theme=dark] .colab-df-quickchart {\n",
              "      --bg-color: #3B4455;\n",
              "      --fill-color: #D2E3FC;\n",
              "      --hover-bg-color: #434B5C;\n",
              "      --hover-fill-color: #FFFFFF;\n",
              "      --disabled-bg-color: #3B4455;\n",
              "      --disabled-fill-color: #666;\n",
              "  }\n",
              "\n",
              "  .colab-df-quickchart {\n",
              "    background-color: var(--bg-color);\n",
              "    border: none;\n",
              "    border-radius: 50%;\n",
              "    cursor: pointer;\n",
              "    display: none;\n",
              "    fill: var(--fill-color);\n",
              "    height: 32px;\n",
              "    padding: 0;\n",
              "    width: 32px;\n",
              "  }\n",
              "\n",
              "  .colab-df-quickchart:hover {\n",
              "    background-color: var(--hover-bg-color);\n",
              "    box-shadow: 0 1px 2px rgba(60, 64, 67, 0.3), 0 1px 3px 1px rgba(60, 64, 67, 0.15);\n",
              "    fill: var(--button-hover-fill-color);\n",
              "  }\n",
              "\n",
              "  .colab-df-quickchart-complete:disabled,\n",
              "  .colab-df-quickchart-complete:disabled:hover {\n",
              "    background-color: var(--disabled-bg-color);\n",
              "    fill: var(--disabled-fill-color);\n",
              "    box-shadow: none;\n",
              "  }\n",
              "\n",
              "  .colab-df-spinner {\n",
              "    border: 2px solid var(--fill-color);\n",
              "    border-color: transparent;\n",
              "    border-bottom-color: var(--fill-color);\n",
              "    animation:\n",
              "      spin 1s steps(1) infinite;\n",
              "  }\n",
              "\n",
              "  @keyframes spin {\n",
              "    0% {\n",
              "      border-color: transparent;\n",
              "      border-bottom-color: var(--fill-color);\n",
              "      border-left-color: var(--fill-color);\n",
              "    }\n",
              "    20% {\n",
              "      border-color: transparent;\n",
              "      border-left-color: var(--fill-color);\n",
              "      border-top-color: var(--fill-color);\n",
              "    }\n",
              "    30% {\n",
              "      border-color: transparent;\n",
              "      border-left-color: var(--fill-color);\n",
              "      border-top-color: var(--fill-color);\n",
              "      border-right-color: var(--fill-color);\n",
              "    }\n",
              "    40% {\n",
              "      border-color: transparent;\n",
              "      border-right-color: var(--fill-color);\n",
              "      border-top-color: var(--fill-color);\n",
              "    }\n",
              "    60% {\n",
              "      border-color: transparent;\n",
              "      border-right-color: var(--fill-color);\n",
              "    }\n",
              "    80% {\n",
              "      border-color: transparent;\n",
              "      border-right-color: var(--fill-color);\n",
              "      border-bottom-color: var(--fill-color);\n",
              "    }\n",
              "    90% {\n",
              "      border-color: transparent;\n",
              "      border-bottom-color: var(--fill-color);\n",
              "    }\n",
              "  }\n",
              "</style>\n",
              "\n",
              "  <script>\n",
              "    async function quickchart(key) {\n",
              "      const quickchartButtonEl =\n",
              "        document.querySelector('#' + key + ' button');\n",
              "      quickchartButtonEl.disabled = true;  // To prevent multiple clicks.\n",
              "      quickchartButtonEl.classList.add('colab-df-spinner');\n",
              "      try {\n",
              "        const charts = await google.colab.kernel.invokeFunction(\n",
              "            'suggestCharts', [key], {});\n",
              "      } catch (error) {\n",
              "        console.error('Error during call to suggestCharts:', error);\n",
              "      }\n",
              "      quickchartButtonEl.classList.remove('colab-df-spinner');\n",
              "      quickchartButtonEl.classList.add('colab-df-quickchart-complete');\n",
              "    }\n",
              "    (() => {\n",
              "      let quickchartButtonEl =\n",
              "        document.querySelector('#df-c09bb82e-9cf9-4465-b4b8-4ee78c21eb0c button');\n",
              "      quickchartButtonEl.style.display =\n",
              "        google.colab.kernel.accessAllowed ? 'block' : 'none';\n",
              "    })();\n",
              "  </script>\n",
              "</div>\n",
              "    </div>\n",
              "  </div>\n"
            ]
          },
          "metadata": {},
          "execution_count": 30
        }
      ]
    },
    {
      "cell_type": "code",
      "source": [
        "df1 = df.drop(0,axis = 0) # here we drop row 0 (which is the first row) and use axis = 0 to tell we are dropping a row\n",
        "df1"
      ],
      "metadata": {
        "colab": {
          "base_uri": "https://localhost:8080/",
          "height": 424
        },
        "id": "zOQBQL5Psekr",
        "outputId": "4f74f2eb-7266-450e-9f2a-fc3df9cbf661"
      },
      "execution_count": null,
      "outputs": [
        {
          "output_type": "execute_result",
          "data": {
            "text/plain": [
              "        crim   zn  indus  chas    nox     rm   age     dis  rad  tax  ptratio  \\\n",
              "1    0.02731  0.0   7.07     0  0.469  6.421  78.9  4.9671    2  242     17.8   \n",
              "2    0.02729  0.0   7.07     0  0.469  7.185  61.1  4.9671    2  242     17.8   \n",
              "3    0.03237  0.0   2.18     0  0.458  6.998  45.8  6.0622    3  222     18.7   \n",
              "4    0.06905  0.0   2.18     0  0.458  7.147  54.2  6.0622    3  222     18.7   \n",
              "5    0.02985  0.0   2.18     0  0.458  6.430  58.7  6.0622    3  222     18.7   \n",
              "..       ...  ...    ...   ...    ...    ...   ...     ...  ...  ...      ...   \n",
              "501  0.06263  0.0  11.93     0  0.573  6.593  69.1  2.4786    1  273     21.0   \n",
              "502  0.04527  0.0  11.93     0  0.573  6.120  76.7  2.2875    1  273     21.0   \n",
              "503  0.06076  0.0  11.93     0  0.573  6.976  91.0  2.1675    1  273     21.0   \n",
              "504  0.10959  0.0  11.93     0  0.573  6.794  89.3  2.3889    1  273     21.0   \n",
              "505  0.04741  0.0  11.93     0  0.573  6.030  80.8  2.5050    1  273     21.0   \n",
              "\n",
              "          b  lstat  medv  \n",
              "1    396.90   9.14  21.6  \n",
              "2    392.83   4.03  34.7  \n",
              "3    394.63   2.94  33.4  \n",
              "4    396.90   5.33  36.2  \n",
              "5    394.12   5.21  28.7  \n",
              "..      ...    ...   ...  \n",
              "501  391.99   9.67  22.4  \n",
              "502  396.90   9.08  20.6  \n",
              "503  396.90   5.64  23.9  \n",
              "504  393.45   6.48  22.0  \n",
              "505  396.90   7.88  11.9  \n",
              "\n",
              "[505 rows x 14 columns]"
            ],
            "text/html": [
              "\n",
              "  <div id=\"df-69653804-76e8-485e-ac87-75a29060c182\" class=\"colab-df-container\">\n",
              "    <div>\n",
              "<style scoped>\n",
              "    .dataframe tbody tr th:only-of-type {\n",
              "        vertical-align: middle;\n",
              "    }\n",
              "\n",
              "    .dataframe tbody tr th {\n",
              "        vertical-align: top;\n",
              "    }\n",
              "\n",
              "    .dataframe thead th {\n",
              "        text-align: right;\n",
              "    }\n",
              "</style>\n",
              "<table border=\"1\" class=\"dataframe\">\n",
              "  <thead>\n",
              "    <tr style=\"text-align: right;\">\n",
              "      <th></th>\n",
              "      <th>crim</th>\n",
              "      <th>zn</th>\n",
              "      <th>indus</th>\n",
              "      <th>chas</th>\n",
              "      <th>nox</th>\n",
              "      <th>rm</th>\n",
              "      <th>age</th>\n",
              "      <th>dis</th>\n",
              "      <th>rad</th>\n",
              "      <th>tax</th>\n",
              "      <th>ptratio</th>\n",
              "      <th>b</th>\n",
              "      <th>lstat</th>\n",
              "      <th>medv</th>\n",
              "    </tr>\n",
              "  </thead>\n",
              "  <tbody>\n",
              "    <tr>\n",
              "      <th>1</th>\n",
              "      <td>0.02731</td>\n",
              "      <td>0.0</td>\n",
              "      <td>7.07</td>\n",
              "      <td>0</td>\n",
              "      <td>0.469</td>\n",
              "      <td>6.421</td>\n",
              "      <td>78.9</td>\n",
              "      <td>4.9671</td>\n",
              "      <td>2</td>\n",
              "      <td>242</td>\n",
              "      <td>17.8</td>\n",
              "      <td>396.90</td>\n",
              "      <td>9.14</td>\n",
              "      <td>21.6</td>\n",
              "    </tr>\n",
              "    <tr>\n",
              "      <th>2</th>\n",
              "      <td>0.02729</td>\n",
              "      <td>0.0</td>\n",
              "      <td>7.07</td>\n",
              "      <td>0</td>\n",
              "      <td>0.469</td>\n",
              "      <td>7.185</td>\n",
              "      <td>61.1</td>\n",
              "      <td>4.9671</td>\n",
              "      <td>2</td>\n",
              "      <td>242</td>\n",
              "      <td>17.8</td>\n",
              "      <td>392.83</td>\n",
              "      <td>4.03</td>\n",
              "      <td>34.7</td>\n",
              "    </tr>\n",
              "    <tr>\n",
              "      <th>3</th>\n",
              "      <td>0.03237</td>\n",
              "      <td>0.0</td>\n",
              "      <td>2.18</td>\n",
              "      <td>0</td>\n",
              "      <td>0.458</td>\n",
              "      <td>6.998</td>\n",
              "      <td>45.8</td>\n",
              "      <td>6.0622</td>\n",
              "      <td>3</td>\n",
              "      <td>222</td>\n",
              "      <td>18.7</td>\n",
              "      <td>394.63</td>\n",
              "      <td>2.94</td>\n",
              "      <td>33.4</td>\n",
              "    </tr>\n",
              "    <tr>\n",
              "      <th>4</th>\n",
              "      <td>0.06905</td>\n",
              "      <td>0.0</td>\n",
              "      <td>2.18</td>\n",
              "      <td>0</td>\n",
              "      <td>0.458</td>\n",
              "      <td>7.147</td>\n",
              "      <td>54.2</td>\n",
              "      <td>6.0622</td>\n",
              "      <td>3</td>\n",
              "      <td>222</td>\n",
              "      <td>18.7</td>\n",
              "      <td>396.90</td>\n",
              "      <td>5.33</td>\n",
              "      <td>36.2</td>\n",
              "    </tr>\n",
              "    <tr>\n",
              "      <th>5</th>\n",
              "      <td>0.02985</td>\n",
              "      <td>0.0</td>\n",
              "      <td>2.18</td>\n",
              "      <td>0</td>\n",
              "      <td>0.458</td>\n",
              "      <td>6.430</td>\n",
              "      <td>58.7</td>\n",
              "      <td>6.0622</td>\n",
              "      <td>3</td>\n",
              "      <td>222</td>\n",
              "      <td>18.7</td>\n",
              "      <td>394.12</td>\n",
              "      <td>5.21</td>\n",
              "      <td>28.7</td>\n",
              "    </tr>\n",
              "    <tr>\n",
              "      <th>...</th>\n",
              "      <td>...</td>\n",
              "      <td>...</td>\n",
              "      <td>...</td>\n",
              "      <td>...</td>\n",
              "      <td>...</td>\n",
              "      <td>...</td>\n",
              "      <td>...</td>\n",
              "      <td>...</td>\n",
              "      <td>...</td>\n",
              "      <td>...</td>\n",
              "      <td>...</td>\n",
              "      <td>...</td>\n",
              "      <td>...</td>\n",
              "      <td>...</td>\n",
              "    </tr>\n",
              "    <tr>\n",
              "      <th>501</th>\n",
              "      <td>0.06263</td>\n",
              "      <td>0.0</td>\n",
              "      <td>11.93</td>\n",
              "      <td>0</td>\n",
              "      <td>0.573</td>\n",
              "      <td>6.593</td>\n",
              "      <td>69.1</td>\n",
              "      <td>2.4786</td>\n",
              "      <td>1</td>\n",
              "      <td>273</td>\n",
              "      <td>21.0</td>\n",
              "      <td>391.99</td>\n",
              "      <td>9.67</td>\n",
              "      <td>22.4</td>\n",
              "    </tr>\n",
              "    <tr>\n",
              "      <th>502</th>\n",
              "      <td>0.04527</td>\n",
              "      <td>0.0</td>\n",
              "      <td>11.93</td>\n",
              "      <td>0</td>\n",
              "      <td>0.573</td>\n",
              "      <td>6.120</td>\n",
              "      <td>76.7</td>\n",
              "      <td>2.2875</td>\n",
              "      <td>1</td>\n",
              "      <td>273</td>\n",
              "      <td>21.0</td>\n",
              "      <td>396.90</td>\n",
              "      <td>9.08</td>\n",
              "      <td>20.6</td>\n",
              "    </tr>\n",
              "    <tr>\n",
              "      <th>503</th>\n",
              "      <td>0.06076</td>\n",
              "      <td>0.0</td>\n",
              "      <td>11.93</td>\n",
              "      <td>0</td>\n",
              "      <td>0.573</td>\n",
              "      <td>6.976</td>\n",
              "      <td>91.0</td>\n",
              "      <td>2.1675</td>\n",
              "      <td>1</td>\n",
              "      <td>273</td>\n",
              "      <td>21.0</td>\n",
              "      <td>396.90</td>\n",
              "      <td>5.64</td>\n",
              "      <td>23.9</td>\n",
              "    </tr>\n",
              "    <tr>\n",
              "      <th>504</th>\n",
              "      <td>0.10959</td>\n",
              "      <td>0.0</td>\n",
              "      <td>11.93</td>\n",
              "      <td>0</td>\n",
              "      <td>0.573</td>\n",
              "      <td>6.794</td>\n",
              "      <td>89.3</td>\n",
              "      <td>2.3889</td>\n",
              "      <td>1</td>\n",
              "      <td>273</td>\n",
              "      <td>21.0</td>\n",
              "      <td>393.45</td>\n",
              "      <td>6.48</td>\n",
              "      <td>22.0</td>\n",
              "    </tr>\n",
              "    <tr>\n",
              "      <th>505</th>\n",
              "      <td>0.04741</td>\n",
              "      <td>0.0</td>\n",
              "      <td>11.93</td>\n",
              "      <td>0</td>\n",
              "      <td>0.573</td>\n",
              "      <td>6.030</td>\n",
              "      <td>80.8</td>\n",
              "      <td>2.5050</td>\n",
              "      <td>1</td>\n",
              "      <td>273</td>\n",
              "      <td>21.0</td>\n",
              "      <td>396.90</td>\n",
              "      <td>7.88</td>\n",
              "      <td>11.9</td>\n",
              "    </tr>\n",
              "  </tbody>\n",
              "</table>\n",
              "<p>505 rows × 14 columns</p>\n",
              "</div>\n",
              "    <div class=\"colab-df-buttons\">\n",
              "\n",
              "  <div class=\"colab-df-container\">\n",
              "    <button class=\"colab-df-convert\" onclick=\"convertToInteractive('df-69653804-76e8-485e-ac87-75a29060c182')\"\n",
              "            title=\"Convert this dataframe to an interactive table.\"\n",
              "            style=\"display:none;\">\n",
              "\n",
              "  <svg xmlns=\"http://www.w3.org/2000/svg\" height=\"24px\" viewBox=\"0 -960 960 960\">\n",
              "    <path d=\"M120-120v-720h720v720H120Zm60-500h600v-160H180v160Zm220 220h160v-160H400v160Zm0 220h160v-160H400v160ZM180-400h160v-160H180v160Zm440 0h160v-160H620v160ZM180-180h160v-160H180v160Zm440 0h160v-160H620v160Z\"/>\n",
              "  </svg>\n",
              "    </button>\n",
              "\n",
              "  <style>\n",
              "    .colab-df-container {\n",
              "      display:flex;\n",
              "      gap: 12px;\n",
              "    }\n",
              "\n",
              "    .colab-df-convert {\n",
              "      background-color: #E8F0FE;\n",
              "      border: none;\n",
              "      border-radius: 50%;\n",
              "      cursor: pointer;\n",
              "      display: none;\n",
              "      fill: #1967D2;\n",
              "      height: 32px;\n",
              "      padding: 0 0 0 0;\n",
              "      width: 32px;\n",
              "    }\n",
              "\n",
              "    .colab-df-convert:hover {\n",
              "      background-color: #E2EBFA;\n",
              "      box-shadow: 0px 1px 2px rgba(60, 64, 67, 0.3), 0px 1px 3px 1px rgba(60, 64, 67, 0.15);\n",
              "      fill: #174EA6;\n",
              "    }\n",
              "\n",
              "    .colab-df-buttons div {\n",
              "      margin-bottom: 4px;\n",
              "    }\n",
              "\n",
              "    [theme=dark] .colab-df-convert {\n",
              "      background-color: #3B4455;\n",
              "      fill: #D2E3FC;\n",
              "    }\n",
              "\n",
              "    [theme=dark] .colab-df-convert:hover {\n",
              "      background-color: #434B5C;\n",
              "      box-shadow: 0px 1px 3px 1px rgba(0, 0, 0, 0.15);\n",
              "      filter: drop-shadow(0px 1px 2px rgba(0, 0, 0, 0.3));\n",
              "      fill: #FFFFFF;\n",
              "    }\n",
              "  </style>\n",
              "\n",
              "    <script>\n",
              "      const buttonEl =\n",
              "        document.querySelector('#df-69653804-76e8-485e-ac87-75a29060c182 button.colab-df-convert');\n",
              "      buttonEl.style.display =\n",
              "        google.colab.kernel.accessAllowed ? 'block' : 'none';\n",
              "\n",
              "      async function convertToInteractive(key) {\n",
              "        const element = document.querySelector('#df-69653804-76e8-485e-ac87-75a29060c182');\n",
              "        const dataTable =\n",
              "          await google.colab.kernel.invokeFunction('convertToInteractive',\n",
              "                                                    [key], {});\n",
              "        if (!dataTable) return;\n",
              "\n",
              "        const docLinkHtml = 'Like what you see? Visit the ' +\n",
              "          '<a target=\"_blank\" href=https://colab.research.google.com/notebooks/data_table.ipynb>data table notebook</a>'\n",
              "          + ' to learn more about interactive tables.';\n",
              "        element.innerHTML = '';\n",
              "        dataTable['output_type'] = 'display_data';\n",
              "        await google.colab.output.renderOutput(dataTable, element);\n",
              "        const docLink = document.createElement('div');\n",
              "        docLink.innerHTML = docLinkHtml;\n",
              "        element.appendChild(docLink);\n",
              "      }\n",
              "    </script>\n",
              "  </div>\n",
              "\n",
              "\n",
              "<div id=\"df-ec6541bf-b5d4-48e8-88b3-06ebf27b8e7a\">\n",
              "  <button class=\"colab-df-quickchart\" onclick=\"quickchart('df-ec6541bf-b5d4-48e8-88b3-06ebf27b8e7a')\"\n",
              "            title=\"Suggest charts\"\n",
              "            style=\"display:none;\">\n",
              "\n",
              "<svg xmlns=\"http://www.w3.org/2000/svg\" height=\"24px\"viewBox=\"0 0 24 24\"\n",
              "     width=\"24px\">\n",
              "    <g>\n",
              "        <path d=\"M19 3H5c-1.1 0-2 .9-2 2v14c0 1.1.9 2 2 2h14c1.1 0 2-.9 2-2V5c0-1.1-.9-2-2-2zM9 17H7v-7h2v7zm4 0h-2V7h2v10zm4 0h-2v-4h2v4z\"/>\n",
              "    </g>\n",
              "</svg>\n",
              "  </button>\n",
              "\n",
              "<style>\n",
              "  .colab-df-quickchart {\n",
              "      --bg-color: #E8F0FE;\n",
              "      --fill-color: #1967D2;\n",
              "      --hover-bg-color: #E2EBFA;\n",
              "      --hover-fill-color: #174EA6;\n",
              "      --disabled-fill-color: #AAA;\n",
              "      --disabled-bg-color: #DDD;\n",
              "  }\n",
              "\n",
              "  [theme=dark] .colab-df-quickchart {\n",
              "      --bg-color: #3B4455;\n",
              "      --fill-color: #D2E3FC;\n",
              "      --hover-bg-color: #434B5C;\n",
              "      --hover-fill-color: #FFFFFF;\n",
              "      --disabled-bg-color: #3B4455;\n",
              "      --disabled-fill-color: #666;\n",
              "  }\n",
              "\n",
              "  .colab-df-quickchart {\n",
              "    background-color: var(--bg-color);\n",
              "    border: none;\n",
              "    border-radius: 50%;\n",
              "    cursor: pointer;\n",
              "    display: none;\n",
              "    fill: var(--fill-color);\n",
              "    height: 32px;\n",
              "    padding: 0;\n",
              "    width: 32px;\n",
              "  }\n",
              "\n",
              "  .colab-df-quickchart:hover {\n",
              "    background-color: var(--hover-bg-color);\n",
              "    box-shadow: 0 1px 2px rgba(60, 64, 67, 0.3), 0 1px 3px 1px rgba(60, 64, 67, 0.15);\n",
              "    fill: var(--button-hover-fill-color);\n",
              "  }\n",
              "\n",
              "  .colab-df-quickchart-complete:disabled,\n",
              "  .colab-df-quickchart-complete:disabled:hover {\n",
              "    background-color: var(--disabled-bg-color);\n",
              "    fill: var(--disabled-fill-color);\n",
              "    box-shadow: none;\n",
              "  }\n",
              "\n",
              "  .colab-df-spinner {\n",
              "    border: 2px solid var(--fill-color);\n",
              "    border-color: transparent;\n",
              "    border-bottom-color: var(--fill-color);\n",
              "    animation:\n",
              "      spin 1s steps(1) infinite;\n",
              "  }\n",
              "\n",
              "  @keyframes spin {\n",
              "    0% {\n",
              "      border-color: transparent;\n",
              "      border-bottom-color: var(--fill-color);\n",
              "      border-left-color: var(--fill-color);\n",
              "    }\n",
              "    20% {\n",
              "      border-color: transparent;\n",
              "      border-left-color: var(--fill-color);\n",
              "      border-top-color: var(--fill-color);\n",
              "    }\n",
              "    30% {\n",
              "      border-color: transparent;\n",
              "      border-left-color: var(--fill-color);\n",
              "      border-top-color: var(--fill-color);\n",
              "      border-right-color: var(--fill-color);\n",
              "    }\n",
              "    40% {\n",
              "      border-color: transparent;\n",
              "      border-right-color: var(--fill-color);\n",
              "      border-top-color: var(--fill-color);\n",
              "    }\n",
              "    60% {\n",
              "      border-color: transparent;\n",
              "      border-right-color: var(--fill-color);\n",
              "    }\n",
              "    80% {\n",
              "      border-color: transparent;\n",
              "      border-right-color: var(--fill-color);\n",
              "      border-bottom-color: var(--fill-color);\n",
              "    }\n",
              "    90% {\n",
              "      border-color: transparent;\n",
              "      border-bottom-color: var(--fill-color);\n",
              "    }\n",
              "  }\n",
              "</style>\n",
              "\n",
              "  <script>\n",
              "    async function quickchart(key) {\n",
              "      const quickchartButtonEl =\n",
              "        document.querySelector('#' + key + ' button');\n",
              "      quickchartButtonEl.disabled = true;  // To prevent multiple clicks.\n",
              "      quickchartButtonEl.classList.add('colab-df-spinner');\n",
              "      try {\n",
              "        const charts = await google.colab.kernel.invokeFunction(\n",
              "            'suggestCharts', [key], {});\n",
              "      } catch (error) {\n",
              "        console.error('Error during call to suggestCharts:', error);\n",
              "      }\n",
              "      quickchartButtonEl.classList.remove('colab-df-spinner');\n",
              "      quickchartButtonEl.classList.add('colab-df-quickchart-complete');\n",
              "    }\n",
              "    (() => {\n",
              "      let quickchartButtonEl =\n",
              "        document.querySelector('#df-ec6541bf-b5d4-48e8-88b3-06ebf27b8e7a button');\n",
              "      quickchartButtonEl.style.display =\n",
              "        google.colab.kernel.accessAllowed ? 'block' : 'none';\n",
              "    })();\n",
              "  </script>\n",
              "</div>\n",
              "    </div>\n",
              "  </div>\n"
            ]
          },
          "metadata": {},
          "execution_count": 31
        }
      ]
    },
    {
      "cell_type": "markdown",
      "source": [
        "Sometimes, we are dropping many columns and keep very few columns, then it is better to use DataFrame.filter() so that we do not need to put a long list of column names."
      ],
      "metadata": {
        "id": "PmTgUyMIs56J"
      }
    },
    {
      "cell_type": "code",
      "source": [
        "df2 = df.filter(['crim'],axis = 1)\n",
        "df2"
      ],
      "metadata": {
        "colab": {
          "base_uri": "https://localhost:8080/",
          "height": 424
        },
        "id": "TGKIDEk_tGIG",
        "outputId": "0cc10e62-1309-419d-f96d-41f376c5fae7"
      },
      "execution_count": null,
      "outputs": [
        {
          "output_type": "execute_result",
          "data": {
            "text/plain": [
              "        crim\n",
              "0    0.00632\n",
              "1    0.02731\n",
              "2    0.02729\n",
              "3    0.03237\n",
              "4    0.06905\n",
              "..       ...\n",
              "501  0.06263\n",
              "502  0.04527\n",
              "503  0.06076\n",
              "504  0.10959\n",
              "505  0.04741\n",
              "\n",
              "[506 rows x 1 columns]"
            ],
            "text/html": [
              "\n",
              "  <div id=\"df-a7100c9a-f6b5-4444-a752-3bcc28c2a3cf\" class=\"colab-df-container\">\n",
              "    <div>\n",
              "<style scoped>\n",
              "    .dataframe tbody tr th:only-of-type {\n",
              "        vertical-align: middle;\n",
              "    }\n",
              "\n",
              "    .dataframe tbody tr th {\n",
              "        vertical-align: top;\n",
              "    }\n",
              "\n",
              "    .dataframe thead th {\n",
              "        text-align: right;\n",
              "    }\n",
              "</style>\n",
              "<table border=\"1\" class=\"dataframe\">\n",
              "  <thead>\n",
              "    <tr style=\"text-align: right;\">\n",
              "      <th></th>\n",
              "      <th>crim</th>\n",
              "    </tr>\n",
              "  </thead>\n",
              "  <tbody>\n",
              "    <tr>\n",
              "      <th>0</th>\n",
              "      <td>0.00632</td>\n",
              "    </tr>\n",
              "    <tr>\n",
              "      <th>1</th>\n",
              "      <td>0.02731</td>\n",
              "    </tr>\n",
              "    <tr>\n",
              "      <th>2</th>\n",
              "      <td>0.02729</td>\n",
              "    </tr>\n",
              "    <tr>\n",
              "      <th>3</th>\n",
              "      <td>0.03237</td>\n",
              "    </tr>\n",
              "    <tr>\n",
              "      <th>4</th>\n",
              "      <td>0.06905</td>\n",
              "    </tr>\n",
              "    <tr>\n",
              "      <th>...</th>\n",
              "      <td>...</td>\n",
              "    </tr>\n",
              "    <tr>\n",
              "      <th>501</th>\n",
              "      <td>0.06263</td>\n",
              "    </tr>\n",
              "    <tr>\n",
              "      <th>502</th>\n",
              "      <td>0.04527</td>\n",
              "    </tr>\n",
              "    <tr>\n",
              "      <th>503</th>\n",
              "      <td>0.06076</td>\n",
              "    </tr>\n",
              "    <tr>\n",
              "      <th>504</th>\n",
              "      <td>0.10959</td>\n",
              "    </tr>\n",
              "    <tr>\n",
              "      <th>505</th>\n",
              "      <td>0.04741</td>\n",
              "    </tr>\n",
              "  </tbody>\n",
              "</table>\n",
              "<p>506 rows × 1 columns</p>\n",
              "</div>\n",
              "    <div class=\"colab-df-buttons\">\n",
              "\n",
              "  <div class=\"colab-df-container\">\n",
              "    <button class=\"colab-df-convert\" onclick=\"convertToInteractive('df-a7100c9a-f6b5-4444-a752-3bcc28c2a3cf')\"\n",
              "            title=\"Convert this dataframe to an interactive table.\"\n",
              "            style=\"display:none;\">\n",
              "\n",
              "  <svg xmlns=\"http://www.w3.org/2000/svg\" height=\"24px\" viewBox=\"0 -960 960 960\">\n",
              "    <path d=\"M120-120v-720h720v720H120Zm60-500h600v-160H180v160Zm220 220h160v-160H400v160Zm0 220h160v-160H400v160ZM180-400h160v-160H180v160Zm440 0h160v-160H620v160ZM180-180h160v-160H180v160Zm440 0h160v-160H620v160Z\"/>\n",
              "  </svg>\n",
              "    </button>\n",
              "\n",
              "  <style>\n",
              "    .colab-df-container {\n",
              "      display:flex;\n",
              "      gap: 12px;\n",
              "    }\n",
              "\n",
              "    .colab-df-convert {\n",
              "      background-color: #E8F0FE;\n",
              "      border: none;\n",
              "      border-radius: 50%;\n",
              "      cursor: pointer;\n",
              "      display: none;\n",
              "      fill: #1967D2;\n",
              "      height: 32px;\n",
              "      padding: 0 0 0 0;\n",
              "      width: 32px;\n",
              "    }\n",
              "\n",
              "    .colab-df-convert:hover {\n",
              "      background-color: #E2EBFA;\n",
              "      box-shadow: 0px 1px 2px rgba(60, 64, 67, 0.3), 0px 1px 3px 1px rgba(60, 64, 67, 0.15);\n",
              "      fill: #174EA6;\n",
              "    }\n",
              "\n",
              "    .colab-df-buttons div {\n",
              "      margin-bottom: 4px;\n",
              "    }\n",
              "\n",
              "    [theme=dark] .colab-df-convert {\n",
              "      background-color: #3B4455;\n",
              "      fill: #D2E3FC;\n",
              "    }\n",
              "\n",
              "    [theme=dark] .colab-df-convert:hover {\n",
              "      background-color: #434B5C;\n",
              "      box-shadow: 0px 1px 3px 1px rgba(0, 0, 0, 0.15);\n",
              "      filter: drop-shadow(0px 1px 2px rgba(0, 0, 0, 0.3));\n",
              "      fill: #FFFFFF;\n",
              "    }\n",
              "  </style>\n",
              "\n",
              "    <script>\n",
              "      const buttonEl =\n",
              "        document.querySelector('#df-a7100c9a-f6b5-4444-a752-3bcc28c2a3cf button.colab-df-convert');\n",
              "      buttonEl.style.display =\n",
              "        google.colab.kernel.accessAllowed ? 'block' : 'none';\n",
              "\n",
              "      async function convertToInteractive(key) {\n",
              "        const element = document.querySelector('#df-a7100c9a-f6b5-4444-a752-3bcc28c2a3cf');\n",
              "        const dataTable =\n",
              "          await google.colab.kernel.invokeFunction('convertToInteractive',\n",
              "                                                    [key], {});\n",
              "        if (!dataTable) return;\n",
              "\n",
              "        const docLinkHtml = 'Like what you see? Visit the ' +\n",
              "          '<a target=\"_blank\" href=https://colab.research.google.com/notebooks/data_table.ipynb>data table notebook</a>'\n",
              "          + ' to learn more about interactive tables.';\n",
              "        element.innerHTML = '';\n",
              "        dataTable['output_type'] = 'display_data';\n",
              "        await google.colab.output.renderOutput(dataTable, element);\n",
              "        const docLink = document.createElement('div');\n",
              "        docLink.innerHTML = docLinkHtml;\n",
              "        element.appendChild(docLink);\n",
              "      }\n",
              "    </script>\n",
              "  </div>\n",
              "\n",
              "\n",
              "<div id=\"df-b55a64f8-e3bf-4e74-be4d-52ea2d25639f\">\n",
              "  <button class=\"colab-df-quickchart\" onclick=\"quickchart('df-b55a64f8-e3bf-4e74-be4d-52ea2d25639f')\"\n",
              "            title=\"Suggest charts\"\n",
              "            style=\"display:none;\">\n",
              "\n",
              "<svg xmlns=\"http://www.w3.org/2000/svg\" height=\"24px\"viewBox=\"0 0 24 24\"\n",
              "     width=\"24px\">\n",
              "    <g>\n",
              "        <path d=\"M19 3H5c-1.1 0-2 .9-2 2v14c0 1.1.9 2 2 2h14c1.1 0 2-.9 2-2V5c0-1.1-.9-2-2-2zM9 17H7v-7h2v7zm4 0h-2V7h2v10zm4 0h-2v-4h2v4z\"/>\n",
              "    </g>\n",
              "</svg>\n",
              "  </button>\n",
              "\n",
              "<style>\n",
              "  .colab-df-quickchart {\n",
              "      --bg-color: #E8F0FE;\n",
              "      --fill-color: #1967D2;\n",
              "      --hover-bg-color: #E2EBFA;\n",
              "      --hover-fill-color: #174EA6;\n",
              "      --disabled-fill-color: #AAA;\n",
              "      --disabled-bg-color: #DDD;\n",
              "  }\n",
              "\n",
              "  [theme=dark] .colab-df-quickchart {\n",
              "      --bg-color: #3B4455;\n",
              "      --fill-color: #D2E3FC;\n",
              "      --hover-bg-color: #434B5C;\n",
              "      --hover-fill-color: #FFFFFF;\n",
              "      --disabled-bg-color: #3B4455;\n",
              "      --disabled-fill-color: #666;\n",
              "  }\n",
              "\n",
              "  .colab-df-quickchart {\n",
              "    background-color: var(--bg-color);\n",
              "    border: none;\n",
              "    border-radius: 50%;\n",
              "    cursor: pointer;\n",
              "    display: none;\n",
              "    fill: var(--fill-color);\n",
              "    height: 32px;\n",
              "    padding: 0;\n",
              "    width: 32px;\n",
              "  }\n",
              "\n",
              "  .colab-df-quickchart:hover {\n",
              "    background-color: var(--hover-bg-color);\n",
              "    box-shadow: 0 1px 2px rgba(60, 64, 67, 0.3), 0 1px 3px 1px rgba(60, 64, 67, 0.15);\n",
              "    fill: var(--button-hover-fill-color);\n",
              "  }\n",
              "\n",
              "  .colab-df-quickchart-complete:disabled,\n",
              "  .colab-df-quickchart-complete:disabled:hover {\n",
              "    background-color: var(--disabled-bg-color);\n",
              "    fill: var(--disabled-fill-color);\n",
              "    box-shadow: none;\n",
              "  }\n",
              "\n",
              "  .colab-df-spinner {\n",
              "    border: 2px solid var(--fill-color);\n",
              "    border-color: transparent;\n",
              "    border-bottom-color: var(--fill-color);\n",
              "    animation:\n",
              "      spin 1s steps(1) infinite;\n",
              "  }\n",
              "\n",
              "  @keyframes spin {\n",
              "    0% {\n",
              "      border-color: transparent;\n",
              "      border-bottom-color: var(--fill-color);\n",
              "      border-left-color: var(--fill-color);\n",
              "    }\n",
              "    20% {\n",
              "      border-color: transparent;\n",
              "      border-left-color: var(--fill-color);\n",
              "      border-top-color: var(--fill-color);\n",
              "    }\n",
              "    30% {\n",
              "      border-color: transparent;\n",
              "      border-left-color: var(--fill-color);\n",
              "      border-top-color: var(--fill-color);\n",
              "      border-right-color: var(--fill-color);\n",
              "    }\n",
              "    40% {\n",
              "      border-color: transparent;\n",
              "      border-right-color: var(--fill-color);\n",
              "      border-top-color: var(--fill-color);\n",
              "    }\n",
              "    60% {\n",
              "      border-color: transparent;\n",
              "      border-right-color: var(--fill-color);\n",
              "    }\n",
              "    80% {\n",
              "      border-color: transparent;\n",
              "      border-right-color: var(--fill-color);\n",
              "      border-bottom-color: var(--fill-color);\n",
              "    }\n",
              "    90% {\n",
              "      border-color: transparent;\n",
              "      border-bottom-color: var(--fill-color);\n",
              "    }\n",
              "  }\n",
              "</style>\n",
              "\n",
              "  <script>\n",
              "    async function quickchart(key) {\n",
              "      const quickchartButtonEl =\n",
              "        document.querySelector('#' + key + ' button');\n",
              "      quickchartButtonEl.disabled = true;  // To prevent multiple clicks.\n",
              "      quickchartButtonEl.classList.add('colab-df-spinner');\n",
              "      try {\n",
              "        const charts = await google.colab.kernel.invokeFunction(\n",
              "            'suggestCharts', [key], {});\n",
              "      } catch (error) {\n",
              "        console.error('Error during call to suggestCharts:', error);\n",
              "      }\n",
              "      quickchartButtonEl.classList.remove('colab-df-spinner');\n",
              "      quickchartButtonEl.classList.add('colab-df-quickchart-complete');\n",
              "    }\n",
              "    (() => {\n",
              "      let quickchartButtonEl =\n",
              "        document.querySelector('#df-b55a64f8-e3bf-4e74-be4d-52ea2d25639f button');\n",
              "      quickchartButtonEl.style.display =\n",
              "        google.colab.kernel.accessAllowed ? 'block' : 'none';\n",
              "    })();\n",
              "  </script>\n",
              "</div>\n",
              "    </div>\n",
              "  </div>\n"
            ]
          },
          "metadata": {},
          "execution_count": 33
        }
      ]
    },
    {
      "cell_type": "markdown",
      "source": [
        "When doing exploratory data analysis, we always need to check whether there is missing data. We can use .isna() to know whether there are missing data in each column."
      ],
      "metadata": {
        "id": "OWwM3DFTtPV9"
      }
    },
    {
      "cell_type": "code",
      "source": [
        "df.isna().sum() # in this case, we don't have any missing data"
      ],
      "metadata": {
        "colab": {
          "base_uri": "https://localhost:8080/"
        },
        "id": "tIh5EpJqteVL",
        "outputId": "0bc495d6-d1d6-4c9b-a27e-6bf06190d1aa"
      },
      "execution_count": null,
      "outputs": [
        {
          "output_type": "execute_result",
          "data": {
            "text/plain": [
              "crim       0\n",
              "zn         0\n",
              "indus      0\n",
              "chas       0\n",
              "nox        0\n",
              "rm         0\n",
              "age        0\n",
              "dis        0\n",
              "rad        0\n",
              "tax        0\n",
              "ptratio    0\n",
              "b          0\n",
              "lstat      0\n",
              "medv       0\n",
              "dtype: int64"
            ]
          },
          "metadata": {},
          "execution_count": 38
        }
      ]
    },
    {
      "cell_type": "markdown",
      "source": [
        "Though we don't need to drop or fill missing data, I am showing you how you can drop nulls or fill nulls using .dropna() or .fillna():"
      ],
      "metadata": {
        "id": "qI_-ddO8t3o4"
      }
    },
    {
      "cell_type": "code",
      "source": [
        "df.dropna(inplace = True) # with inplace = True, the dataframe will be removing all missing data"
      ],
      "metadata": {
        "id": "vg5JvdNXuAvp"
      },
      "execution_count": null,
      "outputs": []
    },
    {
      "cell_type": "code",
      "source": [
        "df.fillna(df.mean()) # fill na with mean of each column. and of course you fill the null with any value you want"
      ],
      "metadata": {
        "colab": {
          "base_uri": "https://localhost:8080/",
          "height": 424
        },
        "id": "3gP6N7daua7O",
        "outputId": "ea231c48-a566-4084-bcc2-5fee1321ce3a"
      },
      "execution_count": null,
      "outputs": [
        {
          "output_type": "execute_result",
          "data": {
            "text/plain": [
              "        crim    zn  indus  chas    nox     rm   age     dis  rad  tax  \\\n",
              "0    0.00632  18.0   2.31     0  0.538  6.575  65.2  4.0900    1  296   \n",
              "1    0.02731   0.0   7.07     0  0.469  6.421  78.9  4.9671    2  242   \n",
              "2    0.02729   0.0   7.07     0  0.469  7.185  61.1  4.9671    2  242   \n",
              "3    0.03237   0.0   2.18     0  0.458  6.998  45.8  6.0622    3  222   \n",
              "4    0.06905   0.0   2.18     0  0.458  7.147  54.2  6.0622    3  222   \n",
              "..       ...   ...    ...   ...    ...    ...   ...     ...  ...  ...   \n",
              "501  0.06263   0.0  11.93     0  0.573  6.593  69.1  2.4786    1  273   \n",
              "502  0.04527   0.0  11.93     0  0.573  6.120  76.7  2.2875    1  273   \n",
              "503  0.06076   0.0  11.93     0  0.573  6.976  91.0  2.1675    1  273   \n",
              "504  0.10959   0.0  11.93     0  0.573  6.794  89.3  2.3889    1  273   \n",
              "505  0.04741   0.0  11.93     0  0.573  6.030  80.8  2.5050    1  273   \n",
              "\n",
              "     ptratio       b  lstat  medv  \n",
              "0       15.3  396.90   4.98  24.0  \n",
              "1       17.8  396.90   9.14  21.6  \n",
              "2       17.8  392.83   4.03  34.7  \n",
              "3       18.7  394.63   2.94  33.4  \n",
              "4       18.7  396.90   5.33  36.2  \n",
              "..       ...     ...    ...   ...  \n",
              "501     21.0  391.99   9.67  22.4  \n",
              "502     21.0  396.90   9.08  20.6  \n",
              "503     21.0  396.90   5.64  23.9  \n",
              "504     21.0  393.45   6.48  22.0  \n",
              "505     21.0  396.90   7.88  11.9  \n",
              "\n",
              "[506 rows x 14 columns]"
            ],
            "text/html": [
              "\n",
              "  <div id=\"df-44bee974-1d68-4611-bd02-e6270b35ed09\" class=\"colab-df-container\">\n",
              "    <div>\n",
              "<style scoped>\n",
              "    .dataframe tbody tr th:only-of-type {\n",
              "        vertical-align: middle;\n",
              "    }\n",
              "\n",
              "    .dataframe tbody tr th {\n",
              "        vertical-align: top;\n",
              "    }\n",
              "\n",
              "    .dataframe thead th {\n",
              "        text-align: right;\n",
              "    }\n",
              "</style>\n",
              "<table border=\"1\" class=\"dataframe\">\n",
              "  <thead>\n",
              "    <tr style=\"text-align: right;\">\n",
              "      <th></th>\n",
              "      <th>crim</th>\n",
              "      <th>zn</th>\n",
              "      <th>indus</th>\n",
              "      <th>chas</th>\n",
              "      <th>nox</th>\n",
              "      <th>rm</th>\n",
              "      <th>age</th>\n",
              "      <th>dis</th>\n",
              "      <th>rad</th>\n",
              "      <th>tax</th>\n",
              "      <th>ptratio</th>\n",
              "      <th>b</th>\n",
              "      <th>lstat</th>\n",
              "      <th>medv</th>\n",
              "    </tr>\n",
              "  </thead>\n",
              "  <tbody>\n",
              "    <tr>\n",
              "      <th>0</th>\n",
              "      <td>0.00632</td>\n",
              "      <td>18.0</td>\n",
              "      <td>2.31</td>\n",
              "      <td>0</td>\n",
              "      <td>0.538</td>\n",
              "      <td>6.575</td>\n",
              "      <td>65.2</td>\n",
              "      <td>4.0900</td>\n",
              "      <td>1</td>\n",
              "      <td>296</td>\n",
              "      <td>15.3</td>\n",
              "      <td>396.90</td>\n",
              "      <td>4.98</td>\n",
              "      <td>24.0</td>\n",
              "    </tr>\n",
              "    <tr>\n",
              "      <th>1</th>\n",
              "      <td>0.02731</td>\n",
              "      <td>0.0</td>\n",
              "      <td>7.07</td>\n",
              "      <td>0</td>\n",
              "      <td>0.469</td>\n",
              "      <td>6.421</td>\n",
              "      <td>78.9</td>\n",
              "      <td>4.9671</td>\n",
              "      <td>2</td>\n",
              "      <td>242</td>\n",
              "      <td>17.8</td>\n",
              "      <td>396.90</td>\n",
              "      <td>9.14</td>\n",
              "      <td>21.6</td>\n",
              "    </tr>\n",
              "    <tr>\n",
              "      <th>2</th>\n",
              "      <td>0.02729</td>\n",
              "      <td>0.0</td>\n",
              "      <td>7.07</td>\n",
              "      <td>0</td>\n",
              "      <td>0.469</td>\n",
              "      <td>7.185</td>\n",
              "      <td>61.1</td>\n",
              "      <td>4.9671</td>\n",
              "      <td>2</td>\n",
              "      <td>242</td>\n",
              "      <td>17.8</td>\n",
              "      <td>392.83</td>\n",
              "      <td>4.03</td>\n",
              "      <td>34.7</td>\n",
              "    </tr>\n",
              "    <tr>\n",
              "      <th>3</th>\n",
              "      <td>0.03237</td>\n",
              "      <td>0.0</td>\n",
              "      <td>2.18</td>\n",
              "      <td>0</td>\n",
              "      <td>0.458</td>\n",
              "      <td>6.998</td>\n",
              "      <td>45.8</td>\n",
              "      <td>6.0622</td>\n",
              "      <td>3</td>\n",
              "      <td>222</td>\n",
              "      <td>18.7</td>\n",
              "      <td>394.63</td>\n",
              "      <td>2.94</td>\n",
              "      <td>33.4</td>\n",
              "    </tr>\n",
              "    <tr>\n",
              "      <th>4</th>\n",
              "      <td>0.06905</td>\n",
              "      <td>0.0</td>\n",
              "      <td>2.18</td>\n",
              "      <td>0</td>\n",
              "      <td>0.458</td>\n",
              "      <td>7.147</td>\n",
              "      <td>54.2</td>\n",
              "      <td>6.0622</td>\n",
              "      <td>3</td>\n",
              "      <td>222</td>\n",
              "      <td>18.7</td>\n",
              "      <td>396.90</td>\n",
              "      <td>5.33</td>\n",
              "      <td>36.2</td>\n",
              "    </tr>\n",
              "    <tr>\n",
              "      <th>...</th>\n",
              "      <td>...</td>\n",
              "      <td>...</td>\n",
              "      <td>...</td>\n",
              "      <td>...</td>\n",
              "      <td>...</td>\n",
              "      <td>...</td>\n",
              "      <td>...</td>\n",
              "      <td>...</td>\n",
              "      <td>...</td>\n",
              "      <td>...</td>\n",
              "      <td>...</td>\n",
              "      <td>...</td>\n",
              "      <td>...</td>\n",
              "      <td>...</td>\n",
              "    </tr>\n",
              "    <tr>\n",
              "      <th>501</th>\n",
              "      <td>0.06263</td>\n",
              "      <td>0.0</td>\n",
              "      <td>11.93</td>\n",
              "      <td>0</td>\n",
              "      <td>0.573</td>\n",
              "      <td>6.593</td>\n",
              "      <td>69.1</td>\n",
              "      <td>2.4786</td>\n",
              "      <td>1</td>\n",
              "      <td>273</td>\n",
              "      <td>21.0</td>\n",
              "      <td>391.99</td>\n",
              "      <td>9.67</td>\n",
              "      <td>22.4</td>\n",
              "    </tr>\n",
              "    <tr>\n",
              "      <th>502</th>\n",
              "      <td>0.04527</td>\n",
              "      <td>0.0</td>\n",
              "      <td>11.93</td>\n",
              "      <td>0</td>\n",
              "      <td>0.573</td>\n",
              "      <td>6.120</td>\n",
              "      <td>76.7</td>\n",
              "      <td>2.2875</td>\n",
              "      <td>1</td>\n",
              "      <td>273</td>\n",
              "      <td>21.0</td>\n",
              "      <td>396.90</td>\n",
              "      <td>9.08</td>\n",
              "      <td>20.6</td>\n",
              "    </tr>\n",
              "    <tr>\n",
              "      <th>503</th>\n",
              "      <td>0.06076</td>\n",
              "      <td>0.0</td>\n",
              "      <td>11.93</td>\n",
              "      <td>0</td>\n",
              "      <td>0.573</td>\n",
              "      <td>6.976</td>\n",
              "      <td>91.0</td>\n",
              "      <td>2.1675</td>\n",
              "      <td>1</td>\n",
              "      <td>273</td>\n",
              "      <td>21.0</td>\n",
              "      <td>396.90</td>\n",
              "      <td>5.64</td>\n",
              "      <td>23.9</td>\n",
              "    </tr>\n",
              "    <tr>\n",
              "      <th>504</th>\n",
              "      <td>0.10959</td>\n",
              "      <td>0.0</td>\n",
              "      <td>11.93</td>\n",
              "      <td>0</td>\n",
              "      <td>0.573</td>\n",
              "      <td>6.794</td>\n",
              "      <td>89.3</td>\n",
              "      <td>2.3889</td>\n",
              "      <td>1</td>\n",
              "      <td>273</td>\n",
              "      <td>21.0</td>\n",
              "      <td>393.45</td>\n",
              "      <td>6.48</td>\n",
              "      <td>22.0</td>\n",
              "    </tr>\n",
              "    <tr>\n",
              "      <th>505</th>\n",
              "      <td>0.04741</td>\n",
              "      <td>0.0</td>\n",
              "      <td>11.93</td>\n",
              "      <td>0</td>\n",
              "      <td>0.573</td>\n",
              "      <td>6.030</td>\n",
              "      <td>80.8</td>\n",
              "      <td>2.5050</td>\n",
              "      <td>1</td>\n",
              "      <td>273</td>\n",
              "      <td>21.0</td>\n",
              "      <td>396.90</td>\n",
              "      <td>7.88</td>\n",
              "      <td>11.9</td>\n",
              "    </tr>\n",
              "  </tbody>\n",
              "</table>\n",
              "<p>506 rows × 14 columns</p>\n",
              "</div>\n",
              "    <div class=\"colab-df-buttons\">\n",
              "\n",
              "  <div class=\"colab-df-container\">\n",
              "    <button class=\"colab-df-convert\" onclick=\"convertToInteractive('df-44bee974-1d68-4611-bd02-e6270b35ed09')\"\n",
              "            title=\"Convert this dataframe to an interactive table.\"\n",
              "            style=\"display:none;\">\n",
              "\n",
              "  <svg xmlns=\"http://www.w3.org/2000/svg\" height=\"24px\" viewBox=\"0 -960 960 960\">\n",
              "    <path d=\"M120-120v-720h720v720H120Zm60-500h600v-160H180v160Zm220 220h160v-160H400v160Zm0 220h160v-160H400v160ZM180-400h160v-160H180v160Zm440 0h160v-160H620v160ZM180-180h160v-160H180v160Zm440 0h160v-160H620v160Z\"/>\n",
              "  </svg>\n",
              "    </button>\n",
              "\n",
              "  <style>\n",
              "    .colab-df-container {\n",
              "      display:flex;\n",
              "      gap: 12px;\n",
              "    }\n",
              "\n",
              "    .colab-df-convert {\n",
              "      background-color: #E8F0FE;\n",
              "      border: none;\n",
              "      border-radius: 50%;\n",
              "      cursor: pointer;\n",
              "      display: none;\n",
              "      fill: #1967D2;\n",
              "      height: 32px;\n",
              "      padding: 0 0 0 0;\n",
              "      width: 32px;\n",
              "    }\n",
              "\n",
              "    .colab-df-convert:hover {\n",
              "      background-color: #E2EBFA;\n",
              "      box-shadow: 0px 1px 2px rgba(60, 64, 67, 0.3), 0px 1px 3px 1px rgba(60, 64, 67, 0.15);\n",
              "      fill: #174EA6;\n",
              "    }\n",
              "\n",
              "    .colab-df-buttons div {\n",
              "      margin-bottom: 4px;\n",
              "    }\n",
              "\n",
              "    [theme=dark] .colab-df-convert {\n",
              "      background-color: #3B4455;\n",
              "      fill: #D2E3FC;\n",
              "    }\n",
              "\n",
              "    [theme=dark] .colab-df-convert:hover {\n",
              "      background-color: #434B5C;\n",
              "      box-shadow: 0px 1px 3px 1px rgba(0, 0, 0, 0.15);\n",
              "      filter: drop-shadow(0px 1px 2px rgba(0, 0, 0, 0.3));\n",
              "      fill: #FFFFFF;\n",
              "    }\n",
              "  </style>\n",
              "\n",
              "    <script>\n",
              "      const buttonEl =\n",
              "        document.querySelector('#df-44bee974-1d68-4611-bd02-e6270b35ed09 button.colab-df-convert');\n",
              "      buttonEl.style.display =\n",
              "        google.colab.kernel.accessAllowed ? 'block' : 'none';\n",
              "\n",
              "      async function convertToInteractive(key) {\n",
              "        const element = document.querySelector('#df-44bee974-1d68-4611-bd02-e6270b35ed09');\n",
              "        const dataTable =\n",
              "          await google.colab.kernel.invokeFunction('convertToInteractive',\n",
              "                                                    [key], {});\n",
              "        if (!dataTable) return;\n",
              "\n",
              "        const docLinkHtml = 'Like what you see? Visit the ' +\n",
              "          '<a target=\"_blank\" href=https://colab.research.google.com/notebooks/data_table.ipynb>data table notebook</a>'\n",
              "          + ' to learn more about interactive tables.';\n",
              "        element.innerHTML = '';\n",
              "        dataTable['output_type'] = 'display_data';\n",
              "        await google.colab.output.renderOutput(dataTable, element);\n",
              "        const docLink = document.createElement('div');\n",
              "        docLink.innerHTML = docLinkHtml;\n",
              "        element.appendChild(docLink);\n",
              "      }\n",
              "    </script>\n",
              "  </div>\n",
              "\n",
              "\n",
              "<div id=\"df-675abb84-ac7d-4f47-aebd-5e14c17ea8f9\">\n",
              "  <button class=\"colab-df-quickchart\" onclick=\"quickchart('df-675abb84-ac7d-4f47-aebd-5e14c17ea8f9')\"\n",
              "            title=\"Suggest charts\"\n",
              "            style=\"display:none;\">\n",
              "\n",
              "<svg xmlns=\"http://www.w3.org/2000/svg\" height=\"24px\"viewBox=\"0 0 24 24\"\n",
              "     width=\"24px\">\n",
              "    <g>\n",
              "        <path d=\"M19 3H5c-1.1 0-2 .9-2 2v14c0 1.1.9 2 2 2h14c1.1 0 2-.9 2-2V5c0-1.1-.9-2-2-2zM9 17H7v-7h2v7zm4 0h-2V7h2v10zm4 0h-2v-4h2v4z\"/>\n",
              "    </g>\n",
              "</svg>\n",
              "  </button>\n",
              "\n",
              "<style>\n",
              "  .colab-df-quickchart {\n",
              "      --bg-color: #E8F0FE;\n",
              "      --fill-color: #1967D2;\n",
              "      --hover-bg-color: #E2EBFA;\n",
              "      --hover-fill-color: #174EA6;\n",
              "      --disabled-fill-color: #AAA;\n",
              "      --disabled-bg-color: #DDD;\n",
              "  }\n",
              "\n",
              "  [theme=dark] .colab-df-quickchart {\n",
              "      --bg-color: #3B4455;\n",
              "      --fill-color: #D2E3FC;\n",
              "      --hover-bg-color: #434B5C;\n",
              "      --hover-fill-color: #FFFFFF;\n",
              "      --disabled-bg-color: #3B4455;\n",
              "      --disabled-fill-color: #666;\n",
              "  }\n",
              "\n",
              "  .colab-df-quickchart {\n",
              "    background-color: var(--bg-color);\n",
              "    border: none;\n",
              "    border-radius: 50%;\n",
              "    cursor: pointer;\n",
              "    display: none;\n",
              "    fill: var(--fill-color);\n",
              "    height: 32px;\n",
              "    padding: 0;\n",
              "    width: 32px;\n",
              "  }\n",
              "\n",
              "  .colab-df-quickchart:hover {\n",
              "    background-color: var(--hover-bg-color);\n",
              "    box-shadow: 0 1px 2px rgba(60, 64, 67, 0.3), 0 1px 3px 1px rgba(60, 64, 67, 0.15);\n",
              "    fill: var(--button-hover-fill-color);\n",
              "  }\n",
              "\n",
              "  .colab-df-quickchart-complete:disabled,\n",
              "  .colab-df-quickchart-complete:disabled:hover {\n",
              "    background-color: var(--disabled-bg-color);\n",
              "    fill: var(--disabled-fill-color);\n",
              "    box-shadow: none;\n",
              "  }\n",
              "\n",
              "  .colab-df-spinner {\n",
              "    border: 2px solid var(--fill-color);\n",
              "    border-color: transparent;\n",
              "    border-bottom-color: var(--fill-color);\n",
              "    animation:\n",
              "      spin 1s steps(1) infinite;\n",
              "  }\n",
              "\n",
              "  @keyframes spin {\n",
              "    0% {\n",
              "      border-color: transparent;\n",
              "      border-bottom-color: var(--fill-color);\n",
              "      border-left-color: var(--fill-color);\n",
              "    }\n",
              "    20% {\n",
              "      border-color: transparent;\n",
              "      border-left-color: var(--fill-color);\n",
              "      border-top-color: var(--fill-color);\n",
              "    }\n",
              "    30% {\n",
              "      border-color: transparent;\n",
              "      border-left-color: var(--fill-color);\n",
              "      border-top-color: var(--fill-color);\n",
              "      border-right-color: var(--fill-color);\n",
              "    }\n",
              "    40% {\n",
              "      border-color: transparent;\n",
              "      border-right-color: var(--fill-color);\n",
              "      border-top-color: var(--fill-color);\n",
              "    }\n",
              "    60% {\n",
              "      border-color: transparent;\n",
              "      border-right-color: var(--fill-color);\n",
              "    }\n",
              "    80% {\n",
              "      border-color: transparent;\n",
              "      border-right-color: var(--fill-color);\n",
              "      border-bottom-color: var(--fill-color);\n",
              "    }\n",
              "    90% {\n",
              "      border-color: transparent;\n",
              "      border-bottom-color: var(--fill-color);\n",
              "    }\n",
              "  }\n",
              "</style>\n",
              "\n",
              "  <script>\n",
              "    async function quickchart(key) {\n",
              "      const quickchartButtonEl =\n",
              "        document.querySelector('#' + key + ' button');\n",
              "      quickchartButtonEl.disabled = true;  // To prevent multiple clicks.\n",
              "      quickchartButtonEl.classList.add('colab-df-spinner');\n",
              "      try {\n",
              "        const charts = await google.colab.kernel.invokeFunction(\n",
              "            'suggestCharts', [key], {});\n",
              "      } catch (error) {\n",
              "        console.error('Error during call to suggestCharts:', error);\n",
              "      }\n",
              "      quickchartButtonEl.classList.remove('colab-df-spinner');\n",
              "      quickchartButtonEl.classList.add('colab-df-quickchart-complete');\n",
              "    }\n",
              "    (() => {\n",
              "      let quickchartButtonEl =\n",
              "        document.querySelector('#df-675abb84-ac7d-4f47-aebd-5e14c17ea8f9 button');\n",
              "      quickchartButtonEl.style.display =\n",
              "        google.colab.kernel.accessAllowed ? 'block' : 'none';\n",
              "    })();\n",
              "  </script>\n",
              "</div>\n",
              "    </div>\n",
              "  </div>\n"
            ]
          },
          "metadata": {},
          "execution_count": 42
        }
      ]
    },
    {
      "cell_type": "markdown",
      "source": [
        "## Export data\n",
        "\n",
        "After procssing data, you might want to export data then you can use pd.to_csv(DataFrame) or pd.to_excel(DataFrame) to export data in csv or excel format.\n",
        "\n",
        "Since we are using google colab, everything is on cloud. If you want a copy in your local machine, then you need one more step to download the data."
      ],
      "metadata": {
        "id": "WFKPgqwgwN39"
      }
    },
    {
      "cell_type": "code",
      "source": [
        "df.to_csv('boston.csv') # df is the data you want to export and inside the bracket put any name you want to name your file"
      ],
      "metadata": {
        "id": "IsSN9e8rwtXn"
      },
      "execution_count": null,
      "outputs": []
    },
    {
      "cell_type": "code",
      "source": [
        "from google.colab import files\n",
        "files.download(\"boston.csv\") # make sure the name is consistent with name you put above while you are exporting"
      ],
      "metadata": {
        "colab": {
          "base_uri": "https://localhost:8080/",
          "height": 17
        },
        "id": "IvjxjFSRxEy2",
        "outputId": "99004644-6688-4c74-beaf-42e6d226b5ee"
      },
      "execution_count": null,
      "outputs": [
        {
          "output_type": "display_data",
          "data": {
            "text/plain": [
              "<IPython.core.display.Javascript object>"
            ],
            "application/javascript": [
              "\n",
              "    async function download(id, filename, size) {\n",
              "      if (!google.colab.kernel.accessAllowed) {\n",
              "        return;\n",
              "      }\n",
              "      const div = document.createElement('div');\n",
              "      const label = document.createElement('label');\n",
              "      label.textContent = `Downloading \"${filename}\": `;\n",
              "      div.appendChild(label);\n",
              "      const progress = document.createElement('progress');\n",
              "      progress.max = size;\n",
              "      div.appendChild(progress);\n",
              "      document.body.appendChild(div);\n",
              "\n",
              "      const buffers = [];\n",
              "      let downloaded = 0;\n",
              "\n",
              "      const channel = await google.colab.kernel.comms.open(id);\n",
              "      // Send a message to notify the kernel that we're ready.\n",
              "      channel.send({})\n",
              "\n",
              "      for await (const message of channel.messages) {\n",
              "        // Send a message to notify the kernel that we're ready.\n",
              "        channel.send({})\n",
              "        if (message.buffers) {\n",
              "          for (const buffer of message.buffers) {\n",
              "            buffers.push(buffer);\n",
              "            downloaded += buffer.byteLength;\n",
              "            progress.value = downloaded;\n",
              "          }\n",
              "        }\n",
              "      }\n",
              "      const blob = new Blob(buffers, {type: 'application/binary'});\n",
              "      const a = document.createElement('a');\n",
              "      a.href = window.URL.createObjectURL(blob);\n",
              "      a.download = filename;\n",
              "      div.appendChild(a);\n",
              "      a.click();\n",
              "      div.remove();\n",
              "    }\n",
              "  "
            ]
          },
          "metadata": {}
        },
        {
          "output_type": "display_data",
          "data": {
            "text/plain": [
              "<IPython.core.display.Javascript object>"
            ],
            "application/javascript": [
              "download(\"download_e5816826-c56a-441a-8cf7-3f3beba2723b\", \"boston.csv\", 38048)"
            ]
          },
          "metadata": {}
        }
      ]
    },
    {
      "cell_type": "markdown",
      "source": [
        "# **Afterwords**\n",
        "\n",
        "Well done! You have finished all the bootcamp materials. You now understand the basic ideas of Python. This is a big success. You should feel proud.\n",
        "\n",
        "Keep learning and practicing. There are some websites recommended to you for finding problems to solve and practicing your Python coding skills:\n",
        "\n",
        "1) HackerRanke: https://www.hackerrank.com/domains/python (very easy to access with lots of problems of different levels)\n",
        "\n",
        "2) W3schools: https://www.w3schools.com/python/python_exercises.asp (a website also providing tutorials)\n",
        "\n",
        "3) Leetcode: https://leetcode.com/ (lots of people use this for coding test preparation)\n",
        "\n",
        "After you have gone through all the basics, you can also try making small projects that you like. It can help you learn more. Highly recommend you explore Kaggle.com to find some datasets to work on your own projects or get some inspirations from other people's notebook. There are also opportunities to join some data science competitions in Kaggle as well. This could be the start or the end of learning Python. Either way, good job!\n",
        "\n",
        "#### **Good luck and Thank you!**"
      ],
      "metadata": {
        "id": "VKkOhe3jQmh8"
      }
    }
  ]
}