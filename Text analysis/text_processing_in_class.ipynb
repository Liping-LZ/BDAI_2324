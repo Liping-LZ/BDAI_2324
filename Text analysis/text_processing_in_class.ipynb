{
  "nbformat": 4,
  "nbformat_minor": 0,
  "metadata": {
    "colab": {
      "provenance": [],
      "authorship_tag": "ABX9TyNzo0B5PoKiRXrfkh0xyiIM",
      "include_colab_link": true
    },
    "kernelspec": {
      "name": "python3",
      "display_name": "Python 3"
    },
    "language_info": {
      "name": "python"
    }
  },
  "cells": [
    {
      "cell_type": "markdown",
      "metadata": {
        "id": "view-in-github",
        "colab_type": "text"
      },
      "source": [
        "<a href=\"https://colab.research.google.com/github/Liping-LZ/BDAI_2324/blob/main/Text%20analysis/text_processing_in_class.ipynb\" target=\"_parent\"><img src=\"https://colab.research.google.com/assets/colab-badge.svg\" alt=\"Open In Colab\"/></a>"
      ]
    },
    {
      "cell_type": "code",
      "execution_count": null,
      "metadata": {
        "id": "2OVlJcZgwWEe"
      },
      "outputs": [],
      "source": [
        "text = \"BDAO github repository https://github.com/Liping-LZ/BDAO_2223 is 🔥🔥 Coding is SUPER fun!!! Hope I'll do it again. By the way Mark is the best 1234. my email: liping@gmail.com\""
      ]
    },
    {
      "cell_type": "code",
      "source": [
        "# lower casing\n",
        "new = text.lower()\n",
        "new"
      ],
      "metadata": {
        "colab": {
          "base_uri": "https://localhost:8080/",
          "height": 52
        },
        "id": "Eb9gXhEUyMqQ",
        "outputId": "4bac5f16-ca8a-4c72-b7f1-b3413c78bf7f"
      },
      "execution_count": null,
      "outputs": [
        {
          "output_type": "execute_result",
          "data": {
            "text/plain": [
              "\"bdao github repository https://github.com/liping-lz/bdao_2223 is 🔥🔥 coding is super fun!!! hope i'll do it again. by the way mark is the best 1234. my email: liping@gmail.com\""
            ],
            "application/vnd.google.colaboratory.intrinsic+json": {
              "type": "string"
            }
          },
          "metadata": {},
          "execution_count": 2
        }
      ]
    },
    {
      "cell_type": "code",
      "source": [
        "# remove contraction\n",
        "!pip install contractions"
      ],
      "metadata": {
        "colab": {
          "base_uri": "https://localhost:8080/"
        },
        "id": "F5lmOsSGyQM-",
        "outputId": "bd5571aa-583b-441a-d3f0-00f65759c3e2"
      },
      "execution_count": null,
      "outputs": [
        {
          "output_type": "stream",
          "name": "stdout",
          "text": [
            "Requirement already satisfied: contractions in /usr/local/lib/python3.10/dist-packages (0.1.73)\n",
            "Requirement already satisfied: textsearch>=0.0.21 in /usr/local/lib/python3.10/dist-packages (from contractions) (0.0.24)\n",
            "Requirement already satisfied: anyascii in /usr/local/lib/python3.10/dist-packages (from textsearch>=0.0.21->contractions) (0.3.2)\n",
            "Requirement already satisfied: pyahocorasick in /usr/local/lib/python3.10/dist-packages (from textsearch>=0.0.21->contractions) (2.1.0)\n"
          ]
        }
      ]
    },
    {
      "cell_type": "code",
      "source": [
        "import contractions\n",
        "new = contractions.fix(new)\n",
        "new"
      ],
      "metadata": {
        "colab": {
          "base_uri": "https://localhost:8080/",
          "height": 52
        },
        "id": "JrqCXvncylCO",
        "outputId": "ea3056ce-fa64-4f3a-cea1-bb7f1d634819"
      },
      "execution_count": null,
      "outputs": [
        {
          "output_type": "execute_result",
          "data": {
            "text/plain": [
              "'bdao github repository https://github.com/liping-lz/bdao_2223 is 🔥🔥 coding is super fun!!! hope i will do it again. by the way mark is the best 1234. my email: liping@gmail.com'"
            ],
            "application/vnd.google.colaboratory.intrinsic+json": {
              "type": "string"
            }
          },
          "metadata": {},
          "execution_count": 4
        }
      ]
    },
    {
      "cell_type": "code",
      "source": [
        "# Remove emoji & emoticons\n",
        "# First, build a list of commonly used emojis\n",
        "# emoji/emoticons dictionary here: https://github.com/NeelShah18/emot/blob/master/emot/emo_unicode.py\n",
        "import re\n",
        "emoj = re.compile(\"[\"\n",
        "        u\"\\U0001F600-\\U0001F64F\"  # emoticons\n",
        "        u\"\\U0001F300-\\U0001F5FF\"  # symbols & pictographs\n",
        "        u\"\\U0001F680-\\U0001F6FF\"  # transport & map symbols\n",
        "        u\"\\U0001F1E0-\\U0001F1FF\"  # flags (iOS)\n",
        "        u\"\\U00002500-\\U00002BEF\"  # chinese char\n",
        "        u\"\\U00002702-\\U000027B0\"\n",
        "        u\"\\U00002702-\\U000027B0\"\n",
        "        u\"\\U000024C2-\\U0001F251\"\n",
        "        u\"\\U0001f926-\\U0001f937\"\n",
        "        u\"\\U00010000-\\U0010ffff\"\n",
        "        u\"\\u2640-\\u2642\"\n",
        "        u\"\\u2600-\\u2B55\"\n",
        "        u\"\\u200d\"\n",
        "        u\"\\u23cf\"\n",
        "        u\"\\u23e9\"\n",
        "        u\"\\u231a\"\n",
        "        u\"\\ufe0f\"  # dingbats\n",
        "        u\"\\u3030\"\n",
        "\n",
        "                      \"]+\", re.UNICODE)\n",
        "\n",
        "new = re.sub(emoj, '', new)\n",
        "new"
      ],
      "metadata": {
        "colab": {
          "base_uri": "https://localhost:8080/",
          "height": 52
        },
        "id": "oSyBCTykztpX",
        "outputId": "e93c7dd4-1a4d-406e-9768-33c1d1755c24"
      },
      "execution_count": null,
      "outputs": [
        {
          "output_type": "execute_result",
          "data": {
            "text/plain": [
              "'bdao github repository https://github.com/liping-lz/bdao_2223 is  coding is super fun!!! hope i will do it again. by the way mark is the best 1234. my email: liping@gmail.com'"
            ],
            "application/vnd.google.colaboratory.intrinsic+json": {
              "type": "string"
            }
          },
          "metadata": {},
          "execution_count": 5
        }
      ]
    },
    {
      "cell_type": "code",
      "source": [
        "# remove links\n",
        "new = re.sub('http://\\S+|https://\\S+', '', new)\n",
        "new"
      ],
      "metadata": {
        "colab": {
          "base_uri": "https://localhost:8080/",
          "height": 35
        },
        "id": "jfcQKzLe5s0U",
        "outputId": "37b7e00d-8ceb-4c24-b2f3-1c22e9a3af79"
      },
      "execution_count": null,
      "outputs": [
        {
          "output_type": "execute_result",
          "data": {
            "text/plain": [
              "'bdao github repository  is  coding is super fun!!! hope i will do it again. by the way mark is the best 1234. my email: liping@gmail.com'"
            ],
            "application/vnd.google.colaboratory.intrinsic+json": {
              "type": "string"
            }
          },
          "metadata": {},
          "execution_count": 6
        }
      ]
    },
    {
      "cell_type": "code",
      "source": [
        "# remove email\n",
        "new = re.sub('\\S*@\\S*\\s?', '', new)\n",
        "new"
      ],
      "metadata": {
        "colab": {
          "base_uri": "https://localhost:8080/",
          "height": 35
        },
        "id": "L2ormfui8AtI",
        "outputId": "c94f66af-abf4-4399-80d7-7baae0b5abbe"
      },
      "execution_count": null,
      "outputs": [
        {
          "output_type": "execute_result",
          "data": {
            "text/plain": [
              "'bdao github repository  is  coding is super fun!!! hope i will do it again. by the way mark is the best 1234. my email: '"
            ],
            "application/vnd.google.colaboratory.intrinsic+json": {
              "type": "string"
            }
          },
          "metadata": {},
          "execution_count": 7
        }
      ]
    },
    {
      "cell_type": "code",
      "source": [
        "# remove punctuation\n",
        "import string\n",
        "import re\n",
        "new = re.sub('[%s]' % re.escape(string.punctuation), ' ', new)\n",
        "new"
      ],
      "metadata": {
        "colab": {
          "base_uri": "https://localhost:8080/",
          "height": 35
        },
        "id": "oQnpPYWCyuK6",
        "outputId": "676ea124-5cfa-4b16-f0f2-fed9686a0675"
      },
      "execution_count": null,
      "outputs": [
        {
          "output_type": "execute_result",
          "data": {
            "text/plain": [
              "'bdao github repository  is  coding is super fun    hope i will do it again  by the way mark is the best 1234  my email  '"
            ],
            "application/vnd.google.colaboratory.intrinsic+json": {
              "type": "string"
            }
          },
          "metadata": {},
          "execution_count": 8
        }
      ]
    },
    {
      "cell_type": "code",
      "source": [
        "# remove numbers\n",
        "new = re.sub(r\"\\d+\", \"\", new)\n",
        "new"
      ],
      "metadata": {
        "colab": {
          "base_uri": "https://localhost:8080/",
          "height": 35
        },
        "id": "zJZHVcZJ9Oyk",
        "outputId": "20d90506-39c3-470d-cc03-66879b71d073"
      },
      "execution_count": null,
      "outputs": [
        {
          "output_type": "execute_result",
          "data": {
            "text/plain": [
              "'bdao github repository  is  coding is super fun    hope i will do it again  by the way mark is the best   my email  '"
            ],
            "application/vnd.google.colaboratory.intrinsic+json": {
              "type": "string"
            }
          },
          "metadata": {},
          "execution_count": 9
        }
      ]
    },
    {
      "cell_type": "code",
      "source": [
        "# remove extra space\n",
        "new = re.sub('\\s{2,}', ' ', new)\n",
        "new"
      ],
      "metadata": {
        "colab": {
          "base_uri": "https://localhost:8080/",
          "height": 35
        },
        "id": "CVXQhT2T1-gW",
        "outputId": "d33bfe8c-6083-43bd-b45d-2149aded325e"
      },
      "execution_count": null,
      "outputs": [
        {
          "output_type": "execute_result",
          "data": {
            "text/plain": [
              "'bdao github repository is coding is super fun hope i will do it again by the way mark is the best my email '"
            ],
            "application/vnd.google.colaboratory.intrinsic+json": {
              "type": "string"
            }
          },
          "metadata": {},
          "execution_count": 10
        }
      ]
    },
    {
      "cell_type": "code",
      "source": [
        "import nltk\n",
        "nltk.download('punkt')"
      ],
      "metadata": {
        "colab": {
          "base_uri": "https://localhost:8080/"
        },
        "id": "cRjmXSZk3L7W",
        "outputId": "1da7c887-4dda-418e-f816-0a505be9ac53"
      },
      "execution_count": null,
      "outputs": [
        {
          "output_type": "stream",
          "name": "stderr",
          "text": [
            "[nltk_data] Downloading package punkt to /root/nltk_data...\n",
            "[nltk_data]   Package punkt is already up-to-date!\n"
          ]
        },
        {
          "output_type": "execute_result",
          "data": {
            "text/plain": [
              "True"
            ]
          },
          "metadata": {},
          "execution_count": 11
        }
      ]
    },
    {
      "cell_type": "code",
      "source": [
        "# tokenise the words\n",
        "from nltk.tokenize import word_tokenize\n",
        "word_token = word_tokenize(new)\n",
        "\n",
        "word_token"
      ],
      "metadata": {
        "colab": {
          "base_uri": "https://localhost:8080/"
        },
        "id": "lRd5whf9_zo6",
        "outputId": "215763de-d2d3-4665-d5ce-909481604d23"
      },
      "execution_count": null,
      "outputs": [
        {
          "output_type": "execute_result",
          "data": {
            "text/plain": [
              "['bdao',\n",
              " 'github',\n",
              " 'repository',\n",
              " 'is',\n",
              " 'coding',\n",
              " 'is',\n",
              " 'super',\n",
              " 'fun',\n",
              " 'hope',\n",
              " 'i',\n",
              " 'will',\n",
              " 'do',\n",
              " 'it',\n",
              " 'again',\n",
              " 'by',\n",
              " 'the',\n",
              " 'way',\n",
              " 'mark',\n",
              " 'is',\n",
              " 'the',\n",
              " 'best',\n",
              " 'my',\n",
              " 'email']"
            ]
          },
          "metadata": {},
          "execution_count": 12
        }
      ]
    },
    {
      "cell_type": "code",
      "source": [
        "# Start dealing with stopwords\n",
        "import nltk\n",
        "nltk.download('stopwords')"
      ],
      "metadata": {
        "colab": {
          "base_uri": "https://localhost:8080/"
        },
        "id": "5GbopT1pBepX",
        "outputId": "ed11ea99-2f03-41f1-8a4a-5b8a18afb0f5"
      },
      "execution_count": null,
      "outputs": [
        {
          "output_type": "stream",
          "name": "stderr",
          "text": [
            "[nltk_data] Downloading package stopwords to /root/nltk_data...\n",
            "[nltk_data]   Package stopwords is already up-to-date!\n"
          ]
        },
        {
          "output_type": "execute_result",
          "data": {
            "text/plain": [
              "True"
            ]
          },
          "metadata": {},
          "execution_count": 13
        }
      ]
    },
    {
      "cell_type": "code",
      "source": [
        "from nltk.corpus import stopwords\n",
        "# use English stopwords\n",
        "stopwords = stopwords.words(\"english\")"
      ],
      "metadata": {
        "id": "7iQh6hesBi03"
      },
      "execution_count": null,
      "outputs": []
    },
    {
      "cell_type": "code",
      "source": [
        "token_without_stopwords = [w for w in word_token if not w in stopwords]\n",
        "token_without_stopwords"
      ],
      "metadata": {
        "colab": {
          "base_uri": "https://localhost:8080/"
        },
        "id": "ph4qAznMB14w",
        "outputId": "89f27d51-6a38-41f5-c484-a5d8ea063d52"
      },
      "execution_count": null,
      "outputs": [
        {
          "output_type": "execute_result",
          "data": {
            "text/plain": [
              "['bdao',\n",
              " 'github',\n",
              " 'repository',\n",
              " 'coding',\n",
              " 'super',\n",
              " 'fun',\n",
              " 'hope',\n",
              " 'way',\n",
              " 'mark',\n",
              " 'best',\n",
              " 'email']"
            ]
          },
          "metadata": {},
          "execution_count": 16
        }
      ]
    },
    {
      "cell_type": "code",
      "source": [
        "# option 1: stem the tokens\n",
        "from nltk.stem import PorterStemmer\n",
        "ps = PorterStemmer()\n",
        "\n",
        "text = ['managers', 'managing', 'management', 'manage','manages','managed']\n",
        "stemmed = [ps.stem(w) for w in text]\n",
        "stemmed"
      ],
      "metadata": {
        "colab": {
          "base_uri": "https://localhost:8080/"
        },
        "id": "NDNUgyW7CuOi",
        "outputId": "2752da50-150e-4dc3-c89f-c885998aee28"
      },
      "execution_count": null,
      "outputs": [
        {
          "output_type": "execute_result",
          "data": {
            "text/plain": [
              "['manag', 'manag', 'manag', 'manag', 'manag', 'manag']"
            ]
          },
          "metadata": {},
          "execution_count": 17
        }
      ]
    },
    {
      "cell_type": "code",
      "source": [
        "# option 2: lemmatise the tokens\n",
        "nltk.download('wordnet')\n",
        "nltk.download('omw-1.4')\n",
        "\n",
        "from nltk.stem import WordNetLemmatizer\n",
        "lemmatizer = WordNetLemmatizer()\n",
        "\n",
        "n_lemmatised = [lemmatizer.lemmatize(w) for w in text]\n",
        "v_lemmatised = [lemmatizer.lemmatize(w,'v') for w in n_lemmatised]\n",
        "r_lemmatised = [lemmatizer.lemmatize(w,'r') for w in v_lemmatised]\n",
        "a_lemmatised = [lemmatizer.lemmatize(w,'a') for w in r_lemmatised]\n",
        "\n",
        "a_lemmatised"
      ],
      "metadata": {
        "colab": {
          "base_uri": "https://localhost:8080/"
        },
        "id": "ER3iVizvDG5J",
        "outputId": "8c8aacd3-1e44-4c1b-8529-572b8ed63750"
      },
      "execution_count": null,
      "outputs": [
        {
          "output_type": "stream",
          "name": "stderr",
          "text": [
            "[nltk_data] Downloading package wordnet to /root/nltk_data...\n",
            "[nltk_data]   Package wordnet is already up-to-date!\n",
            "[nltk_data] Downloading package omw-1.4 to /root/nltk_data...\n",
            "[nltk_data]   Package omw-1.4 is already up-to-date!\n"
          ]
        },
        {
          "output_type": "execute_result",
          "data": {
            "text/plain": [
              "['manager', 'manage', 'management', 'manage', 'manage', 'manage']"
            ]
          },
          "metadata": {},
          "execution_count": 18
        }
      ]
    },
    {
      "cell_type": "code",
      "source": [
        "stemmed_token = [ps.stem(w) for w in token_without_stopwords]\n",
        "stemmed_token"
      ],
      "metadata": {
        "colab": {
          "base_uri": "https://localhost:8080/"
        },
        "id": "zf2fUK5QImMr",
        "outputId": "f4f90452-42f1-457d-b518-d250d06b7db1"
      },
      "execution_count": null,
      "outputs": [
        {
          "output_type": "execute_result",
          "data": {
            "text/plain": [
              "['bdao',\n",
              " 'github',\n",
              " 'repositori',\n",
              " 'code',\n",
              " 'super',\n",
              " 'fun',\n",
              " 'hope',\n",
              " 'way',\n",
              " 'mark',\n",
              " 'best',\n",
              " 'email']"
            ]
          },
          "metadata": {},
          "execution_count": 19
        }
      ]
    },
    {
      "cell_type": "code",
      "source": [
        "nltk.download('averaged_perceptron_tagger')\n",
        "from nltk import pos_tag, RegexpParser\n",
        "tags = pos_tag(stemmed_token)\n",
        "tags"
      ],
      "metadata": {
        "colab": {
          "base_uri": "https://localhost:8080/"
        },
        "id": "hmjhn3mkIzSx",
        "outputId": "28e00a29-b911-4597-8e1f-32c5bd48d830"
      },
      "execution_count": null,
      "outputs": [
        {
          "output_type": "stream",
          "name": "stderr",
          "text": [
            "[nltk_data] Downloading package averaged_perceptron_tagger to\n",
            "[nltk_data]     /root/nltk_data...\n",
            "[nltk_data]   Package averaged_perceptron_tagger is already up-to-\n",
            "[nltk_data]       date!\n"
          ]
        },
        {
          "output_type": "execute_result",
          "data": {
            "text/plain": [
              "[('bdao', 'NN'),\n",
              " ('github', 'NN'),\n",
              " ('repositori', 'NN'),\n",
              " ('code', 'NN'),\n",
              " ('super', 'JJ'),\n",
              " ('fun', 'NN'),\n",
              " ('hope', 'VBP'),\n",
              " ('way', 'NN'),\n",
              " ('mark', 'NN'),\n",
              " ('best', 'JJS'),\n",
              " ('email', 'NN')]"
            ]
          },
          "metadata": {},
          "execution_count": 20
        }
      ]
    },
    {
      "cell_type": "code",
      "source": [
        "token_nouns = [word for word,pos in tags if pos.startswith('N')]\n",
        "token_nouns"
      ],
      "metadata": {
        "colab": {
          "base_uri": "https://localhost:8080/"
        },
        "id": "0-31tk9hKOiR",
        "outputId": "0c21ba92-6053-4416-bda0-a11cfa3da9ae"
      },
      "execution_count": null,
      "outputs": [
        {
          "output_type": "execute_result",
          "data": {
            "text/plain": [
              "['bdao', 'github', 'repositori', 'code', 'fun', 'way', 'mark', 'email']"
            ]
          },
          "metadata": {},
          "execution_count": 21
        }
      ]
    },
    {
      "cell_type": "code",
      "source": [
        "token_adjs = [word for word,pos in tags if pos.startswith('J')]\n",
        "token_adjs"
      ],
      "metadata": {
        "colab": {
          "base_uri": "https://localhost:8080/"
        },
        "id": "agDTd2gTKpJP",
        "outputId": "6e1171f7-877f-48ab-937c-123404c78403"
      },
      "execution_count": null,
      "outputs": [
        {
          "output_type": "execute_result",
          "data": {
            "text/plain": [
              "['super', 'best']"
            ]
          },
          "metadata": {},
          "execution_count": 22
        }
      ]
    }
  ]
}