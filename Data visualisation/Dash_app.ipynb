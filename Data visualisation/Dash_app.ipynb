{
  "nbformat": 4,
  "nbformat_minor": 0,
  "metadata": {
    "colab": {
      "provenance": [],
      "authorship_tag": "ABX9TyM8XZMg+5FDLAQBDxS/pYXi",
      "include_colab_link": true
    },
    "kernelspec": {
      "name": "python3",
      "display_name": "Python 3"
    },
    "language_info": {
      "name": "python"
    }
  },
  "cells": [
    {
      "cell_type": "markdown",
      "metadata": {
        "id": "view-in-github",
        "colab_type": "text"
      },
      "source": [
        "<a href=\"https://colab.research.google.com/github/Liping-LZ/BDAI_2324/blob/main/Data%20visualisation/Dash_app.ipynb\" target=\"_parent\"><img src=\"https://colab.research.google.com/assets/colab-badge.svg\" alt=\"Open In Colab\"/></a>"
      ]
    },
    {
      "cell_type": "code",
      "source": [
        "!pip install dash\n",
        "\n",
        "from dash import dcc\n",
        "from dash import html\n",
        "from dash import Dash\n",
        "import plotly.express as px\n",
        "import pandas as pd\n",
        "import plotly.graph_objects as go\n",
        "from plotly.subplots import make_subplots\n",
        "\n",
        "\n",
        "\n",
        "external_stylesheets = ['https://codepen.io/chriddyp/pen/bWLwgP.css']\n",
        "\n",
        "app = Dash(__name__, external_stylesheets=external_stylesheets)\n",
        "\n",
        "# assume you have a \"long-form\" data frame\n",
        "# see https://plotly.com/python/px-arguments/ for more options\n",
        "df = pd.read_csv('https://raw.githubusercontent.com/Sophia-Zheng/data/main/Happiness_report_2015.csv')\n",
        "df[\"Happiness Score\"]=df[\"Happiness Score\"].round(1)\n",
        "df1=df[df['Happiness Rank']<=10]\n",
        "\n",
        "\n",
        "fig = px.bar(df1, x='Country',y=[\"Economy (GDP per Capita)\",\"Family\",\"Health (Life Expectancy)\",\"Freedom\",\"Trust (Government Corruption)\",\"Generosity\",\"Dystopia Residual\"],barmode=\"stack\")\n",
        "fig2 = px.scatter(df, x=\"Happiness Score\", y=\"Freedom\",\n",
        "                 color=\"Country\", hover_name=\"Country\",\n",
        "                 log_x=True, size_max=60)\n",
        "fig3 = px.scatter(df, x=\"Happiness Score\", y=\"Economy (GDP per Capita)\",\n",
        "                 color=\"Country\", hover_name=\"Country\",\n",
        "                 log_x=True, size_max=60)\n",
        "fig4 = px.scatter(df, x=\"Happiness Score\", y=\"Health (Life Expectancy)\",\n",
        "                 color=\"Country\", hover_name=\"Country\",\n",
        "                 log_x=True, size_max=60)\n",
        "\n",
        "\n",
        "#fig = go.Figure(data=[\n",
        "    #go.Bar(name='Happiness score', x='Country', y=['Happiness Score']),\n",
        "    #go.Bar(name='Family', x='Country', y=['Family'])])\n",
        "\n",
        "app.layout = html.Div(children=[\n",
        "    html.Div([\n",
        "        html.H1(children='Happiness Report-2015'),\n",
        "        html.Div(children='''\n",
        "            Dash: A web application framework for Python.\n",
        "        '''),\n",
        "\n",
        "        dcc.Graph(\n",
        "            id='graph1',\n",
        "            figure=fig\n",
        "        ),\n",
        "        ]),\n",
        "    html.Div([\n",
        "        html.Div([\n",
        "            html.H1(children='Is being rich getting us happy?'),\n",
        "            html.Div(children='''\n",
        "                Dash: A web application framework for Python.\n",
        "            '''),\n",
        "\n",
        "            dcc.Graph(\n",
        "                id='graph2',\n",
        "                figure=fig3\n",
        "            ),\n",
        "            ],className='six columns'),\n",
        "        html.Div([\n",
        "            html.H1(children='Is being healthy getting us happy?'),\n",
        "            html.Div(children='''\n",
        "                Dash: A web application framework for Python.\n",
        "            '''),\n",
        "\n",
        "            dcc.Graph(\n",
        "                id='graph3',\n",
        "                figure=fig4\n",
        "            ),\n",
        "            ],className='six columns')\n",
        "        ],className='row'),\n",
        "    html.Div([\n",
        "        html.H1(children='Does more freedom get us happy?'),\n",
        "        html.Div(children='''\n",
        "            Dash: A web application framework for Python.\n",
        "        '''),\n",
        "\n",
        "        dcc.Graph(\n",
        "            id='graph4',\n",
        "            figure=fig2\n",
        "        )\n",
        "        ],className='row'),\n",
        "\n",
        "])\n",
        "\n",
        "if __name__ == \"__main__\":\n",
        "  app.run(jupyter_mode=\"external\") # Run app and display a link to visit to view the app"
      ],
      "metadata": {
        "id": "YIfU3oDdbQi2",
        "outputId": "3f204867-5cb3-4fe5-c764-75642864fb16",
        "colab": {
          "base_uri": "https://localhost:8080/",
          "height": 645
        }
      },
      "execution_count": null,
      "outputs": [
        {
          "output_type": "stream",
          "name": "stdout",
          "text": [
            "Collecting dash\n",
            "  Downloading dash-2.16.1-py3-none-any.whl (10.2 MB)\n",
            "\u001b[2K     \u001b[90m━━━━━━━━━━━━━━━━━━━━━━━━━━━━━━━━━━━━━━━━\u001b[0m \u001b[32m10.2/10.2 MB\u001b[0m \u001b[31m20.0 MB/s\u001b[0m eta \u001b[36m0:00:00\u001b[0m\n",
            "\u001b[?25hRequirement already satisfied: Flask<3.1,>=1.0.4 in /usr/local/lib/python3.10/dist-packages (from dash) (2.2.5)\n",
            "Requirement already satisfied: Werkzeug<3.1 in /usr/local/lib/python3.10/dist-packages (from dash) (3.0.2)\n",
            "Requirement already satisfied: plotly>=5.0.0 in /usr/local/lib/python3.10/dist-packages (from dash) (5.15.0)\n",
            "Collecting dash-html-components==2.0.0 (from dash)\n",
            "  Downloading dash_html_components-2.0.0-py3-none-any.whl (4.1 kB)\n",
            "Collecting dash-core-components==2.0.0 (from dash)\n",
            "  Downloading dash_core_components-2.0.0-py3-none-any.whl (3.8 kB)\n",
            "Collecting dash-table==5.0.0 (from dash)\n",
            "  Downloading dash_table-5.0.0-py3-none-any.whl (3.9 kB)\n",
            "Requirement already satisfied: importlib-metadata in /usr/local/lib/python3.10/dist-packages (from dash) (7.1.0)\n",
            "Requirement already satisfied: typing-extensions>=4.1.1 in /usr/local/lib/python3.10/dist-packages (from dash) (4.11.0)\n",
            "Requirement already satisfied: requests in /usr/local/lib/python3.10/dist-packages (from dash) (2.31.0)\n",
            "Collecting retrying (from dash)\n",
            "  Downloading retrying-1.3.4-py3-none-any.whl (11 kB)\n",
            "Requirement already satisfied: nest-asyncio in /usr/local/lib/python3.10/dist-packages (from dash) (1.6.0)\n",
            "Requirement already satisfied: setuptools in /usr/local/lib/python3.10/dist-packages (from dash) (67.7.2)\n",
            "Requirement already satisfied: Jinja2>=3.0 in /usr/local/lib/python3.10/dist-packages (from Flask<3.1,>=1.0.4->dash) (3.1.3)\n",
            "Requirement already satisfied: itsdangerous>=2.0 in /usr/local/lib/python3.10/dist-packages (from Flask<3.1,>=1.0.4->dash) (2.1.2)\n",
            "Requirement already satisfied: click>=8.0 in /usr/local/lib/python3.10/dist-packages (from Flask<3.1,>=1.0.4->dash) (8.1.7)\n",
            "Requirement already satisfied: tenacity>=6.2.0 in /usr/local/lib/python3.10/dist-packages (from plotly>=5.0.0->dash) (8.2.3)\n",
            "Requirement already satisfied: packaging in /usr/local/lib/python3.10/dist-packages (from plotly>=5.0.0->dash) (24.0)\n",
            "Requirement already satisfied: MarkupSafe>=2.1.1 in /usr/local/lib/python3.10/dist-packages (from Werkzeug<3.1->dash) (2.1.5)\n",
            "Requirement already satisfied: zipp>=0.5 in /usr/local/lib/python3.10/dist-packages (from importlib-metadata->dash) (3.18.1)\n",
            "Requirement already satisfied: charset-normalizer<4,>=2 in /usr/local/lib/python3.10/dist-packages (from requests->dash) (3.3.2)\n",
            "Requirement already satisfied: idna<4,>=2.5 in /usr/local/lib/python3.10/dist-packages (from requests->dash) (3.6)\n",
            "Requirement already satisfied: urllib3<3,>=1.21.1 in /usr/local/lib/python3.10/dist-packages (from requests->dash) (2.0.7)\n",
            "Requirement already satisfied: certifi>=2017.4.17 in /usr/local/lib/python3.10/dist-packages (from requests->dash) (2024.2.2)\n",
            "Requirement already satisfied: six>=1.7.0 in /usr/local/lib/python3.10/dist-packages (from retrying->dash) (1.16.0)\n",
            "Installing collected packages: dash-table, dash-html-components, dash-core-components, retrying, dash\n",
            "Successfully installed dash-2.16.1 dash-core-components-2.0.0 dash-html-components-2.0.0 dash-table-5.0.0 retrying-1.3.4\n",
            "Dash app running on:\n"
          ]
        },
        {
          "output_type": "display_data",
          "data": {
            "text/plain": [
              "<IPython.core.display.Javascript object>"
            ],
            "application/javascript": [
              "(async (port, path, text, element) => {\n",
              "    if (!google.colab.kernel.accessAllowed) {\n",
              "      return;\n",
              "    }\n",
              "    element.appendChild(document.createTextNode(''));\n",
              "    const url = await google.colab.kernel.proxyPort(port);\n",
              "    const anchor = document.createElement('a');\n",
              "    anchor.href = new URL(path, url).toString();\n",
              "    anchor.target = '_blank';\n",
              "    anchor.setAttribute('data-href', url + path);\n",
              "    anchor.textContent = text;\n",
              "    element.appendChild(anchor);\n",
              "  })(8050, \"/\", \"http://127.0.0.1:8050/\", window.element)"
            ]
          },
          "metadata": {}
        }
      ]
    }
  ]
}