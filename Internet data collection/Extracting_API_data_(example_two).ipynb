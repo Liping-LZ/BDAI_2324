{
  "nbformat": 4,
  "nbformat_minor": 0,
  "metadata": {
    "colab": {
      "provenance": [],
      "include_colab_link": true
    },
    "kernelspec": {
      "name": "python3",
      "display_name": "Python 3"
    },
    "language_info": {
      "name": "python"
    }
  },
  "cells": [
    {
      "cell_type": "markdown",
      "metadata": {
        "id": "view-in-github",
        "colab_type": "text"
      },
      "source": [
        "<a href=\"https://colab.research.google.com/github/Liping-LZ/BDAI_2324/blob/main/Internet%20data%20collection/Extracting_API_data_(example_two).ipynb\" target=\"_parent\"><img src=\"https://colab.research.google.com/assets/colab-badge.svg\" alt=\"Open In Colab\"/></a>"
      ]
    },
    {
      "cell_type": "markdown",
      "source": [
        "#Extracting API data\n",
        "In our previous tutorial we looked at extracting API data. In this case we looked at fairly simple data mining activities in XML. Here will will expand this by building a program to interact with a series of APIs. Specifically we will be following this workflow:\n",
        "1. Creating a random/fake person using the _RandomUser_ API;\n",
        "2. Predicting the age of the user using the _Agify.io_ API;\n",
        "3. Predicting if the nationality of the user using the _Nationalize.io_ API.\n",
        "\n",
        "As you can see its a fairly silly task, however these APIs require no security keys to access (which makes life far easier for us) and its enough to give us some basic exposure to working with APIs.\n",
        "\n",
        "Let's begin!"
      ],
      "metadata": {
        "id": "B37ZgFdg1yKl"
      }
    },
    {
      "cell_type": "code",
      "execution_count": null,
      "metadata": {
        "id": "qFr8eI4N1ncw"
      },
      "outputs": [],
      "source": [
        "import json\n",
        "import requests\n",
        "\n",
        "random_user = \"https://randomuser.me/api/\""
      ]
    },
    {
      "cell_type": "markdown",
      "source": [
        "Everything should be self explanatory in the above, we import the relevant libraries/packages (_json_ to deal with the API's JSON outputs and _requests_ to make the API calls) and we create a variable to store the API endpoint for our fake person generator (the _RandomUser_ API). The next step will be to call the API:"
      ],
      "metadata": {
        "id": "5wPJPSZIdPCL"
      }
    },
    {
      "cell_type": "code",
      "source": [
        "def name_generator(url):\n",
        "  r = requests.get(url)\n",
        "  return r\n",
        "\n",
        "new_user = name_generator(random_user)\n",
        "new_user.content"
      ],
      "metadata": {
        "colab": {
          "base_uri": "https://localhost:8080/"
        },
        "id": "Vg-y-PZW4bcu",
        "outputId": "fd1bdeaf-cb68-4a0a-ca6b-e103bba98f48"
      },
      "execution_count": null,
      "outputs": [
        {
          "output_type": "execute_result",
          "data": {
            "text/plain": [
              "b'{\"results\":[{\"gender\":\"male\",\"name\":{\"title\":\"Mr\",\"first\":\"Mike\",\"last\":\"Ferguson\"},\"location\":{\"street\":{\"number\":6091,\"name\":\"Manor Road\"},\"city\":\"Wolverhampton\",\"state\":\"Lancashire\",\"country\":\"United Kingdom\",\"postcode\":\"U1 5TP\",\"coordinates\":{\"latitude\":\"-9.7850\",\"longitude\":\"-21.3812\"},\"timezone\":{\"offset\":\"+3:30\",\"description\":\"Tehran\"}},\"email\":\"mike.ferguson@example.com\",\"login\":{\"uuid\":\"b3996f9e-a5e7-4b66-9fd0-09180ab2e5ec\",\"username\":\"ticklishbird156\",\"password\":\"womans\",\"salt\":\"Pv3DRAze\",\"md5\":\"e7504fcfb8d25fafa34544718b22a6c0\",\"sha1\":\"a56ce13e6fb646de96ec04ff6896e0d3c4a4bccc\",\"sha256\":\"ff99c08bd7320ec76c35e3c23d2dda2033e79080782e30f22722bffa0a1cb090\"},\"dob\":{\"date\":\"1976-11-12T12:01:22.143Z\",\"age\":46},\"registered\":{\"date\":\"2004-02-24T10:35:32.762Z\",\"age\":18},\"phone\":\"013873 41079\",\"cell\":\"07453 390313\",\"id\":{\"name\":\"NINO\",\"value\":\"YA 92 20 49 S\"},\"picture\":{\"large\":\"https://randomuser.me/api/portraits/men/50.jpg\",\"medium\":\"https://randomuser.me/api/portraits/med/men/50.jpg\",\"thumbnail\":\"https://randomuser.me/api/portraits/thumb/men/50.jpg\"},\"nat\":\"GB\"}],\"info\":{\"seed\":\"2ef5c30ca87f95de\",\"results\":1,\"page\":1,\"version\":\"1.4\"}}'"
            ]
          },
          "metadata": {},
          "execution_count": 171
        }
      ]
    },
    {
      "cell_type": "markdown",
      "source": [
        "Here we create a simple function to send the API request (using the _requests_ package as above). You may note the function we use is _get_ which (unsurprisingly) translates as a _GET_ HTTP request in the RESTful framework (see previous Notebook if that is not clear).\n",
        "\n",
        "We then use our function to create a new variable (_new\\_user_). Note that we are returned, in this case, a JSON object - effectively a dictionary. The _requests_ package will guess this for us so may return an XML object or similar with other APIs. From this JSON object we specify the key \"content\" to access the information we want. We could also specify keys such as \"encoding\" or \"status_code\" if that's the information we require (see more [here](https://docs.python-requests.org/en/latest/index.html)).\n",
        "\n",
        "The \"content\" object, however, is a Python string. It would be more useful if we could interact with this as JSON:"
      ],
      "metadata": {
        "id": "1m9m-4imd7Fv"
      }
    },
    {
      "cell_type": "code",
      "source": [
        "response_dict = new_user.json()\n",
        "response_dict"
      ],
      "metadata": {
        "colab": {
          "base_uri": "https://localhost:8080/"
        },
        "id": "5mkYKxgs5FP2",
        "outputId": "34831cc9-82c2-4758-9456-917bcf3e6549"
      },
      "execution_count": null,
      "outputs": [
        {
          "output_type": "execute_result",
          "data": {
            "text/plain": [
              "{'results': [{'gender': 'male',\n",
              "   'name': {'title': 'Mr', 'first': 'Mike', 'last': 'Ferguson'},\n",
              "   'location': {'street': {'number': 6091, 'name': 'Manor Road'},\n",
              "    'city': 'Wolverhampton',\n",
              "    'state': 'Lancashire',\n",
              "    'country': 'United Kingdom',\n",
              "    'postcode': 'U1 5TP',\n",
              "    'coordinates': {'latitude': '-9.7850', 'longitude': '-21.3812'},\n",
              "    'timezone': {'offset': '+3:30', 'description': 'Tehran'}},\n",
              "   'email': 'mike.ferguson@example.com',\n",
              "   'login': {'uuid': 'b3996f9e-a5e7-4b66-9fd0-09180ab2e5ec',\n",
              "    'username': 'ticklishbird156',\n",
              "    'password': 'womans',\n",
              "    'salt': 'Pv3DRAze',\n",
              "    'md5': 'e7504fcfb8d25fafa34544718b22a6c0',\n",
              "    'sha1': 'a56ce13e6fb646de96ec04ff6896e0d3c4a4bccc',\n",
              "    'sha256': 'ff99c08bd7320ec76c35e3c23d2dda2033e79080782e30f22722bffa0a1cb090'},\n",
              "   'dob': {'date': '1976-11-12T12:01:22.143Z', 'age': 46},\n",
              "   'registered': {'date': '2004-02-24T10:35:32.762Z', 'age': 18},\n",
              "   'phone': '013873 41079',\n",
              "   'cell': '07453 390313',\n",
              "   'id': {'name': 'NINO', 'value': 'YA 92 20 49 S'},\n",
              "   'picture': {'large': 'https://randomuser.me/api/portraits/men/50.jpg',\n",
              "    'medium': 'https://randomuser.me/api/portraits/med/men/50.jpg',\n",
              "    'thumbnail': 'https://randomuser.me/api/portraits/thumb/men/50.jpg'},\n",
              "   'nat': 'GB'}],\n",
              " 'info': {'seed': '2ef5c30ca87f95de',\n",
              "  'results': 1,\n",
              "  'page': 1,\n",
              "  'version': '1.4'}}"
            ]
          },
          "metadata": {},
          "execution_count": 172
        }
      ]
    },
    {
      "cell_type": "markdown",
      "source": [
        "Much prettier. Now we can use the JSON keys to get individual items in this output:"
      ],
      "metadata": {
        "id": "QrY_iENViq_n"
      }
    },
    {
      "cell_type": "code",
      "source": [
        "response_dict['results'][0]['name']['first']"
      ],
      "metadata": {
        "colab": {
          "base_uri": "https://localhost:8080/",
          "height": 35
        },
        "id": "gowq1YIj5L4q",
        "outputId": "ddc52cfd-def1-4906-e1ba-d0836238b4a9"
      },
      "execution_count": null,
      "outputs": [
        {
          "output_type": "execute_result",
          "data": {
            "text/plain": [
              "'Mike'"
            ],
            "application/vnd.google.colaboratory.intrinsic+json": {
              "type": "string"
            }
          },
          "metadata": {},
          "execution_count": 173
        }
      ]
    },
    {
      "cell_type": "markdown",
      "source": [
        "An excellent choice of first name. Note the way we need to query the object - this is not always obvious and you need to look carefully at the object being returned. In this case the parent node is a choice of either 'results' or 'info' - we want the former. When we look at _response\\_dict['results']_ we see it contains a dictionary inside a list (a list with one item). We need to specify the list index 0 to return the inner dictionary. From her we can specify the key 'name' and within the nested dictionary this represents we specify the final key 'first' (i.e. firstname).\n",
        "\n",
        "Every API returns things a bit differently. Ultimately you just need to inspect the output and adjust accordingly.\n",
        "\n",
        "Let's tidy this up into a reusable function:\n"
      ],
      "metadata": {
        "id": "8eUNa-Ili7fA"
      }
    },
    {
      "cell_type": "code",
      "source": [
        "def name_generator(url):\n",
        "  new_user = []\n",
        "  r = requests.get(url)\n",
        "  response_dict = r.json()\n",
        "  new_user.append({'name': response_dict['results'][0]['name']['first'], \\\n",
        "                 'age': response_dict['results'][0]['dob']['age'], \\\n",
        "                 'country': response_dict['results'][0]['location']['country']})\n",
        "\n",
        "  return new_user"
      ],
      "metadata": {
        "id": "oeXP-0fa6A_a"
      },
      "execution_count": null,
      "outputs": []
    },
    {
      "cell_type": "code",
      "source": [
        "new_user = name_generator(random_user)\n",
        "new_user"
      ],
      "metadata": {
        "colab": {
          "base_uri": "https://localhost:8080/"
        },
        "id": "_hZ84gK97zQW",
        "outputId": "0ef122e3-71ac-470f-e202-f904a7de744e"
      },
      "execution_count": null,
      "outputs": [
        {
          "output_type": "execute_result",
          "data": {
            "text/plain": [
              "[{'name': 'Melina', 'age': 63, 'country': 'Norway'}]"
            ]
          },
          "metadata": {},
          "execution_count": 175
        }
      ]
    },
    {
      "cell_type": "markdown",
      "source": [
        "Now we can generate a random user, our next task is to create a function to guess their age (using the _Agify.io_ API). This uses the following endpoint:"
      ],
      "metadata": {
        "id": "6XOizxrKk8DL"
      }
    },
    {
      "cell_type": "code",
      "source": [
        "aging_url = \"https://api.agify.io/?name=\""
      ],
      "metadata": {
        "id": "BGvCQTt98rDa"
      },
      "execution_count": null,
      "outputs": []
    },
    {
      "cell_type": "markdown",
      "source": [
        "However, as you may have spotted, this is not really a full endpoint. The API needs an input (the name) to generate the ouput (the predicted age) and this input needs to be included in the endpoint.\n",
        "\n",
        "As the input (name) will vary we will dynamically join this information to the endpoint before making the call like so:"
      ],
      "metadata": {
        "id": "y9L5KMrZlaYz"
      }
    },
    {
      "cell_type": "code",
      "source": [
        "def age_generator(url, user):\n",
        "  search = url + user[0]['name']\n",
        "  r = requests.get(search)\n",
        "  return r"
      ],
      "metadata": {
        "id": "r-gQjrwd84zn"
      },
      "execution_count": null,
      "outputs": []
    },
    {
      "cell_type": "markdown",
      "source": [
        "Everything here is the same as before, except for us concatenating (joining) the user name to the end of the URL. I.e. if we pass the url as \"https://api.agify.io/?name=\" and the user we generated earlier, our joined up endpoint (the _search_ variable) would be \"https://api.agify.io/?name=Melina\". Let's test it out:"
      ],
      "metadata": {
        "id": "U_ySpdMSnWCN"
      }
    },
    {
      "cell_type": "code",
      "source": [
        "x = age_generator(aging_url, new_user)\n",
        "x.content"
      ],
      "metadata": {
        "colab": {
          "base_uri": "https://localhost:8080/"
        },
        "id": "uFsTiK6w9Sry",
        "outputId": "302ef2d3-c58f-4aad-8cc4-74c2ea8836e5"
      },
      "execution_count": null,
      "outputs": [
        {
          "output_type": "execute_result",
          "data": {
            "text/plain": [
              "b'{\"age\":38,\"count\":8424,\"name\":\"Melina\"}'"
            ]
          },
          "metadata": {},
          "execution_count": 178
        }
      ]
    },
    {
      "cell_type": "markdown",
      "source": [
        "Excellent - we have our (admittedly pretty inaccurate in this case) guess! However, we also get other data we don't need so let's tidy up the function and get it to return just the predicted age:"
      ],
      "metadata": {
        "id": "jG2_vtyzoAOl"
      }
    },
    {
      "cell_type": "code",
      "source": [
        "def age_generator(url, user):\n",
        "  search = url + user[0]['name']\n",
        "  r = requests.get(search)\n",
        "  response_dict = r.json()\n",
        "\n",
        "  return response_dict[\"age\"]\n",
        "\n",
        "x = age_generator(aging_url, new_user)\n",
        "x"
      ],
      "metadata": {
        "id": "rB0RDhF0LlU4",
        "colab": {
          "base_uri": "https://localhost:8080/"
        },
        "outputId": "9bc71e6c-d226-45db-fc64-f120de23ca64"
      },
      "execution_count": null,
      "outputs": [
        {
          "output_type": "execute_result",
          "data": {
            "text/plain": [
              "38"
            ]
          },
          "metadata": {},
          "execution_count": 179
        }
      ]
    },
    {
      "cell_type": "markdown",
      "source": [
        "Again, this is all as we saw previously although you may note we have a far easier time extracting the information as there is no list or nested dictionaries (we need only pass the 'age' key).\n",
        "\n",
        "Let's do the same for our nationality predictor (using the _Nationalize.io_ API):"
      ],
      "metadata": {
        "id": "ME5BUjhRo08p"
      }
    },
    {
      "cell_type": "code",
      "source": [
        "country_url = \"https://api.nationalize.io/?name=\"\n",
        "\n",
        "def country_generator(url, user):\n",
        "  search = url + user[0]['name']\n",
        "  r = requests.get(search)\n",
        "  return r"
      ],
      "metadata": {
        "id": "U8NdNsiQMBv3"
      },
      "execution_count": null,
      "outputs": []
    },
    {
      "cell_type": "code",
      "source": [
        "y = country_generator(country_url, new_user)\n",
        "y.content"
      ],
      "metadata": {
        "colab": {
          "base_uri": "https://localhost:8080/"
        },
        "id": "UFFyX9dbX9JI",
        "outputId": "c05a61b2-fcb3-4009-e1be-8793361fa4a4"
      },
      "execution_count": null,
      "outputs": [
        {
          "output_type": "execute_result",
          "data": {
            "text/plain": [
              "b'{\"country\":[{\"country_id\":\"AR\",\"probability\":0.209},{\"country_id\":\"GR\",\"probability\":0.123},{\"country_id\":\"CY\",\"probability\":0.042},{\"country_id\":\"DE\",\"probability\":0.042},{\"country_id\":\"PE\",\"probability\":0.038}],\"name\":\"Melina\"}'"
            ]
          },
          "metadata": {},
          "execution_count": 181
        }
      ]
    },
    {
      "cell_type": "markdown",
      "source": [
        "Again, the Python code is basically the same as before, but we are back with the messy nested dictionaries/list. We actually get five predictions here, but fortunately they are in order of probability. To keep things simple we will just use the prediction with the highest probability (the first one):"
      ],
      "metadata": {
        "id": "mRiuxoRSpXx8"
      }
    },
    {
      "cell_type": "code",
      "source": [
        "def country_generator(url, user):\n",
        "  search = url + user[0]['name']\n",
        "  r = requests.get(search)\n",
        "  response_dict = r.json()\n",
        "\n",
        "  return response_dict[\"country\"][0][\"country_id\"]\n",
        "\n",
        "y = country_generator(country_url, new_user)\n",
        "y"
      ],
      "metadata": {
        "colab": {
          "base_uri": "https://localhost:8080/",
          "height": 35
        },
        "id": "_ymxvQUtYLv4",
        "outputId": "1b435b97-487d-4872-b4a7-e97d665e5696"
      },
      "execution_count": null,
      "outputs": [
        {
          "output_type": "execute_result",
          "data": {
            "text/plain": [
              "'AR'"
            ],
            "application/vnd.google.colaboratory.intrinsic+json": {
              "type": "string"
            }
          },
          "metadata": {},
          "execution_count": 182
        }
      ]
    },
    {
      "cell_type": "markdown",
      "source": [
        "Checking online 'AR' is the country code for Argentina which is a very long way from Norway. Bad bot.\n",
        "\n",
        "With these elements in place we can put it all together with a function that will create a fake user and then guess their age and nationality:"
      ],
      "metadata": {
        "id": "MA0PgAjBpycH"
      }
    },
    {
      "cell_type": "code",
      "source": [
        "def fake_user_guesser(name_url, aging_url, country_url):\n",
        "  fake_user = name_generator(random_user)\n",
        "  age_guess = age_generator(aging_url, fake_user)\n",
        "  country_guess = country_generator(country_url, fake_user)\n",
        "\n",
        "  return f\"New user is {fake_user[0]['name']}, aged {fake_user[0]['age']} from {fake_user[0]['country']}. We guessed the age was {age_guess} and the country was {country_guess}.\""
      ],
      "metadata": {
        "id": "fQQ4sS5UY2gt"
      },
      "execution_count": null,
      "outputs": []
    },
    {
      "cell_type": "code",
      "source": [
        "output = fake_user_guesser(random_user, aging_url, country_url)\n",
        "output"
      ],
      "metadata": {
        "colab": {
          "base_uri": "https://localhost:8080/",
          "height": 35
        },
        "id": "zzvN5AJjahcI",
        "outputId": "04952bda-dea5-4e2e-8ab5-a8bf23cf001b"
      },
      "execution_count": null,
      "outputs": [
        {
          "output_type": "execute_result",
          "data": {
            "text/plain": [
              "'New user is Sander, aged 36 from Denmark. We guessed the age was 47 and the country was NL.'"
            ],
            "application/vnd.google.colaboratory.intrinsic+json": {
              "type": "string"
            }
          },
          "metadata": {},
          "execution_count": 184
        }
      ]
    },
    {
      "cell_type": "markdown",
      "source": [
        "And there we go. Our predictions are much improved this time. 36 is closer to 47 and Denmark is much closer to the Netherlands than Norway is to Argentina.\n",
        "\n",
        "We could obviously think of many improvements to this function - such as actually getting the country name from the code generated or expanding it to compare the other nationality predictions. However, we have met our objectives!\n",
        "\n",
        "To finish off let's make a few more calls and see how our predictions fair. However, to avoid stressing the APIs we should leave a little gap between calls. We can use the in-built _time_ to set a 5 second rest between each:"
      ],
      "metadata": {
        "id": "skWZYuGhlu3G"
      }
    },
    {
      "cell_type": "code",
      "source": [
        "import time\n",
        "for i in range(10):\n",
        "  output = fake_user_guesser(random_user, aging_url, country_url)\n",
        "  print(output)\n",
        "  if i != 9:\n",
        "    print(\"\\n\")\n",
        "  time.sleep(5)"
      ],
      "metadata": {
        "colab": {
          "base_uri": "https://localhost:8080/"
        },
        "id": "VjQZaChglvb3",
        "outputId": "027c6b30-7c2e-4c7c-db87-5e6eb2012180"
      },
      "execution_count": null,
      "outputs": [
        {
          "output_type": "stream",
          "name": "stdout",
          "text": [
            "New user is Saša, aged 76 from Serbia. We guessed the age was 35 and the country was RS.\n",
            "\n",
            "\n",
            "New user is Elisete, aged 70 from Brazil. We guessed the age was 55 and the country was BR.\n",
            "\n",
            "\n",
            "New user is Brooklyn, aged 31 from New Zealand. We guessed the age was 37 and the country was CA.\n",
            "\n",
            "\n",
            "New user is Claudilene, aged 71 from Brazil. We guessed the age was 53 and the country was BR.\n",
            "\n",
            "\n",
            "New user is Simeon, aged 55 from Serbia. We guessed the age was 58 and the country was BG.\n",
            "\n",
            "\n",
            "New user is Aubree, aged 35 from United States. We guessed the age was 40 and the country was US.\n",
            "\n",
            "\n",
            "New user is Bill, aged 60 from Australia. We guessed the age was 73 and the country was US.\n",
            "\n",
            "\n",
            "New user is Summer, aged 49 from New Zealand. We guessed the age was 25 and the country was CN.\n",
            "\n",
            "\n",
            "New user is Elsa, aged 68 from Mexico. We guessed the age was 56 and the country was PT.\n",
            "\n",
            "\n",
            "New user is Gabrielle, aged 76 from Canada. We guessed the age was 49 and the country was AU.\n"
          ]
        }
      ]
    },
    {
      "cell_type": "markdown",
      "source": [
        "Overall a decent set of guesses, particularly for users from Brazil or the US!"
      ],
      "metadata": {
        "id": "5QMhNluIrRp0"
      }
    },
    {
      "cell_type": "markdown",
      "source": [
        "## Additional Tasks\n",
        "While our basic functionality seems to work, there are no measures in place to deal with an API failing ... which given enough use would be a reasonable expectation. Can you rewrite the code to deal with this potential issues _Hint: the request package will allow you to check the status of the response using \\<variable\\>.status\\_code_. Good luck!"
      ],
      "metadata": {
        "id": "U0M7iuLMraLC"
      }
    }
  ]
}